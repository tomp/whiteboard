{
 "cells": [
  {
   "cell_type": "markdown",
   "metadata": {},
   "source": [
    "**Robot in a Grid:**  Imagine a robot sitting in the upper left corner of a grid with r rows and c columns.  This robot can only move in two directioins, right and down, but certain cells are \"off-limits\", such that the robot can not step on them.  Design an algorithm to find a path for the robot from the top left to the bottom right."
   ]
  },
  {
   "cell_type": "code",
   "execution_count": 10,
   "metadata": {},
   "outputs": [],
   "source": [
    "from collections import namedtuple\n",
    "Loc = namedtuple('Loc', ['rc', 'path'])\n",
    "\n",
    "def find_path(nrow, ncol, excl=None):\n",
    "    visited = set()\n",
    "    if excl:\n",
    "        visited = set(excl)\n",
    "    queue = [Loc((0, 0), [(0, 0)])]\n",
    "    while queue:\n",
    "        loc = queue.pop()\n",
    "        print(loc.path)\n",
    "        visited.add(loc.rc)\n",
    "        r, c = loc.rc\n",
    "        if r == nrow-1 and c == ncol-1:\n",
    "            return loc.path \n",
    "        if r + 1 < nrow and (r+1, c) not in visited:\n",
    "            queue.append(Loc((r+1, c), loc.path + [(r+1, c)]))\n",
    "        if c + 1 < ncol and (r, c+1) not in visited:\n",
    "            queue.append(Loc((r, c+1), loc.path + [(r, c+1)]))\n",
    "    return []"
   ]
  },
  {
   "cell_type": "code",
   "execution_count": 15,
   "metadata": {},
   "outputs": [
    {
     "name": "stdout",
     "output_type": "stream",
     "text": [
      "[(0, 0)]\n",
      "[(0, 0), (0, 1)]\n",
      "[(0, 0), (0, 1), (0, 2)]\n",
      "[(0, 0), (0, 1), (1, 1)]\n",
      "[(0, 0), (0, 1), (1, 1), (2, 1)]\n",
      "[(0, 0), (0, 1), (1, 1), (2, 1), (2, 2)]\n"
     ]
    },
    {
     "data": {
      "text/plain": [
       "[(0, 0), (0, 1), (1, 1), (2, 1), (2, 2)]"
      ]
     },
     "execution_count": 15,
     "metadata": {},
     "output_type": "execute_result"
    }
   ],
   "source": [
    "find_path(3, 3, set([(1, 0), (1, 2)]))"
   ]
  },
  {
   "cell_type": "code",
   "execution_count": null,
   "metadata": {},
   "outputs": [],
   "source": []
  }
 ],
 "metadata": {
  "kernelspec": {
   "display_name": "Python 3",
   "language": "python",
   "name": "python3"
  },
  "language_info": {
   "codemirror_mode": {
    "name": "ipython",
    "version": 3
   },
   "file_extension": ".py",
   "mimetype": "text/x-python",
   "name": "python",
   "nbconvert_exporter": "python",
   "pygments_lexer": "ipython3",
   "version": "3.6.1"
  }
 },
 "nbformat": 4,
 "nbformat_minor": 2
}
