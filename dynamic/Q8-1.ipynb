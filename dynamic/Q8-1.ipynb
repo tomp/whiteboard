{
 "cells": [
  {
   "cell_type": "markdown",
   "metadata": {},
   "source": [
    "**Q1: Triple Step** A child is running up a staircase with n steps and can hop either 1 step, 2 steps, or 3 steps at a time.  Implement a method to count how many possible ways the child can run up the stairs."
   ]
  },
  {
   "cell_type": "markdown",
   "metadata": {},
   "source": [
    "**Recursive, top-down solution** The simplest approach, conceptually, might be to start from the top of the staircase and work our way, recursively, back to the bottom.\n",
    "\n",
    "The last hop to get to the top will be either 1, 2, or 3 steps.  So, the number of ways to get to the top will be the sum of the number of ways to get to the last step before the top, plus the number of ways to get to the step before that, plus the number of ways to get to the step before that."
   ]
  },
  {
   "cell_type": "code",
   "execution_count": 1,
   "metadata": {},
   "outputs": [],
   "source": [
    "def steps_rec_back(n):\n",
    "    \"\"\"Recursive top-down solution. (brute force)\"\"\"\n",
    "    if n < 0:\n",
    "        return 0\n",
    "    if n == 0:\n",
    "        return 1\n",
    "    return steps_rec_back(n-1) + steps_rec_back(n-2) + steps_rec_back(n-3)"
   ]
  },
  {
   "cell_type": "code",
   "execution_count": 2,
   "metadata": {},
   "outputs": [
    {
     "data": {
      "text/plain": [
       "5768"
      ]
     },
     "execution_count": 2,
     "metadata": {},
     "output_type": "execute_result"
    }
   ],
   "source": [
    "steps_rec_back(15)"
   ]
  },
  {
   "cell_type": "code",
   "execution_count": 3,
   "metadata": {},
   "outputs": [],
   "source": [
    "from functools import lru_cache\n",
    "\n",
    "@lru_cache()\n",
    "def steps_rec_back_memo(n):\n",
    "    \"\"\"Recursive top-down solution, with memoization.\"\"\"\n",
    "    if n < 0:\n",
    "        return 0\n",
    "    if n == 0:\n",
    "        return 1\n",
    "    return steps_rec_back_memo(n-1) + steps_rec_back_memo(n-2) + steps_rec_back_memo(n-3)"
   ]
  },
  {
   "cell_type": "code",
   "execution_count": 4,
   "metadata": {},
   "outputs": [
    {
     "data": {
      "text/plain": [
       "5768"
      ]
     },
     "execution_count": 4,
     "metadata": {},
     "output_type": "execute_result"
    }
   ],
   "source": [
    "steps_rec_back_memo(15)"
   ]
  },
  {
   "cell_type": "code",
   "execution_count": 5,
   "metadata": {},
   "outputs": [],
   "source": [
    "def steps_iter_fwd(n):\n",
    "    \"\"\"Iterative bottom-up solution.\"\"\"\n",
    "    nsteps = [1] + [0] * n\n",
    "    for i in range(n):\n",
    "        nsteps[i+1] += nsteps[i]\n",
    "        if i < n - 1:\n",
    "            nsteps[i+2] += nsteps[i]\n",
    "        if i < n - 2:\n",
    "            nsteps[i+3] += nsteps[i]\n",
    "    return nsteps[-1]"
   ]
  },
  {
   "cell_type": "code",
   "execution_count": 6,
   "metadata": {},
   "outputs": [
    {
     "data": {
      "text/plain": [
       "5768"
      ]
     },
     "execution_count": 6,
     "metadata": {},
     "output_type": "execute_result"
    }
   ],
   "source": [
    "steps_iter_fwd(15)"
   ]
  },
  {
   "cell_type": "code",
   "execution_count": 7,
   "metadata": {},
   "outputs": [],
   "source": [
    "def steps_rec_fwd(n, s=1, s1=0, s2=0, s3=0):\n",
    "    \"\"\"Recursive bottom-up solution.\"\"\"\n",
    "    if n:\n",
    "        return steps_rec_fwd(n-1, s+s1, s+s2, s+s3)\n",
    "    return s"
   ]
  },
  {
   "cell_type": "code",
   "execution_count": 8,
   "metadata": {},
   "outputs": [
    {
     "data": {
      "text/plain": [
       "5768"
      ]
     },
     "execution_count": 8,
     "metadata": {},
     "output_type": "execute_result"
    }
   ],
   "source": [
    "steps_rec_fwd(15)"
   ]
  },
  {
   "cell_type": "markdown",
   "metadata": {},
   "source": [
    "**Compare the four solutions**"
   ]
  },
  {
   "cell_type": "code",
   "execution_count": 9,
   "metadata": {},
   "outputs": [
    {
     "data": {
      "text/html": [
       "\n",
       "    <div class=\"bk-root\">\n",
       "        <a href=\"https://bokeh.pydata.org\" target=\"_blank\" class=\"bk-logo bk-logo-small bk-logo-notebook\"></a>\n",
       "        <span id=\"03181988-fe05-45e7-80c5-e6549109b3a7\">Loading BokehJS ...</span>\n",
       "    </div>"
      ]
     },
     "metadata": {},
     "output_type": "display_data"
    },
    {
     "data": {
      "application/javascript": [
       "\n",
       "(function(root) {\n",
       "  function now() {\n",
       "    return new Date();\n",
       "  }\n",
       "\n",
       "  var force = true;\n",
       "\n",
       "  if (typeof (root._bokeh_onload_callbacks) === \"undefined\" || force === true) {\n",
       "    root._bokeh_onload_callbacks = [];\n",
       "    root._bokeh_is_loading = undefined;\n",
       "  }\n",
       "\n",
       "  var JS_MIME_TYPE = 'application/javascript';\n",
       "  var HTML_MIME_TYPE = 'text/html';\n",
       "  var EXEC_MIME_TYPE = 'application/vnd.bokehjs_exec.v0+json';\n",
       "  var CLASS_NAME = 'output_bokeh rendered_html';\n",
       "\n",
       "  /**\n",
       "   * Render data to the DOM node\n",
       "   */\n",
       "  function render(props, node) {\n",
       "    var script = document.createElement(\"script\");\n",
       "    node.appendChild(script);\n",
       "  }\n",
       "\n",
       "  /**\n",
       "   * Handle when an output is cleared or removed\n",
       "   */\n",
       "  function handleClearOutput(event, handle) {\n",
       "    var cell = handle.cell;\n",
       "\n",
       "    var id = cell.output_area._bokeh_element_id;\n",
       "    var server_id = cell.output_area._bokeh_server_id;\n",
       "    // Clean up Bokeh references\n",
       "    if (id !== undefined) {\n",
       "      Bokeh.index[id].model.document.clear();\n",
       "      delete Bokeh.index[id];\n",
       "    }\n",
       "\n",
       "    if (server_id !== undefined) {\n",
       "      // Clean up Bokeh references\n",
       "      var cmd = \"from bokeh.io.state import curstate; print(curstate().uuid_to_server['\" + server_id + \"'].get_sessions()[0].document.roots[0]._id)\";\n",
       "      cell.notebook.kernel.execute(cmd, {\n",
       "        iopub: {\n",
       "          output: function(msg) {\n",
       "            var element_id = msg.content.text.trim();\n",
       "            Bokeh.index[element_id].model.document.clear();\n",
       "            delete Bokeh.index[element_id];\n",
       "          }\n",
       "        }\n",
       "      });\n",
       "      // Destroy server and session\n",
       "      var cmd = \"import bokeh.io.notebook as ion; ion.destroy_server('\" + server_id + \"')\";\n",
       "      cell.notebook.kernel.execute(cmd);\n",
       "    }\n",
       "  }\n",
       "\n",
       "  /**\n",
       "   * Handle when a new output is added\n",
       "   */\n",
       "  function handleAddOutput(event, handle) {\n",
       "    var output_area = handle.output_area;\n",
       "    var output = handle.output;\n",
       "\n",
       "    // limit handleAddOutput to display_data with EXEC_MIME_TYPE content only\n",
       "    if ((output.output_type != \"display_data\") || (!output.data.hasOwnProperty(EXEC_MIME_TYPE))) {\n",
       "      return\n",
       "    }\n",
       "\n",
       "    var toinsert = output_area.element.find(\".\" + CLASS_NAME.split(' ')[0]);\n",
       "\n",
       "    if (output.metadata[EXEC_MIME_TYPE][\"id\"] !== undefined) {\n",
       "      toinsert[0].firstChild.textContent = output.data[JS_MIME_TYPE];\n",
       "      // store reference to embed id on output_area\n",
       "      output_area._bokeh_element_id = output.metadata[EXEC_MIME_TYPE][\"id\"];\n",
       "    }\n",
       "    if (output.metadata[EXEC_MIME_TYPE][\"server_id\"] !== undefined) {\n",
       "      var bk_div = document.createElement(\"div\");\n",
       "      bk_div.innerHTML = output.data[HTML_MIME_TYPE];\n",
       "      var script_attrs = bk_div.children[0].attributes;\n",
       "      for (var i = 0; i < script_attrs.length; i++) {\n",
       "        toinsert[0].firstChild.setAttribute(script_attrs[i].name, script_attrs[i].value);\n",
       "      }\n",
       "      // store reference to server id on output_area\n",
       "      output_area._bokeh_server_id = output.metadata[EXEC_MIME_TYPE][\"server_id\"];\n",
       "    }\n",
       "  }\n",
       "\n",
       "  function register_renderer(events, OutputArea) {\n",
       "\n",
       "    function append_mime(data, metadata, element) {\n",
       "      // create a DOM node to render to\n",
       "      var toinsert = this.create_output_subarea(\n",
       "        metadata,\n",
       "        CLASS_NAME,\n",
       "        EXEC_MIME_TYPE\n",
       "      );\n",
       "      this.keyboard_manager.register_events(toinsert);\n",
       "      // Render to node\n",
       "      var props = {data: data, metadata: metadata[EXEC_MIME_TYPE]};\n",
       "      render(props, toinsert[0]);\n",
       "      element.append(toinsert);\n",
       "      return toinsert\n",
       "    }\n",
       "\n",
       "    /* Handle when an output is cleared or removed */\n",
       "    events.on('clear_output.CodeCell', handleClearOutput);\n",
       "    events.on('delete.Cell', handleClearOutput);\n",
       "\n",
       "    /* Handle when a new output is added */\n",
       "    events.on('output_added.OutputArea', handleAddOutput);\n",
       "\n",
       "    /**\n",
       "     * Register the mime type and append_mime function with output_area\n",
       "     */\n",
       "    OutputArea.prototype.register_mime_type(EXEC_MIME_TYPE, append_mime, {\n",
       "      /* Is output safe? */\n",
       "      safe: true,\n",
       "      /* Index of renderer in `output_area.display_order` */\n",
       "      index: 0\n",
       "    });\n",
       "  }\n",
       "\n",
       "  // register the mime type if in Jupyter Notebook environment and previously unregistered\n",
       "  if (root.Jupyter !== undefined) {\n",
       "    var events = require('base/js/events');\n",
       "    var OutputArea = require('notebook/js/outputarea').OutputArea;\n",
       "\n",
       "    if (OutputArea.prototype.mime_types().indexOf(EXEC_MIME_TYPE) == -1) {\n",
       "      register_renderer(events, OutputArea);\n",
       "    }\n",
       "  }\n",
       "\n",
       "  \n",
       "  if (typeof (root._bokeh_timeout) === \"undefined\" || force === true) {\n",
       "    root._bokeh_timeout = Date.now() + 5000;\n",
       "    root._bokeh_failed_load = false;\n",
       "  }\n",
       "\n",
       "  var NB_LOAD_WARNING = {'data': {'text/html':\n",
       "     \"<div style='background-color: #fdd'>\\n\"+\n",
       "     \"<p>\\n\"+\n",
       "     \"BokehJS does not appear to have successfully loaded. If loading BokehJS from CDN, this \\n\"+\n",
       "     \"may be due to a slow or bad network connection. Possible fixes:\\n\"+\n",
       "     \"</p>\\n\"+\n",
       "     \"<ul>\\n\"+\n",
       "     \"<li>re-rerun `output_notebook()` to attempt to load from CDN again, or</li>\\n\"+\n",
       "     \"<li>use INLINE resources instead, as so:</li>\\n\"+\n",
       "     \"</ul>\\n\"+\n",
       "     \"<code>\\n\"+\n",
       "     \"from bokeh.resources import INLINE\\n\"+\n",
       "     \"output_notebook(resources=INLINE)\\n\"+\n",
       "     \"</code>\\n\"+\n",
       "     \"</div>\"}};\n",
       "\n",
       "  function display_loaded() {\n",
       "    var el = document.getElementById(\"03181988-fe05-45e7-80c5-e6549109b3a7\");\n",
       "    if (el != null) {\n",
       "      el.textContent = \"BokehJS is loading...\";\n",
       "    }\n",
       "    if (root.Bokeh !== undefined) {\n",
       "      if (el != null) {\n",
       "        el.textContent = \"BokehJS \" + root.Bokeh.version + \" successfully loaded.\";\n",
       "      }\n",
       "    } else if (Date.now() < root._bokeh_timeout) {\n",
       "      setTimeout(display_loaded, 100)\n",
       "    }\n",
       "  }\n",
       "\n",
       "\n",
       "  function run_callbacks() {\n",
       "    try {\n",
       "      root._bokeh_onload_callbacks.forEach(function(callback) { callback() });\n",
       "    }\n",
       "    finally {\n",
       "      delete root._bokeh_onload_callbacks\n",
       "    }\n",
       "    console.info(\"Bokeh: all callbacks have finished\");\n",
       "  }\n",
       "\n",
       "  function load_libs(js_urls, callback) {\n",
       "    root._bokeh_onload_callbacks.push(callback);\n",
       "    if (root._bokeh_is_loading > 0) {\n",
       "      console.log(\"Bokeh: BokehJS is being loaded, scheduling callback at\", now());\n",
       "      return null;\n",
       "    }\n",
       "    if (js_urls == null || js_urls.length === 0) {\n",
       "      run_callbacks();\n",
       "      return null;\n",
       "    }\n",
       "    console.log(\"Bokeh: BokehJS not loaded, scheduling load and callback at\", now());\n",
       "    root._bokeh_is_loading = js_urls.length;\n",
       "    for (var i = 0; i < js_urls.length; i++) {\n",
       "      var url = js_urls[i];\n",
       "      var s = document.createElement('script');\n",
       "      s.src = url;\n",
       "      s.async = false;\n",
       "      s.onreadystatechange = s.onload = function() {\n",
       "        root._bokeh_is_loading--;\n",
       "        if (root._bokeh_is_loading === 0) {\n",
       "          console.log(\"Bokeh: all BokehJS libraries loaded\");\n",
       "          run_callbacks()\n",
       "        }\n",
       "      };\n",
       "      s.onerror = function() {\n",
       "        console.warn(\"failed to load library \" + url);\n",
       "      };\n",
       "      console.log(\"Bokeh: injecting script tag for BokehJS library: \", url);\n",
       "      document.getElementsByTagName(\"head\")[0].appendChild(s);\n",
       "    }\n",
       "  };var element = document.getElementById(\"03181988-fe05-45e7-80c5-e6549109b3a7\");\n",
       "  if (element == null) {\n",
       "    console.log(\"Bokeh: ERROR: autoload.js configured with elementid '03181988-fe05-45e7-80c5-e6549109b3a7' but no matching script tag was found. \")\n",
       "    return false;\n",
       "  }\n",
       "\n",
       "  var js_urls = [\"https://cdn.pydata.org/bokeh/release/bokeh-0.12.14.min.js\", \"https://cdn.pydata.org/bokeh/release/bokeh-widgets-0.12.14.min.js\", \"https://cdn.pydata.org/bokeh/release/bokeh-tables-0.12.14.min.js\", \"https://cdn.pydata.org/bokeh/release/bokeh-gl-0.12.14.min.js\"];\n",
       "\n",
       "  var inline_js = [\n",
       "    function(Bokeh) {\n",
       "      Bokeh.set_log_level(\"info\");\n",
       "    },\n",
       "    \n",
       "    function(Bokeh) {\n",
       "      \n",
       "    },\n",
       "    function(Bokeh) {\n",
       "      console.log(\"Bokeh: injecting CSS: https://cdn.pydata.org/bokeh/release/bokeh-0.12.14.min.css\");\n",
       "      Bokeh.embed.inject_css(\"https://cdn.pydata.org/bokeh/release/bokeh-0.12.14.min.css\");\n",
       "      console.log(\"Bokeh: injecting CSS: https://cdn.pydata.org/bokeh/release/bokeh-widgets-0.12.14.min.css\");\n",
       "      Bokeh.embed.inject_css(\"https://cdn.pydata.org/bokeh/release/bokeh-widgets-0.12.14.min.css\");\n",
       "      console.log(\"Bokeh: injecting CSS: https://cdn.pydata.org/bokeh/release/bokeh-tables-0.12.14.min.css\");\n",
       "      Bokeh.embed.inject_css(\"https://cdn.pydata.org/bokeh/release/bokeh-tables-0.12.14.min.css\");\n",
       "    }\n",
       "  ];\n",
       "\n",
       "  function run_inline_js() {\n",
       "    \n",
       "    if ((root.Bokeh !== undefined) || (force === true)) {\n",
       "      for (var i = 0; i < inline_js.length; i++) {\n",
       "        inline_js[i].call(root, root.Bokeh);\n",
       "      }if (force === true) {\n",
       "        display_loaded();\n",
       "      }} else if (Date.now() < root._bokeh_timeout) {\n",
       "      setTimeout(run_inline_js, 100);\n",
       "    } else if (!root._bokeh_failed_load) {\n",
       "      console.log(\"Bokeh: BokehJS failed to load within specified timeout.\");\n",
       "      root._bokeh_failed_load = true;\n",
       "    } else if (force !== true) {\n",
       "      var cell = $(document.getElementById(\"03181988-fe05-45e7-80c5-e6549109b3a7\")).parents('.cell').data().cell;\n",
       "      cell.output_area.append_execute_result(NB_LOAD_WARNING)\n",
       "    }\n",
       "\n",
       "  }\n",
       "\n",
       "  if (root._bokeh_is_loading === 0) {\n",
       "    console.log(\"Bokeh: BokehJS loaded, going straight to plotting\");\n",
       "    run_inline_js();\n",
       "  } else {\n",
       "    load_libs(js_urls, function() {\n",
       "      console.log(\"Bokeh: BokehJS plotting callback run at\", now());\n",
       "      run_inline_js();\n",
       "    });\n",
       "  }\n",
       "}(window));"
      ],
      "application/vnd.bokehjs_load.v0+json": "\n(function(root) {\n  function now() {\n    return new Date();\n  }\n\n  var force = true;\n\n  if (typeof (root._bokeh_onload_callbacks) === \"undefined\" || force === true) {\n    root._bokeh_onload_callbacks = [];\n    root._bokeh_is_loading = undefined;\n  }\n\n  \n\n  \n  if (typeof (root._bokeh_timeout) === \"undefined\" || force === true) {\n    root._bokeh_timeout = Date.now() + 5000;\n    root._bokeh_failed_load = false;\n  }\n\n  var NB_LOAD_WARNING = {'data': {'text/html':\n     \"<div style='background-color: #fdd'>\\n\"+\n     \"<p>\\n\"+\n     \"BokehJS does not appear to have successfully loaded. If loading BokehJS from CDN, this \\n\"+\n     \"may be due to a slow or bad network connection. Possible fixes:\\n\"+\n     \"</p>\\n\"+\n     \"<ul>\\n\"+\n     \"<li>re-rerun `output_notebook()` to attempt to load from CDN again, or</li>\\n\"+\n     \"<li>use INLINE resources instead, as so:</li>\\n\"+\n     \"</ul>\\n\"+\n     \"<code>\\n\"+\n     \"from bokeh.resources import INLINE\\n\"+\n     \"output_notebook(resources=INLINE)\\n\"+\n     \"</code>\\n\"+\n     \"</div>\"}};\n\n  function display_loaded() {\n    var el = document.getElementById(\"03181988-fe05-45e7-80c5-e6549109b3a7\");\n    if (el != null) {\n      el.textContent = \"BokehJS is loading...\";\n    }\n    if (root.Bokeh !== undefined) {\n      if (el != null) {\n        el.textContent = \"BokehJS \" + root.Bokeh.version + \" successfully loaded.\";\n      }\n    } else if (Date.now() < root._bokeh_timeout) {\n      setTimeout(display_loaded, 100)\n    }\n  }\n\n\n  function run_callbacks() {\n    try {\n      root._bokeh_onload_callbacks.forEach(function(callback) { callback() });\n    }\n    finally {\n      delete root._bokeh_onload_callbacks\n    }\n    console.info(\"Bokeh: all callbacks have finished\");\n  }\n\n  function load_libs(js_urls, callback) {\n    root._bokeh_onload_callbacks.push(callback);\n    if (root._bokeh_is_loading > 0) {\n      console.log(\"Bokeh: BokehJS is being loaded, scheduling callback at\", now());\n      return null;\n    }\n    if (js_urls == null || js_urls.length === 0) {\n      run_callbacks();\n      return null;\n    }\n    console.log(\"Bokeh: BokehJS not loaded, scheduling load and callback at\", now());\n    root._bokeh_is_loading = js_urls.length;\n    for (var i = 0; i < js_urls.length; i++) {\n      var url = js_urls[i];\n      var s = document.createElement('script');\n      s.src = url;\n      s.async = false;\n      s.onreadystatechange = s.onload = function() {\n        root._bokeh_is_loading--;\n        if (root._bokeh_is_loading === 0) {\n          console.log(\"Bokeh: all BokehJS libraries loaded\");\n          run_callbacks()\n        }\n      };\n      s.onerror = function() {\n        console.warn(\"failed to load library \" + url);\n      };\n      console.log(\"Bokeh: injecting script tag for BokehJS library: \", url);\n      document.getElementsByTagName(\"head\")[0].appendChild(s);\n    }\n  };var element = document.getElementById(\"03181988-fe05-45e7-80c5-e6549109b3a7\");\n  if (element == null) {\n    console.log(\"Bokeh: ERROR: autoload.js configured with elementid '03181988-fe05-45e7-80c5-e6549109b3a7' but no matching script tag was found. \")\n    return false;\n  }\n\n  var js_urls = [\"https://cdn.pydata.org/bokeh/release/bokeh-0.12.14.min.js\", \"https://cdn.pydata.org/bokeh/release/bokeh-widgets-0.12.14.min.js\", \"https://cdn.pydata.org/bokeh/release/bokeh-tables-0.12.14.min.js\", \"https://cdn.pydata.org/bokeh/release/bokeh-gl-0.12.14.min.js\"];\n\n  var inline_js = [\n    function(Bokeh) {\n      Bokeh.set_log_level(\"info\");\n    },\n    \n    function(Bokeh) {\n      \n    },\n    function(Bokeh) {\n      console.log(\"Bokeh: injecting CSS: https://cdn.pydata.org/bokeh/release/bokeh-0.12.14.min.css\");\n      Bokeh.embed.inject_css(\"https://cdn.pydata.org/bokeh/release/bokeh-0.12.14.min.css\");\n      console.log(\"Bokeh: injecting CSS: https://cdn.pydata.org/bokeh/release/bokeh-widgets-0.12.14.min.css\");\n      Bokeh.embed.inject_css(\"https://cdn.pydata.org/bokeh/release/bokeh-widgets-0.12.14.min.css\");\n      console.log(\"Bokeh: injecting CSS: https://cdn.pydata.org/bokeh/release/bokeh-tables-0.12.14.min.css\");\n      Bokeh.embed.inject_css(\"https://cdn.pydata.org/bokeh/release/bokeh-tables-0.12.14.min.css\");\n    }\n  ];\n\n  function run_inline_js() {\n    \n    if ((root.Bokeh !== undefined) || (force === true)) {\n      for (var i = 0; i < inline_js.length; i++) {\n        inline_js[i].call(root, root.Bokeh);\n      }if (force === true) {\n        display_loaded();\n      }} else if (Date.now() < root._bokeh_timeout) {\n      setTimeout(run_inline_js, 100);\n    } else if (!root._bokeh_failed_load) {\n      console.log(\"Bokeh: BokehJS failed to load within specified timeout.\");\n      root._bokeh_failed_load = true;\n    } else if (force !== true) {\n      var cell = $(document.getElementById(\"03181988-fe05-45e7-80c5-e6549109b3a7\")).parents('.cell').data().cell;\n      cell.output_area.append_execute_result(NB_LOAD_WARNING)\n    }\n\n  }\n\n  if (root._bokeh_is_loading === 0) {\n    console.log(\"Bokeh: BokehJS loaded, going straight to plotting\");\n    run_inline_js();\n  } else {\n    load_libs(js_urls, function() {\n      console.log(\"Bokeh: BokehJS plotting callback run at\", now());\n      run_inline_js();\n    });\n  }\n}(window));"
     },
     "metadata": {},
     "output_type": "display_data"
    }
   ],
   "source": [
    "from bokeh.plotting import figure, output_notebook, show\n",
    "output_notebook()"
   ]
  },
  {
   "cell_type": "code",
   "execution_count": 10,
   "metadata": {},
   "outputs": [],
   "source": [
    "def plot_timings(times, funcs):\n",
    "    \"\"\"Plot the evaluation times of the given functions as function of the input parameter, n.\"\"\"\n",
    "    t = [v[0] for v in times]\n",
    "    names = [fn.__name__ for fn in funcs]\n",
    "    \n",
    "    fig = figure(title=\"Function Scaling\",\n",
    "                 x_axis_label='N',\n",
    "                 y_axis_label='time (sec)')\n",
    "\n",
    "    # add a line renderer with legend and line thickness\n",
    "    for i, name in enumerate(names):\n",
    "        fig.line(t, [v[i+1] for v in times], legend=name, line_width=2)\n",
    "\n",
    "    # show the results\n",
    "    show(fig)"
   ]
  },
  {
   "cell_type": "code",
   "execution_count": 11,
   "metadata": {},
   "outputs": [],
   "source": [
    "import timeit\n",
    "\n",
    "COL_FMT = '{:5d} steps ({:.3f} sec)'\n",
    "HDR_FMT = '{:^24s}'\n",
    "\n",
    "def time_fns(funcs, maxn=20, maxt=5, neval=20000, plot=False):\n",
    "    \"\"\"Time the given functions for n from 0 to maxn.\n",
    "    If any evaluation takes more than maxt seconds, stop there.\n",
    "    Each function is evaluated neval times using timeit().\n",
    "    \"\"\"\n",
    "    print(\" N\" + \" \".join([HDR_FMT.format(fn.__name__) for fn in funcs]))\n",
    "    result = []\n",
    "    for n in range(maxn):\n",
    "        cols = ['{:2d}'.format(n)]\n",
    "        times = []\n",
    "        for fn in funcs:\n",
    "            val = fn(n)\n",
    "            dt = timeit.timeit('fn(n)', number=neval, globals=locals())\n",
    "            times.append(dt)\n",
    "            cols.append(COL_FMT.format(val, dt))\n",
    "        result.append([n] + times)\n",
    "        if max(times) > maxt:\n",
    "            break\n",
    "        print(\" \".join(cols))\n",
    "        \n",
    "    if plot:\n",
    "        plot_timings(result, funcs)"
   ]
  },
  {
   "cell_type": "code",
   "execution_count": 12,
   "metadata": {},
   "outputs": [
    {
     "name": "stdout",
     "output_type": "stream",
     "text": [
      " N     steps_rec_back      steps_rec_back_memo_fresh      steps_iter_fwd           steps_rec_fwd      \n",
      " 0     1 steps (0.006 sec)     1 steps (0.025 sec)     1 steps (0.022 sec)     1 steps (0.005 sec)\n",
      " 1     1 steps (0.016 sec)     1 steps (0.051 sec)     1 steps (0.030 sec)     1 steps (0.009 sec)\n",
      " 2     2 steps (0.028 sec)     2 steps (0.060 sec)     2 steps (0.037 sec)     2 steps (0.014 sec)\n",
      " 3     4 steps (0.051 sec)     4 steps (0.073 sec)     4 steps (0.044 sec)     4 steps (0.020 sec)\n",
      " 4     7 steps (0.100 sec)     7 steps (0.090 sec)     7 steps (0.059 sec)     7 steps (0.023 sec)\n",
      " 5    13 steps (0.176 sec)    13 steps (0.110 sec)    13 steps (0.069 sec)    13 steps (0.034 sec)\n",
      " 6    24 steps (0.337 sec)    24 steps (0.120 sec)    24 steps (0.081 sec)    24 steps (0.036 sec)\n",
      " 7    44 steps (0.607 sec)    44 steps (0.143 sec)    44 steps (0.093 sec)    44 steps (0.040 sec)\n"
     ]
    },
    {
     "data": {
      "text/html": [
       "\n",
       "<div class=\"bk-root\">\n",
       "    <div class=\"bk-plotdiv\" id=\"abfe9216-85f4-4b1d-8117-7256eed12ed8\"></div>\n",
       "</div>"
      ]
     },
     "metadata": {},
     "output_type": "display_data"
    },
    {
     "data": {
      "application/javascript": [
       "(function(root) {\n",
       "  function embed_document(root) {\n",
       "    \n",
       "  var docs_json = {\"8c27624f-a766-42d4-b321-eb3ba91a73f9\":{\"roots\":{\"references\":[{\"attributes\":{\"line_color\":\"#1f77b4\",\"line_width\":2,\"x\":{\"field\":\"x\"},\"y\":{\"field\":\"y\"}},\"id\":\"150e7c94-a2f3-43bc-89cf-9e5c26205a5b\",\"type\":\"Line\"},{\"attributes\":{\"label\":{\"value\":\"steps_rec_back_memo_fresh\"},\"renderers\":[{\"id\":\"0bc15e21-bcb1-4946-a545-e51870e76cf0\",\"type\":\"GlyphRenderer\"}]},\"id\":\"30e6e779-d415-4b38-93da-9a7a63756fc9\",\"type\":\"LegendItem\"},{\"attributes\":{\"source\":{\"id\":\"ee884679-b7c0-4ccd-be7e-6b3ac397b780\",\"type\":\"ColumnDataSource\"}},\"id\":\"22133843-aa2f-49ec-9403-c02e3956584d\",\"type\":\"CDSView\"},{\"attributes\":{\"callback\":null,\"column_names\":[\"x\",\"y\"],\"data\":{\"x\":[0,1,2,3,4,5,6,7,8],\"y\":[0.0253907039295882,0.051349299028515816,0.0600140318274498,0.07301501813344657,0.09006178099662066,0.11010077805258334,0.11986120091751218,0.14266153401695192,0.16586295003071427]}},\"id\":\"ee884679-b7c0-4ccd-be7e-6b3ac397b780\",\"type\":\"ColumnDataSource\"},{\"attributes\":{\"callback\":null,\"column_names\":[\"x\",\"y\"],\"data\":{\"x\":[0,1,2,3,4,5,6,7,8],\"y\":[0.022087753983214498,0.029594937106594443,0.03737084404565394,0.04360936698503792,0.05906390189193189,0.06914855190552771,0.08055555098690093,0.09314810298383236,0.09978898987174034]}},\"id\":\"0de9a666-cf5d-4627-bb14-f2ebf5fcf381\",\"type\":\"ColumnDataSource\"},{\"attributes\":{\"data_source\":{\"id\":\"ee884679-b7c0-4ccd-be7e-6b3ac397b780\",\"type\":\"ColumnDataSource\"},\"glyph\":{\"id\":\"7ebeefad-d1db-4203-9f41-b268c8a02563\",\"type\":\"Line\"},\"hover_glyph\":null,\"muted_glyph\":null,\"nonselection_glyph\":{\"id\":\"d46dd95c-f493-4206-a5ec-f3a7b78ac0ee\",\"type\":\"Line\"},\"selection_glyph\":null,\"view\":{\"id\":\"22133843-aa2f-49ec-9403-c02e3956584d\",\"type\":\"CDSView\"}},\"id\":\"0bc15e21-bcb1-4946-a545-e51870e76cf0\",\"type\":\"GlyphRenderer\"},{\"attributes\":{\"below\":[{\"id\":\"bf0655e6-3053-47d0-b700-a2d06ad6de5d\",\"type\":\"LinearAxis\"}],\"left\":[{\"id\":\"90f8b37f-ecd4-4fac-9b3e-d07455bbcbfb\",\"type\":\"LinearAxis\"}],\"renderers\":[{\"id\":\"bf0655e6-3053-47d0-b700-a2d06ad6de5d\",\"type\":\"LinearAxis\"},{\"id\":\"4acaf0cf-addc-44c8-b87c-82ca570b4b5f\",\"type\":\"Grid\"},{\"id\":\"90f8b37f-ecd4-4fac-9b3e-d07455bbcbfb\",\"type\":\"LinearAxis\"},{\"id\":\"aaad6fa1-1cbe-4e7f-8fa4-7c241b65710d\",\"type\":\"Grid\"},{\"id\":\"9cf48721-d92c-4754-ab83-e5cc95479bb3\",\"type\":\"BoxAnnotation\"},{\"id\":\"032b06da-de76-4379-bd1a-b95e25f8f6d7\",\"type\":\"Legend\"},{\"id\":\"89c56c13-aff1-437a-a187-00a854200c1b\",\"type\":\"GlyphRenderer\"},{\"id\":\"0bc15e21-bcb1-4946-a545-e51870e76cf0\",\"type\":\"GlyphRenderer\"},{\"id\":\"5fba5384-1a52-4c10-ab0a-2011cd92f753\",\"type\":\"GlyphRenderer\"},{\"id\":\"1d7e83a2-855f-4cf1-b78d-a3001cdf5279\",\"type\":\"GlyphRenderer\"}],\"title\":{\"id\":\"e0de7c52-1fb5-4fbb-a237-3a145725725a\",\"type\":\"Title\"},\"toolbar\":{\"id\":\"9c213f2d-0fb5-4fab-8cb4-8af56c079f08\",\"type\":\"Toolbar\"},\"x_range\":{\"id\":\"f1ce5eb5-b445-4b00-9eb1-2794c8c779aa\",\"type\":\"DataRange1d\"},\"x_scale\":{\"id\":\"115e423a-b35b-42b7-9dcf-e8f90dbadb8a\",\"type\":\"LinearScale\"},\"y_range\":{\"id\":\"34f756f8-ea80-43a5-958f-0560958a7b9b\",\"type\":\"DataRange1d\"},\"y_scale\":{\"id\":\"98c8f32d-5ab8-4887-8cbe-7fcb8d3ef4f2\",\"type\":\"LinearScale\"}},\"id\":\"1a98efc0-ed7f-422a-8700-4acf344c19df\",\"subtype\":\"Figure\",\"type\":\"Plot\"},{\"attributes\":{\"label\":{\"value\":\"steps_iter_fwd\"},\"renderers\":[{\"id\":\"5fba5384-1a52-4c10-ab0a-2011cd92f753\",\"type\":\"GlyphRenderer\"}]},\"id\":\"f0439d3c-38b9-4055-ab34-89479ff4571a\",\"type\":\"LegendItem\"},{\"attributes\":{\"line_color\":\"#1f77b4\",\"line_width\":2,\"x\":{\"field\":\"x\"},\"y\":{\"field\":\"y\"}},\"id\":\"7ebeefad-d1db-4203-9f41-b268c8a02563\",\"type\":\"Line\"},{\"attributes\":{\"line_alpha\":0.1,\"line_color\":\"#1f77b4\",\"line_width\":2,\"x\":{\"field\":\"x\"},\"y\":{\"field\":\"y\"}},\"id\":\"d46dd95c-f493-4206-a5ec-f3a7b78ac0ee\",\"type\":\"Line\"},{\"attributes\":{\"source\":{\"id\":\"0de9a666-cf5d-4627-bb14-f2ebf5fcf381\",\"type\":\"ColumnDataSource\"}},\"id\":\"85630499-9068-4253-a2d6-45a5082b9f24\",\"type\":\"CDSView\"},{\"attributes\":{\"callback\":null},\"id\":\"f1ce5eb5-b445-4b00-9eb1-2794c8c779aa\",\"type\":\"DataRange1d\"},{\"attributes\":{\"label\":{\"value\":\"steps_rec_fwd\"},\"renderers\":[{\"id\":\"1d7e83a2-855f-4cf1-b78d-a3001cdf5279\",\"type\":\"GlyphRenderer\"}]},\"id\":\"09d31b6b-bf0d-4b5e-a741-f114b0ec0113\",\"type\":\"LegendItem\"},{\"attributes\":{\"source\":{\"id\":\"7d11184a-1951-446a-ae88-09bbc5195c9b\",\"type\":\"ColumnDataSource\"}},\"id\":\"09d25f05-fa6a-43b5-a922-be022597de51\",\"type\":\"CDSView\"},{\"attributes\":{\"line_alpha\":0.1,\"line_color\":\"#1f77b4\",\"line_width\":2,\"x\":{\"field\":\"x\"},\"y\":{\"field\":\"y\"}},\"id\":\"6317fb4b-3772-473f-96d9-c721163234fc\",\"type\":\"Line\"},{\"attributes\":{\"callback\":null,\"column_names\":[\"x\",\"y\"],\"data\":{\"x\":[0,1,2,3,4,5,6,7,8],\"y\":[0.005155384074896574,0.008968812180683017,0.014179058838635683,0.019662779988721013,0.023242090828716755,0.033668870804831386,0.036203178809955716,0.039510895032435656,0.044535577995702624]}},\"id\":\"7d11184a-1951-446a-ae88-09bbc5195c9b\",\"type\":\"ColumnDataSource\"},{\"attributes\":{\"active_drag\":\"auto\",\"active_inspect\":\"auto\",\"active_scroll\":\"auto\",\"active_tap\":\"auto\",\"tools\":[{\"id\":\"84dc8fcf-35d6-47bd-b6b7-c173a5315f1d\",\"type\":\"PanTool\"},{\"id\":\"4d0266fc-495d-4a2b-a33d-d1558fe7dd24\",\"type\":\"WheelZoomTool\"},{\"id\":\"8d8ae721-d9d6-4cf9-8ff1-5fc1f5e8c352\",\"type\":\"BoxZoomTool\"},{\"id\":\"46ba07a0-c589-43da-bbaf-be8212914f8c\",\"type\":\"SaveTool\"},{\"id\":\"a4e465b3-67fc-40b6-888e-7985c533963c\",\"type\":\"ResetTool\"},{\"id\":\"b5b86c36-8064-4b1f-803f-29069500c612\",\"type\":\"HelpTool\"}]},\"id\":\"9c213f2d-0fb5-4fab-8cb4-8af56c079f08\",\"type\":\"Toolbar\"},{\"attributes\":{\"label\":{\"value\":\"steps_rec_back\"},\"renderers\":[{\"id\":\"89c56c13-aff1-437a-a187-00a854200c1b\",\"type\":\"GlyphRenderer\"}]},\"id\":\"03f2c4b0-759c-4486-b827-2def4536991d\",\"type\":\"LegendItem\"},{\"attributes\":{\"line_color\":\"#1f77b4\",\"line_width\":2,\"x\":{\"field\":\"x\"},\"y\":{\"field\":\"y\"}},\"id\":\"7ce3d2fa-a37c-4f8c-9c83-0b573c139f80\",\"type\":\"Line\"},{\"attributes\":{\"data_source\":{\"id\":\"0de9a666-cf5d-4627-bb14-f2ebf5fcf381\",\"type\":\"ColumnDataSource\"},\"glyph\":{\"id\":\"150e7c94-a2f3-43bc-89cf-9e5c26205a5b\",\"type\":\"Line\"},\"hover_glyph\":null,\"muted_glyph\":null,\"nonselection_glyph\":{\"id\":\"6317fb4b-3772-473f-96d9-c721163234fc\",\"type\":\"Line\"},\"selection_glyph\":null,\"view\":{\"id\":\"85630499-9068-4253-a2d6-45a5082b9f24\",\"type\":\"CDSView\"}},\"id\":\"5fba5384-1a52-4c10-ab0a-2011cd92f753\",\"type\":\"GlyphRenderer\"},{\"attributes\":{},\"id\":\"115e423a-b35b-42b7-9dcf-e8f90dbadb8a\",\"type\":\"LinearScale\"},{\"attributes\":{\"line_alpha\":0.1,\"line_color\":\"#1f77b4\",\"line_width\":2,\"x\":{\"field\":\"x\"},\"y\":{\"field\":\"y\"}},\"id\":\"06f53eb0-2b78-4144-8a00-9e7d693b7e1b\",\"type\":\"Line\"},{\"attributes\":{\"callback\":null},\"id\":\"34f756f8-ea80-43a5-958f-0560958a7b9b\",\"type\":\"DataRange1d\"},{\"attributes\":{},\"id\":\"98c8f32d-5ab8-4887-8cbe-7fcb8d3ef4f2\",\"type\":\"LinearScale\"},{\"attributes\":{\"axis_label\":\"N\",\"formatter\":{\"id\":\"e748b055-fdc3-420e-8c17-cde8fb50aeca\",\"type\":\"BasicTickFormatter\"},\"plot\":{\"id\":\"1a98efc0-ed7f-422a-8700-4acf344c19df\",\"subtype\":\"Figure\",\"type\":\"Plot\"},\"ticker\":{\"id\":\"445e5c72-4122-454a-8ea8-82232e995a77\",\"type\":\"BasicTicker\"}},\"id\":\"bf0655e6-3053-47d0-b700-a2d06ad6de5d\",\"type\":\"LinearAxis\"},{\"attributes\":{\"axis_label\":\"time (sec)\",\"formatter\":{\"id\":\"e3669ac9-8fa4-48ed-92c0-926901eaf010\",\"type\":\"BasicTickFormatter\"},\"plot\":{\"id\":\"1a98efc0-ed7f-422a-8700-4acf344c19df\",\"subtype\":\"Figure\",\"type\":\"Plot\"},\"ticker\":{\"id\":\"82d10a72-e516-4d37-9a5b-1915d588bba4\",\"type\":\"BasicTicker\"}},\"id\":\"90f8b37f-ecd4-4fac-9b3e-d07455bbcbfb\",\"type\":\"LinearAxis\"},{\"attributes\":{\"data_source\":{\"id\":\"7d11184a-1951-446a-ae88-09bbc5195c9b\",\"type\":\"ColumnDataSource\"},\"glyph\":{\"id\":\"7ce3d2fa-a37c-4f8c-9c83-0b573c139f80\",\"type\":\"Line\"},\"hover_glyph\":null,\"muted_glyph\":null,\"nonselection_glyph\":{\"id\":\"06f53eb0-2b78-4144-8a00-9e7d693b7e1b\",\"type\":\"Line\"},\"selection_glyph\":null,\"view\":{\"id\":\"09d25f05-fa6a-43b5-a922-be022597de51\",\"type\":\"CDSView\"}},\"id\":\"1d7e83a2-855f-4cf1-b78d-a3001cdf5279\",\"type\":\"GlyphRenderer\"},{\"attributes\":{\"data_source\":{\"id\":\"35d65b27-43f1-4a30-9657-cd54287895da\",\"type\":\"ColumnDataSource\"},\"glyph\":{\"id\":\"7a8ba533-c445-433c-8fad-55a6a1588949\",\"type\":\"Line\"},\"hover_glyph\":null,\"muted_glyph\":null,\"nonselection_glyph\":{\"id\":\"ef5b84c6-84ba-41e0-a283-efa3496ed5f7\",\"type\":\"Line\"},\"selection_glyph\":null,\"view\":{\"id\":\"1358fdc4-d18a-4a08-aa90-4a684558f492\",\"type\":\"CDSView\"}},\"id\":\"89c56c13-aff1-437a-a187-00a854200c1b\",\"type\":\"GlyphRenderer\"},{\"attributes\":{},\"id\":\"445e5c72-4122-454a-8ea8-82232e995a77\",\"type\":\"BasicTicker\"},{\"attributes\":{\"plot\":{\"id\":\"1a98efc0-ed7f-422a-8700-4acf344c19df\",\"subtype\":\"Figure\",\"type\":\"Plot\"},\"ticker\":{\"id\":\"445e5c72-4122-454a-8ea8-82232e995a77\",\"type\":\"BasicTicker\"}},\"id\":\"4acaf0cf-addc-44c8-b87c-82ca570b4b5f\",\"type\":\"Grid\"},{\"attributes\":{},\"id\":\"82d10a72-e516-4d37-9a5b-1915d588bba4\",\"type\":\"BasicTicker\"},{\"attributes\":{\"dimension\":1,\"plot\":{\"id\":\"1a98efc0-ed7f-422a-8700-4acf344c19df\",\"subtype\":\"Figure\",\"type\":\"Plot\"},\"ticker\":{\"id\":\"82d10a72-e516-4d37-9a5b-1915d588bba4\",\"type\":\"BasicTicker\"}},\"id\":\"aaad6fa1-1cbe-4e7f-8fa4-7c241b65710d\",\"type\":\"Grid\"},{\"attributes\":{\"bottom_units\":\"screen\",\"fill_alpha\":{\"value\":0.5},\"fill_color\":{\"value\":\"lightgrey\"},\"left_units\":\"screen\",\"level\":\"overlay\",\"line_alpha\":{\"value\":1.0},\"line_color\":{\"value\":\"black\"},\"line_dash\":[4,4],\"line_width\":{\"value\":2},\"plot\":null,\"render_mode\":\"css\",\"right_units\":\"screen\",\"top_units\":\"screen\"},\"id\":\"9cf48721-d92c-4754-ab83-e5cc95479bb3\",\"type\":\"BoxAnnotation\"},{\"attributes\":{\"callback\":null,\"column_names\":[\"x\",\"y\"],\"data\":{\"x\":[0,1,2,3,4,5,6,7,8],\"y\":[0.0057421058882027864,0.016228561056777835,0.027987469919025898,0.0505904380697757,0.10025459597818553,0.17583526414819062,0.3368164000567049,0.6073633059859276,1.1379527361132205]}},\"id\":\"35d65b27-43f1-4a30-9657-cd54287895da\",\"type\":\"ColumnDataSource\"},{\"attributes\":{\"line_alpha\":0.1,\"line_color\":\"#1f77b4\",\"line_width\":2,\"x\":{\"field\":\"x\"},\"y\":{\"field\":\"y\"}},\"id\":\"ef5b84c6-84ba-41e0-a283-efa3496ed5f7\",\"type\":\"Line\"},{\"attributes\":{},\"id\":\"84dc8fcf-35d6-47bd-b6b7-c173a5315f1d\",\"type\":\"PanTool\"},{\"attributes\":{},\"id\":\"4d0266fc-495d-4a2b-a33d-d1558fe7dd24\",\"type\":\"WheelZoomTool\"},{\"attributes\":{\"overlay\":{\"id\":\"9cf48721-d92c-4754-ab83-e5cc95479bb3\",\"type\":\"BoxAnnotation\"}},\"id\":\"8d8ae721-d9d6-4cf9-8ff1-5fc1f5e8c352\",\"type\":\"BoxZoomTool\"},{\"attributes\":{},\"id\":\"46ba07a0-c589-43da-bbaf-be8212914f8c\",\"type\":\"SaveTool\"},{\"attributes\":{},\"id\":\"a4e465b3-67fc-40b6-888e-7985c533963c\",\"type\":\"ResetTool\"},{\"attributes\":{},\"id\":\"b5b86c36-8064-4b1f-803f-29069500c612\",\"type\":\"HelpTool\"},{\"attributes\":{},\"id\":\"e748b055-fdc3-420e-8c17-cde8fb50aeca\",\"type\":\"BasicTickFormatter\"},{\"attributes\":{\"source\":{\"id\":\"35d65b27-43f1-4a30-9657-cd54287895da\",\"type\":\"ColumnDataSource\"}},\"id\":\"1358fdc4-d18a-4a08-aa90-4a684558f492\",\"type\":\"CDSView\"},{\"attributes\":{},\"id\":\"e3669ac9-8fa4-48ed-92c0-926901eaf010\",\"type\":\"BasicTickFormatter\"},{\"attributes\":{\"items\":[{\"id\":\"03f2c4b0-759c-4486-b827-2def4536991d\",\"type\":\"LegendItem\"},{\"id\":\"30e6e779-d415-4b38-93da-9a7a63756fc9\",\"type\":\"LegendItem\"},{\"id\":\"f0439d3c-38b9-4055-ab34-89479ff4571a\",\"type\":\"LegendItem\"},{\"id\":\"09d31b6b-bf0d-4b5e-a741-f114b0ec0113\",\"type\":\"LegendItem\"}],\"plot\":{\"id\":\"1a98efc0-ed7f-422a-8700-4acf344c19df\",\"subtype\":\"Figure\",\"type\":\"Plot\"}},\"id\":\"032b06da-de76-4379-bd1a-b95e25f8f6d7\",\"type\":\"Legend\"},{\"attributes\":{\"plot\":null,\"text\":\"Function Scaling\"},\"id\":\"e0de7c52-1fb5-4fbb-a237-3a145725725a\",\"type\":\"Title\"},{\"attributes\":{\"line_color\":\"#1f77b4\",\"line_width\":2,\"x\":{\"field\":\"x\"},\"y\":{\"field\":\"y\"}},\"id\":\"7a8ba533-c445-433c-8fad-55a6a1588949\",\"type\":\"Line\"}],\"root_ids\":[\"1a98efc0-ed7f-422a-8700-4acf344c19df\"]},\"title\":\"Bokeh Application\",\"version\":\"0.12.14\"}};\n",
       "  var render_items = [{\"docid\":\"8c27624f-a766-42d4-b321-eb3ba91a73f9\",\"elementid\":\"abfe9216-85f4-4b1d-8117-7256eed12ed8\",\"modelid\":\"1a98efc0-ed7f-422a-8700-4acf344c19df\"}];\n",
       "  root.Bokeh.embed.embed_items_notebook(docs_json, render_items);\n",
       "\n",
       "  }\n",
       "  if (root.Bokeh !== undefined) {\n",
       "    embed_document(root);\n",
       "  } else {\n",
       "    var attempts = 0;\n",
       "    var timer = setInterval(function(root) {\n",
       "      if (root.Bokeh !== undefined) {\n",
       "        embed_document(root);\n",
       "        clearInterval(timer);\n",
       "      }\n",
       "      attempts++;\n",
       "      if (attempts > 100) {\n",
       "        console.log(\"Bokeh: ERROR: Unable to run BokehJS code because BokehJS library is missing\")\n",
       "        clearInterval(timer);\n",
       "      }\n",
       "    }, 10, root)\n",
       "  }\n",
       "})(window);"
      ],
      "application/vnd.bokehjs_exec.v0+json": ""
     },
     "metadata": {
      "application/vnd.bokehjs_exec.v0+json": {
       "id": "1a98efc0-ed7f-422a-8700-4acf344c19df"
      }
     },
     "output_type": "display_data"
    }
   ],
   "source": [
    "def steps_rec_back_memo_fresh(n):\n",
    "    steps_rec_back_memo.cache_clear()\n",
    "    return steps_rec_back_memo(n)\n",
    "\n",
    "fns = [steps_rec_back, steps_rec_back_memo_fresh, steps_iter_fwd, steps_rec_fwd]\n",
    "\n",
    "times = time_fns(fns, maxn=20, maxt=1, plot=True)"
   ]
  },
  {
   "cell_type": "code",
   "execution_count": null,
   "metadata": {},
   "outputs": [],
   "source": []
  }
 ],
 "metadata": {
  "kernelspec": {
   "display_name": "Python 3",
   "language": "python",
   "name": "python3"
  },
  "language_info": {
   "codemirror_mode": {
    "name": "ipython",
    "version": 3
   },
   "file_extension": ".py",
   "mimetype": "text/x-python",
   "name": "python",
   "nbconvert_exporter": "python",
   "pygments_lexer": "ipython3",
   "version": "3.6.8rc1"
  }
 },
 "nbformat": 4,
 "nbformat_minor": 2
}
