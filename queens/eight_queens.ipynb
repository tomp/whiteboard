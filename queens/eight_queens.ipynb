{
 "cells": [
  {
   "cell_type": "markdown",
   "metadata": {},
   "source": [
    "## Eight Queens Puzzle"
   ]
  },
  {
   "cell_type": "markdown",
   "metadata": {},
   "source": [
    "**Task: Count the number of ways you can place N queens on an NxN chess board, such that no two queens are attacking one another.**"
   ]
  },
  {
   "cell_type": "markdown",
   "metadata": {},
   "source": [
    "**Utility functions**"
   ]
  },
  {
   "cell_type": "code",
   "execution_count": 1,
   "metadata": {},
   "outputs": [
    {
     "data": {
      "text/html": [
       "\n",
       "    <div class=\"bk-root\">\n",
       "        <a href=\"https://bokeh.pydata.org\" target=\"_blank\" class=\"bk-logo bk-logo-small bk-logo-notebook\"></a>\n",
       "        <span id=\"948e2222-71d8-4505-b918-8d9c5050a689\">Loading BokehJS ...</span>\n",
       "    </div>"
      ]
     },
     "metadata": {},
     "output_type": "display_data"
    },
    {
     "data": {
      "application/javascript": [
       "\n",
       "(function(root) {\n",
       "  function now() {\n",
       "    return new Date();\n",
       "  }\n",
       "\n",
       "  var force = true;\n",
       "\n",
       "  if (typeof (root._bokeh_onload_callbacks) === \"undefined\" || force === true) {\n",
       "    root._bokeh_onload_callbacks = [];\n",
       "    root._bokeh_is_loading = undefined;\n",
       "  }\n",
       "\n",
       "  var JS_MIME_TYPE = 'application/javascript';\n",
       "  var HTML_MIME_TYPE = 'text/html';\n",
       "  var EXEC_MIME_TYPE = 'application/vnd.bokehjs_exec.v0+json';\n",
       "  var CLASS_NAME = 'output_bokeh rendered_html';\n",
       "\n",
       "  /**\n",
       "   * Render data to the DOM node\n",
       "   */\n",
       "  function render(props, node) {\n",
       "    var script = document.createElement(\"script\");\n",
       "    node.appendChild(script);\n",
       "  }\n",
       "\n",
       "  /**\n",
       "   * Handle when an output is cleared or removed\n",
       "   */\n",
       "  function handleClearOutput(event, handle) {\n",
       "    var cell = handle.cell;\n",
       "\n",
       "    var id = cell.output_area._bokeh_element_id;\n",
       "    var server_id = cell.output_area._bokeh_server_id;\n",
       "    // Clean up Bokeh references\n",
       "    if (id !== undefined) {\n",
       "      Bokeh.index[id].model.document.clear();\n",
       "      delete Bokeh.index[id];\n",
       "    }\n",
       "\n",
       "    if (server_id !== undefined) {\n",
       "      // Clean up Bokeh references\n",
       "      var cmd = \"from bokeh.io.state import curstate; print(curstate().uuid_to_server['\" + server_id + \"'].get_sessions()[0].document.roots[0]._id)\";\n",
       "      cell.notebook.kernel.execute(cmd, {\n",
       "        iopub: {\n",
       "          output: function(msg) {\n",
       "            var element_id = msg.content.text.trim();\n",
       "            Bokeh.index[element_id].model.document.clear();\n",
       "            delete Bokeh.index[element_id];\n",
       "          }\n",
       "        }\n",
       "      });\n",
       "      // Destroy server and session\n",
       "      var cmd = \"import bokeh.io.notebook as ion; ion.destroy_server('\" + server_id + \"')\";\n",
       "      cell.notebook.kernel.execute(cmd);\n",
       "    }\n",
       "  }\n",
       "\n",
       "  /**\n",
       "   * Handle when a new output is added\n",
       "   */\n",
       "  function handleAddOutput(event, handle) {\n",
       "    var output_area = handle.output_area;\n",
       "    var output = handle.output;\n",
       "\n",
       "    // limit handleAddOutput to display_data with EXEC_MIME_TYPE content only\n",
       "    if ((output.output_type != \"display_data\") || (!output.data.hasOwnProperty(EXEC_MIME_TYPE))) {\n",
       "      return\n",
       "    }\n",
       "\n",
       "    var toinsert = output_area.element.find(\".\" + CLASS_NAME.split(' ')[0]);\n",
       "\n",
       "    if (output.metadata[EXEC_MIME_TYPE][\"id\"] !== undefined) {\n",
       "      toinsert[0].firstChild.textContent = output.data[JS_MIME_TYPE];\n",
       "      // store reference to embed id on output_area\n",
       "      output_area._bokeh_element_id = output.metadata[EXEC_MIME_TYPE][\"id\"];\n",
       "    }\n",
       "    if (output.metadata[EXEC_MIME_TYPE][\"server_id\"] !== undefined) {\n",
       "      var bk_div = document.createElement(\"div\");\n",
       "      bk_div.innerHTML = output.data[HTML_MIME_TYPE];\n",
       "      var script_attrs = bk_div.children[0].attributes;\n",
       "      for (var i = 0; i < script_attrs.length; i++) {\n",
       "        toinsert[0].firstChild.setAttribute(script_attrs[i].name, script_attrs[i].value);\n",
       "      }\n",
       "      // store reference to server id on output_area\n",
       "      output_area._bokeh_server_id = output.metadata[EXEC_MIME_TYPE][\"server_id\"];\n",
       "    }\n",
       "  }\n",
       "\n",
       "  function register_renderer(events, OutputArea) {\n",
       "\n",
       "    function append_mime(data, metadata, element) {\n",
       "      // create a DOM node to render to\n",
       "      var toinsert = this.create_output_subarea(\n",
       "        metadata,\n",
       "        CLASS_NAME,\n",
       "        EXEC_MIME_TYPE\n",
       "      );\n",
       "      this.keyboard_manager.register_events(toinsert);\n",
       "      // Render to node\n",
       "      var props = {data: data, metadata: metadata[EXEC_MIME_TYPE]};\n",
       "      render(props, toinsert[0]);\n",
       "      element.append(toinsert);\n",
       "      return toinsert\n",
       "    }\n",
       "\n",
       "    /* Handle when an output is cleared or removed */\n",
       "    events.on('clear_output.CodeCell', handleClearOutput);\n",
       "    events.on('delete.Cell', handleClearOutput);\n",
       "\n",
       "    /* Handle when a new output is added */\n",
       "    events.on('output_added.OutputArea', handleAddOutput);\n",
       "\n",
       "    /**\n",
       "     * Register the mime type and append_mime function with output_area\n",
       "     */\n",
       "    OutputArea.prototype.register_mime_type(EXEC_MIME_TYPE, append_mime, {\n",
       "      /* Is output safe? */\n",
       "      safe: true,\n",
       "      /* Index of renderer in `output_area.display_order` */\n",
       "      index: 0\n",
       "    });\n",
       "  }\n",
       "\n",
       "  // register the mime type if in Jupyter Notebook environment and previously unregistered\n",
       "  if (root.Jupyter !== undefined) {\n",
       "    var events = require('base/js/events');\n",
       "    var OutputArea = require('notebook/js/outputarea').OutputArea;\n",
       "\n",
       "    if (OutputArea.prototype.mime_types().indexOf(EXEC_MIME_TYPE) == -1) {\n",
       "      register_renderer(events, OutputArea);\n",
       "    }\n",
       "  }\n",
       "\n",
       "  \n",
       "  if (typeof (root._bokeh_timeout) === \"undefined\" || force === true) {\n",
       "    root._bokeh_timeout = Date.now() + 5000;\n",
       "    root._bokeh_failed_load = false;\n",
       "  }\n",
       "\n",
       "  var NB_LOAD_WARNING = {'data': {'text/html':\n",
       "     \"<div style='background-color: #fdd'>\\n\"+\n",
       "     \"<p>\\n\"+\n",
       "     \"BokehJS does not appear to have successfully loaded. If loading BokehJS from CDN, this \\n\"+\n",
       "     \"may be due to a slow or bad network connection. Possible fixes:\\n\"+\n",
       "     \"</p>\\n\"+\n",
       "     \"<ul>\\n\"+\n",
       "     \"<li>re-rerun `output_notebook()` to attempt to load from CDN again, or</li>\\n\"+\n",
       "     \"<li>use INLINE resources instead, as so:</li>\\n\"+\n",
       "     \"</ul>\\n\"+\n",
       "     \"<code>\\n\"+\n",
       "     \"from bokeh.resources import INLINE\\n\"+\n",
       "     \"output_notebook(resources=INLINE)\\n\"+\n",
       "     \"</code>\\n\"+\n",
       "     \"</div>\"}};\n",
       "\n",
       "  function display_loaded() {\n",
       "    var el = document.getElementById(\"948e2222-71d8-4505-b918-8d9c5050a689\");\n",
       "    if (el != null) {\n",
       "      el.textContent = \"BokehJS is loading...\";\n",
       "    }\n",
       "    if (root.Bokeh !== undefined) {\n",
       "      if (el != null) {\n",
       "        el.textContent = \"BokehJS \" + root.Bokeh.version + \" successfully loaded.\";\n",
       "      }\n",
       "    } else if (Date.now() < root._bokeh_timeout) {\n",
       "      setTimeout(display_loaded, 100)\n",
       "    }\n",
       "  }\n",
       "\n",
       "\n",
       "  function run_callbacks() {\n",
       "    try {\n",
       "      root._bokeh_onload_callbacks.forEach(function(callback) { callback() });\n",
       "    }\n",
       "    finally {\n",
       "      delete root._bokeh_onload_callbacks\n",
       "    }\n",
       "    console.info(\"Bokeh: all callbacks have finished\");\n",
       "  }\n",
       "\n",
       "  function load_libs(js_urls, callback) {\n",
       "    root._bokeh_onload_callbacks.push(callback);\n",
       "    if (root._bokeh_is_loading > 0) {\n",
       "      console.log(\"Bokeh: BokehJS is being loaded, scheduling callback at\", now());\n",
       "      return null;\n",
       "    }\n",
       "    if (js_urls == null || js_urls.length === 0) {\n",
       "      run_callbacks();\n",
       "      return null;\n",
       "    }\n",
       "    console.log(\"Bokeh: BokehJS not loaded, scheduling load and callback at\", now());\n",
       "    root._bokeh_is_loading = js_urls.length;\n",
       "    for (var i = 0; i < js_urls.length; i++) {\n",
       "      var url = js_urls[i];\n",
       "      var s = document.createElement('script');\n",
       "      s.src = url;\n",
       "      s.async = false;\n",
       "      s.onreadystatechange = s.onload = function() {\n",
       "        root._bokeh_is_loading--;\n",
       "        if (root._bokeh_is_loading === 0) {\n",
       "          console.log(\"Bokeh: all BokehJS libraries loaded\");\n",
       "          run_callbacks()\n",
       "        }\n",
       "      };\n",
       "      s.onerror = function() {\n",
       "        console.warn(\"failed to load library \" + url);\n",
       "      };\n",
       "      console.log(\"Bokeh: injecting script tag for BokehJS library: \", url);\n",
       "      document.getElementsByTagName(\"head\")[0].appendChild(s);\n",
       "    }\n",
       "  };var element = document.getElementById(\"948e2222-71d8-4505-b918-8d9c5050a689\");\n",
       "  if (element == null) {\n",
       "    console.log(\"Bokeh: ERROR: autoload.js configured with elementid '948e2222-71d8-4505-b918-8d9c5050a689' but no matching script tag was found. \")\n",
       "    return false;\n",
       "  }\n",
       "\n",
       "  var js_urls = [\"https://cdn.pydata.org/bokeh/release/bokeh-0.12.14.min.js\", \"https://cdn.pydata.org/bokeh/release/bokeh-widgets-0.12.14.min.js\", \"https://cdn.pydata.org/bokeh/release/bokeh-tables-0.12.14.min.js\", \"https://cdn.pydata.org/bokeh/release/bokeh-gl-0.12.14.min.js\"];\n",
       "\n",
       "  var inline_js = [\n",
       "    function(Bokeh) {\n",
       "      Bokeh.set_log_level(\"info\");\n",
       "    },\n",
       "    \n",
       "    function(Bokeh) {\n",
       "      \n",
       "    },\n",
       "    function(Bokeh) {\n",
       "      console.log(\"Bokeh: injecting CSS: https://cdn.pydata.org/bokeh/release/bokeh-0.12.14.min.css\");\n",
       "      Bokeh.embed.inject_css(\"https://cdn.pydata.org/bokeh/release/bokeh-0.12.14.min.css\");\n",
       "      console.log(\"Bokeh: injecting CSS: https://cdn.pydata.org/bokeh/release/bokeh-widgets-0.12.14.min.css\");\n",
       "      Bokeh.embed.inject_css(\"https://cdn.pydata.org/bokeh/release/bokeh-widgets-0.12.14.min.css\");\n",
       "      console.log(\"Bokeh: injecting CSS: https://cdn.pydata.org/bokeh/release/bokeh-tables-0.12.14.min.css\");\n",
       "      Bokeh.embed.inject_css(\"https://cdn.pydata.org/bokeh/release/bokeh-tables-0.12.14.min.css\");\n",
       "    }\n",
       "  ];\n",
       "\n",
       "  function run_inline_js() {\n",
       "    \n",
       "    if ((root.Bokeh !== undefined) || (force === true)) {\n",
       "      for (var i = 0; i < inline_js.length; i++) {\n",
       "        inline_js[i].call(root, root.Bokeh);\n",
       "      }if (force === true) {\n",
       "        display_loaded();\n",
       "      }} else if (Date.now() < root._bokeh_timeout) {\n",
       "      setTimeout(run_inline_js, 100);\n",
       "    } else if (!root._bokeh_failed_load) {\n",
       "      console.log(\"Bokeh: BokehJS failed to load within specified timeout.\");\n",
       "      root._bokeh_failed_load = true;\n",
       "    } else if (force !== true) {\n",
       "      var cell = $(document.getElementById(\"948e2222-71d8-4505-b918-8d9c5050a689\")).parents('.cell').data().cell;\n",
       "      cell.output_area.append_execute_result(NB_LOAD_WARNING)\n",
       "    }\n",
       "\n",
       "  }\n",
       "\n",
       "  if (root._bokeh_is_loading === 0) {\n",
       "    console.log(\"Bokeh: BokehJS loaded, going straight to plotting\");\n",
       "    run_inline_js();\n",
       "  } else {\n",
       "    load_libs(js_urls, function() {\n",
       "      console.log(\"Bokeh: BokehJS plotting callback run at\", now());\n",
       "      run_inline_js();\n",
       "    });\n",
       "  }\n",
       "}(window));"
      ],
      "application/vnd.bokehjs_load.v0+json": "\n(function(root) {\n  function now() {\n    return new Date();\n  }\n\n  var force = true;\n\n  if (typeof (root._bokeh_onload_callbacks) === \"undefined\" || force === true) {\n    root._bokeh_onload_callbacks = [];\n    root._bokeh_is_loading = undefined;\n  }\n\n  \n\n  \n  if (typeof (root._bokeh_timeout) === \"undefined\" || force === true) {\n    root._bokeh_timeout = Date.now() + 5000;\n    root._bokeh_failed_load = false;\n  }\n\n  var NB_LOAD_WARNING = {'data': {'text/html':\n     \"<div style='background-color: #fdd'>\\n\"+\n     \"<p>\\n\"+\n     \"BokehJS does not appear to have successfully loaded. If loading BokehJS from CDN, this \\n\"+\n     \"may be due to a slow or bad network connection. Possible fixes:\\n\"+\n     \"</p>\\n\"+\n     \"<ul>\\n\"+\n     \"<li>re-rerun `output_notebook()` to attempt to load from CDN again, or</li>\\n\"+\n     \"<li>use INLINE resources instead, as so:</li>\\n\"+\n     \"</ul>\\n\"+\n     \"<code>\\n\"+\n     \"from bokeh.resources import INLINE\\n\"+\n     \"output_notebook(resources=INLINE)\\n\"+\n     \"</code>\\n\"+\n     \"</div>\"}};\n\n  function display_loaded() {\n    var el = document.getElementById(\"948e2222-71d8-4505-b918-8d9c5050a689\");\n    if (el != null) {\n      el.textContent = \"BokehJS is loading...\";\n    }\n    if (root.Bokeh !== undefined) {\n      if (el != null) {\n        el.textContent = \"BokehJS \" + root.Bokeh.version + \" successfully loaded.\";\n      }\n    } else if (Date.now() < root._bokeh_timeout) {\n      setTimeout(display_loaded, 100)\n    }\n  }\n\n\n  function run_callbacks() {\n    try {\n      root._bokeh_onload_callbacks.forEach(function(callback) { callback() });\n    }\n    finally {\n      delete root._bokeh_onload_callbacks\n    }\n    console.info(\"Bokeh: all callbacks have finished\");\n  }\n\n  function load_libs(js_urls, callback) {\n    root._bokeh_onload_callbacks.push(callback);\n    if (root._bokeh_is_loading > 0) {\n      console.log(\"Bokeh: BokehJS is being loaded, scheduling callback at\", now());\n      return null;\n    }\n    if (js_urls == null || js_urls.length === 0) {\n      run_callbacks();\n      return null;\n    }\n    console.log(\"Bokeh: BokehJS not loaded, scheduling load and callback at\", now());\n    root._bokeh_is_loading = js_urls.length;\n    for (var i = 0; i < js_urls.length; i++) {\n      var url = js_urls[i];\n      var s = document.createElement('script');\n      s.src = url;\n      s.async = false;\n      s.onreadystatechange = s.onload = function() {\n        root._bokeh_is_loading--;\n        if (root._bokeh_is_loading === 0) {\n          console.log(\"Bokeh: all BokehJS libraries loaded\");\n          run_callbacks()\n        }\n      };\n      s.onerror = function() {\n        console.warn(\"failed to load library \" + url);\n      };\n      console.log(\"Bokeh: injecting script tag for BokehJS library: \", url);\n      document.getElementsByTagName(\"head\")[0].appendChild(s);\n    }\n  };var element = document.getElementById(\"948e2222-71d8-4505-b918-8d9c5050a689\");\n  if (element == null) {\n    console.log(\"Bokeh: ERROR: autoload.js configured with elementid '948e2222-71d8-4505-b918-8d9c5050a689' but no matching script tag was found. \")\n    return false;\n  }\n\n  var js_urls = [\"https://cdn.pydata.org/bokeh/release/bokeh-0.12.14.min.js\", \"https://cdn.pydata.org/bokeh/release/bokeh-widgets-0.12.14.min.js\", \"https://cdn.pydata.org/bokeh/release/bokeh-tables-0.12.14.min.js\", \"https://cdn.pydata.org/bokeh/release/bokeh-gl-0.12.14.min.js\"];\n\n  var inline_js = [\n    function(Bokeh) {\n      Bokeh.set_log_level(\"info\");\n    },\n    \n    function(Bokeh) {\n      \n    },\n    function(Bokeh) {\n      console.log(\"Bokeh: injecting CSS: https://cdn.pydata.org/bokeh/release/bokeh-0.12.14.min.css\");\n      Bokeh.embed.inject_css(\"https://cdn.pydata.org/bokeh/release/bokeh-0.12.14.min.css\");\n      console.log(\"Bokeh: injecting CSS: https://cdn.pydata.org/bokeh/release/bokeh-widgets-0.12.14.min.css\");\n      Bokeh.embed.inject_css(\"https://cdn.pydata.org/bokeh/release/bokeh-widgets-0.12.14.min.css\");\n      console.log(\"Bokeh: injecting CSS: https://cdn.pydata.org/bokeh/release/bokeh-tables-0.12.14.min.css\");\n      Bokeh.embed.inject_css(\"https://cdn.pydata.org/bokeh/release/bokeh-tables-0.12.14.min.css\");\n    }\n  ];\n\n  function run_inline_js() {\n    \n    if ((root.Bokeh !== undefined) || (force === true)) {\n      for (var i = 0; i < inline_js.length; i++) {\n        inline_js[i].call(root, root.Bokeh);\n      }if (force === true) {\n        display_loaded();\n      }} else if (Date.now() < root._bokeh_timeout) {\n      setTimeout(run_inline_js, 100);\n    } else if (!root._bokeh_failed_load) {\n      console.log(\"Bokeh: BokehJS failed to load within specified timeout.\");\n      root._bokeh_failed_load = true;\n    } else if (force !== true) {\n      var cell = $(document.getElementById(\"948e2222-71d8-4505-b918-8d9c5050a689\")).parents('.cell').data().cell;\n      cell.output_area.append_execute_result(NB_LOAD_WARNING)\n    }\n\n  }\n\n  if (root._bokeh_is_loading === 0) {\n    console.log(\"Bokeh: BokehJS loaded, going straight to plotting\");\n    run_inline_js();\n  } else {\n    load_libs(js_urls, function() {\n      console.log(\"Bokeh: BokehJS plotting callback run at\", now());\n      run_inline_js();\n    });\n  }\n}(window));"
     },
     "metadata": {},
     "output_type": "display_data"
    }
   ],
   "source": [
    "import numpy as np\n",
    "    \n",
    "def print_solutions(solns):\n",
    "    for i, b in enumerate(solns):\n",
    "        print(\"{:2d}: {}\".format(i+1, \" \".join(map(str, b))))\n",
    "\n",
    "def timings(fn, maxtime=15, nrun=1):\n",
    "    result = []\n",
    "    n, dt = 6, 0\n",
    "    while dt < maxtime:\n",
    "        dt = timeit.timeit(\"fn(n)\", number=nrun, globals=locals()) / nrun\n",
    "        result.append((n, dt))\n",
    "        n += 1              \n",
    "    return result\n",
    "\n",
    "def expfit(n, y):\n",
    "    \"\"\"Fit the (n, y) data to a simple exponential model y = exp(a*x + b) and print the results.\n",
    "    The factor exp(a) and offset b are displayed, along with the predictions for each point.\n",
    "    A list of (n, timing, predicted timing) tuples is also returned.\n",
    "    \"\"\"\n",
    "    cf = np.polyfit(n, np.log(y), 1)\n",
    "    print(\"exp(a): {:3f}\\nb: {}\".format(np.exp(cf[0]), cf[1]))\n",
    "    yp = np.exp(np.polyval(cf, n))\n",
    "    print(\"\\n\".join([\"{:2d}: {:6f}  pred: {:6f}\".format(*val) for val in zip(n, y, yp)]))\n",
    "    return list(zip(n, y, yp))\n",
    "\n",
    "from bokeh.plotting import figure, output_notebook, show\n",
    "from bokeh.palettes import Category20 \n",
    "output_notebook()\n",
    "\n",
    "def plot_timings(*named_timings, log=True):\n",
    "    \"\"\"Plot the given timings, each a tuple of the function name, and a matrix of timing data.\n",
    "    Each matrix row is a \n",
    "    \"\"\"\n",
    "    args = {'title': \"Timings\",\n",
    "            'x_axis_label': 'N',\n",
    "            'y_axis_label': 'time (sec)'}\n",
    "    if log:\n",
    "        args['y_axis_type'] = 'log'\n",
    "\n",
    "    fig = figure(**args)\n",
    "    \n",
    "    # add a line renderer with legend and line thickness\n",
    "    for i, timing in enumerate(named_timings):\n",
    "        name, xyp = timing\n",
    "        if len(xyp[0]) == 3:\n",
    "            n, y, yp = zip(*xyp)\n",
    "            fig.line(n, y, legend=name, line_width=2, color=Category20[20][2*i])\n",
    "            fig.line(n, yp, legend=name + \" (pred)\", line_width=1, color=Category20[20][2*i+1])\n",
    "        elif len(xyp[0]) == 2:\n",
    "            n, y = zip(*xyp)\n",
    "            fig.line(n, y, legend=name, line_width=2, color=Category20[20][2*i])\n",
    "        else:\n",
    "            raise ValueError(\"Can't decipher timing\")\n",
    "\n",
    "    # show the results\n",
    "    show(fig)"
   ]
  },
  {
   "cell_type": "markdown",
   "metadata": {},
   "source": [
    "### 1. Consider all possible arrangements of the 8 queens on distinct rows and columns."
   ]
  },
  {
   "cell_type": "code",
   "execution_count": 2,
   "metadata": {},
   "outputs": [],
   "source": [
    "NQUEEN = 10"
   ]
  },
  {
   "cell_type": "code",
   "execution_count": 3,
   "metadata": {},
   "outputs": [
    {
     "name": "stdout",
     "output_type": "stream",
     "text": [
      "Found 724 solutions\n"
     ]
    }
   ],
   "source": [
    "import timeit\n",
    "from itertools import permutations\n",
    "\n",
    "def attack(b):\n",
    "    \"\"\"Return True if any two queens on the given board attack each other.\"\"\"\n",
    "    for i in range(len(b)-1):\n",
    "        for j in range(i+1, len(b)):\n",
    "            if abs(b[i] - b[j]) == j - i:\n",
    "                return True\n",
    "    return False\n",
    "    \n",
    "def solution1(nqueen):\n",
    "    solns = []\n",
    "    for board in permutations(list(range(nqueen))):\n",
    "        if not attack(board):\n",
    "            solns.append(tuple(board))\n",
    "    return solns\n",
    "\n",
    "solns = solution1(NQUEEN)\n",
    "print(\"Found {} solutions\".format(len(solns)))\n",
    "# print_solutions(solns)"
   ]
  },
  {
   "cell_type": "code",
   "execution_count": 4,
   "metadata": {},
   "outputs": [
    {
     "name": "stdout",
     "output_type": "stream",
     "text": [
      "exp(a): 9.149036\n",
      "b: -19.683358688872186\n",
      " 6: 0.002185  pred: 0.001659\n",
      " 7: 0.013701  pred: 0.015179\n",
      " 8: 0.111955  pred: 0.138876\n",
      " 9: 1.089616  pred: 1.270585\n",
      "10: 11.465833  pred: 11.624630\n",
      "11: 131.192340  pred: 106.354154\n"
     ]
    }
   ],
   "source": [
    "time1 = timings(solution1)\n",
    "n, y = zip(*time1)\n",
    "pred1 = expfit(n, y)"
   ]
  },
  {
   "cell_type": "markdown",
   "metadata": {},
   "source": [
    "### 2. Find solutions using an exhaustive depth-first search."
   ]
  },
  {
   "cell_type": "markdown",
   "metadata": {},
   "source": [
    "#### a. Reuse the *attack()* function from the brute-force search"
   ]
  },
  {
   "cell_type": "code",
   "execution_count": 5,
   "metadata": {},
   "outputs": [
    {
     "name": "stdout",
     "output_type": "stream",
     "text": [
      "Found 724 solutions\n"
     ]
    }
   ],
   "source": [
    "def solution2(nqueen):\n",
    "    solns = []\n",
    "    queue = [[i] for i in range(nqueen)]\n",
    "    while queue:\n",
    "        b = queue.pop()\n",
    "        for j in range(nqueen):\n",
    "            if not(j in b or attack(b + [j])):\n",
    "                newb = b + [j]\n",
    "                if len(newb) == nqueen:\n",
    "                    solns.append(newb)\n",
    "                else:\n",
    "                    queue.append(newb)\n",
    "    return solns\n",
    "              \n",
    "solns = solution2(NQUEEN)\n",
    "print(\"Found {} solutions\".format(len(solns)))"
   ]
  },
  {
   "cell_type": "code",
   "execution_count": 6,
   "metadata": {},
   "outputs": [
    {
     "name": "stdout",
     "output_type": "stream",
     "text": [
      "exp(a): 5.278673\n",
      "b: -16.625263718561403\n",
      " 6: 0.001448  pred: 0.001303\n",
      " 7: 0.007182  pred: 0.006877\n",
      " 8: 0.033885  pred: 0.036303\n",
      " 9: 0.170547  pred: 0.191630\n",
      "10: 0.911772  pred: 1.011550\n",
      "11: 5.250576  pred: 5.339643\n",
      "12: 32.986274  pred: 28.186233\n"
     ]
    }
   ],
   "source": [
    "time2 = timings(solution2)\n",
    "n, y = zip(*time2)\n",
    "pred2 = expfit(n, y)"
   ]
  },
  {
   "cell_type": "markdown",
   "metadata": {},
   "source": [
    "#### b. Only check attacks on newly added queens "
   ]
  },
  {
   "cell_type": "code",
   "execution_count": 7,
   "metadata": {},
   "outputs": [
    {
     "name": "stdout",
     "output_type": "stream",
     "text": [
      "Found 724 solutions\n"
     ]
    }
   ],
   "source": [
    "def adds_attack(b, row):\n",
    "    \"\"\"Return True if adding a queen in the next column on given row results in an attack.\n",
    "    This should be all we need to check, if we know the input board b contains no attacks.\n",
    "    \"\"\"\n",
    "    col = len(b)\n",
    "    return any([abs(irow - row) == col - icol\n",
    "                for icol, irow in enumerate(b)])\n",
    "\n",
    "def solution2b(nqueen):\n",
    "    solns = []\n",
    "    queue = [[i] for i in range(nqueen)]\n",
    "    while queue:\n",
    "        b = queue.pop()\n",
    "        for j in range(nqueen):\n",
    "            if not(j in b or adds_attack(b, j)):\n",
    "                newb = b + [j]\n",
    "                if len(newb) == nqueen:\n",
    "                    solns.append(newb)\n",
    "                else:\n",
    "                    queue.append(newb)\n",
    "    return solns\n",
    "              \n",
    "solns = solution2b(NQUEEN)\n",
    "print(\"Found {} solutions\".format(len(solns)))"
   ]
  },
  {
   "cell_type": "code",
   "execution_count": 8,
   "metadata": {},
   "outputs": [
    {
     "name": "stdout",
     "output_type": "stream",
     "text": [
      "exp(a): 4.905262\n",
      "b: -16.721051843460007\n",
      " 6: 0.000896  pred: 0.000762\n",
      " 7: 0.003798  pred: 0.003739\n",
      " 8: 0.016835  pred: 0.018342\n",
      " 9: 0.084330  pred: 0.089970\n",
      "10: 0.406006  pred: 0.441328\n",
      "11: 1.876752  pred: 2.164829\n",
      "12: 10.625082  pred: 10.619054\n",
      "13: 63.569585  pred: 52.089241\n"
     ]
    }
   ],
   "source": [
    "time2b = timings(solution2b)\n",
    "n, y = zip(*time2b)\n",
    "pred2b = expfit(n, y)"
   ]
  },
  {
   "cell_type": "markdown",
   "metadata": {},
   "source": [
    "### 3. Track search state using tuples of bit vectors.\n",
    "The state of a partially completed board is represented by separate bit vectors that record the queen locations, right-diagonal attacks, left-diagonal attacks, and a list with the location of each queen."
   ]
  },
  {
   "cell_type": "code",
   "execution_count": 9,
   "metadata": {
    "collapsed": true,
    "jupyter": {
     "outputs_hidden": true,
     "source_hidden": true
    }
   },
   "outputs": [
    {
     "name": "stdout",
     "output_type": "stream",
     "text": [
      "0000000000, 0000000000, 0000000000 ()\n",
      "- - - - - -\n",
      "1000000000, 0100000000, 0000000000 (9)\n",
      "0100000000, 0010000000, 1000000000 (8)\n",
      "0010000000, 0001000000, 0100000000 (7)\n",
      "0001000000, 0000100000, 0010000000 (6)\n",
      "0000100000, 0000010000, 0001000000 (5)\n",
      "0000010000, 0000001000, 0000100000 (4)\n",
      "0000001000, 0000000100, 0000010000 (3)\n",
      "0000000100, 0000000010, 0000001000 (2)\n",
      "0000000010, 0000000001, 0000000100 (1)\n",
      "0000000001, 0000000000, 0000000010 (0)\n",
      "===========\n",
      "0001000000, 0000100000, 0010000000 (6)\n",
      "- - - - - -\n",
      "1001000000, 0100010000, 0100000000 (6,9)\n",
      "0101000000, 0010010000, 1100000000 (6,8)\n",
      "0001010000, 0000011000, 0100100000 (6,4)\n",
      "0001001000, 0000010100, 0100010000 (6,3)\n",
      "0001000100, 0000010010, 0100001000 (6,2)\n",
      "0001000010, 0000010001, 0100000100 (6,1)\n",
      "0001000001, 0000010000, 0100000010 (6,0)\n",
      "===========\n",
      "1001000000, 0100010000, 0100000000 (6,9)\n",
      "- - - - - -\n",
      "1011000000, 0011001000, 11100000000 (6,9,7)\n",
      "1001100000, 0010011000, 11001000000 (6,9,5)\n",
      "1001001000, 0010001100, 11000010000 (6,9,3)\n",
      "1001000100, 0010001010, 11000001000 (6,9,2)\n",
      "1001000010, 0010001001, 11000000100 (6,9,1)\n",
      "1001000001, 0010001000, 11000000010 (6,9,0)\n"
     ]
    }
   ],
   "source": [
    "from collections import namedtuple\n",
    "from itertools import islice\n",
    "\n",
    "def bits(i, nbits=NQUEEN):\n",
    "    return bin((1 << nbits) | i)[3:]\n",
    "\n",
    "Queens = namedtuple('Queens', ['col', 'rd', 'ld', 'loc'])\n",
    "Queens.__repr__ = lambda q: \"{}, {}, {} ({})\".format(bits(q.col), bits(q.rd), bits(q.ld), \",\".join(map(str, q.loc)))\n",
    "\n",
    "def new_queens(col):\n",
    "    newq = 1 << col\n",
    "    return Queens(newq, newq >> 1, newq << 1, (col,))\n",
    "\n",
    "def successors(state, nqueen):\n",
    "    col = nqueen - 1\n",
    "    newq = 1 << col\n",
    "    excl = state.col | state.ld | state.rd\n",
    "    while newq:\n",
    "        if not (newq & excl):\n",
    "            yield Queens(state.col | newq, (state.rd | newq) >> 1, (state.ld | newq) << 1, state.loc + (col,))\n",
    "        col -= 1\n",
    "        newq = newq >> 1\n",
    "        \n",
    "q0 = Queens(0, 0, 0, ())\n",
    "print(q0)\n",
    "print('- - - - - -')\n",
    "for q in successors(q0, NQUEEN):\n",
    "    print(q)\n",
    "print('===========')\n",
    "q1 = list(successors(q0, NQUEEN))[3]\n",
    "print(q1)\n",
    "print('- - - - - -')\n",
    "for q in successors(q1, NQUEEN):\n",
    "    print(q)\n",
    "print('===========')\n",
    "q2 = list(successors(q1, NQUEEN))[0]\n",
    "print(q2)\n",
    "print('- - - - - -')\n",
    "for q in successors(q2, NQUEEN):\n",
    "    print(q)"
   ]
  },
  {
   "cell_type": "markdown",
   "metadata": {},
   "source": [
    "#### a. Find all solutions"
   ]
  },
  {
   "cell_type": "code",
   "execution_count": 10,
   "metadata": {},
   "outputs": [
    {
     "name": "stdout",
     "output_type": "stream",
     "text": [
      "Found 724 solutions\n"
     ]
    }
   ],
   "source": [
    "def solution3(nqueen):\n",
    "    solns = []\n",
    "    complete = pow(2, nqueen) - 1\n",
    "    queue = [q for q in successors(Queens(0, 0, 0, ()), nqueen)]\n",
    "    while queue:\n",
    "        q = queue.pop()       \n",
    "        if q.col == complete:\n",
    "            solns.append(q.loc)\n",
    "        else:\n",
    "            for newq in successors(q, nqueen):\n",
    "                queue.append(newq)\n",
    "    return solns\n",
    "              \n",
    "solns = solution3(NQUEEN)\n",
    "print(\"Found {} solutions\".format(len(solns)))"
   ]
  },
  {
   "cell_type": "code",
   "execution_count": 11,
   "metadata": {},
   "outputs": [
    {
     "name": "stdout",
     "output_type": "stream",
     "text": [
      "exp(a): 4.492428\n",
      "b: -16.631245959097228\n",
      " 6: 0.000649  pred: 0.000492\n",
      " 7: 0.002254  pred: 0.002211\n",
      " 8: 0.008735  pred: 0.009931\n",
      " 9: 0.038000  pred: 0.044614\n",
      "10: 0.166367  pred: 0.200425\n",
      "11: 0.794567  pred: 0.900397\n",
      "12: 4.221937  pred: 4.044969\n",
      "13: 23.607198  pred: 18.171731\n"
     ]
    }
   ],
   "source": [
    "time3 = timings(solution3)\n",
    "n, y = zip(*time3)\n",
    "pred3 = expfit(n, y)"
   ]
  },
  {
   "cell_type": "markdown",
   "metadata": {},
   "source": [
    "#### b. Just count the number of solutions"
   ]
  },
  {
   "cell_type": "code",
   "execution_count": 12,
   "metadata": {},
   "outputs": [
    {
     "name": "stdout",
     "output_type": "stream",
     "text": [
      "Found 724 solutions\n"
     ]
    }
   ],
   "source": [
    "Queens2 = namedtuple('Queens', ['col', 'rd', 'ld'])\n",
    "Queens2.__repr__ = lambda q: \"{}, {}, {}\".format(bits(q.col), bits(q.rd), bits(q.ld))\n",
    "\n",
    "def successors2(state, nqueen):\n",
    "    col = nqueen - 1\n",
    "    newq = 1 << col\n",
    "    excl = state.col | state.ld | state.rd\n",
    "    while newq:\n",
    "        if not (newq & excl):\n",
    "            yield Queens2(state.col | newq, (state.rd | newq) >> 1, (state.ld | newq) << 1)\n",
    "        col -= 1\n",
    "        newq = newq >> 1\n",
    "        \n",
    "def solution3b(nqueen):\n",
    "    count = 0\n",
    "    complete = pow(2, nqueen) - 1\n",
    "    queue = [q for q in successors2(Queens2(0, 0, 0), nqueen)]\n",
    "    while queue:\n",
    "        q = queue.pop()       \n",
    "        if q.col == complete:\n",
    "            count += 1\n",
    "        else:\n",
    "            for newq in successors2(q, nqueen):\n",
    "                queue.append(newq)\n",
    "    return count\n",
    "              \n",
    "nsolns = solution3b(NQUEEN)\n",
    "print(\"Found {} solutions\".format(nsolns))"
   ]
  },
  {
   "cell_type": "code",
   "execution_count": 13,
   "metadata": {},
   "outputs": [
    {
     "name": "stdout",
     "output_type": "stream",
     "text": [
      "exp(a): 4.517612\n",
      "b: -16.761267086815444\n",
      " 6: 0.000576  pred: 0.000447\n",
      " 7: 0.001985  pred: 0.002019\n",
      " 8: 0.008686  pred: 0.009119\n",
      " 9: 0.036272  pred: 0.041196\n",
      "10: 0.148847  pred: 0.186107\n",
      "11: 0.722061  pred: 0.840761\n",
      "12: 4.014271  pred: 3.798233\n",
      "13: 22.249151  pred: 17.158946\n"
     ]
    },
    {
     "data": {
      "text/plain": [
       "[(6, 0.0005755180027335882, 0.0004468151814363395),\n",
       " (7, 0.0019850459648296237, 0.0020185377464546103),\n",
       " (8, 0.008686258108355105, 0.009118970892537997),\n",
       " (9, 0.03627238096669316, 0.04119597480156664),\n",
       " (10, 0.14884748705662787, 0.18610744127279155),\n",
       " (11, 0.7220614129910246, 0.8407612603886834),\n",
       " (12, 4.014271337073296, 3.7982333867792075),\n",
       " (13, 22.24915105907712, 17.15894575562967)]"
      ]
     },
     "execution_count": 13,
     "metadata": {},
     "output_type": "execute_result"
    }
   ],
   "source": [
    "time3b = timings(solution3b)\n",
    "n, y = zip(*time3b)\n",
    "expfit(n, y)"
   ]
  },
  {
   "cell_type": "markdown",
   "metadata": {},
   "source": [
    "#### c. Replace namedtuples with simple tuples"
   ]
  },
  {
   "cell_type": "code",
   "execution_count": 14,
   "metadata": {},
   "outputs": [
    {
     "name": "stdout",
     "output_type": "stream",
     "text": [
      "Found 724 solutions\n"
     ]
    }
   ],
   "source": [
    "def successors3(col, rd, ld, nqueen):\n",
    "    newq = 1 << (nqueen - 1)\n",
    "    excl = col | rd | ld\n",
    "    while newq:\n",
    "        if not (newq & excl):\n",
    "            yield (col | newq, (rd | newq) >> 1, (ld | newq) << 1)\n",
    "        newq = newq >> 1\n",
    "        \n",
    "def solution3c(nqueen):\n",
    "    count = 0\n",
    "    done = (1 << nqueen) - 1\n",
    "    queue = list(successors3(0, 0, 0, nqueen))\n",
    "    while queue:\n",
    "        col, rd, ld = queue.pop()       \n",
    "        if col == done:\n",
    "            count += 1\n",
    "        else:\n",
    "            queue.extend(successors3(col, rd, ld, nqueen))\n",
    "    return count\n",
    "              \n",
    "nsolns = solution3c(NQUEEN)\n",
    "print(\"Found {} solutions\".format(nsolns))"
   ]
  },
  {
   "cell_type": "code",
   "execution_count": 15,
   "metadata": {},
   "outputs": [
    {
     "name": "stdout",
     "output_type": "stream",
     "text": [
      "exp(a): 4.712238\n",
      "b: -17.563875686708332\n",
      " 6: 0.000354  pred: 0.000258\n",
      " 7: 0.001322  pred: 0.001215\n",
      " 8: 0.005022  pred: 0.005727\n",
      " 9: 0.021716  pred: 0.026987\n",
      "10: 0.101157  pred: 0.127168\n",
      "11: 0.580952  pred: 0.599246\n",
      "12: 2.452625  pred: 2.823788\n",
      "13: 13.912637  pred: 13.306360\n",
      "14: 85.006437  pred: 62.702731\n"
     ]
    }
   ],
   "source": [
    "time3c = timings(solution3c)\n",
    "n, y = zip(*time3c)\n",
    "pred3c = expfit(n, y)"
   ]
  },
  {
   "cell_type": "markdown",
   "metadata": {},
   "source": [
    "### 4. Replace iterative search with a recursive search"
   ]
  },
  {
   "cell_type": "code",
   "execution_count": 16,
   "metadata": {},
   "outputs": [
    {
     "name": "stdout",
     "output_type": "stream",
     "text": [
      "Found 724 solutions\n"
     ]
    }
   ],
   "source": [
    "def solution4(nqueen):\n",
    "    done = (1 << nqueen) - 1\n",
    "\n",
    "    def count4(level, col, rd, ld):\n",
    "        excl = (col | rd | ld) & done\n",
    "        if excl == done:\n",
    "            return 0\n",
    "        elif level+1 == nqueen:\n",
    "            return 1\n",
    "        \n",
    "        count = 0\n",
    "        newq = 1 << (nqueen - 1)\n",
    "        while newq:\n",
    "            if (newq & excl) == 0:\n",
    "                    count += count4(level+1, col | newq, (rd | newq) >> 1, (ld | newq) << 1)\n",
    "            newq = newq >> 1\n",
    "        return count\n",
    "        \n",
    "    return count4(0, 0, 0, 0)\n",
    "\n",
    "              \n",
    "nsolns = solution4(NQUEEN)\n",
    "print(\"Found {} solutions\".format(nsolns))"
   ]
  },
  {
   "cell_type": "code",
   "execution_count": 17,
   "metadata": {},
   "outputs": [
    {
     "name": "stdout",
     "output_type": "stream",
     "text": [
      "exp(a): 4.721219\n",
      "b: -18.069168028834724\n",
      " 6: 0.000226  pred: 0.000157\n",
      " 7: 0.000773  pred: 0.000743\n",
      " 8: 0.003179  pred: 0.003508\n",
      " 9: 0.014298  pred: 0.016563\n",
      "10: 0.060618  pred: 0.078199\n",
      "11: 0.291841  pred: 0.369195\n",
      "12: 1.568045  pred: 1.743048\n",
      "13: 9.019769  pred: 8.229313\n",
      "14: 55.034934  pred: 38.852386\n"
     ]
    }
   ],
   "source": [
    "time4 = timings(solution4)\n",
    "n, y = zip(*time4)\n",
    "pred4 = expfit(n, y)"
   ]
  },
  {
   "cell_type": "markdown",
   "metadata": {},
   "source": [
    "### Plot timings for the different solutions"
   ]
  },
  {
   "cell_type": "code",
   "execution_count": 18,
   "metadata": {},
   "outputs": [
    {
     "data": {
      "text/html": [
       "\n",
       "<div class=\"bk-root\">\n",
       "    <div class=\"bk-plotdiv\" id=\"c626b78d-3f69-4f3d-9258-b493fec77ed7\"></div>\n",
       "</div>"
      ]
     },
     "metadata": {},
     "output_type": "display_data"
    },
    {
     "data": {
      "application/javascript": [
       "(function(root) {\n",
       "  function embed_document(root) {\n",
       "    \n",
       "  var docs_json = {\"8d9ec970-2449-4fa5-b31c-e447e98d8778\":{\"roots\":{\"references\":[{\"attributes\":{\"line_alpha\":0.1,\"line_color\":\"#1f77b4\",\"x\":{\"field\":\"x\"},\"y\":{\"field\":\"y\"}},\"id\":\"7cafa0d8-21f1-4300-ad57-2f60852db02a\",\"type\":\"Line\"},{\"attributes\":{\"label\":{\"value\":\"soln2 (pred)\"},\"renderers\":[{\"id\":\"ee72ef9c-03f5-4a68-b805-6746aacaa91c\",\"type\":\"GlyphRenderer\"}]},\"id\":\"84435b37-8ad0-492d-b3fe-9b9b53091064\",\"type\":\"LegendItem\"},{\"attributes\":{\"line_color\":\"#2ca02c\",\"line_width\":2,\"x\":{\"field\":\"x\"},\"y\":{\"field\":\"y\"}},\"id\":\"ea5707c5-5354-42c0-995e-53a3159dfc56\",\"type\":\"Line\"},{\"attributes\":{\"dimension\":1,\"plot\":{\"id\":\"62a14c3e-b405-4db2-9d24-0f67b2d012fd\",\"subtype\":\"Figure\",\"type\":\"Plot\"},\"ticker\":{\"id\":\"8592c4df-c868-42ed-a89f-8f464978abf9\",\"type\":\"LogTicker\"}},\"id\":\"eb53f5f2-656c-422d-9b6b-80dfec2a0872\",\"type\":\"Grid\"},{\"attributes\":{\"source\":{\"id\":\"5a4cd82c-aadd-4573-bb8e-de5764ea38a7\",\"type\":\"ColumnDataSource\"}},\"id\":\"d660d39b-04b3-4dac-bcc6-e148be596b54\",\"type\":\"CDSView\"},{\"attributes\":{\"axis_label\":\"N\",\"formatter\":{\"id\":\"03cef8d5-e1f7-437f-8b0a-cb7eafc3a2c5\",\"type\":\"BasicTickFormatter\"},\"plot\":{\"id\":\"62a14c3e-b405-4db2-9d24-0f67b2d012fd\",\"subtype\":\"Figure\",\"type\":\"Plot\"},\"ticker\":{\"id\":\"f979b68d-ae15-4144-88cc-211fd8b3032d\",\"type\":\"BasicTicker\"}},\"id\":\"95e3ecf6-6b84-4acf-b0e4-ef3d8251b41c\",\"type\":\"LinearAxis\"},{\"attributes\":{\"source\":{\"id\":\"a6966580-9da1-4e38-998a-438e14b9ed00\",\"type\":\"ColumnDataSource\"}},\"id\":\"4804e6ac-1216-40aa-9f3f-ac677244dd52\",\"type\":\"CDSView\"},{\"attributes\":{},\"id\":\"2ffee2b7-54b3-4002-bee4-257fd1968043\",\"type\":\"SaveTool\"},{\"attributes\":{},\"id\":\"4025f1e4-da32-4df7-af01-66991ca5bd56\",\"type\":\"HelpTool\"},{\"attributes\":{\"source\":{\"id\":\"35686b51-994e-42db-b375-4ef588394a67\",\"type\":\"ColumnDataSource\"}},\"id\":\"2ee15f3f-a75d-4146-9ced-446339fbec46\",\"type\":\"CDSView\"},{\"attributes\":{\"line_color\":\"#ffbb78\",\"x\":{\"field\":\"x\"},\"y\":{\"field\":\"y\"}},\"id\":\"e62bc285-b311-47e2-afec-aff6fa1bba2f\",\"type\":\"Line\"},{\"attributes\":{\"below\":[{\"id\":\"95e3ecf6-6b84-4acf-b0e4-ef3d8251b41c\",\"type\":\"LinearAxis\"}],\"left\":[{\"id\":\"d4909e00-727f-4d69-92cc-f5c7feab029c\",\"type\":\"LogAxis\"}],\"renderers\":[{\"id\":\"95e3ecf6-6b84-4acf-b0e4-ef3d8251b41c\",\"type\":\"LinearAxis\"},{\"id\":\"a1347b5d-a0a1-4c25-84e2-a90b9b4dc4e7\",\"type\":\"Grid\"},{\"id\":\"d4909e00-727f-4d69-92cc-f5c7feab029c\",\"type\":\"LogAxis\"},{\"id\":\"eb53f5f2-656c-422d-9b6b-80dfec2a0872\",\"type\":\"Grid\"},{\"id\":\"7a906c4b-04ad-4968-b1e1-2b5188924946\",\"type\":\"BoxAnnotation\"},{\"id\":\"a5a319d7-e458-4578-a276-6cdfe55be639\",\"type\":\"Legend\"},{\"id\":\"e4dbe1fe-24c5-4136-8315-f33cb3c7081f\",\"type\":\"GlyphRenderer\"},{\"id\":\"eb8990b7-c916-4d04-b6d1-054838a54285\",\"type\":\"GlyphRenderer\"},{\"id\":\"cb5e2e2e-4f40-4916-bb39-b5228f3b189e\",\"type\":\"GlyphRenderer\"},{\"id\":\"ee72ef9c-03f5-4a68-b805-6746aacaa91c\",\"type\":\"GlyphRenderer\"},{\"id\":\"aa358168-4830-440d-a228-abeabd58124f\",\"type\":\"GlyphRenderer\"},{\"id\":\"5b1a14ba-797f-43fa-9b41-1ed18cb3428d\",\"type\":\"GlyphRenderer\"},{\"id\":\"d5f2332b-798c-4712-b949-90e967d1c60d\",\"type\":\"GlyphRenderer\"},{\"id\":\"d6d29b12-5d41-47ea-80c1-37763ab692c8\",\"type\":\"GlyphRenderer\"},{\"id\":\"5003b11d-f3b8-4bc4-9faa-84de101d24d0\",\"type\":\"GlyphRenderer\"},{\"id\":\"35fec1ab-d168-435f-8e5f-37a695e892b1\",\"type\":\"GlyphRenderer\"},{\"id\":\"2ee9a603-b42e-40b9-a1aa-cd533a5a5259\",\"type\":\"GlyphRenderer\"},{\"id\":\"c5ad1b4e-2db7-4c18-8072-2cc944b1cbea\",\"type\":\"GlyphRenderer\"}],\"title\":{\"id\":\"15c2f1ae-878d-4d60-8ae7-c2379b687ee0\",\"type\":\"Title\"},\"toolbar\":{\"id\":\"19b7199b-5cad-448a-918d-f85e3f77ac40\",\"type\":\"Toolbar\"},\"x_range\":{\"id\":\"c26efa66-1b4c-49b5-9309-38803c461126\",\"type\":\"DataRange1d\"},\"x_scale\":{\"id\":\"33c603dd-9ade-44f0-aead-39040f506576\",\"type\":\"LinearScale\"},\"y_range\":{\"id\":\"5039bba7-8c44-477a-8b7f-80c40f5ed45c\",\"type\":\"DataRange1d\"},\"y_scale\":{\"id\":\"0ae73cf3-bb2b-4a02-be6c-bfbe5b6ebc00\",\"type\":\"LogScale\"}},\"id\":\"62a14c3e-b405-4db2-9d24-0f67b2d012fd\",\"subtype\":\"Figure\",\"type\":\"Plot\"},{\"attributes\":{\"label\":{\"value\":\"soln3\"},\"renderers\":[{\"id\":\"d5f2332b-798c-4712-b949-90e967d1c60d\",\"type\":\"GlyphRenderer\"}]},\"id\":\"779dd333-348f-4620-bcb7-b1337ef01881\",\"type\":\"LegendItem\"},{\"attributes\":{\"label\":{\"value\":\"soln2b (pred)\"},\"renderers\":[{\"id\":\"5b1a14ba-797f-43fa-9b41-1ed18cb3428d\",\"type\":\"GlyphRenderer\"}]},\"id\":\"0d4835b4-cc03-4ea0-be70-35dc46d256a5\",\"type\":\"LegendItem\"},{\"attributes\":{\"line_color\":\"#1f77b4\",\"line_width\":2,\"x\":{\"field\":\"x\"},\"y\":{\"field\":\"y\"}},\"id\":\"7862c9ad-a538-4ddf-9395-9855cfa5d2a2\",\"type\":\"Line\"},{\"attributes\":{\"callback\":null,\"column_names\":[\"x\",\"y\"],\"data\":{\"x\":[6,7,8,9,10,11,12,13,14],\"y\":[0.0001573927581192994,0.0007430856333547205,0.0035082697901491233,0.016563308948536255,0.0781990039919364,0.3691946002052508,1.743048451547666,8.22931294973882,38.85238621141526]}},\"id\":\"5a5490b0-1a2b-4c48-8670-50138572a5a5\",\"type\":\"ColumnDataSource\"},{\"attributes\":{},\"id\":\"51d87d1e-0f32-42af-a0f2-6dd9f881bd6c\",\"type\":\"PanTool\"},{\"attributes\":{},\"id\":\"0ae73cf3-bb2b-4a02-be6c-bfbe5b6ebc00\",\"type\":\"LogScale\"},{\"attributes\":{\"ticker\":null},\"id\":\"9643c006-98eb-4406-b95c-fa962f9ee825\",\"type\":\"LogTickFormatter\"},{\"attributes\":{\"label\":{\"value\":\"soln2b\"},\"renderers\":[{\"id\":\"aa358168-4830-440d-a228-abeabd58124f\",\"type\":\"GlyphRenderer\"}]},\"id\":\"76dd0316-d1fc-47dc-bf9d-7219652e3355\",\"type\":\"LegendItem\"},{\"attributes\":{\"data_source\":{\"id\":\"29674322-15eb-425e-a9ce-7af086c742d6\",\"type\":\"ColumnDataSource\"},\"glyph\":{\"id\":\"7862c9ad-a538-4ddf-9395-9855cfa5d2a2\",\"type\":\"Line\"},\"hover_glyph\":null,\"muted_glyph\":null,\"nonselection_glyph\":{\"id\":\"29fe13ec-5782-4e66-bfbe-a87326e85cc4\",\"type\":\"Line\"},\"selection_glyph\":null,\"view\":{\"id\":\"09f7a01c-766f-4820-8063-9d0ee2c55512\",\"type\":\"CDSView\"}},\"id\":\"e4dbe1fe-24c5-4136-8315-f33cb3c7081f\",\"type\":\"GlyphRenderer\"},{\"attributes\":{},\"id\":\"03cef8d5-e1f7-437f-8b0a-cb7eafc3a2c5\",\"type\":\"BasicTickFormatter\"},{\"attributes\":{\"line_alpha\":0.1,\"line_color\":\"#1f77b4\",\"x\":{\"field\":\"x\"},\"y\":{\"field\":\"y\"}},\"id\":\"62fbc946-d993-43dc-b81a-5379820cfbf3\",\"type\":\"Line\"},{\"attributes\":{\"callback\":null,\"column_names\":[\"x\",\"y\"],\"data\":{\"x\":[6,7,8,9,10,11,12,13],\"y\":[0.0008956440724432468,0.0037983449874445796,0.016834946000017226,0.0843295999802649,0.40600611292757094,1.8767515739891678,10.62508240994066,63.5695845449809]}},\"id\":\"a6966580-9da1-4e38-998a-438e14b9ed00\",\"type\":\"ColumnDataSource\"},{\"attributes\":{\"plot\":{\"id\":\"62a14c3e-b405-4db2-9d24-0f67b2d012fd\",\"subtype\":\"Figure\",\"type\":\"Plot\"},\"ticker\":{\"id\":\"f979b68d-ae15-4144-88cc-211fd8b3032d\",\"type\":\"BasicTicker\"}},\"id\":\"a1347b5d-a0a1-4c25-84e2-a90b9b4dc4e7\",\"type\":\"Grid\"},{\"attributes\":{\"items\":[{\"id\":\"be4ffe52-fdea-490a-a9c6-e32115c53e90\",\"type\":\"LegendItem\"},{\"id\":\"29fe5e5b-822e-4d88-8392-8ce4c0d4a3a8\",\"type\":\"LegendItem\"},{\"id\":\"2571cddf-96a6-486b-a07d-ffc88fd6bd1e\",\"type\":\"LegendItem\"},{\"id\":\"84435b37-8ad0-492d-b3fe-9b9b53091064\",\"type\":\"LegendItem\"},{\"id\":\"76dd0316-d1fc-47dc-bf9d-7219652e3355\",\"type\":\"LegendItem\"},{\"id\":\"0d4835b4-cc03-4ea0-be70-35dc46d256a5\",\"type\":\"LegendItem\"},{\"id\":\"779dd333-348f-4620-bcb7-b1337ef01881\",\"type\":\"LegendItem\"},{\"id\":\"1b961507-2388-4e22-bb05-634674afe953\",\"type\":\"LegendItem\"},{\"id\":\"c87a7be0-0e4b-4d25-84cb-97b9cd052304\",\"type\":\"LegendItem\"},{\"id\":\"928da02c-552e-46d7-876f-d0ed4a486285\",\"type\":\"LegendItem\"},{\"id\":\"fe0f1d4b-427b-4095-a8b6-06084b92195e\",\"type\":\"LegendItem\"},{\"id\":\"ce0e353b-b0cc-4915-9bcf-b1e47b76e674\",\"type\":\"LegendItem\"}],\"plot\":{\"id\":\"62a14c3e-b405-4db2-9d24-0f67b2d012fd\",\"subtype\":\"Figure\",\"type\":\"Plot\"}},\"id\":\"a5a319d7-e458-4578-a276-6cdfe55be639\",\"type\":\"Legend\"},{\"attributes\":{\"label\":{\"value\":\"soln3c (pred)\"},\"renderers\":[{\"id\":\"35fec1ab-d168-435f-8e5f-37a695e892b1\",\"type\":\"GlyphRenderer\"}]},\"id\":\"928da02c-552e-46d7-876f-d0ed4a486285\",\"type\":\"LegendItem\"},{\"attributes\":{\"data_source\":{\"id\":\"abf925b2-e789-4551-9602-1663dd3a55b4\",\"type\":\"ColumnDataSource\"},\"glyph\":{\"id\":\"77a90455-c066-4700-a8b6-0b38ea45d144\",\"type\":\"Line\"},\"hover_glyph\":null,\"muted_glyph\":null,\"nonselection_glyph\":{\"id\":\"e63301e9-9d76-458b-8f0d-51f53a29c518\",\"type\":\"Line\"},\"selection_glyph\":null,\"view\":{\"id\":\"f85a6d70-3fe7-4005-9177-a660a541ad50\",\"type\":\"CDSView\"}},\"id\":\"cb5e2e2e-4f40-4916-bb39-b5228f3b189e\",\"type\":\"GlyphRenderer\"},{\"attributes\":{\"label\":{\"value\":\"soln1\"},\"renderers\":[{\"id\":\"e4dbe1fe-24c5-4136-8315-f33cb3c7081f\",\"type\":\"GlyphRenderer\"}]},\"id\":\"be4ffe52-fdea-490a-a9c6-e32115c53e90\",\"type\":\"LegendItem\"},{\"attributes\":{\"label\":{\"value\":\"soln2\"},\"renderers\":[{\"id\":\"cb5e2e2e-4f40-4916-bb39-b5228f3b189e\",\"type\":\"GlyphRenderer\"}]},\"id\":\"2571cddf-96a6-486b-a07d-ffc88fd6bd1e\",\"type\":\"LegendItem\"},{\"attributes\":{\"line_color\":\"#d62728\",\"line_width\":2,\"x\":{\"field\":\"x\"},\"y\":{\"field\":\"y\"}},\"id\":\"447120f8-51ec-40ff-ac24-4b9b91c4e3f6\",\"type\":\"Line\"},{\"attributes\":{\"source\":{\"id\":\"08152206-d615-4b5d-866a-6b779ab42184\",\"type\":\"ColumnDataSource\"}},\"id\":\"a8c756cd-55da-4018-a990-8a94fbe4e344\",\"type\":\"CDSView\"},{\"attributes\":{\"callback\":null,\"column_names\":[\"x\",\"y\"],\"data\":{\"x\":[6,7,8,9,10,11,12,13],\"y\":[0.0004920717215569737,0.00221059678195992,0.009930946889102545,0.04461406391206972,0.2004254700963476,0.9003969946004953,4.044968673372109,18.17173054406008]}},\"id\":\"02499b63-6aaa-400f-a4b4-fc13ff965763\",\"type\":\"ColumnDataSource\"},{\"attributes\":{\"line_alpha\":0.1,\"line_color\":\"#1f77b4\",\"line_width\":2,\"x\":{\"field\":\"x\"},\"y\":{\"field\":\"y\"}},\"id\":\"1119fd2b-025f-4ad0-b7df-2a72933b57aa\",\"type\":\"Line\"},{\"attributes\":{\"axis_label\":\"time (sec)\",\"formatter\":{\"id\":\"9643c006-98eb-4406-b95c-fa962f9ee825\",\"type\":\"LogTickFormatter\"},\"plot\":{\"id\":\"62a14c3e-b405-4db2-9d24-0f67b2d012fd\",\"subtype\":\"Figure\",\"type\":\"Plot\"},\"ticker\":{\"id\":\"8592c4df-c868-42ed-a89f-8f464978abf9\",\"type\":\"LogTicker\"}},\"id\":\"d4909e00-727f-4d69-92cc-f5c7feab029c\",\"type\":\"LogAxis\"},{\"attributes\":{},\"id\":\"f979b68d-ae15-4144-88cc-211fd8b3032d\",\"type\":\"BasicTicker\"},{\"attributes\":{\"line_color\":\"#ff7f0e\",\"line_width\":2,\"x\":{\"field\":\"x\"},\"y\":{\"field\":\"y\"}},\"id\":\"77a90455-c066-4700-a8b6-0b38ea45d144\",\"type\":\"Line\"},{\"attributes\":{\"callback\":null},\"id\":\"c26efa66-1b4c-49b5-9309-38803c461126\",\"type\":\"DataRange1d\"},{\"attributes\":{\"line_alpha\":0.1,\"line_color\":\"#1f77b4\",\"x\":{\"field\":\"x\"},\"y\":{\"field\":\"y\"}},\"id\":\"338b8de4-c4ba-4cc9-8fd5-0192a07d37aa\",\"type\":\"Line\"},{\"attributes\":{\"label\":{\"value\":\"soln4 (pred)\"},\"renderers\":[{\"id\":\"c5ad1b4e-2db7-4c18-8072-2cc944b1cbea\",\"type\":\"GlyphRenderer\"}]},\"id\":\"ce0e353b-b0cc-4915-9bcf-b1e47b76e674\",\"type\":\"LegendItem\"},{\"attributes\":{\"source\":{\"id\":\"29674322-15eb-425e-a9ce-7af086c742d6\",\"type\":\"ColumnDataSource\"}},\"id\":\"09f7a01c-766f-4820-8063-9d0ee2c55512\",\"type\":\"CDSView\"},{\"attributes\":{\"line_color\":\"#c49c94\",\"x\":{\"field\":\"x\"},\"y\":{\"field\":\"y\"}},\"id\":\"4c5254fc-84b8-4301-8ea8-c39d7f738579\",\"type\":\"Line\"},{\"attributes\":{\"line_color\":\"#ff9896\",\"x\":{\"field\":\"x\"},\"y\":{\"field\":\"y\"}},\"id\":\"629d2121-3e1d-44b6-a136-126a792c80e7\",\"type\":\"Line\"},{\"attributes\":{\"source\":{\"id\":\"abf925b2-e789-4551-9602-1663dd3a55b4\",\"type\":\"ColumnDataSource\"}},\"id\":\"f85a6d70-3fe7-4005-9177-a660a541ad50\",\"type\":\"CDSView\"},{\"attributes\":{\"line_alpha\":0.1,\"line_color\":\"#1f77b4\",\"line_width\":2,\"x\":{\"field\":\"x\"},\"y\":{\"field\":\"y\"}},\"id\":\"29fe13ec-5782-4e66-bfbe-a87326e85cc4\",\"type\":\"Line\"},{\"attributes\":{\"callback\":null,\"column_names\":[\"x\",\"y\"],\"data\":{\"x\":[6,7,8,9,10,11,12,13],\"y\":[0.0006485430058091879,0.00225394603330642,0.008735356037504971,0.03799991693813354,0.1663666949607432,0.7945673218928277,4.221936617046595,23.607197558972985]}},\"id\":\"08152206-d615-4b5d-866a-6b779ab42184\",\"type\":\"ColumnDataSource\"},{\"attributes\":{\"callback\":null,\"column_names\":[\"x\",\"y\"],\"data\":{\"x\":[6,7,8,9,10,11],\"y\":[0.0021853770595043898,0.013700640993192792,0.111954623949714,1.089616172015667,11.465833235997707,131.1923401519889]}},\"id\":\"29674322-15eb-425e-a9ce-7af086c742d6\",\"type\":\"ColumnDataSource\"},{\"attributes\":{\"line_color\":\"#9467bd\",\"line_width\":2,\"x\":{\"field\":\"x\"},\"y\":{\"field\":\"y\"}},\"id\":\"c67fa676-02db-42b0-aa0d-76db10925468\",\"type\":\"Line\"},{\"attributes\":{\"data_source\":{\"id\":\"5a5490b0-1a2b-4c48-8670-50138572a5a5\",\"type\":\"ColumnDataSource\"},\"glyph\":{\"id\":\"4c5254fc-84b8-4301-8ea8-c39d7f738579\",\"type\":\"Line\"},\"hover_glyph\":null,\"muted_glyph\":null,\"nonselection_glyph\":{\"id\":\"01df0ab9-2c74-4e71-a1fc-4f4413e45578\",\"type\":\"Line\"},\"selection_glyph\":null,\"view\":{\"id\":\"63b18fe2-04c3-4f88-9c08-4ca2747dddb3\",\"type\":\"CDSView\"}},\"id\":\"c5ad1b4e-2db7-4c18-8072-2cc944b1cbea\",\"type\":\"GlyphRenderer\"},{\"attributes\":{\"num_minor_ticks\":10},\"id\":\"8592c4df-c868-42ed-a89f-8f464978abf9\",\"type\":\"LogTicker\"},{\"attributes\":{\"line_alpha\":0.1,\"line_color\":\"#1f77b4\",\"x\":{\"field\":\"x\"},\"y\":{\"field\":\"y\"}},\"id\":\"168efc44-94b4-417f-a231-18f962925cd1\",\"type\":\"Line\"},{\"attributes\":{\"line_alpha\":0.1,\"line_color\":\"#1f77b4\",\"line_width\":2,\"x\":{\"field\":\"x\"},\"y\":{\"field\":\"y\"}},\"id\":\"e63301e9-9d76-458b-8f0d-51f53a29c518\",\"type\":\"Line\"},{\"attributes\":{\"source\":{\"id\":\"02499b63-6aaa-400f-a4b4-fc13ff965763\",\"type\":\"ColumnDataSource\"}},\"id\":\"5b98b6ff-d952-42bd-bbd5-c2b3b59d5374\",\"type\":\"CDSView\"},{\"attributes\":{\"callback\":null,\"column_names\":[\"x\",\"y\"],\"data\":{\"x\":[6,7,8,9,10,11,12],\"y\":[0.0014477099757641554,0.0071824860060587525,0.03388535405974835,0.1705469370353967,0.9117724309908226,5.250575556070544,32.98627435299568]}},\"id\":\"abf925b2-e789-4551-9602-1663dd3a55b4\",\"type\":\"ColumnDataSource\"},{\"attributes\":{\"line_alpha\":0.1,\"line_color\":\"#1f77b4\",\"line_width\":2,\"x\":{\"field\":\"x\"},\"y\":{\"field\":\"y\"}},\"id\":\"c9f3d6ea-0098-4cce-b00a-42d3a5cec7af\",\"type\":\"Line\"},{\"attributes\":{\"active_drag\":\"auto\",\"active_inspect\":\"auto\",\"active_scroll\":\"auto\",\"active_tap\":\"auto\",\"tools\":[{\"id\":\"51d87d1e-0f32-42af-a0f2-6dd9f881bd6c\",\"type\":\"PanTool\"},{\"id\":\"f0cc0940-1102-441b-898a-1e7957623cc8\",\"type\":\"WheelZoomTool\"},{\"id\":\"5055f91e-71de-4b25-9ae2-7d31e095658b\",\"type\":\"BoxZoomTool\"},{\"id\":\"2ffee2b7-54b3-4002-bee4-257fd1968043\",\"type\":\"SaveTool\"},{\"id\":\"dde8b600-64d1-4622-a883-376e085edf9b\",\"type\":\"ResetTool\"},{\"id\":\"4025f1e4-da32-4df7-af01-66991ca5bd56\",\"type\":\"HelpTool\"}]},\"id\":\"19b7199b-5cad-448a-918d-f85e3f77ac40\",\"type\":\"Toolbar\"},{\"attributes\":{\"callback\":null},\"id\":\"5039bba7-8c44-477a-8b7f-80c40f5ed45c\",\"type\":\"DataRange1d\"},{\"attributes\":{\"callback\":null,\"column_names\":[\"x\",\"y\"],\"data\":{\"x\":[6,7,8,9,10,11,12,13],\"y\":[0.0007622766926142604,0.0037391668003483917,0.018341592359170697,0.08997031377114388,0.4413279502436874,2.1648291697829283,10.619053997725038,52.08924074960946]}},\"id\":\"6c5dd5a3-6ef5-4f5d-ac64-34e311b81b95\",\"type\":\"ColumnDataSource\"},{\"attributes\":{},\"id\":\"33c603dd-9ade-44f0-aead-39040f506576\",\"type\":\"LinearScale\"},{\"attributes\":{\"data_source\":{\"id\":\"5a4cd82c-aadd-4573-bb8e-de5764ea38a7\",\"type\":\"ColumnDataSource\"},\"glyph\":{\"id\":\"5a124a8c-0886-457a-8c67-1118616d67e8\",\"type\":\"Line\"},\"hover_glyph\":null,\"muted_glyph\":null,\"nonselection_glyph\":{\"id\":\"7cafa0d8-21f1-4300-ad57-2f60852db02a\",\"type\":\"Line\"},\"selection_glyph\":null,\"view\":{\"id\":\"d660d39b-04b3-4dac-bcc6-e148be596b54\",\"type\":\"CDSView\"}},\"id\":\"eb8990b7-c916-4d04-b6d1-054838a54285\",\"type\":\"GlyphRenderer\"},{\"attributes\":{\"callback\":null,\"column_names\":[\"x\",\"y\"],\"data\":{\"x\":[6,7,8,9,10,11,12,13,14],\"y\":[0.00025791041856828786,0.0012153352166477279,0.005726948515781269,0.026986743124975995,0.12716795034678,0.5992456192475611,2.8237878428343084,13.306359738350745,62.70273099153328]}},\"id\":\"35686b51-994e-42db-b375-4ef588394a67\",\"type\":\"ColumnDataSource\"},{\"attributes\":{\"data_source\":{\"id\":\"35686b51-994e-42db-b375-4ef588394a67\",\"type\":\"ColumnDataSource\"},\"glyph\":{\"id\":\"1ed82d29-0fd1-48eb-80ca-728f2138e676\",\"type\":\"Line\"},\"hover_glyph\":null,\"muted_glyph\":null,\"nonselection_glyph\":{\"id\":\"168efc44-94b4-417f-a231-18f962925cd1\",\"type\":\"Line\"},\"selection_glyph\":null,\"view\":{\"id\":\"2ee15f3f-a75d-4146-9ced-446339fbec46\",\"type\":\"CDSView\"}},\"id\":\"35fec1ab-d168-435f-8e5f-37a695e892b1\",\"type\":\"GlyphRenderer\"},{\"attributes\":{\"plot\":null,\"text\":\"Timings\"},\"id\":\"15c2f1ae-878d-4d60-8ae7-c2379b687ee0\",\"type\":\"Title\"},{\"attributes\":{\"line_color\":\"#aec7e8\",\"x\":{\"field\":\"x\"},\"y\":{\"field\":\"y\"}},\"id\":\"5a124a8c-0886-457a-8c67-1118616d67e8\",\"type\":\"Line\"},{\"attributes\":{\"data_source\":{\"id\":\"08152206-d615-4b5d-866a-6b779ab42184\",\"type\":\"ColumnDataSource\"},\"glyph\":{\"id\":\"447120f8-51ec-40ff-ac24-4b9b91c4e3f6\",\"type\":\"Line\"},\"hover_glyph\":null,\"muted_glyph\":null,\"nonselection_glyph\":{\"id\":\"39a08a97-3a1e-4e24-b350-aec0d8eb683b\",\"type\":\"Line\"},\"selection_glyph\":null,\"view\":{\"id\":\"a8c756cd-55da-4018-a990-8a94fbe4e344\",\"type\":\"CDSView\"}},\"id\":\"d5f2332b-798c-4712-b949-90e967d1c60d\",\"type\":\"GlyphRenderer\"},{\"attributes\":{},\"id\":\"f0cc0940-1102-441b-898a-1e7957623cc8\",\"type\":\"WheelZoomTool\"},{\"attributes\":{\"line_alpha\":0.1,\"line_color\":\"#1f77b4\",\"line_width\":2,\"x\":{\"field\":\"x\"},\"y\":{\"field\":\"y\"}},\"id\":\"39a08a97-3a1e-4e24-b350-aec0d8eb683b\",\"type\":\"Line\"},{\"attributes\":{\"line_color\":\"#8c564b\",\"line_width\":2,\"x\":{\"field\":\"x\"},\"y\":{\"field\":\"y\"}},\"id\":\"9a860e19-fae3-4b65-90fc-45d7cbb1b633\",\"type\":\"Line\"},{\"attributes\":{\"data_source\":{\"id\":\"a6966580-9da1-4e38-998a-438e14b9ed00\",\"type\":\"ColumnDataSource\"},\"glyph\":{\"id\":\"ea5707c5-5354-42c0-995e-53a3159dfc56\",\"type\":\"Line\"},\"hover_glyph\":null,\"muted_glyph\":null,\"nonselection_glyph\":{\"id\":\"5a9484ac-04a1-4a7b-bb56-8f331e9f37a0\",\"type\":\"Line\"},\"selection_glyph\":null,\"view\":{\"id\":\"4804e6ac-1216-40aa-9f3f-ac677244dd52\",\"type\":\"CDSView\"}},\"id\":\"aa358168-4830-440d-a228-abeabd58124f\",\"type\":\"GlyphRenderer\"},{\"attributes\":{\"line_alpha\":0.1,\"line_color\":\"#1f77b4\",\"x\":{\"field\":\"x\"},\"y\":{\"field\":\"y\"}},\"id\":\"6f813316-837d-4b14-86d5-c91684d67643\",\"type\":\"Line\"},{\"attributes\":{\"overlay\":{\"id\":\"7a906c4b-04ad-4968-b1e1-2b5188924946\",\"type\":\"BoxAnnotation\"}},\"id\":\"5055f91e-71de-4b25-9ae2-7d31e095658b\",\"type\":\"BoxZoomTool\"},{\"attributes\":{\"label\":{\"value\":\"soln3 (pred)\"},\"renderers\":[{\"id\":\"d6d29b12-5d41-47ea-80c1-37763ab692c8\",\"type\":\"GlyphRenderer\"}]},\"id\":\"1b961507-2388-4e22-bb05-634674afe953\",\"type\":\"LegendItem\"},{\"attributes\":{\"label\":{\"value\":\"soln4\"},\"renderers\":[{\"id\":\"2ee9a603-b42e-40b9-a1aa-cd533a5a5259\",\"type\":\"GlyphRenderer\"}]},\"id\":\"fe0f1d4b-427b-4095-a8b6-06084b92195e\",\"type\":\"LegendItem\"},{\"attributes\":{\"data_source\":{\"id\":\"879dee82-e027-412b-a5db-2fee560cc8a1\",\"type\":\"ColumnDataSource\"},\"glyph\":{\"id\":\"c67fa676-02db-42b0-aa0d-76db10925468\",\"type\":\"Line\"},\"hover_glyph\":null,\"muted_glyph\":null,\"nonselection_glyph\":{\"id\":\"c9f3d6ea-0098-4cce-b00a-42d3a5cec7af\",\"type\":\"Line\"},\"selection_glyph\":null,\"view\":{\"id\":\"59468de1-c72d-4e06-a5df-fef577821c8f\",\"type\":\"CDSView\"}},\"id\":\"5003b11d-f3b8-4bc4-9faa-84de101d24d0\",\"type\":\"GlyphRenderer\"},{\"attributes\":{\"callback\":null,\"column_names\":[\"x\",\"y\"],\"data\":{\"x\":[6,7,8,9,10,11,12,13,14],\"y\":[0.0002259130124002695,0.0007734210230410099,0.0031785359606146812,0.014298461028374732,0.06061755202244967,0.2918412240687758,1.5680447269696742,9.019769111066125,55.034934040973894]}},\"id\":\"2f5035ea-90b5-4c17-aaee-cef81301ba6d\",\"type\":\"ColumnDataSource\"},{\"attributes\":{\"callback\":null,\"column_names\":[\"x\",\"y\"],\"data\":{\"x\":[6,7,8,9,10,11],\"y\":[0.001659120222090993,0.015179350067972408,0.1388764149927992,1.2705852724186113,11.624629960175621,106.35415398274161]}},\"id\":\"5a4cd82c-aadd-4573-bb8e-de5764ea38a7\",\"type\":\"ColumnDataSource\"},{\"attributes\":{\"label\":{\"value\":\"soln1 (pred)\"},\"renderers\":[{\"id\":\"eb8990b7-c916-4d04-b6d1-054838a54285\",\"type\":\"GlyphRenderer\"}]},\"id\":\"29fe5e5b-822e-4d88-8392-8ce4c0d4a3a8\",\"type\":\"LegendItem\"},{\"attributes\":{\"source\":{\"id\":\"2f5035ea-90b5-4c17-aaee-cef81301ba6d\",\"type\":\"ColumnDataSource\"}},\"id\":\"3a6233d6-bc2a-4b3f-993b-edaed2ef659c\",\"type\":\"CDSView\"},{\"attributes\":{\"bottom_units\":\"screen\",\"fill_alpha\":{\"value\":0.5},\"fill_color\":{\"value\":\"lightgrey\"},\"left_units\":\"screen\",\"level\":\"overlay\",\"line_alpha\":{\"value\":1.0},\"line_color\":{\"value\":\"black\"},\"line_dash\":[4,4],\"line_width\":{\"value\":2},\"plot\":null,\"render_mode\":\"css\",\"right_units\":\"screen\",\"top_units\":\"screen\"},\"id\":\"7a906c4b-04ad-4968-b1e1-2b5188924946\",\"type\":\"BoxAnnotation\"},{\"attributes\":{\"line_alpha\":0.1,\"line_color\":\"#1f77b4\",\"x\":{\"field\":\"x\"},\"y\":{\"field\":\"y\"}},\"id\":\"01df0ab9-2c74-4e71-a1fc-4f4413e45578\",\"type\":\"Line\"},{\"attributes\":{\"callback\":null,\"column_names\":[\"x\",\"y\"],\"data\":{\"x\":[6,7,8,9,10,11,12,13,14],\"y\":[0.00035395193845033646,0.001321776071563363,0.005022123106755316,0.021716049988754094,0.10115699202287942,0.5809522669296712,2.452624510973692,13.912636548979208,85.0064372359775]}},\"id\":\"879dee82-e027-412b-a5db-2fee560cc8a1\",\"type\":\"ColumnDataSource\"},{\"attributes\":{\"data_source\":{\"id\":\"94871f0c-2539-4b00-9202-d9af928b344b\",\"type\":\"ColumnDataSource\"},\"glyph\":{\"id\":\"e62bc285-b311-47e2-afec-aff6fa1bba2f\",\"type\":\"Line\"},\"hover_glyph\":null,\"muted_glyph\":null,\"nonselection_glyph\":{\"id\":\"338b8de4-c4ba-4cc9-8fd5-0192a07d37aa\",\"type\":\"Line\"},\"selection_glyph\":null,\"view\":{\"id\":\"26e5fe31-c51a-4004-9bbd-07aaa26c0aaf\",\"type\":\"CDSView\"}},\"id\":\"ee72ef9c-03f5-4a68-b805-6746aacaa91c\",\"type\":\"GlyphRenderer\"},{\"attributes\":{\"source\":{\"id\":\"879dee82-e027-412b-a5db-2fee560cc8a1\",\"type\":\"ColumnDataSource\"}},\"id\":\"59468de1-c72d-4e06-a5df-fef577821c8f\",\"type\":\"CDSView\"},{\"attributes\":{\"data_source\":{\"id\":\"6c5dd5a3-6ef5-4f5d-ac64-34e311b81b95\",\"type\":\"ColumnDataSource\"},\"glyph\":{\"id\":\"54af98d8-42b0-40c9-bc3c-993eb8579461\",\"type\":\"Line\"},\"hover_glyph\":null,\"muted_glyph\":null,\"nonselection_glyph\":{\"id\":\"62fbc946-d993-43dc-b81a-5379820cfbf3\",\"type\":\"Line\"},\"selection_glyph\":null,\"view\":{\"id\":\"c5f0db1f-0789-46c9-8bf4-4a413d163787\",\"type\":\"CDSView\"}},\"id\":\"5b1a14ba-797f-43fa-9b41-1ed18cb3428d\",\"type\":\"GlyphRenderer\"},{\"attributes\":{\"label\":{\"value\":\"soln3c\"},\"renderers\":[{\"id\":\"5003b11d-f3b8-4bc4-9faa-84de101d24d0\",\"type\":\"GlyphRenderer\"}]},\"id\":\"c87a7be0-0e4b-4d25-84cb-97b9cd052304\",\"type\":\"LegendItem\"},{\"attributes\":{},\"id\":\"dde8b600-64d1-4622-a883-376e085edf9b\",\"type\":\"ResetTool\"},{\"attributes\":{\"source\":{\"id\":\"5a5490b0-1a2b-4c48-8670-50138572a5a5\",\"type\":\"ColumnDataSource\"}},\"id\":\"63b18fe2-04c3-4f88-9c08-4ca2747dddb3\",\"type\":\"CDSView\"},{\"attributes\":{\"data_source\":{\"id\":\"2f5035ea-90b5-4c17-aaee-cef81301ba6d\",\"type\":\"ColumnDataSource\"},\"glyph\":{\"id\":\"9a860e19-fae3-4b65-90fc-45d7cbb1b633\",\"type\":\"Line\"},\"hover_glyph\":null,\"muted_glyph\":null,\"nonselection_glyph\":{\"id\":\"1119fd2b-025f-4ad0-b7df-2a72933b57aa\",\"type\":\"Line\"},\"selection_glyph\":null,\"view\":{\"id\":\"3a6233d6-bc2a-4b3f-993b-edaed2ef659c\",\"type\":\"CDSView\"}},\"id\":\"2ee9a603-b42e-40b9-a1aa-cd533a5a5259\",\"type\":\"GlyphRenderer\"},{\"attributes\":{\"data_source\":{\"id\":\"02499b63-6aaa-400f-a4b4-fc13ff965763\",\"type\":\"ColumnDataSource\"},\"glyph\":{\"id\":\"629d2121-3e1d-44b6-a136-126a792c80e7\",\"type\":\"Line\"},\"hover_glyph\":null,\"muted_glyph\":null,\"nonselection_glyph\":{\"id\":\"6f813316-837d-4b14-86d5-c91684d67643\",\"type\":\"Line\"},\"selection_glyph\":null,\"view\":{\"id\":\"5b98b6ff-d952-42bd-bbd5-c2b3b59d5374\",\"type\":\"CDSView\"}},\"id\":\"d6d29b12-5d41-47ea-80c1-37763ab692c8\",\"type\":\"GlyphRenderer\"},{\"attributes\":{\"callback\":null,\"column_names\":[\"x\",\"y\"],\"data\":{\"x\":[6,7,8,9,10,11,12],\"y\":[0.0013028318677872088,0.006877223693397844,0.036302616552788804,0.19162964988967635,1.0115503014346492,5.339643488998789,28.186233100983515]}},\"id\":\"94871f0c-2539-4b00-9202-d9af928b344b\",\"type\":\"ColumnDataSource\"},{\"attributes\":{\"line_alpha\":0.1,\"line_color\":\"#1f77b4\",\"line_width\":2,\"x\":{\"field\":\"x\"},\"y\":{\"field\":\"y\"}},\"id\":\"5a9484ac-04a1-4a7b-bb56-8f331e9f37a0\",\"type\":\"Line\"},{\"attributes\":{\"source\":{\"id\":\"6c5dd5a3-6ef5-4f5d-ac64-34e311b81b95\",\"type\":\"ColumnDataSource\"}},\"id\":\"c5f0db1f-0789-46c9-8bf4-4a413d163787\",\"type\":\"CDSView\"},{\"attributes\":{\"source\":{\"id\":\"94871f0c-2539-4b00-9202-d9af928b344b\",\"type\":\"ColumnDataSource\"}},\"id\":\"26e5fe31-c51a-4004-9bbd-07aaa26c0aaf\",\"type\":\"CDSView\"},{\"attributes\":{\"line_color\":\"#98df8a\",\"x\":{\"field\":\"x\"},\"y\":{\"field\":\"y\"}},\"id\":\"54af98d8-42b0-40c9-bc3c-993eb8579461\",\"type\":\"Line\"},{\"attributes\":{\"line_color\":\"#c5b0d5\",\"x\":{\"field\":\"x\"},\"y\":{\"field\":\"y\"}},\"id\":\"1ed82d29-0fd1-48eb-80ca-728f2138e676\",\"type\":\"Line\"}],\"root_ids\":[\"62a14c3e-b405-4db2-9d24-0f67b2d012fd\"]},\"title\":\"Bokeh Application\",\"version\":\"0.12.14\"}};\n",
       "  var render_items = [{\"docid\":\"8d9ec970-2449-4fa5-b31c-e447e98d8778\",\"elementid\":\"c626b78d-3f69-4f3d-9258-b493fec77ed7\",\"modelid\":\"62a14c3e-b405-4db2-9d24-0f67b2d012fd\"}];\n",
       "  root.Bokeh.embed.embed_items_notebook(docs_json, render_items);\n",
       "\n",
       "  }\n",
       "  if (root.Bokeh !== undefined) {\n",
       "    embed_document(root);\n",
       "  } else {\n",
       "    var attempts = 0;\n",
       "    var timer = setInterval(function(root) {\n",
       "      if (root.Bokeh !== undefined) {\n",
       "        embed_document(root);\n",
       "        clearInterval(timer);\n",
       "      }\n",
       "      attempts++;\n",
       "      if (attempts > 100) {\n",
       "        console.log(\"Bokeh: ERROR: Unable to run BokehJS code because BokehJS library is missing\")\n",
       "        clearInterval(timer);\n",
       "      }\n",
       "    }, 10, root)\n",
       "  }\n",
       "})(window);"
      ],
      "application/vnd.bokehjs_exec.v0+json": ""
     },
     "metadata": {
      "application/vnd.bokehjs_exec.v0+json": {
       "id": "62a14c3e-b405-4db2-9d24-0f67b2d012fd"
      }
     },
     "output_type": "display_data"
    }
   ],
   "source": [
    "plot_timings(('soln1', pred1), ('soln2', pred2), ('soln2b', pred2b), ('soln3', pred3), ('soln3c', pred3c), ('soln4', pred4))"
   ]
  },
  {
   "cell_type": "code",
   "execution_count": null,
   "metadata": {},
   "outputs": [],
   "source": []
  }
 ],
 "metadata": {
  "kernelspec": {
   "display_name": "Python 3",
   "language": "python",
   "name": "python3"
  },
  "language_info": {
   "codemirror_mode": {
    "name": "ipython",
    "version": 3
   },
   "file_extension": ".py",
   "mimetype": "text/x-python",
   "name": "python",
   "nbconvert_exporter": "python",
   "pygments_lexer": "ipython3",
   "version": "3.6.8rc1"
  }
 },
 "nbformat": 4,
 "nbformat_minor": 2
}
