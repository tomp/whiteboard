{
 "cells": [
  {
   "cell_type": "markdown",
   "metadata": {
    "slideshow": {
     "slide_type": "slide"
    }
   },
   "source": [
    "## Eight Queens Puzzle"
   ]
  },
  {
   "cell_type": "markdown",
   "metadata": {},
   "source": [
    "**Task: Count the number of ways you can place N queens on an NxN chess board, such that no two queens are attacking one another.**"
   ]
  },
  {
   "cell_type": "markdown",
   "metadata": {
    "slideshow": {
     "slide_type": "subslide"
    }
   },
   "source": [
    "**Utility functions**"
   ]
  },
  {
   "cell_type": "code",
   "execution_count": 1,
   "metadata": {},
   "outputs": [
    {
     "data": {
      "text/html": [
       "\n",
       "    <div class=\"bk-root\">\n",
       "        <a href=\"https://bokeh.pydata.org\" target=\"_blank\" class=\"bk-logo bk-logo-small bk-logo-notebook\"></a>\n",
       "        <span id=\"76c5978e-eb05-4d8b-adb9-f57811cca537\">Loading BokehJS ...</span>\n",
       "    </div>"
      ]
     },
     "metadata": {},
     "output_type": "display_data"
    },
    {
     "data": {
      "application/javascript": [
       "\n",
       "(function(root) {\n",
       "  function now() {\n",
       "    return new Date();\n",
       "  }\n",
       "\n",
       "  var force = true;\n",
       "\n",
       "  if (typeof (root._bokeh_onload_callbacks) === \"undefined\" || force === true) {\n",
       "    root._bokeh_onload_callbacks = [];\n",
       "    root._bokeh_is_loading = undefined;\n",
       "  }\n",
       "\n",
       "  var JS_MIME_TYPE = 'application/javascript';\n",
       "  var HTML_MIME_TYPE = 'text/html';\n",
       "  var EXEC_MIME_TYPE = 'application/vnd.bokehjs_exec.v0+json';\n",
       "  var CLASS_NAME = 'output_bokeh rendered_html';\n",
       "\n",
       "  /**\n",
       "   * Render data to the DOM node\n",
       "   */\n",
       "  function render(props, node) {\n",
       "    var script = document.createElement(\"script\");\n",
       "    node.appendChild(script);\n",
       "  }\n",
       "\n",
       "  /**\n",
       "   * Handle when an output is cleared or removed\n",
       "   */\n",
       "  function handleClearOutput(event, handle) {\n",
       "    var cell = handle.cell;\n",
       "\n",
       "    var id = cell.output_area._bokeh_element_id;\n",
       "    var server_id = cell.output_area._bokeh_server_id;\n",
       "    // Clean up Bokeh references\n",
       "    if (id !== undefined) {\n",
       "      Bokeh.index[id].model.document.clear();\n",
       "      delete Bokeh.index[id];\n",
       "    }\n",
       "\n",
       "    if (server_id !== undefined) {\n",
       "      // Clean up Bokeh references\n",
       "      var cmd = \"from bokeh.io.state import curstate; print(curstate().uuid_to_server['\" + server_id + \"'].get_sessions()[0].document.roots[0]._id)\";\n",
       "      cell.notebook.kernel.execute(cmd, {\n",
       "        iopub: {\n",
       "          output: function(msg) {\n",
       "            var element_id = msg.content.text.trim();\n",
       "            Bokeh.index[element_id].model.document.clear();\n",
       "            delete Bokeh.index[element_id];\n",
       "          }\n",
       "        }\n",
       "      });\n",
       "      // Destroy server and session\n",
       "      var cmd = \"import bokeh.io.notebook as ion; ion.destroy_server('\" + server_id + \"')\";\n",
       "      cell.notebook.kernel.execute(cmd);\n",
       "    }\n",
       "  }\n",
       "\n",
       "  /**\n",
       "   * Handle when a new output is added\n",
       "   */\n",
       "  function handleAddOutput(event, handle) {\n",
       "    var output_area = handle.output_area;\n",
       "    var output = handle.output;\n",
       "\n",
       "    // limit handleAddOutput to display_data with EXEC_MIME_TYPE content only\n",
       "    if ((output.output_type != \"display_data\") || (!output.data.hasOwnProperty(EXEC_MIME_TYPE))) {\n",
       "      return\n",
       "    }\n",
       "\n",
       "    var toinsert = output_area.element.find(\".\" + CLASS_NAME.split(' ')[0]);\n",
       "\n",
       "    if (output.metadata[EXEC_MIME_TYPE][\"id\"] !== undefined) {\n",
       "      toinsert[0].firstChild.textContent = output.data[JS_MIME_TYPE];\n",
       "      // store reference to embed id on output_area\n",
       "      output_area._bokeh_element_id = output.metadata[EXEC_MIME_TYPE][\"id\"];\n",
       "    }\n",
       "    if (output.metadata[EXEC_MIME_TYPE][\"server_id\"] !== undefined) {\n",
       "      var bk_div = document.createElement(\"div\");\n",
       "      bk_div.innerHTML = output.data[HTML_MIME_TYPE];\n",
       "      var script_attrs = bk_div.children[0].attributes;\n",
       "      for (var i = 0; i < script_attrs.length; i++) {\n",
       "        toinsert[0].firstChild.setAttribute(script_attrs[i].name, script_attrs[i].value);\n",
       "      }\n",
       "      // store reference to server id on output_area\n",
       "      output_area._bokeh_server_id = output.metadata[EXEC_MIME_TYPE][\"server_id\"];\n",
       "    }\n",
       "  }\n",
       "\n",
       "  function register_renderer(events, OutputArea) {\n",
       "\n",
       "    function append_mime(data, metadata, element) {\n",
       "      // create a DOM node to render to\n",
       "      var toinsert = this.create_output_subarea(\n",
       "        metadata,\n",
       "        CLASS_NAME,\n",
       "        EXEC_MIME_TYPE\n",
       "      );\n",
       "      this.keyboard_manager.register_events(toinsert);\n",
       "      // Render to node\n",
       "      var props = {data: data, metadata: metadata[EXEC_MIME_TYPE]};\n",
       "      render(props, toinsert[0]);\n",
       "      element.append(toinsert);\n",
       "      return toinsert\n",
       "    }\n",
       "\n",
       "    /* Handle when an output is cleared or removed */\n",
       "    events.on('clear_output.CodeCell', handleClearOutput);\n",
       "    events.on('delete.Cell', handleClearOutput);\n",
       "\n",
       "    /* Handle when a new output is added */\n",
       "    events.on('output_added.OutputArea', handleAddOutput);\n",
       "\n",
       "    /**\n",
       "     * Register the mime type and append_mime function with output_area\n",
       "     */\n",
       "    OutputArea.prototype.register_mime_type(EXEC_MIME_TYPE, append_mime, {\n",
       "      /* Is output safe? */\n",
       "      safe: true,\n",
       "      /* Index of renderer in `output_area.display_order` */\n",
       "      index: 0\n",
       "    });\n",
       "  }\n",
       "\n",
       "  // register the mime type if in Jupyter Notebook environment and previously unregistered\n",
       "  if (root.Jupyter !== undefined) {\n",
       "    var events = require('base/js/events');\n",
       "    var OutputArea = require('notebook/js/outputarea').OutputArea;\n",
       "\n",
       "    if (OutputArea.prototype.mime_types().indexOf(EXEC_MIME_TYPE) == -1) {\n",
       "      register_renderer(events, OutputArea);\n",
       "    }\n",
       "  }\n",
       "\n",
       "  \n",
       "  if (typeof (root._bokeh_timeout) === \"undefined\" || force === true) {\n",
       "    root._bokeh_timeout = Date.now() + 5000;\n",
       "    root._bokeh_failed_load = false;\n",
       "  }\n",
       "\n",
       "  var NB_LOAD_WARNING = {'data': {'text/html':\n",
       "     \"<div style='background-color: #fdd'>\\n\"+\n",
       "     \"<p>\\n\"+\n",
       "     \"BokehJS does not appear to have successfully loaded. If loading BokehJS from CDN, this \\n\"+\n",
       "     \"may be due to a slow or bad network connection. Possible fixes:\\n\"+\n",
       "     \"</p>\\n\"+\n",
       "     \"<ul>\\n\"+\n",
       "     \"<li>re-rerun `output_notebook()` to attempt to load from CDN again, or</li>\\n\"+\n",
       "     \"<li>use INLINE resources instead, as so:</li>\\n\"+\n",
       "     \"</ul>\\n\"+\n",
       "     \"<code>\\n\"+\n",
       "     \"from bokeh.resources import INLINE\\n\"+\n",
       "     \"output_notebook(resources=INLINE)\\n\"+\n",
       "     \"</code>\\n\"+\n",
       "     \"</div>\"}};\n",
       "\n",
       "  function display_loaded() {\n",
       "    var el = document.getElementById(\"76c5978e-eb05-4d8b-adb9-f57811cca537\");\n",
       "    if (el != null) {\n",
       "      el.textContent = \"BokehJS is loading...\";\n",
       "    }\n",
       "    if (root.Bokeh !== undefined) {\n",
       "      if (el != null) {\n",
       "        el.textContent = \"BokehJS \" + root.Bokeh.version + \" successfully loaded.\";\n",
       "      }\n",
       "    } else if (Date.now() < root._bokeh_timeout) {\n",
       "      setTimeout(display_loaded, 100)\n",
       "    }\n",
       "  }\n",
       "\n",
       "\n",
       "  function run_callbacks() {\n",
       "    try {\n",
       "      root._bokeh_onload_callbacks.forEach(function(callback) { callback() });\n",
       "    }\n",
       "    finally {\n",
       "      delete root._bokeh_onload_callbacks\n",
       "    }\n",
       "    console.info(\"Bokeh: all callbacks have finished\");\n",
       "  }\n",
       "\n",
       "  function load_libs(js_urls, callback) {\n",
       "    root._bokeh_onload_callbacks.push(callback);\n",
       "    if (root._bokeh_is_loading > 0) {\n",
       "      console.log(\"Bokeh: BokehJS is being loaded, scheduling callback at\", now());\n",
       "      return null;\n",
       "    }\n",
       "    if (js_urls == null || js_urls.length === 0) {\n",
       "      run_callbacks();\n",
       "      return null;\n",
       "    }\n",
       "    console.log(\"Bokeh: BokehJS not loaded, scheduling load and callback at\", now());\n",
       "    root._bokeh_is_loading = js_urls.length;\n",
       "    for (var i = 0; i < js_urls.length; i++) {\n",
       "      var url = js_urls[i];\n",
       "      var s = document.createElement('script');\n",
       "      s.src = url;\n",
       "      s.async = false;\n",
       "      s.onreadystatechange = s.onload = function() {\n",
       "        root._bokeh_is_loading--;\n",
       "        if (root._bokeh_is_loading === 0) {\n",
       "          console.log(\"Bokeh: all BokehJS libraries loaded\");\n",
       "          run_callbacks()\n",
       "        }\n",
       "      };\n",
       "      s.onerror = function() {\n",
       "        console.warn(\"failed to load library \" + url);\n",
       "      };\n",
       "      console.log(\"Bokeh: injecting script tag for BokehJS library: \", url);\n",
       "      document.getElementsByTagName(\"head\")[0].appendChild(s);\n",
       "    }\n",
       "  };var element = document.getElementById(\"76c5978e-eb05-4d8b-adb9-f57811cca537\");\n",
       "  if (element == null) {\n",
       "    console.log(\"Bokeh: ERROR: autoload.js configured with elementid '76c5978e-eb05-4d8b-adb9-f57811cca537' but no matching script tag was found. \")\n",
       "    return false;\n",
       "  }\n",
       "\n",
       "  var js_urls = [\"https://cdn.pydata.org/bokeh/release/bokeh-0.12.14.min.js\", \"https://cdn.pydata.org/bokeh/release/bokeh-widgets-0.12.14.min.js\", \"https://cdn.pydata.org/bokeh/release/bokeh-tables-0.12.14.min.js\", \"https://cdn.pydata.org/bokeh/release/bokeh-gl-0.12.14.min.js\"];\n",
       "\n",
       "  var inline_js = [\n",
       "    function(Bokeh) {\n",
       "      Bokeh.set_log_level(\"info\");\n",
       "    },\n",
       "    \n",
       "    function(Bokeh) {\n",
       "      \n",
       "    },\n",
       "    function(Bokeh) {\n",
       "      console.log(\"Bokeh: injecting CSS: https://cdn.pydata.org/bokeh/release/bokeh-0.12.14.min.css\");\n",
       "      Bokeh.embed.inject_css(\"https://cdn.pydata.org/bokeh/release/bokeh-0.12.14.min.css\");\n",
       "      console.log(\"Bokeh: injecting CSS: https://cdn.pydata.org/bokeh/release/bokeh-widgets-0.12.14.min.css\");\n",
       "      Bokeh.embed.inject_css(\"https://cdn.pydata.org/bokeh/release/bokeh-widgets-0.12.14.min.css\");\n",
       "      console.log(\"Bokeh: injecting CSS: https://cdn.pydata.org/bokeh/release/bokeh-tables-0.12.14.min.css\");\n",
       "      Bokeh.embed.inject_css(\"https://cdn.pydata.org/bokeh/release/bokeh-tables-0.12.14.min.css\");\n",
       "    }\n",
       "  ];\n",
       "\n",
       "  function run_inline_js() {\n",
       "    \n",
       "    if ((root.Bokeh !== undefined) || (force === true)) {\n",
       "      for (var i = 0; i < inline_js.length; i++) {\n",
       "        inline_js[i].call(root, root.Bokeh);\n",
       "      }if (force === true) {\n",
       "        display_loaded();\n",
       "      }} else if (Date.now() < root._bokeh_timeout) {\n",
       "      setTimeout(run_inline_js, 100);\n",
       "    } else if (!root._bokeh_failed_load) {\n",
       "      console.log(\"Bokeh: BokehJS failed to load within specified timeout.\");\n",
       "      root._bokeh_failed_load = true;\n",
       "    } else if (force !== true) {\n",
       "      var cell = $(document.getElementById(\"76c5978e-eb05-4d8b-adb9-f57811cca537\")).parents('.cell').data().cell;\n",
       "      cell.output_area.append_execute_result(NB_LOAD_WARNING)\n",
       "    }\n",
       "\n",
       "  }\n",
       "\n",
       "  if (root._bokeh_is_loading === 0) {\n",
       "    console.log(\"Bokeh: BokehJS loaded, going straight to plotting\");\n",
       "    run_inline_js();\n",
       "  } else {\n",
       "    load_libs(js_urls, function() {\n",
       "      console.log(\"Bokeh: BokehJS plotting callback run at\", now());\n",
       "      run_inline_js();\n",
       "    });\n",
       "  }\n",
       "}(window));"
      ],
      "application/vnd.bokehjs_load.v0+json": "\n(function(root) {\n  function now() {\n    return new Date();\n  }\n\n  var force = true;\n\n  if (typeof (root._bokeh_onload_callbacks) === \"undefined\" || force === true) {\n    root._bokeh_onload_callbacks = [];\n    root._bokeh_is_loading = undefined;\n  }\n\n  \n\n  \n  if (typeof (root._bokeh_timeout) === \"undefined\" || force === true) {\n    root._bokeh_timeout = Date.now() + 5000;\n    root._bokeh_failed_load = false;\n  }\n\n  var NB_LOAD_WARNING = {'data': {'text/html':\n     \"<div style='background-color: #fdd'>\\n\"+\n     \"<p>\\n\"+\n     \"BokehJS does not appear to have successfully loaded. If loading BokehJS from CDN, this \\n\"+\n     \"may be due to a slow or bad network connection. Possible fixes:\\n\"+\n     \"</p>\\n\"+\n     \"<ul>\\n\"+\n     \"<li>re-rerun `output_notebook()` to attempt to load from CDN again, or</li>\\n\"+\n     \"<li>use INLINE resources instead, as so:</li>\\n\"+\n     \"</ul>\\n\"+\n     \"<code>\\n\"+\n     \"from bokeh.resources import INLINE\\n\"+\n     \"output_notebook(resources=INLINE)\\n\"+\n     \"</code>\\n\"+\n     \"</div>\"}};\n\n  function display_loaded() {\n    var el = document.getElementById(\"76c5978e-eb05-4d8b-adb9-f57811cca537\");\n    if (el != null) {\n      el.textContent = \"BokehJS is loading...\";\n    }\n    if (root.Bokeh !== undefined) {\n      if (el != null) {\n        el.textContent = \"BokehJS \" + root.Bokeh.version + \" successfully loaded.\";\n      }\n    } else if (Date.now() < root._bokeh_timeout) {\n      setTimeout(display_loaded, 100)\n    }\n  }\n\n\n  function run_callbacks() {\n    try {\n      root._bokeh_onload_callbacks.forEach(function(callback) { callback() });\n    }\n    finally {\n      delete root._bokeh_onload_callbacks\n    }\n    console.info(\"Bokeh: all callbacks have finished\");\n  }\n\n  function load_libs(js_urls, callback) {\n    root._bokeh_onload_callbacks.push(callback);\n    if (root._bokeh_is_loading > 0) {\n      console.log(\"Bokeh: BokehJS is being loaded, scheduling callback at\", now());\n      return null;\n    }\n    if (js_urls == null || js_urls.length === 0) {\n      run_callbacks();\n      return null;\n    }\n    console.log(\"Bokeh: BokehJS not loaded, scheduling load and callback at\", now());\n    root._bokeh_is_loading = js_urls.length;\n    for (var i = 0; i < js_urls.length; i++) {\n      var url = js_urls[i];\n      var s = document.createElement('script');\n      s.src = url;\n      s.async = false;\n      s.onreadystatechange = s.onload = function() {\n        root._bokeh_is_loading--;\n        if (root._bokeh_is_loading === 0) {\n          console.log(\"Bokeh: all BokehJS libraries loaded\");\n          run_callbacks()\n        }\n      };\n      s.onerror = function() {\n        console.warn(\"failed to load library \" + url);\n      };\n      console.log(\"Bokeh: injecting script tag for BokehJS library: \", url);\n      document.getElementsByTagName(\"head\")[0].appendChild(s);\n    }\n  };var element = document.getElementById(\"76c5978e-eb05-4d8b-adb9-f57811cca537\");\n  if (element == null) {\n    console.log(\"Bokeh: ERROR: autoload.js configured with elementid '76c5978e-eb05-4d8b-adb9-f57811cca537' but no matching script tag was found. \")\n    return false;\n  }\n\n  var js_urls = [\"https://cdn.pydata.org/bokeh/release/bokeh-0.12.14.min.js\", \"https://cdn.pydata.org/bokeh/release/bokeh-widgets-0.12.14.min.js\", \"https://cdn.pydata.org/bokeh/release/bokeh-tables-0.12.14.min.js\", \"https://cdn.pydata.org/bokeh/release/bokeh-gl-0.12.14.min.js\"];\n\n  var inline_js = [\n    function(Bokeh) {\n      Bokeh.set_log_level(\"info\");\n    },\n    \n    function(Bokeh) {\n      \n    },\n    function(Bokeh) {\n      console.log(\"Bokeh: injecting CSS: https://cdn.pydata.org/bokeh/release/bokeh-0.12.14.min.css\");\n      Bokeh.embed.inject_css(\"https://cdn.pydata.org/bokeh/release/bokeh-0.12.14.min.css\");\n      console.log(\"Bokeh: injecting CSS: https://cdn.pydata.org/bokeh/release/bokeh-widgets-0.12.14.min.css\");\n      Bokeh.embed.inject_css(\"https://cdn.pydata.org/bokeh/release/bokeh-widgets-0.12.14.min.css\");\n      console.log(\"Bokeh: injecting CSS: https://cdn.pydata.org/bokeh/release/bokeh-tables-0.12.14.min.css\");\n      Bokeh.embed.inject_css(\"https://cdn.pydata.org/bokeh/release/bokeh-tables-0.12.14.min.css\");\n    }\n  ];\n\n  function run_inline_js() {\n    \n    if ((root.Bokeh !== undefined) || (force === true)) {\n      for (var i = 0; i < inline_js.length; i++) {\n        inline_js[i].call(root, root.Bokeh);\n      }if (force === true) {\n        display_loaded();\n      }} else if (Date.now() < root._bokeh_timeout) {\n      setTimeout(run_inline_js, 100);\n    } else if (!root._bokeh_failed_load) {\n      console.log(\"Bokeh: BokehJS failed to load within specified timeout.\");\n      root._bokeh_failed_load = true;\n    } else if (force !== true) {\n      var cell = $(document.getElementById(\"76c5978e-eb05-4d8b-adb9-f57811cca537\")).parents('.cell').data().cell;\n      cell.output_area.append_execute_result(NB_LOAD_WARNING)\n    }\n\n  }\n\n  if (root._bokeh_is_loading === 0) {\n    console.log(\"Bokeh: BokehJS loaded, going straight to plotting\");\n    run_inline_js();\n  } else {\n    load_libs(js_urls, function() {\n      console.log(\"Bokeh: BokehJS plotting callback run at\", now());\n      run_inline_js();\n    });\n  }\n}(window));"
     },
     "metadata": {},
     "output_type": "display_data"
    }
   ],
   "source": [
    "import numpy as np\n",
    "import timeit\n",
    "    \n",
    "def print_solutions(solns):\n",
    "    for i, b in enumerate(solns):\n",
    "        print(\"{:2d}: {}\".format(i+1, \" \".join(map(str, b))))\n",
    "\n",
    "def timings(fn, maxtime=15, nrun=0):\n",
    "    result = []\n",
    "    n, dt = 6, 0.001\n",
    "    while dt < maxtime:\n",
    "        nrun = max(1, int(0.2/dt))\n",
    "        dt = timeit.timeit(\"fn(n)\", number=nrun, globals=locals()) / nrun\n",
    "        result.append((n, dt))\n",
    "        n += 1              \n",
    "    return result\n",
    "\n",
    "def expfit(n, y):\n",
    "    \"\"\"Fit the (n, y) data to a simple exponential model y = exp(a*x + b) and print the results.\n",
    "    The factor exp(a) and offset b are displayed, along with the predictions for each point.\n",
    "    A list of (n, timing, predicted timing) tuples is also returned.\n",
    "    \"\"\"\n",
    "    cf = np.polyfit(n, np.log(y), 1)\n",
    "    print(\"exp(a): {:3f}\\nb: {}\".format(np.exp(cf[0]), cf[1]))\n",
    "    yp = np.exp(np.polyval(cf, n))\n",
    "    print(\"\\n\".join([\"{:2d}: {:6f}  pred: {:6f}\".format(*val) for val in zip(n, y, yp)]))\n",
    "    return list(zip(n, y, yp))\n",
    "\n",
    "from bokeh.plotting import figure, output_notebook, show\n",
    "from bokeh.palettes import Category20 \n",
    "output_notebook()\n",
    "\n",
    "def plot_timings(*named_timings, log=True):\n",
    "    \"\"\"Plot the given timings, each a tuple of the function name, and a matrix of timing data.\n",
    "    Each matrix row is a \n",
    "    \"\"\"\n",
    "    args = {'title': \"Timings\",\n",
    "            'x_axis_label': 'N',\n",
    "            'y_axis_label': 'time (sec)'}\n",
    "    if log:\n",
    "        args['y_axis_type'] = 'log'\n",
    "\n",
    "    fig = figure(**args)\n",
    "    \n",
    "    # add a line renderer with legend and line thickness\n",
    "    for i, timing in enumerate(named_timings):\n",
    "        name, xyp = timing\n",
    "        if len(xyp[0]) == 3:\n",
    "            n, y, yp = zip(*xyp)\n",
    "            fig.line(n, y, legend=name, line_width=2, color=Category20[20][2*i])\n",
    "            fig.line(n, yp, legend=name + \" (pred)\", line_width=1, color=Category20[20][2*i+1])\n",
    "        elif len(xyp[0]) == 2:\n",
    "            n, y = zip(*xyp)\n",
    "            fig.line(n, y, legend=name, line_width=2, color=Category20[20][2*i])\n",
    "        else:\n",
    "            raise ValueError(\"Can't decipher timing\")\n",
    "\n",
    "    # show the results\n",
    "    show(fig)"
   ]
  },
  {
   "cell_type": "markdown",
   "metadata": {
    "slideshow": {
     "slide_type": "slide"
    }
   },
   "source": [
    "### 1. Consider all possible arrangements of the N queens on distinct rows and columns."
   ]
  },
  {
   "cell_type": "code",
   "execution_count": 2,
   "metadata": {},
   "outputs": [],
   "source": [
    "NQUEEN = 10"
   ]
  },
  {
   "cell_type": "code",
   "execution_count": 3,
   "metadata": {},
   "outputs": [
    {
     "name": "stdout",
     "output_type": "stream",
     "text": [
      "Found 724 solutions\n"
     ]
    }
   ],
   "source": [
    "from itertools import permutations\n",
    "\n",
    "def attack(b):\n",
    "    \"\"\"Return True if any two queens on the given board attack each other.\"\"\"\n",
    "    for i in range(len(b)-1):\n",
    "        for j in range(i+1, len(b)):\n",
    "            if abs(b[i] - b[j]) == j - i:\n",
    "                return True\n",
    "    return False\n",
    "    \n",
    "def solution1(nqueen):\n",
    "    solns = []\n",
    "    for board in permutations(list(range(nqueen))):\n",
    "        if not attack(board):\n",
    "            solns.append(tuple(board))\n",
    "    return solns\n",
    "\n",
    "solns = solution1(NQUEEN)\n",
    "print(\"Found {} solutions\".format(len(solns)))\n",
    "# print_solutions(solns)"
   ]
  },
  {
   "cell_type": "code",
   "execution_count": 5,
   "metadata": {
    "slideshow": {
     "slide_type": "fragment"
    }
   },
   "outputs": [
    {
     "name": "stdout",
     "output_type": "stream",
     "text": [
      "exp(a): 9.521513\n",
      "b: -20.04513039053966\n",
      " 6: 0.001820  pred: 0.001468\n",
      " 7: 0.013404  pred: 0.013978\n",
      " 8: 0.110075  pred: 0.133094\n",
      " 9: 1.078596  pred: 1.267255\n",
      "10: 11.899116  pred: 12.066183\n",
      "11: 139.236723  pred: 114.888314\n"
     ]
    }
   ],
   "source": [
    "time1 = timings(solution1)\n",
    "n, y = zip(*time1)\n",
    "pred1 = expfit(n, y)"
   ]
  },
  {
   "cell_type": "markdown",
   "metadata": {
    "slideshow": {
     "slide_type": "slide"
    }
   },
   "source": [
    "### 2. Find solutions using an exhaustive depth-first search."
   ]
  },
  {
   "cell_type": "markdown",
   "metadata": {},
   "source": [
    "#### a. Reuse the *attack()* function from the brute-force search"
   ]
  },
  {
   "cell_type": "code",
   "execution_count": 6,
   "metadata": {},
   "outputs": [
    {
     "name": "stdout",
     "output_type": "stream",
     "text": [
      "Found 724 solutions\n"
     ]
    }
   ],
   "source": [
    "def solution2(nqueen):\n",
    "    solns = []\n",
    "    queue = [[i] for i in range(nqueen)]\n",
    "    while queue:\n",
    "        b = queue.pop()\n",
    "        for j in range(nqueen):\n",
    "            if not(j in b or attack(b + [j])):\n",
    "                newb = b + [j]\n",
    "                if len(newb) == nqueen:\n",
    "                    solns.append(newb)\n",
    "                else:\n",
    "                    queue.append(newb)\n",
    "    return solns\n",
    "              \n",
    "solns = solution2(NQUEEN)\n",
    "print(\"Found {} solutions\".format(len(solns)))"
   ]
  },
  {
   "cell_type": "code",
   "execution_count": 7,
   "metadata": {
    "slideshow": {
     "slide_type": "fragment"
    }
   },
   "outputs": [
    {
     "name": "stdout",
     "output_type": "stream",
     "text": [
      "exp(a): 5.243480\n",
      "b: -16.55145491075078\n",
      " 6: 0.001526  pred: 0.001347\n",
      " 7: 0.007787  pred: 0.007065\n",
      " 8: 0.032386  pred: 0.037047\n",
      " 9: 0.163617  pred: 0.194254\n",
      "10: 0.930854  pred: 1.018569\n",
      "11: 5.345769  pred: 5.340844\n",
      "12: 33.316671  pred: 28.004604\n"
     ]
    }
   ],
   "source": [
    "time2 = timings(solution2)\n",
    "n, y = zip(*time2)\n",
    "pred2 = expfit(n, y)"
   ]
  },
  {
   "cell_type": "markdown",
   "metadata": {
    "slideshow": {
     "slide_type": "slide"
    }
   },
   "source": [
    "#### b. Only check attacks on newly added queens "
   ]
  },
  {
   "cell_type": "code",
   "execution_count": 8,
   "metadata": {},
   "outputs": [
    {
     "name": "stdout",
     "output_type": "stream",
     "text": [
      "Found 724 solutions\n"
     ]
    }
   ],
   "source": [
    "def adds_attack(b, row):\n",
    "    \"\"\"Return True if adding a queen in the next column on given row results in an attack.\n",
    "    This should be all we need to check, if we know the input board b contains no attacks.\n",
    "    \"\"\"\n",
    "    col = len(b)\n",
    "    return any([abs(irow - row) == col - icol\n",
    "                for icol, irow in enumerate(b)])\n",
    "\n",
    "def solution2b(nqueen):\n",
    "    solns = []\n",
    "    queue = [[i] for i in range(nqueen)]\n",
    "    while queue:\n",
    "        b = queue.pop()\n",
    "        for j in range(nqueen):\n",
    "            if not(j in b or adds_attack(b, j)):\n",
    "                newb = b + [j]\n",
    "                if len(newb) == nqueen:\n",
    "                    solns.append(newb)\n",
    "                else:\n",
    "                    queue.append(newb)\n",
    "    return solns\n",
    "              \n",
    "solns = solution2b(NQUEEN)\n",
    "print(\"Found {} solutions\".format(len(solns)))"
   ]
  },
  {
   "cell_type": "code",
   "execution_count": 9,
   "metadata": {
    "slideshow": {
     "slide_type": "fragment"
    }
   },
   "outputs": [
    {
     "name": "stdout",
     "output_type": "stream",
     "text": [
      "exp(a): 4.854287\n",
      "b: -16.648432405440953\n",
      " 6: 0.001088  pred: 0.000770\n",
      " 7: 0.003651  pred: 0.003737\n",
      " 8: 0.015542  pred: 0.018142\n",
      " 9: 0.075160  pred: 0.088066\n",
      "10: 0.339158  pred: 0.427496\n",
      "11: 1.858727  pred: 2.075189\n",
      "12: 10.469381  pred: 10.073561\n",
      "13: 65.571665  pred: 48.899954\n"
     ]
    }
   ],
   "source": [
    "time2b = timings(solution2b)\n",
    "n, y = zip(*time2b)\n",
    "pred2b = expfit(n, y)"
   ]
  },
  {
   "cell_type": "markdown",
   "metadata": {
    "slideshow": {
     "slide_type": "slide"
    }
   },
   "source": [
    "### 3. Track search state using tuples of bit vectors.\n",
    "The state of a partially completed board is represented by separate bit vectors that record the queen locations, right-diagonal attacks, left-diagonal attacks, and a list with the location of each queen."
   ]
  },
  {
   "cell_type": "code",
   "execution_count": 10,
   "metadata": {},
   "outputs": [],
   "source": [
    "from collections import namedtuple\n",
    "from itertools import islice\n",
    "\n",
    "def bits(i, nbits=NQUEEN):\n",
    "    \"\"\"Return a string containing the nbits-binary representation of the integer i.\"\"\"\n",
    "    return bin((1 << nbits) | i)[3:]\n",
    "\n",
    "Queens = namedtuple('Queens', ['col', 'rd', 'ld', 'loc'])\n",
    "Queens.__repr__ = lambda q: \"{}, {}, {} ({})\".format(bits(q.col), bits(q.rd), bits(q.ld), \",\".join(map(str, q.loc)))\n",
    "\n",
    "def successors(state, nqueen):\n",
    "    col = nqueen - 1\n",
    "    newq = 1 << col\n",
    "    excl = state.col | state.ld | state.rd\n",
    "    while newq:\n",
    "        if not (newq & excl):\n",
    "            yield Queens(state.col | newq,(state.rd | newq) >> 1, (state.ld | newq) << 1, state.loc + (col,))\n",
    "        col -= 1\n",
    "        newq = newq >> 1"
   ]
  },
  {
   "cell_type": "code",
   "execution_count": 11,
   "metadata": {
    "collapsed": true,
    "jupyter": {
     "outputs_hidden": true,
     "source_hidden": true
    },
    "slideshow": {
     "slide_type": "subslide"
    }
   },
   "outputs": [
    {
     "name": "stdout",
     "output_type": "stream",
     "text": [
      "0000000000, 0000000000, 0000000000 ()\n",
      "- - - - - -\n",
      "1000000000, 0100000000, 0000000000 (9)\n",
      "0100000000, 0010000000, 1000000000 (8)\n",
      "0010000000, 0001000000, 0100000000 (7)\n",
      "0001000000, 0000100000, 0010000000 (6)\n",
      "0000100000, 0000010000, 0001000000 (5)\n",
      "0000010000, 0000001000, 0000100000 (4)\n",
      "0000001000, 0000000100, 0000010000 (3)\n",
      "0000000100, 0000000010, 0000001000 (2)\n",
      "0000000010, 0000000001, 0000000100 (1)\n",
      "0000000001, 0000000000, 0000000010 (0)\n",
      "===========\n",
      "0001000000, 0000100000, 0010000000 (6)\n",
      "- - - - - -\n",
      "1001000000, 0100010000, 0100000000 (6,9)\n",
      "0101000000, 0010010000, 1100000000 (6,8)\n",
      "0001010000, 0000011000, 0100100000 (6,4)\n",
      "0001001000, 0000010100, 0100010000 (6,3)\n",
      "0001000100, 0000010010, 0100001000 (6,2)\n",
      "0001000010, 0000010001, 0100000100 (6,1)\n",
      "0001000001, 0000010000, 0100000010 (6,0)\n",
      "===========\n",
      "1001000000, 0100010000, 0100000000 (6,9)\n",
      "- - - - - -\n",
      "1011000000, 0011001000, 11100000000 (6,9,7)\n",
      "1001100000, 0010011000, 11001000000 (6,9,5)\n",
      "1001001000, 0010001100, 11000010000 (6,9,3)\n",
      "1001000100, 0010001010, 11000001000 (6,9,2)\n",
      "1001000010, 0010001001, 11000000100 (6,9,1)\n",
      "1001000001, 0010001000, 11000000010 (6,9,0)\n"
     ]
    }
   ],
   "source": [
    "# Verify that successors() works the way we expect it to.\n",
    "q0 = Queens(0, 0, 0, ())\n",
    "print(q0)\n",
    "print('- - - - - -')\n",
    "for q in successors(q0, NQUEEN):\n",
    "    print(q)\n",
    "print('===========')\n",
    "q1 = list(successors(q0, NQUEEN))[3]\n",
    "print(q1)\n",
    "print('- - - - - -')\n",
    "for q in successors(q1, NQUEEN):\n",
    "    print(q)\n",
    "print('===========')\n",
    "q2 = list(successors(q1, NQUEEN))[0]\n",
    "print(q2)\n",
    "print('- - - - - -')\n",
    "for q in successors(q2, NQUEEN):\n",
    "    print(q)"
   ]
  },
  {
   "cell_type": "markdown",
   "metadata": {
    "slideshow": {
     "slide_type": "slide"
    }
   },
   "source": [
    "#### a. Find all solutions"
   ]
  },
  {
   "cell_type": "code",
   "execution_count": 12,
   "metadata": {},
   "outputs": [
    {
     "name": "stdout",
     "output_type": "stream",
     "text": [
      "Found 724 solutions\n"
     ]
    }
   ],
   "source": [
    "def solution3(nqueen):\n",
    "    solns = []\n",
    "    complete = (1 << nqueen) - 1\n",
    "    queue = [q for q in successors(Queens(0, 0, 0, ()), nqueen)]\n",
    "    while queue:\n",
    "        q = queue.pop()       \n",
    "        if q.col == complete:\n",
    "            solns.append(q.loc)\n",
    "        else:\n",
    "            for newq in successors(q, nqueen):\n",
    "                queue.append(newq)\n",
    "    return solns\n",
    "              \n",
    "solns = solution3(NQUEEN)\n",
    "print(\"Found {} solutions\".format(len(solns)))"
   ]
  },
  {
   "cell_type": "code",
   "execution_count": 13,
   "metadata": {
    "slideshow": {
     "slide_type": "fragment"
    }
   },
   "outputs": [
    {
     "name": "stdout",
     "output_type": "stream",
     "text": [
      "exp(a): 4.472685\n",
      "b: -16.57373394920169\n",
      " 6: 0.000669  pred: 0.000508\n",
      " 7: 0.002338  pred: 0.002270\n",
      " 8: 0.008912  pred: 0.010155\n",
      " 9: 0.038631  pred: 0.045419\n",
      "10: 0.168129  pred: 0.203143\n",
      "11: 0.789090  pred: 0.908594\n",
      "12: 4.215943  pred: 4.063855\n",
      "13: 24.044861  pred: 18.176343\n"
     ]
    }
   ],
   "source": [
    "time3 = timings(solution3)\n",
    "n, y = zip(*time3)\n",
    "pred3 = expfit(n, y)"
   ]
  },
  {
   "cell_type": "markdown",
   "metadata": {
    "slideshow": {
     "slide_type": "slide"
    }
   },
   "source": [
    "#### b. Just count the number of solutions"
   ]
  },
  {
   "cell_type": "code",
   "execution_count": 14,
   "metadata": {},
   "outputs": [
    {
     "name": "stdout",
     "output_type": "stream",
     "text": [
      "Found 724 solutions\n"
     ]
    }
   ],
   "source": [
    "Queens2 = namedtuple('Queens', ['col', 'rd', 'ld'])\n",
    "Queens2.__repr__ = lambda q: \"{}, {}, {}\".format(bits(q.col), bits(q.rd), bits(q.ld))\n",
    "\n",
    "def successors2(state, nqueen):\n",
    "    col = nqueen - 1\n",
    "    newq = 1 << col\n",
    "    excl = state.col | state.ld | state.rd\n",
    "    while newq:\n",
    "        if not (newq & excl):\n",
    "            yield Queens2(state.col | newq, (state.rd | newq) >> 1, (state.ld | newq) << 1)\n",
    "        col -= 1\n",
    "        newq = newq >> 1\n",
    "        \n",
    "def solution3b(nqueen):\n",
    "    count = 0\n",
    "    complete = (1 << nqueen) - 1\n",
    "    queue = [q for q in successors2(Queens2(0, 0, 0), nqueen)]\n",
    "    while queue:\n",
    "        q = queue.pop()       \n",
    "        if q.col == complete:\n",
    "            count += 1\n",
    "        else:\n",
    "            for newq in successors2(q, nqueen):\n",
    "                queue.append(newq)\n",
    "    return count\n",
    "              \n",
    "nsolns = solution3b(NQUEEN)\n",
    "print(\"Found {} solutions\".format(nsolns))"
   ]
  },
  {
   "cell_type": "code",
   "execution_count": 15,
   "metadata": {
    "slideshow": {
     "slide_type": "fragment"
    }
   },
   "outputs": [
    {
     "name": "stdout",
     "output_type": "stream",
     "text": [
      "exp(a): 4.470358\n",
      "b: -16.598125842041316\n",
      " 6: 0.000649  pred: 0.000494\n",
      " 7: 0.002319  pred: 0.002208\n",
      " 8: 0.008206  pred: 0.009869\n",
      " 9: 0.039181  pred: 0.044117\n",
      "10: 0.158368  pred: 0.197219\n",
      "11: 0.786077  pred: 0.881639\n",
      "12: 4.245627  pred: 3.941242\n",
      "13: 22.398824  pred: 17.618762\n"
     ]
    }
   ],
   "source": [
    "time3b = timings(solution3b)\n",
    "n, y = zip(*time3b)\n",
    "pred3b = expfit(n, y)"
   ]
  },
  {
   "cell_type": "markdown",
   "metadata": {
    "slideshow": {
     "slide_type": "slide"
    }
   },
   "source": [
    "#### c. Replace namedtuples with simple tuples"
   ]
  },
  {
   "cell_type": "code",
   "execution_count": 16,
   "metadata": {},
   "outputs": [
    {
     "name": "stdout",
     "output_type": "stream",
     "text": [
      "Found 724 solutions\n"
     ]
    }
   ],
   "source": [
    "def successors3(col, rd, ld, nqueen):\n",
    "    newq = 1 << (nqueen - 1)\n",
    "    excl = col | rd | ld\n",
    "    while newq:\n",
    "        if not (newq & excl):\n",
    "            yield (col | newq, (rd | newq) >> 1, (ld | newq) << 1)\n",
    "        newq = newq >> 1\n",
    "        \n",
    "def solution3c(nqueen):\n",
    "    count = 0\n",
    "    done = (1 << nqueen) - 1\n",
    "    queue = list(successors3(0, 0, 0, nqueen))\n",
    "    while queue:\n",
    "        col, rd, ld = queue.pop()       \n",
    "        if col == done:\n",
    "            count += 1\n",
    "        else:\n",
    "            queue.extend(successors3(col, rd, ld, nqueen))\n",
    "    return count\n",
    "              \n",
    "nsolns = solution3c(NQUEEN)\n",
    "print(\"Found {} solutions\".format(nsolns))"
   ]
  },
  {
   "cell_type": "code",
   "execution_count": 17,
   "metadata": {
    "slideshow": {
     "slide_type": "fragment"
    }
   },
   "outputs": [
    {
     "name": "stdout",
     "output_type": "stream",
     "text": [
      "exp(a): 4.654886\n",
      "b: -17.44134934692532\n",
      " 6: 0.000386  pred: 0.000271\n",
      " 7: 0.001397  pred: 0.001261\n",
      " 8: 0.005034  pred: 0.005869\n",
      " 9: 0.024744  pred: 0.027321\n",
      "10: 0.091425  pred: 0.127177\n",
      "11: 0.477020  pred: 0.591995\n",
      "12: 2.436652  pred: 2.755668\n",
      "13: 13.975180  pred: 12.827320\n",
      "14: 87.310678  pred: 59.709713\n"
     ]
    }
   ],
   "source": [
    "time3c = timings(solution3c)\n",
    "n, y = zip(*time3c)\n",
    "pred3c = expfit(n, y)"
   ]
  },
  {
   "cell_type": "markdown",
   "metadata": {
    "slideshow": {
     "slide_type": "slide"
    }
   },
   "source": [
    "### 4. Replace iterative search with a recursive search"
   ]
  },
  {
   "cell_type": "code",
   "execution_count": 18,
   "metadata": {},
   "outputs": [
    {
     "name": "stdout",
     "output_type": "stream",
     "text": [
      "Found 724 solutions\n"
     ]
    }
   ],
   "source": [
    "def solution4(nqueen):\n",
    "    done = (1 << nqueen) - 1\n",
    "\n",
    "    def count4(level, col, rd, ld):\n",
    "        excl = (col | rd | ld) & done\n",
    "        if excl == done:\n",
    "            return 0\n",
    "        elif level+1 == nqueen:\n",
    "            return 1\n",
    "        \n",
    "        count = 0\n",
    "        newq = 1 << (nqueen - 1)\n",
    "        while newq:\n",
    "            if (newq & excl) == 0:\n",
    "                    count += count4(level+1, col | newq, (rd | newq) >> 1, (ld | newq) << 1)\n",
    "            newq = newq >> 1\n",
    "        return count\n",
    "        \n",
    "    return count4(0, 0, 0, 0)\n",
    "\n",
    "              \n",
    "nsolns = solution4(NQUEEN)\n",
    "print(\"Found {} solutions\".format(nsolns))"
   ]
  },
  {
   "cell_type": "code",
   "execution_count": 19,
   "metadata": {
    "slideshow": {
     "slide_type": "fragment"
    }
   },
   "outputs": [
    {
     "name": "stdout",
     "output_type": "stream",
     "text": [
      "exp(a): 4.749389\n",
      "b: -18.10717767707088\n",
      " 6: 0.000224  pred: 0.000157\n",
      " 7: 0.000786  pred: 0.000746\n",
      " 8: 0.003206  pred: 0.003542\n",
      " 9: 0.013826  pred: 0.016823\n",
      "10: 0.062648  pred: 0.079897\n",
      "11: 0.317552  pred: 0.379461\n",
      "12: 1.623624  pred: 1.802209\n",
      "13: 9.273949  pred: 8.559392\n",
      "14: 56.707587  pred: 40.651879\n"
     ]
    }
   ],
   "source": [
    "time4 = timings(solution4)\n",
    "n, y = zip(*time4)\n",
    "pred4 = expfit(n, y)"
   ]
  },
  {
   "cell_type": "markdown",
   "metadata": {
    "slideshow": {
     "slide_type": "slide"
    }
   },
   "source": [
    "### Plot timings for the different solutions"
   ]
  },
  {
   "cell_type": "code",
   "execution_count": 20,
   "metadata": {},
   "outputs": [
    {
     "data": {
      "text/html": [
       "\n",
       "<div class=\"bk-root\">\n",
       "    <div class=\"bk-plotdiv\" id=\"17750240-daee-4c0a-8ec9-d70e47b60487\"></div>\n",
       "</div>"
      ]
     },
     "metadata": {},
     "output_type": "display_data"
    },
    {
     "data": {
      "application/javascript": [
       "(function(root) {\n",
       "  function embed_document(root) {\n",
       "    \n",
       "  var docs_json = {\"93c31e44-a810-45d5-ab27-3ca6dd9483cc\":{\"roots\":{\"references\":[{\"attributes\":{\"source\":{\"id\":\"e3d7914f-a7e8-4ceb-80d2-677d93d2acef\",\"type\":\"ColumnDataSource\"}},\"id\":\"68965b2c-ca5d-446f-aaa1-43235b92cd12\",\"type\":\"CDSView\"},{\"attributes\":{\"line_alpha\":0.1,\"line_color\":\"#1f77b4\",\"line_width\":2,\"x\":{\"field\":\"x\"},\"y\":{\"field\":\"y\"}},\"id\":\"1e495c33-4b7e-4e59-afd9-2eabc09151fc\",\"type\":\"Line\"},{\"attributes\":{},\"id\":\"3385919e-c46b-4528-a98d-f9e6aef76612\",\"type\":\"BasicTickFormatter\"},{\"attributes\":{\"label\":{\"value\":\"soln2\"},\"renderers\":[{\"id\":\"0983c18f-9e63-45de-82ee-cc641c8934c2\",\"type\":\"GlyphRenderer\"}]},\"id\":\"fce99948-133b-4bd6-85a6-fcc4a9baae7b\",\"type\":\"LegendItem\"},{\"attributes\":{\"label\":{\"value\":\"soln3\"},\"renderers\":[{\"id\":\"7d1ab306-8150-46cb-87a4-bf3151d845d4\",\"type\":\"GlyphRenderer\"}]},\"id\":\"ab30b037-9cd1-441e-8c78-8a3e29801f94\",\"type\":\"LegendItem\"},{\"attributes\":{\"callback\":null,\"column_names\":[\"x\",\"y\"],\"data\":{\"x\":[6,7,8,9,10,11,12,13],\"y\":[0.0005076080682850227,0.0022703708511140857,0.010154653016063156,0.045418561388788255,0.2031429055590586,0.9085941698092534,4.063855260607953,18.17634333119044]}},\"id\":\"98f29a3b-d6a9-4319-bb58-3d0c8aa077ae\",\"type\":\"ColumnDataSource\"},{\"attributes\":{\"line_alpha\":0.1,\"line_color\":\"#1f77b4\",\"x\":{\"field\":\"x\"},\"y\":{\"field\":\"y\"}},\"id\":\"6bac5c71-4d46-4297-8358-03564cf29769\",\"type\":\"Line\"},{\"attributes\":{\"data_source\":{\"id\":\"81fc5307-bb95-4eb2-ad05-3e9cf2094db5\",\"type\":\"ColumnDataSource\"},\"glyph\":{\"id\":\"2d9fbd5d-9d1c-4013-9c03-df86a7b47b16\",\"type\":\"Line\"},\"hover_glyph\":null,\"muted_glyph\":null,\"nonselection_glyph\":{\"id\":\"a4ccb0a5-9dc3-4556-9894-a48f6e484f2c\",\"type\":\"Line\"},\"selection_glyph\":null,\"view\":{\"id\":\"013e935b-859b-4a7a-8151-3ac2bba13e65\",\"type\":\"CDSView\"}},\"id\":\"1712016a-a2d9-4931-a154-6044d3092716\",\"type\":\"GlyphRenderer\"},{\"attributes\":{\"data_source\":{\"id\":\"2f0fcbd1-52f4-4a24-83df-1461d96d2c0e\",\"type\":\"ColumnDataSource\"},\"glyph\":{\"id\":\"de367b63-fe93-44df-a740-6ff6ff0d411d\",\"type\":\"Line\"},\"hover_glyph\":null,\"muted_glyph\":null,\"nonselection_glyph\":{\"id\":\"6bac5c71-4d46-4297-8358-03564cf29769\",\"type\":\"Line\"},\"selection_glyph\":null,\"view\":{\"id\":\"326b841f-90c9-411c-aa9f-6d3daacc3694\",\"type\":\"CDSView\"}},\"id\":\"317b27ab-6637-4672-b8c7-415804d86a64\",\"type\":\"GlyphRenderer\"},{\"attributes\":{\"label\":{\"value\":\"soln4\"},\"renderers\":[{\"id\":\"8af17f5b-ea9a-4168-b8c5-9b2a3a530a34\",\"type\":\"GlyphRenderer\"}]},\"id\":\"ec6a96c8-15b3-44d0-a7b1-2660429ad527\",\"type\":\"LegendItem\"},{\"attributes\":{\"data_source\":{\"id\":\"4fe6ddd7-befe-4d9a-bab0-b868237ce114\",\"type\":\"ColumnDataSource\"},\"glyph\":{\"id\":\"a2f56a84-9e38-423c-a17b-996ad517d229\",\"type\":\"Line\"},\"hover_glyph\":null,\"muted_glyph\":null,\"nonselection_glyph\":{\"id\":\"00864426-959c-4a9f-a682-43993613f8d9\",\"type\":\"Line\"},\"selection_glyph\":null,\"view\":{\"id\":\"c2abbfaa-3234-4a54-b7f3-4c9e5786da30\",\"type\":\"CDSView\"}},\"id\":\"6cd00736-e083-466e-91f5-c045e07e8e66\",\"type\":\"GlyphRenderer\"},{\"attributes\":{\"ticker\":null},\"id\":\"106a1cd7-5c32-4629-a2bc-14ba4fed3d20\",\"type\":\"LogTickFormatter\"},{\"attributes\":{\"callback\":null,\"column_names\":[\"x\",\"y\"],\"data\":{\"x\":[6,7,8,9,10,11,12,13,14],\"y\":[0.00038567033001527304,0.001397148600391123,0.0050341943915936625,0.02474396638456547,0.09142520049999803,0.4770199454997055,2.436652210999455,13.975179572997149,87.31067789300141]}},\"id\":\"e3d7914f-a7e8-4ceb-80d2-677d93d2acef\",\"type\":\"ColumnDataSource\"},{\"attributes\":{\"source\":{\"id\":\"c7b65bd9-b02f-47f1-8549-984e73cb9370\",\"type\":\"ColumnDataSource\"}},\"id\":\"a05f4429-2fa2-4d52-9b4e-d3d4ea2e0a8d\",\"type\":\"CDSView\"},{\"attributes\":{\"items\":[{\"id\":\"685cc71b-00fb-4225-b4e2-8e62de870377\",\"type\":\"LegendItem\"},{\"id\":\"97357f3c-3938-4338-ba79-195354207d5a\",\"type\":\"LegendItem\"},{\"id\":\"fce99948-133b-4bd6-85a6-fcc4a9baae7b\",\"type\":\"LegendItem\"},{\"id\":\"6b037b72-9c06-41f7-a9d5-6ae75cf854e0\",\"type\":\"LegendItem\"},{\"id\":\"d97b11dd-0618-4bb3-b085-1c68bdd21bb3\",\"type\":\"LegendItem\"},{\"id\":\"7faa495d-1ad4-4ef6-97dd-3886f65de899\",\"type\":\"LegendItem\"},{\"id\":\"ab30b037-9cd1-441e-8c78-8a3e29801f94\",\"type\":\"LegendItem\"},{\"id\":\"bd478855-def6-4d98-82f9-b0611564c40f\",\"type\":\"LegendItem\"},{\"id\":\"2781df4d-97be-415e-9d1c-dae8853c6c64\",\"type\":\"LegendItem\"},{\"id\":\"c311af71-471b-48e6-b491-8e95da500cd0\",\"type\":\"LegendItem\"},{\"id\":\"ec6a96c8-15b3-44d0-a7b1-2660429ad527\",\"type\":\"LegendItem\"},{\"id\":\"f4f5a8bc-6d2b-4132-8c12-2a2dd4708765\",\"type\":\"LegendItem\"}],\"plot\":{\"id\":\"5ed7f570-447c-4c8c-b9ea-75c1ff540e2f\",\"subtype\":\"Figure\",\"type\":\"Plot\"}},\"id\":\"e9c90d39-92c2-48b1-be7c-7246fead6947\",\"type\":\"Legend\"},{\"attributes\":{\"label\":{\"value\":\"soln2b (pred)\"},\"renderers\":[{\"id\":\"f445eb8a-70ff-40b0-813a-6d2f9003579c\",\"type\":\"GlyphRenderer\"}]},\"id\":\"7faa495d-1ad4-4ef6-97dd-3886f65de899\",\"type\":\"LegendItem\"},{\"attributes\":{\"line_color\":\"#c49c94\",\"x\":{\"field\":\"x\"},\"y\":{\"field\":\"y\"}},\"id\":\"2d9fbd5d-9d1c-4013-9c03-df86a7b47b16\",\"type\":\"Line\"},{\"attributes\":{\"source\":{\"id\":\"2f0fcbd1-52f4-4a24-83df-1461d96d2c0e\",\"type\":\"ColumnDataSource\"}},\"id\":\"326b841f-90c9-411c-aa9f-6d3daacc3694\",\"type\":\"CDSView\"},{\"attributes\":{\"callback\":null,\"column_names\":[\"x\",\"y\"],\"data\":{\"x\":[6,7,8,9,10,11,12,13,14],\"y\":[0.00015702866088661608,0.0007457901439919703,0.0035420472653535213,0.016822559175753114,0.07989687206883449,0.3794612995378526,1.8022091994152416,8.559391965432614,40.651879283317484]}},\"id\":\"81fc5307-bb95-4eb2-ad05-3e9cf2094db5\",\"type\":\"ColumnDataSource\"},{\"attributes\":{\"data_source\":{\"id\":\"c395a6ca-6357-487c-a317-0dd0790a2d49\",\"type\":\"ColumnDataSource\"},\"glyph\":{\"id\":\"d979c32c-3e99-49c9-99c0-d1e19513e969\",\"type\":\"Line\"},\"hover_glyph\":null,\"muted_glyph\":null,\"nonselection_glyph\":{\"id\":\"054947a0-1f5c-437a-8b0f-f8e72a9b11f6\",\"type\":\"Line\"},\"selection_glyph\":null,\"view\":{\"id\":\"9e7115e5-5562-43a4-bfd4-d8a42d9a919a\",\"type\":\"CDSView\"}},\"id\":\"0983c18f-9e63-45de-82ee-cc641c8934c2\",\"type\":\"GlyphRenderer\"},{\"attributes\":{\"label\":{\"value\":\"soln4 (pred)\"},\"renderers\":[{\"id\":\"1712016a-a2d9-4931-a154-6044d3092716\",\"type\":\"GlyphRenderer\"}]},\"id\":\"f4f5a8bc-6d2b-4132-8c12-2a2dd4708765\",\"type\":\"LegendItem\"},{\"attributes\":{\"line_alpha\":0.1,\"line_color\":\"#1f77b4\",\"x\":{\"field\":\"x\"},\"y\":{\"field\":\"y\"}},\"id\":\"4a483417-5116-4f33-bf70-31146424b701\",\"type\":\"Line\"},{\"attributes\":{\"callback\":null,\"column_names\":[\"x\",\"y\"],\"data\":{\"x\":[6,7,8,9,10,11,12],\"y\":[0.001347447800914911,0.007065315026219537,0.037046835050551875,0.19425432300888784,1.0185685755922411,5.340843524684589,28.004603949792894]}},\"id\":\"2f0fcbd1-52f4-4a24-83df-1461d96d2c0e\",\"type\":\"ColumnDataSource\"},{\"attributes\":{\"source\":{\"id\":\"81fc5307-bb95-4eb2-ad05-3e9cf2094db5\",\"type\":\"ColumnDataSource\"}},\"id\":\"013e935b-859b-4a7a-8151-3ac2bba13e65\",\"type\":\"CDSView\"},{\"attributes\":{\"data_source\":{\"id\":\"e3d7914f-a7e8-4ceb-80d2-677d93d2acef\",\"type\":\"ColumnDataSource\"},\"glyph\":{\"id\":\"c7bd2ce7-53e6-496f-949e-d184c1cf3553\",\"type\":\"Line\"},\"hover_glyph\":null,\"muted_glyph\":null,\"nonselection_glyph\":{\"id\":\"618c5432-0278-477e-ba6c-8d890a8dd0af\",\"type\":\"Line\"},\"selection_glyph\":null,\"view\":{\"id\":\"68965b2c-ca5d-446f-aaa1-43235b92cd12\",\"type\":\"CDSView\"}},\"id\":\"3567d8d4-110b-45e1-9872-8d763aca83fb\",\"type\":\"GlyphRenderer\"},{\"attributes\":{\"line_alpha\":0.1,\"line_color\":\"#1f77b4\",\"line_width\":2,\"x\":{\"field\":\"x\"},\"y\":{\"field\":\"y\"}},\"id\":\"2d331d9f-4945-4e7f-ae69-d69e6527e480\",\"type\":\"Line\"},{\"attributes\":{\"callback\":null,\"column_names\":[\"x\",\"y\"],\"data\":{\"x\":[6,7,8,9,10,11,12,13],\"y\":[0.000669362894986989,0.0023382614060436318,0.00891167076470618,0.03863145649996692,0.1681285595994268,0.7890903460029222,4.215942954997445,24.044861271999252]}},\"id\":\"118858e5-0b03-4920-9c19-4cd16ee6dab9\",\"type\":\"ColumnDataSource\"},{\"attributes\":{\"label\":{\"value\":\"soln3c (pred)\"},\"renderers\":[{\"id\":\"770309a4-ac7e-485d-bf09-8c7a42d52437\",\"type\":\"GlyphRenderer\"}]},\"id\":\"c311af71-471b-48e6-b491-8e95da500cd0\",\"type\":\"LegendItem\"},{\"attributes\":{\"label\":{\"value\":\"soln3 (pred)\"},\"renderers\":[{\"id\":\"a9a1480c-2b83-4b05-8276-b5c9f729665c\",\"type\":\"GlyphRenderer\"}]},\"id\":\"bd478855-def6-4d98-82f9-b0611564c40f\",\"type\":\"LegendItem\"},{\"attributes\":{\"line_alpha\":0.1,\"line_color\":\"#1f77b4\",\"x\":{\"field\":\"x\"},\"y\":{\"field\":\"y\"}},\"id\":\"69b65df7-c909-4c23-86d3-586932a219c0\",\"type\":\"Line\"},{\"attributes\":{\"callback\":null,\"column_names\":[\"x\",\"y\"],\"data\":{\"x\":[6,7,8,9,10,11],\"y\":[0.0014680678911416511,0.013978226810476536,0.13309386162868686,1.2672548702643482,12.066183117362968,114.88831365971795]}},\"id\":\"aaa58f19-bcfc-452e-aa67-14b9340909a9\",\"type\":\"ColumnDataSource\"},{\"attributes\":{\"callback\":null,\"column_names\":[\"x\",\"y\"],\"data\":{\"x\":[6,7,8,9,10,11,12,13,14],\"y\":[0.00022404563998861703,0.000786314182736973,0.003206448287399569,0.013826071758059345,0.06264786599993906,0.3175519533336531,1.6236238229976152,9.273948764999659,56.707586550001]}},\"id\":\"c7b65bd9-b02f-47f1-8549-984e73cb9370\",\"type\":\"ColumnDataSource\"},{\"attributes\":{\"line_color\":\"#98df8a\",\"x\":{\"field\":\"x\"},\"y\":{\"field\":\"y\"}},\"id\":\"611e45a9-ae8a-4d36-96c7-abca41c8d37e\",\"type\":\"Line\"},{\"attributes\":{\"label\":{\"value\":\"soln3c\"},\"renderers\":[{\"id\":\"3567d8d4-110b-45e1-9872-8d763aca83fb\",\"type\":\"GlyphRenderer\"}]},\"id\":\"2781df4d-97be-415e-9d1c-dae8853c6c64\",\"type\":\"LegendItem\"},{\"attributes\":{\"source\":{\"id\":\"4fe6ddd7-befe-4d9a-bab0-b868237ce114\",\"type\":\"ColumnDataSource\"}},\"id\":\"c2abbfaa-3234-4a54-b7f3-4c9e5786da30\",\"type\":\"CDSView\"},{\"attributes\":{\"line_alpha\":0.1,\"line_color\":\"#1f77b4\",\"x\":{\"field\":\"x\"},\"y\":{\"field\":\"y\"}},\"id\":\"a4ccb0a5-9dc3-4556-9894-a48f6e484f2c\",\"type\":\"Line\"},{\"attributes\":{\"line_color\":\"#8c564b\",\"line_width\":2,\"x\":{\"field\":\"x\"},\"y\":{\"field\":\"y\"}},\"id\":\"caf62d0b-50ef-4275-a122-ccc74b855f61\",\"type\":\"Line\"},{\"attributes\":{},\"id\":\"d148d8cb-005f-4181-a37f-8b6277197462\",\"type\":\"HelpTool\"},{\"attributes\":{\"line_alpha\":0.1,\"line_color\":\"#1f77b4\",\"line_width\":2,\"x\":{\"field\":\"x\"},\"y\":{\"field\":\"y\"}},\"id\":\"00864426-959c-4a9f-a682-43993613f8d9\",\"type\":\"Line\"},{\"attributes\":{\"callback\":null},\"id\":\"60201cb1-de3d-4bd3-80f7-88c257dcab85\",\"type\":\"DataRange1d\"},{\"attributes\":{\"line_color\":\"#9467bd\",\"line_width\":2,\"x\":{\"field\":\"x\"},\"y\":{\"field\":\"y\"}},\"id\":\"c7bd2ce7-53e6-496f-949e-d184c1cf3553\",\"type\":\"Line\"},{\"attributes\":{\"source\":{\"id\":\"ba518304-0e16-408d-911d-5cecd75fe8c8\",\"type\":\"ColumnDataSource\"}},\"id\":\"243e0a80-f976-48b2-a087-e70978b18227\",\"type\":\"CDSView\"},{\"attributes\":{},\"id\":\"5df65df6-73a5-46d8-a1f3-82e480b24f02\",\"type\":\"ResetTool\"},{\"attributes\":{\"callback\":null,\"column_names\":[\"x\",\"y\"],\"data\":{\"x\":[6,7,8,9,10,11,12],\"y\":[0.001525706194988743,0.0077872415114483414,0.0323860789599712,0.16361707750002097,0.9308539289995679,5.345768579001742,33.31667116800236]}},\"id\":\"c395a6ca-6357-487c-a317-0dd0790a2d49\",\"type\":\"ColumnDataSource\"},{\"attributes\":{\"source\":{\"id\":\"243c2c50-a8fd-477a-ad3e-2400424a0eb6\",\"type\":\"ColumnDataSource\"}},\"id\":\"eab88afc-e994-43ab-8ed8-4ac827e2f581\",\"type\":\"CDSView\"},{\"attributes\":{\"source\":{\"id\":\"98f29a3b-d6a9-4319-bb58-3d0c8aa077ae\",\"type\":\"ColumnDataSource\"}},\"id\":\"d0d36d00-8a74-4c80-bc31-c7ce9fd9662d\",\"type\":\"CDSView\"},{\"attributes\":{\"line_alpha\":0.1,\"line_color\":\"#1f77b4\",\"line_width\":2,\"x\":{\"field\":\"x\"},\"y\":{\"field\":\"y\"}},\"id\":\"618c5432-0278-477e-ba6c-8d890a8dd0af\",\"type\":\"Line\"},{\"attributes\":{},\"id\":\"030bea90-0115-49fc-8527-7bde38ccebd2\",\"type\":\"SaveTool\"},{\"attributes\":{\"overlay\":{\"id\":\"62b76fe6-9319-431b-a741-575d057f8d21\",\"type\":\"BoxAnnotation\"}},\"id\":\"32b46c72-ca16-48a5-adac-35b2975cc26a\",\"type\":\"BoxZoomTool\"},{\"attributes\":{},\"id\":\"d5daf67a-a2be-4170-b669-5cde6317f37d\",\"type\":\"PanTool\"},{\"attributes\":{\"line_color\":\"#d62728\",\"line_width\":2,\"x\":{\"field\":\"x\"},\"y\":{\"field\":\"y\"}},\"id\":\"5f6fe187-bbfc-453c-9315-b6a8bd03bd47\",\"type\":\"Line\"},{\"attributes\":{},\"id\":\"6b0d6c0f-c1bd-4071-845a-75d34c32d5a0\",\"type\":\"BasicTicker\"},{\"attributes\":{\"callback\":null,\"column_names\":[\"x\",\"y\"],\"data\":{\"x\":[6,7,8,9,10,11,12,13,14],\"y\":[0.00027087726017759576,0.0012609027806132933,0.005869358768306952,0.027321196273630062,0.12717705549928993,0.5919947019699245,2.7556678819507483,12.827319991793965,59.709712933692835]}},\"id\":\"243c2c50-a8fd-477a-ad3e-2400424a0eb6\",\"type\":\"ColumnDataSource\"},{\"attributes\":{\"line_color\":\"#ffbb78\",\"x\":{\"field\":\"x\"},\"y\":{\"field\":\"y\"}},\"id\":\"de367b63-fe93-44df-a740-6ff6ff0d411d\",\"type\":\"Line\"},{\"attributes\":{\"active_drag\":\"auto\",\"active_inspect\":\"auto\",\"active_scroll\":\"auto\",\"active_tap\":\"auto\",\"tools\":[{\"id\":\"d5daf67a-a2be-4170-b669-5cde6317f37d\",\"type\":\"PanTool\"},{\"id\":\"5dfd9fa2-c8fb-4782-b32a-c8cf576bea78\",\"type\":\"WheelZoomTool\"},{\"id\":\"32b46c72-ca16-48a5-adac-35b2975cc26a\",\"type\":\"BoxZoomTool\"},{\"id\":\"030bea90-0115-49fc-8527-7bde38ccebd2\",\"type\":\"SaveTool\"},{\"id\":\"5df65df6-73a5-46d8-a1f3-82e480b24f02\",\"type\":\"ResetTool\"},{\"id\":\"d148d8cb-005f-4181-a37f-8b6277197462\",\"type\":\"HelpTool\"}]},\"id\":\"e0c745fb-5135-407a-b94e-42614d3061e0\",\"type\":\"Toolbar\"},{\"attributes\":{\"source\":{\"id\":\"c395a6ca-6357-487c-a317-0dd0790a2d49\",\"type\":\"ColumnDataSource\"}},\"id\":\"9e7115e5-5562-43a4-bfd4-d8a42d9a919a\",\"type\":\"CDSView\"},{\"attributes\":{\"plot\":{\"id\":\"5ed7f570-447c-4c8c-b9ea-75c1ff540e2f\",\"subtype\":\"Figure\",\"type\":\"Plot\"},\"ticker\":{\"id\":\"6b0d6c0f-c1bd-4071-845a-75d34c32d5a0\",\"type\":\"BasicTicker\"}},\"id\":\"cc2e2b71-8b23-4045-a4e4-f0a2881a8ba3\",\"type\":\"Grid\"},{\"attributes\":{\"plot\":null,\"text\":\"Timings\"},\"id\":\"5a4c1ad1-45c0-465d-bb39-cb06a74f4511\",\"type\":\"Title\"},{\"attributes\":{\"label\":{\"value\":\"soln2 (pred)\"},\"renderers\":[{\"id\":\"317b27ab-6637-4672-b8c7-415804d86a64\",\"type\":\"GlyphRenderer\"}]},\"id\":\"6b037b72-9c06-41f7-a9d5-6ae75cf854e0\",\"type\":\"LegendItem\"},{\"attributes\":{},\"id\":\"5dfd9fa2-c8fb-4782-b32a-c8cf576bea78\",\"type\":\"WheelZoomTool\"},{\"attributes\":{\"data_source\":{\"id\":\"98f29a3b-d6a9-4319-bb58-3d0c8aa077ae\",\"type\":\"ColumnDataSource\"},\"glyph\":{\"id\":\"40333b8b-2fc8-49e5-9582-0239fb1dbc33\",\"type\":\"Line\"},\"hover_glyph\":null,\"muted_glyph\":null,\"nonselection_glyph\":{\"id\":\"302f3382-ad8c-43a3-a350-17c4c0d3daaa\",\"type\":\"Line\"},\"selection_glyph\":null,\"view\":{\"id\":\"d0d36d00-8a74-4c80-bc31-c7ce9fd9662d\",\"type\":\"CDSView\"}},\"id\":\"a9a1480c-2b83-4b05-8276-b5c9f729665c\",\"type\":\"GlyphRenderer\"},{\"attributes\":{\"label\":{\"value\":\"soln1\"},\"renderers\":[{\"id\":\"6cd00736-e083-466e-91f5-c045e07e8e66\",\"type\":\"GlyphRenderer\"}]},\"id\":\"685cc71b-00fb-4225-b4e2-8e62de870377\",\"type\":\"LegendItem\"},{\"attributes\":{\"label\":{\"value\":\"soln1 (pred)\"},\"renderers\":[{\"id\":\"d5affaad-5723-49cc-925d-9b27da7cfbf5\",\"type\":\"GlyphRenderer\"}]},\"id\":\"97357f3c-3938-4338-ba79-195354207d5a\",\"type\":\"LegendItem\"},{\"attributes\":{\"line_color\":\"#1f77b4\",\"line_width\":2,\"x\":{\"field\":\"x\"},\"y\":{\"field\":\"y\"}},\"id\":\"a2f56a84-9e38-423c-a17b-996ad517d229\",\"type\":\"Line\"},{\"attributes\":{\"line_color\":\"#aec7e8\",\"x\":{\"field\":\"x\"},\"y\":{\"field\":\"y\"}},\"id\":\"efc43236-f9ba-4c0d-932e-78de942bf9aa\",\"type\":\"Line\"},{\"attributes\":{\"line_color\":\"#ff9896\",\"x\":{\"field\":\"x\"},\"y\":{\"field\":\"y\"}},\"id\":\"40333b8b-2fc8-49e5-9582-0239fb1dbc33\",\"type\":\"Line\"},{\"attributes\":{\"source\":{\"id\":\"aaa58f19-bcfc-452e-aa67-14b9340909a9\",\"type\":\"ColumnDataSource\"}},\"id\":\"675c9e42-36b1-427b-b2fa-eca581a43942\",\"type\":\"CDSView\"},{\"attributes\":{\"bottom_units\":\"screen\",\"fill_alpha\":{\"value\":0.5},\"fill_color\":{\"value\":\"lightgrey\"},\"left_units\":\"screen\",\"level\":\"overlay\",\"line_alpha\":{\"value\":1.0},\"line_color\":{\"value\":\"black\"},\"line_dash\":[4,4],\"line_width\":{\"value\":2},\"plot\":null,\"render_mode\":\"css\",\"right_units\":\"screen\",\"top_units\":\"screen\"},\"id\":\"62b76fe6-9319-431b-a741-575d057f8d21\",\"type\":\"BoxAnnotation\"},{\"attributes\":{\"callback\":null,\"column_names\":[\"x\",\"y\"],\"data\":{\"x\":[6,7,8,9,10,11],\"y\":[0.0018197510199934187,0.01340412654129093,0.11007490678561485,1.0785956750005425,11.899116005999531,139.2367234759986]}},\"id\":\"4fe6ddd7-befe-4d9a-bab0-b868237ce114\",\"type\":\"ColumnDataSource\"},{\"attributes\":{\"line_alpha\":0.1,\"line_color\":\"#1f77b4\",\"x\":{\"field\":\"x\"},\"y\":{\"field\":\"y\"}},\"id\":\"0a7c372d-def2-41bc-8237-ea5fa45859b7\",\"type\":\"Line\"},{\"attributes\":{\"data_source\":{\"id\":\"c7b65bd9-b02f-47f1-8549-984e73cb9370\",\"type\":\"ColumnDataSource\"},\"glyph\":{\"id\":\"caf62d0b-50ef-4275-a122-ccc74b855f61\",\"type\":\"Line\"},\"hover_glyph\":null,\"muted_glyph\":null,\"nonselection_glyph\":{\"id\":\"b47d8ca7-a7c3-4145-904d-bb1a4cdc69d7\",\"type\":\"Line\"},\"selection_glyph\":null,\"view\":{\"id\":\"a05f4429-2fa2-4d52-9b4e-d3d4ea2e0a8d\",\"type\":\"CDSView\"}},\"id\":\"8af17f5b-ea9a-4168-b8c5-9b2a3a530a34\",\"type\":\"GlyphRenderer\"},{\"attributes\":{\"data_source\":{\"id\":\"ba518304-0e16-408d-911d-5cecd75fe8c8\",\"type\":\"ColumnDataSource\"},\"glyph\":{\"id\":\"611e45a9-ae8a-4d36-96c7-abca41c8d37e\",\"type\":\"Line\"},\"hover_glyph\":null,\"muted_glyph\":null,\"nonselection_glyph\":{\"id\":\"0a7c372d-def2-41bc-8237-ea5fa45859b7\",\"type\":\"Line\"},\"selection_glyph\":null,\"view\":{\"id\":\"243e0a80-f976-48b2-a087-e70978b18227\",\"type\":\"CDSView\"}},\"id\":\"f445eb8a-70ff-40b0-813a-6d2f9003579c\",\"type\":\"GlyphRenderer\"},{\"attributes\":{\"callback\":null},\"id\":\"dc19c703-1a0e-45d5-bd24-c0dd3a6b24db\",\"type\":\"DataRange1d\"},{\"attributes\":{\"line_alpha\":0.1,\"line_color\":\"#1f77b4\",\"line_width\":2,\"x\":{\"field\":\"x\"},\"y\":{\"field\":\"y\"}},\"id\":\"054947a0-1f5c-437a-8b0f-f8e72a9b11f6\",\"type\":\"Line\"},{\"attributes\":{\"axis_label\":\"time (sec)\",\"formatter\":{\"id\":\"106a1cd7-5c32-4629-a2bc-14ba4fed3d20\",\"type\":\"LogTickFormatter\"},\"plot\":{\"id\":\"5ed7f570-447c-4c8c-b9ea-75c1ff540e2f\",\"subtype\":\"Figure\",\"type\":\"Plot\"},\"ticker\":{\"id\":\"411d9cd6-d62b-47c6-be11-d3051fd56723\",\"type\":\"LogTicker\"}},\"id\":\"dea88f70-3ddf-4f31-8ecd-15e02af888ff\",\"type\":\"LogAxis\"},{\"attributes\":{\"data_source\":{\"id\":\"aaa58f19-bcfc-452e-aa67-14b9340909a9\",\"type\":\"ColumnDataSource\"},\"glyph\":{\"id\":\"efc43236-f9ba-4c0d-932e-78de942bf9aa\",\"type\":\"Line\"},\"hover_glyph\":null,\"muted_glyph\":null,\"nonselection_glyph\":{\"id\":\"4a483417-5116-4f33-bf70-31146424b701\",\"type\":\"Line\"},\"selection_glyph\":null,\"view\":{\"id\":\"675c9e42-36b1-427b-b2fa-eca581a43942\",\"type\":\"CDSView\"}},\"id\":\"d5affaad-5723-49cc-925d-9b27da7cfbf5\",\"type\":\"GlyphRenderer\"},{\"attributes\":{\"callback\":null,\"column_names\":[\"x\",\"y\"],\"data\":{\"x\":[6,7,8,9,10,11,12,13],\"y\":[0.0007698929446741214,0.0037372812675439135,0.018141835653068202,0.08806567590221366,0.4274960605103978,2.0751885440002162,10.073560649911519,48.89995391543334]}},\"id\":\"ba518304-0e16-408d-911d-5cecd75fe8c8\",\"type\":\"ColumnDataSource\"},{\"attributes\":{\"callback\":null,\"column_names\":[\"x\",\"y\"],\"data\":{\"x\":[6,7,8,9,10,11,12,13],\"y\":[0.0010884158649969323,0.0036510059672153028,0.015541944203707518,0.075160096583204,0.3391581900013989,1.8587268240007688,10.469380580998404,65.57166542400228]}},\"id\":\"2fddcc15-6fc0-4e3f-99c1-d0893b326913\",\"type\":\"ColumnDataSource\"},{\"attributes\":{\"axis_label\":\"N\",\"formatter\":{\"id\":\"3385919e-c46b-4528-a98d-f9e6aef76612\",\"type\":\"BasicTickFormatter\"},\"plot\":{\"id\":\"5ed7f570-447c-4c8c-b9ea-75c1ff540e2f\",\"subtype\":\"Figure\",\"type\":\"Plot\"},\"ticker\":{\"id\":\"6b0d6c0f-c1bd-4071-845a-75d34c32d5a0\",\"type\":\"BasicTicker\"}},\"id\":\"d6731eba-ff9e-4305-920c-bd24af9711f7\",\"type\":\"LinearAxis\"},{\"attributes\":{\"line_alpha\":0.1,\"line_color\":\"#1f77b4\",\"line_width\":2,\"x\":{\"field\":\"x\"},\"y\":{\"field\":\"y\"}},\"id\":\"b47d8ca7-a7c3-4145-904d-bb1a4cdc69d7\",\"type\":\"Line\"},{\"attributes\":{\"source\":{\"id\":\"118858e5-0b03-4920-9c19-4cd16ee6dab9\",\"type\":\"ColumnDataSource\"}},\"id\":\"bd914e82-e1ed-4160-8f06-2138f7079aa7\",\"type\":\"CDSView\"},{\"attributes\":{\"num_minor_ticks\":10},\"id\":\"411d9cd6-d62b-47c6-be11-d3051fd56723\",\"type\":\"LogTicker\"},{\"attributes\":{},\"id\":\"7c29f4ad-98fb-4ce0-ac8a-8305158351dd\",\"type\":\"LogScale\"},{\"attributes\":{\"line_alpha\":0.1,\"line_color\":\"#1f77b4\",\"x\":{\"field\":\"x\"},\"y\":{\"field\":\"y\"}},\"id\":\"302f3382-ad8c-43a3-a350-17c4c0d3daaa\",\"type\":\"Line\"},{\"attributes\":{\"dimension\":1,\"plot\":{\"id\":\"5ed7f570-447c-4c8c-b9ea-75c1ff540e2f\",\"subtype\":\"Figure\",\"type\":\"Plot\"},\"ticker\":{\"id\":\"411d9cd6-d62b-47c6-be11-d3051fd56723\",\"type\":\"LogTicker\"}},\"id\":\"fd0de781-aece-4cf6-9d64-da2f0c720f87\",\"type\":\"Grid\"},{\"attributes\":{\"data_source\":{\"id\":\"243c2c50-a8fd-477a-ad3e-2400424a0eb6\",\"type\":\"ColumnDataSource\"},\"glyph\":{\"id\":\"e25f1c3e-e063-406d-84bf-200e589d47b7\",\"type\":\"Line\"},\"hover_glyph\":null,\"muted_glyph\":null,\"nonselection_glyph\":{\"id\":\"69b65df7-c909-4c23-86d3-586932a219c0\",\"type\":\"Line\"},\"selection_glyph\":null,\"view\":{\"id\":\"eab88afc-e994-43ab-8ed8-4ac827e2f581\",\"type\":\"CDSView\"}},\"id\":\"770309a4-ac7e-485d-bf09-8c7a42d52437\",\"type\":\"GlyphRenderer\"},{\"attributes\":{\"source\":{\"id\":\"2fddcc15-6fc0-4e3f-99c1-d0893b326913\",\"type\":\"ColumnDataSource\"}},\"id\":\"a5203cac-ee35-4b8e-8581-2d4f600c4760\",\"type\":\"CDSView\"},{\"attributes\":{\"line_color\":\"#ff7f0e\",\"line_width\":2,\"x\":{\"field\":\"x\"},\"y\":{\"field\":\"y\"}},\"id\":\"d979c32c-3e99-49c9-99c0-d1e19513e969\",\"type\":\"Line\"},{\"attributes\":{\"below\":[{\"id\":\"d6731eba-ff9e-4305-920c-bd24af9711f7\",\"type\":\"LinearAxis\"}],\"left\":[{\"id\":\"dea88f70-3ddf-4f31-8ecd-15e02af888ff\",\"type\":\"LogAxis\"}],\"renderers\":[{\"id\":\"d6731eba-ff9e-4305-920c-bd24af9711f7\",\"type\":\"LinearAxis\"},{\"id\":\"cc2e2b71-8b23-4045-a4e4-f0a2881a8ba3\",\"type\":\"Grid\"},{\"id\":\"dea88f70-3ddf-4f31-8ecd-15e02af888ff\",\"type\":\"LogAxis\"},{\"id\":\"fd0de781-aece-4cf6-9d64-da2f0c720f87\",\"type\":\"Grid\"},{\"id\":\"62b76fe6-9319-431b-a741-575d057f8d21\",\"type\":\"BoxAnnotation\"},{\"id\":\"e9c90d39-92c2-48b1-be7c-7246fead6947\",\"type\":\"Legend\"},{\"id\":\"6cd00736-e083-466e-91f5-c045e07e8e66\",\"type\":\"GlyphRenderer\"},{\"id\":\"d5affaad-5723-49cc-925d-9b27da7cfbf5\",\"type\":\"GlyphRenderer\"},{\"id\":\"0983c18f-9e63-45de-82ee-cc641c8934c2\",\"type\":\"GlyphRenderer\"},{\"id\":\"317b27ab-6637-4672-b8c7-415804d86a64\",\"type\":\"GlyphRenderer\"},{\"id\":\"775643ab-1f8e-4f01-a784-4b83a0b39548\",\"type\":\"GlyphRenderer\"},{\"id\":\"f445eb8a-70ff-40b0-813a-6d2f9003579c\",\"type\":\"GlyphRenderer\"},{\"id\":\"7d1ab306-8150-46cb-87a4-bf3151d845d4\",\"type\":\"GlyphRenderer\"},{\"id\":\"a9a1480c-2b83-4b05-8276-b5c9f729665c\",\"type\":\"GlyphRenderer\"},{\"id\":\"3567d8d4-110b-45e1-9872-8d763aca83fb\",\"type\":\"GlyphRenderer\"},{\"id\":\"770309a4-ac7e-485d-bf09-8c7a42d52437\",\"type\":\"GlyphRenderer\"},{\"id\":\"8af17f5b-ea9a-4168-b8c5-9b2a3a530a34\",\"type\":\"GlyphRenderer\"},{\"id\":\"1712016a-a2d9-4931-a154-6044d3092716\",\"type\":\"GlyphRenderer\"}],\"title\":{\"id\":\"5a4c1ad1-45c0-465d-bb39-cb06a74f4511\",\"type\":\"Title\"},\"toolbar\":{\"id\":\"e0c745fb-5135-407a-b94e-42614d3061e0\",\"type\":\"Toolbar\"},\"x_range\":{\"id\":\"60201cb1-de3d-4bd3-80f7-88c257dcab85\",\"type\":\"DataRange1d\"},\"x_scale\":{\"id\":\"2aa1f993-3f49-4e28-aff4-cff4300ee17e\",\"type\":\"LinearScale\"},\"y_range\":{\"id\":\"dc19c703-1a0e-45d5-bd24-c0dd3a6b24db\",\"type\":\"DataRange1d\"},\"y_scale\":{\"id\":\"7c29f4ad-98fb-4ce0-ac8a-8305158351dd\",\"type\":\"LogScale\"}},\"id\":\"5ed7f570-447c-4c8c-b9ea-75c1ff540e2f\",\"subtype\":\"Figure\",\"type\":\"Plot\"},{\"attributes\":{\"line_color\":\"#c5b0d5\",\"x\":{\"field\":\"x\"},\"y\":{\"field\":\"y\"}},\"id\":\"e25f1c3e-e063-406d-84bf-200e589d47b7\",\"type\":\"Line\"},{\"attributes\":{\"label\":{\"value\":\"soln2b\"},\"renderers\":[{\"id\":\"775643ab-1f8e-4f01-a784-4b83a0b39548\",\"type\":\"GlyphRenderer\"}]},\"id\":\"d97b11dd-0618-4bb3-b085-1c68bdd21bb3\",\"type\":\"LegendItem\"},{\"attributes\":{\"data_source\":{\"id\":\"2fddcc15-6fc0-4e3f-99c1-d0893b326913\",\"type\":\"ColumnDataSource\"},\"glyph\":{\"id\":\"ff85e121-951c-4008-beb2-3d84cdb5cc47\",\"type\":\"Line\"},\"hover_glyph\":null,\"muted_glyph\":null,\"nonselection_glyph\":{\"id\":\"1e495c33-4b7e-4e59-afd9-2eabc09151fc\",\"type\":\"Line\"},\"selection_glyph\":null,\"view\":{\"id\":\"a5203cac-ee35-4b8e-8581-2d4f600c4760\",\"type\":\"CDSView\"}},\"id\":\"775643ab-1f8e-4f01-a784-4b83a0b39548\",\"type\":\"GlyphRenderer\"},{\"attributes\":{},\"id\":\"2aa1f993-3f49-4e28-aff4-cff4300ee17e\",\"type\":\"LinearScale\"},{\"attributes\":{\"line_color\":\"#2ca02c\",\"line_width\":2,\"x\":{\"field\":\"x\"},\"y\":{\"field\":\"y\"}},\"id\":\"ff85e121-951c-4008-beb2-3d84cdb5cc47\",\"type\":\"Line\"},{\"attributes\":{\"data_source\":{\"id\":\"118858e5-0b03-4920-9c19-4cd16ee6dab9\",\"type\":\"ColumnDataSource\"},\"glyph\":{\"id\":\"5f6fe187-bbfc-453c-9315-b6a8bd03bd47\",\"type\":\"Line\"},\"hover_glyph\":null,\"muted_glyph\":null,\"nonselection_glyph\":{\"id\":\"2d331d9f-4945-4e7f-ae69-d69e6527e480\",\"type\":\"Line\"},\"selection_glyph\":null,\"view\":{\"id\":\"bd914e82-e1ed-4160-8f06-2138f7079aa7\",\"type\":\"CDSView\"}},\"id\":\"7d1ab306-8150-46cb-87a4-bf3151d845d4\",\"type\":\"GlyphRenderer\"}],\"root_ids\":[\"5ed7f570-447c-4c8c-b9ea-75c1ff540e2f\"]},\"title\":\"Bokeh Application\",\"version\":\"0.12.14\"}};\n",
       "  var render_items = [{\"docid\":\"93c31e44-a810-45d5-ab27-3ca6dd9483cc\",\"elementid\":\"17750240-daee-4c0a-8ec9-d70e47b60487\",\"modelid\":\"5ed7f570-447c-4c8c-b9ea-75c1ff540e2f\"}];\n",
       "  root.Bokeh.embed.embed_items_notebook(docs_json, render_items);\n",
       "\n",
       "  }\n",
       "  if (root.Bokeh !== undefined) {\n",
       "    embed_document(root);\n",
       "  } else {\n",
       "    var attempts = 0;\n",
       "    var timer = setInterval(function(root) {\n",
       "      if (root.Bokeh !== undefined) {\n",
       "        embed_document(root);\n",
       "        clearInterval(timer);\n",
       "      }\n",
       "      attempts++;\n",
       "      if (attempts > 100) {\n",
       "        console.log(\"Bokeh: ERROR: Unable to run BokehJS code because BokehJS library is missing\")\n",
       "        clearInterval(timer);\n",
       "      }\n",
       "    }, 10, root)\n",
       "  }\n",
       "})(window);"
      ],
      "application/vnd.bokehjs_exec.v0+json": ""
     },
     "metadata": {
      "application/vnd.bokehjs_exec.v0+json": {
       "id": "5ed7f570-447c-4c8c-b9ea-75c1ff540e2f"
      }
     },
     "output_type": "display_data"
    }
   ],
   "source": [
    "plot_timings(('soln1', pred1), ('soln2', pred2), ('soln2b', pred2b), ('soln3', pred3), ('soln3c', pred3c), ('soln4', pred4))"
   ]
  },
  {
   "cell_type": "code",
   "execution_count": null,
   "metadata": {},
   "outputs": [],
   "source": []
  }
 ],
 "metadata": {
  "kernelspec": {
   "display_name": "Python 3",
   "language": "python",
   "name": "python3"
  },
  "language_info": {
   "codemirror_mode": {
    "name": "ipython",
    "version": 3
   },
   "file_extension": ".py",
   "mimetype": "text/x-python",
   "name": "python",
   "nbconvert_exporter": "python",
   "pygments_lexer": "ipython3",
   "version": "3.6.8rc1"
  }
 },
 "nbformat": 4,
 "nbformat_minor": 2
}
