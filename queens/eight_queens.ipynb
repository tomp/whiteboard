{
 "cells": [
  {
   "cell_type": "markdown",
   "metadata": {
    "slideshow": {
     "slide_type": "slide"
    }
   },
   "source": [
    "## Eight Queens Puzzle"
   ]
  },
  {
   "cell_type": "markdown",
   "metadata": {},
   "source": [
    "https://en.wikipedia.org/wiki/Eight_queens_puzzle\n",
    "\n",
    "The N-Queens puzzle refers to a set of related questions that stem from the challenge of arranging eight queens on a standard 8x8 chess board in such a way that no two queeens are attacking one another.  The more general problem extends this to N queens on an NxN chess board.  Except for N=2 and N=3, this is know to have solutions for all positive N.\n",
    "\n",
    "Some of the different forms of the challenge are:\n",
    "1. Find all of the arrangements of queens that satisfy the condition.\n",
    "2. Just count all of the arrangements of queens that satisfy the condition.\n",
    "3. Find at least *one* arrangment of queens that satify the condition.\n",
    "\n",
    "The second challenge (counting) has been [solved up to N=27](https://github.com/preusser/q27). (The number of solutions grows exponentially with N.)\n",
    "\n",
    "The third challenge (finding at least one arrangement) can solved for much, much larger values of N.  (Solutions up to N=500,000 have been [reported.](http://citeseerx.ist.psu.edu/viewdoc/download;jsessionid=4DC9292839FE7B1AFABA1EDB8183242C?doi=10.1.1.57.4685&rep=rep1&type=pdf))"
   ]
  },
  {
   "cell_type": "markdown",
   "metadata": {
    "slideshow": {
     "slide_type": "subslide"
    }
   },
   "source": [
    "**Utility functions**"
   ]
  },
  {
   "cell_type": "code",
   "execution_count": 1,
   "metadata": {
    "slideshow": {
     "slide_type": "-"
    }
   },
   "outputs": [],
   "source": [
    "import timeit\n",
    "\n",
    "def timings(fn, maxtime=10, runs=0):\n",
    "    \"\"\"Time the given function, fn(N), for increasing values of N, from N=6.\n",
    "    This continues until the calculation time exceeds `maxtime` seconds.\n",
    "    If a non-zero value for `runs` is given, it is evaluted that many times\n",
    "    for each value of N.  If `runs` is zero, we try to pick a number of\n",
    "    evaluations that totals to roughly 1 second.\n",
    "    \n",
    "    A list of (n, timing) tuples is returned.\n",
    "    \"\"\"\n",
    "    result = []\n",
    "    n, exec_time = 6, 0.001\n",
    "    while exec_time < maxtime:\n",
    "        nrun = runs or max(1, int(0.2/exec_time))  # assume time increases ~5x each round.\n",
    "        exec_time = timeit.timeit(\"fn(n)\", number=nrun, globals=locals()) / nrun\n",
    "        result.append((n, exec_time))\n",
    "        n += 1              \n",
    "    return result"
   ]
  },
  {
   "cell_type": "code",
   "execution_count": 2,
   "metadata": {
    "slideshow": {
     "slide_type": "subslide"
    }
   },
   "outputs": [],
   "source": [
    "import numpy as np\n",
    "\n",
    "def expfit(n, y):\n",
    "    \"\"\"Fit the (n, y) data to a simple exponential model y = exp(a*x + b)\n",
    "    and print the results.  The factor exp(a) and offset b are displayed,\n",
    "    along with the predictions for each point.\n",
    "    \n",
    "    A list of (n, timing, predicted timing) tuples is also returned.\n",
    "    \"\"\"\n",
    "    cf = np.polyfit(n, np.log(y), 1)\n",
    "    print(\"exp(a): {:3f}\\nb: {}\".format(np.exp(cf[0]), cf[1]))\n",
    "    yp = np.exp(np.polyval(cf, n))\n",
    "    print(\"\\n\".join([\"{:2d}: {:6f}  pred: {:6f}\".format(*val) for val in zip(n, y, yp)]))\n",
    "    return list(zip(n, y, yp))"
   ]
  },
  {
   "cell_type": "code",
   "execution_count": 3,
   "metadata": {
    "slideshow": {
     "slide_type": "subslide"
    }
   },
   "outputs": [
    {
     "data": {
      "text/html": [
       "\n",
       "    <div class=\"bk-root\">\n",
       "        <a href=\"https://bokeh.pydata.org\" target=\"_blank\" class=\"bk-logo bk-logo-small bk-logo-notebook\"></a>\n",
       "        <span id=\"efc4e93e-b0ec-41ff-8e71-ebff690e469d\">Loading BokehJS ...</span>\n",
       "    </div>"
      ]
     },
     "metadata": {},
     "output_type": "display_data"
    },
    {
     "data": {
      "application/javascript": [
       "\n",
       "(function(root) {\n",
       "  function now() {\n",
       "    return new Date();\n",
       "  }\n",
       "\n",
       "  var force = true;\n",
       "\n",
       "  if (typeof (root._bokeh_onload_callbacks) === \"undefined\" || force === true) {\n",
       "    root._bokeh_onload_callbacks = [];\n",
       "    root._bokeh_is_loading = undefined;\n",
       "  }\n",
       "\n",
       "  var JS_MIME_TYPE = 'application/javascript';\n",
       "  var HTML_MIME_TYPE = 'text/html';\n",
       "  var EXEC_MIME_TYPE = 'application/vnd.bokehjs_exec.v0+json';\n",
       "  var CLASS_NAME = 'output_bokeh rendered_html';\n",
       "\n",
       "  /**\n",
       "   * Render data to the DOM node\n",
       "   */\n",
       "  function render(props, node) {\n",
       "    var script = document.createElement(\"script\");\n",
       "    node.appendChild(script);\n",
       "  }\n",
       "\n",
       "  /**\n",
       "   * Handle when an output is cleared or removed\n",
       "   */\n",
       "  function handleClearOutput(event, handle) {\n",
       "    var cell = handle.cell;\n",
       "\n",
       "    var id = cell.output_area._bokeh_element_id;\n",
       "    var server_id = cell.output_area._bokeh_server_id;\n",
       "    // Clean up Bokeh references\n",
       "    if (id !== undefined) {\n",
       "      Bokeh.index[id].model.document.clear();\n",
       "      delete Bokeh.index[id];\n",
       "    }\n",
       "\n",
       "    if (server_id !== undefined) {\n",
       "      // Clean up Bokeh references\n",
       "      var cmd = \"from bokeh.io.state import curstate; print(curstate().uuid_to_server['\" + server_id + \"'].get_sessions()[0].document.roots[0]._id)\";\n",
       "      cell.notebook.kernel.execute(cmd, {\n",
       "        iopub: {\n",
       "          output: function(msg) {\n",
       "            var element_id = msg.content.text.trim();\n",
       "            Bokeh.index[element_id].model.document.clear();\n",
       "            delete Bokeh.index[element_id];\n",
       "          }\n",
       "        }\n",
       "      });\n",
       "      // Destroy server and session\n",
       "      var cmd = \"import bokeh.io.notebook as ion; ion.destroy_server('\" + server_id + \"')\";\n",
       "      cell.notebook.kernel.execute(cmd);\n",
       "    }\n",
       "  }\n",
       "\n",
       "  /**\n",
       "   * Handle when a new output is added\n",
       "   */\n",
       "  function handleAddOutput(event, handle) {\n",
       "    var output_area = handle.output_area;\n",
       "    var output = handle.output;\n",
       "\n",
       "    // limit handleAddOutput to display_data with EXEC_MIME_TYPE content only\n",
       "    if ((output.output_type != \"display_data\") || (!output.data.hasOwnProperty(EXEC_MIME_TYPE))) {\n",
       "      return\n",
       "    }\n",
       "\n",
       "    var toinsert = output_area.element.find(\".\" + CLASS_NAME.split(' ')[0]);\n",
       "\n",
       "    if (output.metadata[EXEC_MIME_TYPE][\"id\"] !== undefined) {\n",
       "      toinsert[0].firstChild.textContent = output.data[JS_MIME_TYPE];\n",
       "      // store reference to embed id on output_area\n",
       "      output_area._bokeh_element_id = output.metadata[EXEC_MIME_TYPE][\"id\"];\n",
       "    }\n",
       "    if (output.metadata[EXEC_MIME_TYPE][\"server_id\"] !== undefined) {\n",
       "      var bk_div = document.createElement(\"div\");\n",
       "      bk_div.innerHTML = output.data[HTML_MIME_TYPE];\n",
       "      var script_attrs = bk_div.children[0].attributes;\n",
       "      for (var i = 0; i < script_attrs.length; i++) {\n",
       "        toinsert[0].firstChild.setAttribute(script_attrs[i].name, script_attrs[i].value);\n",
       "      }\n",
       "      // store reference to server id on output_area\n",
       "      output_area._bokeh_server_id = output.metadata[EXEC_MIME_TYPE][\"server_id\"];\n",
       "    }\n",
       "  }\n",
       "\n",
       "  function register_renderer(events, OutputArea) {\n",
       "\n",
       "    function append_mime(data, metadata, element) {\n",
       "      // create a DOM node to render to\n",
       "      var toinsert = this.create_output_subarea(\n",
       "        metadata,\n",
       "        CLASS_NAME,\n",
       "        EXEC_MIME_TYPE\n",
       "      );\n",
       "      this.keyboard_manager.register_events(toinsert);\n",
       "      // Render to node\n",
       "      var props = {data: data, metadata: metadata[EXEC_MIME_TYPE]};\n",
       "      render(props, toinsert[0]);\n",
       "      element.append(toinsert);\n",
       "      return toinsert\n",
       "    }\n",
       "\n",
       "    /* Handle when an output is cleared or removed */\n",
       "    events.on('clear_output.CodeCell', handleClearOutput);\n",
       "    events.on('delete.Cell', handleClearOutput);\n",
       "\n",
       "    /* Handle when a new output is added */\n",
       "    events.on('output_added.OutputArea', handleAddOutput);\n",
       "\n",
       "    /**\n",
       "     * Register the mime type and append_mime function with output_area\n",
       "     */\n",
       "    OutputArea.prototype.register_mime_type(EXEC_MIME_TYPE, append_mime, {\n",
       "      /* Is output safe? */\n",
       "      safe: true,\n",
       "      /* Index of renderer in `output_area.display_order` */\n",
       "      index: 0\n",
       "    });\n",
       "  }\n",
       "\n",
       "  // register the mime type if in Jupyter Notebook environment and previously unregistered\n",
       "  if (root.Jupyter !== undefined) {\n",
       "    var events = require('base/js/events');\n",
       "    var OutputArea = require('notebook/js/outputarea').OutputArea;\n",
       "\n",
       "    if (OutputArea.prototype.mime_types().indexOf(EXEC_MIME_TYPE) == -1) {\n",
       "      register_renderer(events, OutputArea);\n",
       "    }\n",
       "  }\n",
       "\n",
       "  \n",
       "  if (typeof (root._bokeh_timeout) === \"undefined\" || force === true) {\n",
       "    root._bokeh_timeout = Date.now() + 5000;\n",
       "    root._bokeh_failed_load = false;\n",
       "  }\n",
       "\n",
       "  var NB_LOAD_WARNING = {'data': {'text/html':\n",
       "     \"<div style='background-color: #fdd'>\\n\"+\n",
       "     \"<p>\\n\"+\n",
       "     \"BokehJS does not appear to have successfully loaded. If loading BokehJS from CDN, this \\n\"+\n",
       "     \"may be due to a slow or bad network connection. Possible fixes:\\n\"+\n",
       "     \"</p>\\n\"+\n",
       "     \"<ul>\\n\"+\n",
       "     \"<li>re-rerun `output_notebook()` to attempt to load from CDN again, or</li>\\n\"+\n",
       "     \"<li>use INLINE resources instead, as so:</li>\\n\"+\n",
       "     \"</ul>\\n\"+\n",
       "     \"<code>\\n\"+\n",
       "     \"from bokeh.resources import INLINE\\n\"+\n",
       "     \"output_notebook(resources=INLINE)\\n\"+\n",
       "     \"</code>\\n\"+\n",
       "     \"</div>\"}};\n",
       "\n",
       "  function display_loaded() {\n",
       "    var el = document.getElementById(\"efc4e93e-b0ec-41ff-8e71-ebff690e469d\");\n",
       "    if (el != null) {\n",
       "      el.textContent = \"BokehJS is loading...\";\n",
       "    }\n",
       "    if (root.Bokeh !== undefined) {\n",
       "      if (el != null) {\n",
       "        el.textContent = \"BokehJS \" + root.Bokeh.version + \" successfully loaded.\";\n",
       "      }\n",
       "    } else if (Date.now() < root._bokeh_timeout) {\n",
       "      setTimeout(display_loaded, 100)\n",
       "    }\n",
       "  }\n",
       "\n",
       "\n",
       "  function run_callbacks() {\n",
       "    try {\n",
       "      root._bokeh_onload_callbacks.forEach(function(callback) { callback() });\n",
       "    }\n",
       "    finally {\n",
       "      delete root._bokeh_onload_callbacks\n",
       "    }\n",
       "    console.info(\"Bokeh: all callbacks have finished\");\n",
       "  }\n",
       "\n",
       "  function load_libs(js_urls, callback) {\n",
       "    root._bokeh_onload_callbacks.push(callback);\n",
       "    if (root._bokeh_is_loading > 0) {\n",
       "      console.log(\"Bokeh: BokehJS is being loaded, scheduling callback at\", now());\n",
       "      return null;\n",
       "    }\n",
       "    if (js_urls == null || js_urls.length === 0) {\n",
       "      run_callbacks();\n",
       "      return null;\n",
       "    }\n",
       "    console.log(\"Bokeh: BokehJS not loaded, scheduling load and callback at\", now());\n",
       "    root._bokeh_is_loading = js_urls.length;\n",
       "    for (var i = 0; i < js_urls.length; i++) {\n",
       "      var url = js_urls[i];\n",
       "      var s = document.createElement('script');\n",
       "      s.src = url;\n",
       "      s.async = false;\n",
       "      s.onreadystatechange = s.onload = function() {\n",
       "        root._bokeh_is_loading--;\n",
       "        if (root._bokeh_is_loading === 0) {\n",
       "          console.log(\"Bokeh: all BokehJS libraries loaded\");\n",
       "          run_callbacks()\n",
       "        }\n",
       "      };\n",
       "      s.onerror = function() {\n",
       "        console.warn(\"failed to load library \" + url);\n",
       "      };\n",
       "      console.log(\"Bokeh: injecting script tag for BokehJS library: \", url);\n",
       "      document.getElementsByTagName(\"head\")[0].appendChild(s);\n",
       "    }\n",
       "  };var element = document.getElementById(\"efc4e93e-b0ec-41ff-8e71-ebff690e469d\");\n",
       "  if (element == null) {\n",
       "    console.log(\"Bokeh: ERROR: autoload.js configured with elementid 'efc4e93e-b0ec-41ff-8e71-ebff690e469d' but no matching script tag was found. \")\n",
       "    return false;\n",
       "  }\n",
       "\n",
       "  var js_urls = [\"https://cdn.pydata.org/bokeh/release/bokeh-0.12.14.min.js\", \"https://cdn.pydata.org/bokeh/release/bokeh-widgets-0.12.14.min.js\", \"https://cdn.pydata.org/bokeh/release/bokeh-tables-0.12.14.min.js\", \"https://cdn.pydata.org/bokeh/release/bokeh-gl-0.12.14.min.js\"];\n",
       "\n",
       "  var inline_js = [\n",
       "    function(Bokeh) {\n",
       "      Bokeh.set_log_level(\"info\");\n",
       "    },\n",
       "    \n",
       "    function(Bokeh) {\n",
       "      \n",
       "    },\n",
       "    function(Bokeh) {\n",
       "      console.log(\"Bokeh: injecting CSS: https://cdn.pydata.org/bokeh/release/bokeh-0.12.14.min.css\");\n",
       "      Bokeh.embed.inject_css(\"https://cdn.pydata.org/bokeh/release/bokeh-0.12.14.min.css\");\n",
       "      console.log(\"Bokeh: injecting CSS: https://cdn.pydata.org/bokeh/release/bokeh-widgets-0.12.14.min.css\");\n",
       "      Bokeh.embed.inject_css(\"https://cdn.pydata.org/bokeh/release/bokeh-widgets-0.12.14.min.css\");\n",
       "      console.log(\"Bokeh: injecting CSS: https://cdn.pydata.org/bokeh/release/bokeh-tables-0.12.14.min.css\");\n",
       "      Bokeh.embed.inject_css(\"https://cdn.pydata.org/bokeh/release/bokeh-tables-0.12.14.min.css\");\n",
       "    }\n",
       "  ];\n",
       "\n",
       "  function run_inline_js() {\n",
       "    \n",
       "    if ((root.Bokeh !== undefined) || (force === true)) {\n",
       "      for (var i = 0; i < inline_js.length; i++) {\n",
       "        inline_js[i].call(root, root.Bokeh);\n",
       "      }if (force === true) {\n",
       "        display_loaded();\n",
       "      }} else if (Date.now() < root._bokeh_timeout) {\n",
       "      setTimeout(run_inline_js, 100);\n",
       "    } else if (!root._bokeh_failed_load) {\n",
       "      console.log(\"Bokeh: BokehJS failed to load within specified timeout.\");\n",
       "      root._bokeh_failed_load = true;\n",
       "    } else if (force !== true) {\n",
       "      var cell = $(document.getElementById(\"efc4e93e-b0ec-41ff-8e71-ebff690e469d\")).parents('.cell').data().cell;\n",
       "      cell.output_area.append_execute_result(NB_LOAD_WARNING)\n",
       "    }\n",
       "\n",
       "  }\n",
       "\n",
       "  if (root._bokeh_is_loading === 0) {\n",
       "    console.log(\"Bokeh: BokehJS loaded, going straight to plotting\");\n",
       "    run_inline_js();\n",
       "  } else {\n",
       "    load_libs(js_urls, function() {\n",
       "      console.log(\"Bokeh: BokehJS plotting callback run at\", now());\n",
       "      run_inline_js();\n",
       "    });\n",
       "  }\n",
       "}(window));"
      ],
      "application/vnd.bokehjs_load.v0+json": "\n(function(root) {\n  function now() {\n    return new Date();\n  }\n\n  var force = true;\n\n  if (typeof (root._bokeh_onload_callbacks) === \"undefined\" || force === true) {\n    root._bokeh_onload_callbacks = [];\n    root._bokeh_is_loading = undefined;\n  }\n\n  \n\n  \n  if (typeof (root._bokeh_timeout) === \"undefined\" || force === true) {\n    root._bokeh_timeout = Date.now() + 5000;\n    root._bokeh_failed_load = false;\n  }\n\n  var NB_LOAD_WARNING = {'data': {'text/html':\n     \"<div style='background-color: #fdd'>\\n\"+\n     \"<p>\\n\"+\n     \"BokehJS does not appear to have successfully loaded. If loading BokehJS from CDN, this \\n\"+\n     \"may be due to a slow or bad network connection. Possible fixes:\\n\"+\n     \"</p>\\n\"+\n     \"<ul>\\n\"+\n     \"<li>re-rerun `output_notebook()` to attempt to load from CDN again, or</li>\\n\"+\n     \"<li>use INLINE resources instead, as so:</li>\\n\"+\n     \"</ul>\\n\"+\n     \"<code>\\n\"+\n     \"from bokeh.resources import INLINE\\n\"+\n     \"output_notebook(resources=INLINE)\\n\"+\n     \"</code>\\n\"+\n     \"</div>\"}};\n\n  function display_loaded() {\n    var el = document.getElementById(\"efc4e93e-b0ec-41ff-8e71-ebff690e469d\");\n    if (el != null) {\n      el.textContent = \"BokehJS is loading...\";\n    }\n    if (root.Bokeh !== undefined) {\n      if (el != null) {\n        el.textContent = \"BokehJS \" + root.Bokeh.version + \" successfully loaded.\";\n      }\n    } else if (Date.now() < root._bokeh_timeout) {\n      setTimeout(display_loaded, 100)\n    }\n  }\n\n\n  function run_callbacks() {\n    try {\n      root._bokeh_onload_callbacks.forEach(function(callback) { callback() });\n    }\n    finally {\n      delete root._bokeh_onload_callbacks\n    }\n    console.info(\"Bokeh: all callbacks have finished\");\n  }\n\n  function load_libs(js_urls, callback) {\n    root._bokeh_onload_callbacks.push(callback);\n    if (root._bokeh_is_loading > 0) {\n      console.log(\"Bokeh: BokehJS is being loaded, scheduling callback at\", now());\n      return null;\n    }\n    if (js_urls == null || js_urls.length === 0) {\n      run_callbacks();\n      return null;\n    }\n    console.log(\"Bokeh: BokehJS not loaded, scheduling load and callback at\", now());\n    root._bokeh_is_loading = js_urls.length;\n    for (var i = 0; i < js_urls.length; i++) {\n      var url = js_urls[i];\n      var s = document.createElement('script');\n      s.src = url;\n      s.async = false;\n      s.onreadystatechange = s.onload = function() {\n        root._bokeh_is_loading--;\n        if (root._bokeh_is_loading === 0) {\n          console.log(\"Bokeh: all BokehJS libraries loaded\");\n          run_callbacks()\n        }\n      };\n      s.onerror = function() {\n        console.warn(\"failed to load library \" + url);\n      };\n      console.log(\"Bokeh: injecting script tag for BokehJS library: \", url);\n      document.getElementsByTagName(\"head\")[0].appendChild(s);\n    }\n  };var element = document.getElementById(\"efc4e93e-b0ec-41ff-8e71-ebff690e469d\");\n  if (element == null) {\n    console.log(\"Bokeh: ERROR: autoload.js configured with elementid 'efc4e93e-b0ec-41ff-8e71-ebff690e469d' but no matching script tag was found. \")\n    return false;\n  }\n\n  var js_urls = [\"https://cdn.pydata.org/bokeh/release/bokeh-0.12.14.min.js\", \"https://cdn.pydata.org/bokeh/release/bokeh-widgets-0.12.14.min.js\", \"https://cdn.pydata.org/bokeh/release/bokeh-tables-0.12.14.min.js\", \"https://cdn.pydata.org/bokeh/release/bokeh-gl-0.12.14.min.js\"];\n\n  var inline_js = [\n    function(Bokeh) {\n      Bokeh.set_log_level(\"info\");\n    },\n    \n    function(Bokeh) {\n      \n    },\n    function(Bokeh) {\n      console.log(\"Bokeh: injecting CSS: https://cdn.pydata.org/bokeh/release/bokeh-0.12.14.min.css\");\n      Bokeh.embed.inject_css(\"https://cdn.pydata.org/bokeh/release/bokeh-0.12.14.min.css\");\n      console.log(\"Bokeh: injecting CSS: https://cdn.pydata.org/bokeh/release/bokeh-widgets-0.12.14.min.css\");\n      Bokeh.embed.inject_css(\"https://cdn.pydata.org/bokeh/release/bokeh-widgets-0.12.14.min.css\");\n      console.log(\"Bokeh: injecting CSS: https://cdn.pydata.org/bokeh/release/bokeh-tables-0.12.14.min.css\");\n      Bokeh.embed.inject_css(\"https://cdn.pydata.org/bokeh/release/bokeh-tables-0.12.14.min.css\");\n    }\n  ];\n\n  function run_inline_js() {\n    \n    if ((root.Bokeh !== undefined) || (force === true)) {\n      for (var i = 0; i < inline_js.length; i++) {\n        inline_js[i].call(root, root.Bokeh);\n      }if (force === true) {\n        display_loaded();\n      }} else if (Date.now() < root._bokeh_timeout) {\n      setTimeout(run_inline_js, 100);\n    } else if (!root._bokeh_failed_load) {\n      console.log(\"Bokeh: BokehJS failed to load within specified timeout.\");\n      root._bokeh_failed_load = true;\n    } else if (force !== true) {\n      var cell = $(document.getElementById(\"efc4e93e-b0ec-41ff-8e71-ebff690e469d\")).parents('.cell').data().cell;\n      cell.output_area.append_execute_result(NB_LOAD_WARNING)\n    }\n\n  }\n\n  if (root._bokeh_is_loading === 0) {\n    console.log(\"Bokeh: BokehJS loaded, going straight to plotting\");\n    run_inline_js();\n  } else {\n    load_libs(js_urls, function() {\n      console.log(\"Bokeh: BokehJS plotting callback run at\", now());\n      run_inline_js();\n    });\n  }\n}(window));"
     },
     "metadata": {},
     "output_type": "display_data"
    }
   ],
   "source": [
    "from bokeh.plotting import figure, output_notebook, show\n",
    "from bokeh.palettes import Category20 \n",
    "output_notebook()\n",
    "\n",
    "def plot_timings(*named_timings, log=True):\n",
    "    \"\"\"Plot the given timings, each a tuple of the function name and\n",
    "    a list of timing data (n, timing, fitted timing).\n",
    "    \"\"\"\n",
    "    args = {'title': \"Timings\",\n",
    "            'x_axis_label': 'N',\n",
    "            'y_axis_label': 'time (sec)'}\n",
    "    if log:\n",
    "        args['y_axis_type'] = 'log'\n",
    "\n",
    "    fig = figure(**args)\n",
    "    \n",
    "    # add a line renderer with legend and line thickness\n",
    "    for i, timing in enumerate(named_timings):\n",
    "        name, xyp = timing\n",
    "        if len(xyp[0]) == 3:\n",
    "            n, y, yp = zip(*xyp)\n",
    "            fig.line(n, y, legend=name, line_width=2, color=Category20[20][2*i])\n",
    "            fig.line(n, yp, legend=name + \" (pred)\", line_width=1, color=Category20[20][2*i+1])\n",
    "        elif len(xyp[0]) == 2:\n",
    "            n, y = zip(*xyp)\n",
    "            fig.line(n, y, legend=name, line_width=2, color=Category20[20][2*i])\n",
    "        else:\n",
    "            raise ValueError(\"Can't decipher timing\")\n",
    "\n",
    "    # show the results\n",
    "    show(fig)"
   ]
  },
  {
   "cell_type": "code",
   "execution_count": 4,
   "metadata": {
    "slideshow": {
     "slide_type": "subslide"
    }
   },
   "outputs": [],
   "source": [
    "def print_solutions(solns):\n",
    "    for i, b in enumerate(solns):\n",
    "        print(\"{:2d}: {}\".format(i+1, \" \".join(map(str, b))))"
   ]
  },
  {
   "cell_type": "markdown",
   "metadata": {
    "slideshow": {
     "slide_type": "slide"
    }
   },
   "source": [
    "### 1. Consider all possible arrangements of the N queens on distinct rows and columns.\n",
    "* This is the most reasonable \"brute-force\" solution to the problem, because we know that, for every solution, the column numbers of the queens will be some permutation of the integers 1 to N.  We can generate those N! permutations directly.\n",
    "* The main work here is to evaluate whether each board is a solution or not."
   ]
  },
  {
   "cell_type": "code",
   "execution_count": 5,
   "metadata": {},
   "outputs": [],
   "source": [
    "NQUEEN = 8"
   ]
  },
  {
   "cell_type": "code",
   "execution_count": 6,
   "metadata": {},
   "outputs": [
    {
     "name": "stdout",
     "output_type": "stream",
     "text": [
      "Found 92 solutions\n"
     ]
    }
   ],
   "source": [
    "from itertools import permutations\n",
    "\n",
    "def attack(b):\n",
    "    \"\"\"Return True if any two queens attack each other.\"\"\"\n",
    "    for i in range(len(b)-1):\n",
    "        for j in range(i+1, len(b)):\n",
    "            if abs(b[i] - b[j]) == j - i:\n",
    "                return True\n",
    "    return False\n",
    "    \n",
    "def solution1(nqueen):\n",
    "    solns = []\n",
    "    for board in permutations(list(range(nqueen))):\n",
    "        if not attack(board):\n",
    "            solns.append(tuple(board))\n",
    "    return solns\n",
    "\n",
    "solns = solution1(NQUEEN)\n",
    "print(\"Found {} solutions\".format(len(solns)))\n",
    "# print_solutions(solns)"
   ]
  },
  {
   "cell_type": "code",
   "execution_count": 7,
   "metadata": {
    "slideshow": {
     "slide_type": "fragment"
    }
   },
   "outputs": [
    {
     "name": "stdout",
     "output_type": "stream",
     "text": [
      "exp(a): 8.963948\n",
      "b: -19.59004929231573\n",
      " 6: 0.001817  pred: 0.001611\n",
      " 7: 0.013543  pred: 0.014443\n",
      " 8: 0.114952  pred: 0.129463\n",
      " 9: 1.103358  pred: 1.160496\n",
      "10: 11.651505  pred: 10.402629\n"
     ]
    }
   ],
   "source": [
    "time1 = timings(solution1)\n",
    "n, y = zip(*time1)\n",
    "pred1 = expfit(n, y)"
   ]
  },
  {
   "cell_type": "markdown",
   "metadata": {
    "slideshow": {
     "slide_type": "slide"
    }
   },
   "source": [
    "### 2. Find solutions using an exhaustive depth-first search.\n",
    "* Doing a classic tree search for solutions should let us reduce the number of positions we need to look at, significantly, because it lets us backtrack as soon as we find that some queen placement prevents further queens from being placed.\n",
    "* In principle, a breadth-first search wouldn't examine more positions than this depth-first search, but it would require storing many more intermediate states.  Since we want to find all solutions, anyway, a depth-first search makes more sense."
   ]
  },
  {
   "cell_type": "markdown",
   "metadata": {},
   "source": [
    "#### a. Reuse the *attack()* function from the brute-force search"
   ]
  },
  {
   "cell_type": "code",
   "execution_count": 8,
   "metadata": {},
   "outputs": [
    {
     "name": "stdout",
     "output_type": "stream",
     "text": [
      "Found 92 solutions\n"
     ]
    }
   ],
   "source": [
    "def successors2(board, nqueen):\n",
    "    \"\"\"Return a generator yielding all new boards reachable from the\n",
    "    input state by placing a queen somewhere on the next open row.\n",
    "    \"\"\"\n",
    "    return [board + [j] for j in range(nqueen)\n",
    "            if j not in board and not attack(board + [j])]\n",
    "\n",
    "def solution2(nqueen):\n",
    "    solns = []\n",
    "    queue = successors2([], nqueen)\n",
    "    while queue:\n",
    "        b = queue.pop()\n",
    "        if len(b) == nqueen:\n",
    "            solns.append(b)\n",
    "        else:\n",
    "            queue.extend(successors2(b, nqueen))\n",
    "    return solns\n",
    "\n",
    "              \n",
    "solns = solution2(NQUEEN)\n",
    "print(\"Found {} solutions\".format(len(solns)))"
   ]
  },
  {
   "cell_type": "code",
   "execution_count": 9,
   "metadata": {
    "slideshow": {
     "slide_type": "fragment"
    }
   },
   "outputs": [
    {
     "name": "stdout",
     "output_type": "stream",
     "text": [
      "exp(a): 5.277850\n",
      "b: -16.55734601258002\n",
      " 6: 0.001640  pred: 0.001393\n",
      " 7: 0.007328  pred: 0.007353\n",
      " 8: 0.034752  pred: 0.038805\n",
      " 9: 0.180511  pred: 0.204809\n",
      "10: 0.998932  pred: 1.080951\n",
      "11: 5.792032  pred: 5.705098\n",
      "12: 34.652195  pred: 30.110649\n"
     ]
    }
   ],
   "source": [
    "time2 = timings(solution2)\n",
    "n, y = zip(*time2)\n",
    "pred2 = expfit(n, y)"
   ]
  },
  {
   "cell_type": "markdown",
   "metadata": {
    "slideshow": {
     "slide_type": "slide"
    }
   },
   "source": [
    "#### b. Only check attacks on newly added queens \n",
    "* When generating successor states, we really just need to check that each newly added queen isn't under attack from a previously placed queen.\n",
    "* This is faster and scales better than the *attack()* function."
   ]
  },
  {
   "cell_type": "code",
   "execution_count": 10,
   "metadata": {},
   "outputs": [
    {
     "name": "stdout",
     "output_type": "stream",
     "text": [
      "Found 92 solutions\n"
     ]
    }
   ],
   "source": [
    "def adds_attack(b, col):\n",
    "    \"\"\"Return True if a queen added at some column on the next row is under attack.\n",
    "    This should be all we need to check, since the input board b contains no attacks.\n",
    "    \"\"\"\n",
    "    row = len(b)\n",
    "    return any([abs(icol - col) == row - irow\n",
    "                for irow, icol in enumerate(b)])\n",
    "\n",
    "def successors2b(board, nqueen):\n",
    "    return [board + [j] for j in range(nqueen)\n",
    "            if j not in board and not adds_attack(board, j)]\n",
    "\n",
    "def solution2b(nqueen):\n",
    "    solns = []\n",
    "    queue = successors2b([], nqueen)\n",
    "    while queue:\n",
    "        b = queue.pop()\n",
    "        if len(b) == nqueen:\n",
    "            solns.append(b)\n",
    "        else:\n",
    "            queue.extend(successors2b(b, nqueen))\n",
    "    return solns\n",
    "              \n",
    "solns = solution2b(NQUEEN)\n",
    "print(\"Found {} solutions\".format(len(solns)))"
   ]
  },
  {
   "cell_type": "code",
   "execution_count": 11,
   "metadata": {
    "slideshow": {
     "slide_type": "fragment"
    }
   },
   "outputs": [
    {
     "name": "stdout",
     "output_type": "stream",
     "text": [
      "exp(a): 4.678310\n",
      "b: -16.259707521682543\n",
      " 6: 0.001080  pred: 0.000910\n",
      " 7: 0.004214  pred: 0.004257\n",
      " 8: 0.018134  pred: 0.019916\n",
      " 9: 0.082581  pred: 0.093175\n",
      "10: 0.390390  pred: 0.435902\n",
      "11: 2.004094  pred: 2.039284\n",
      "12: 11.437160  pred: 9.540401\n"
     ]
    }
   ],
   "source": [
    "time2b = timings(solution2b)\n",
    "n, y = zip(*time2b)\n",
    "pred2b = expfit(n, y)"
   ]
  },
  {
   "cell_type": "markdown",
   "metadata": {
    "slideshow": {
     "slide_type": "slide"
    }
   },
   "source": [
    "### 3. Track search state using tuples of bit vectors.\n",
    "* The state of a partially completed board is represented by three bit vectors that show the columns under attack by previously placed queens.\n",
    "    - One vector shows the columns in which a queen has been placed,\n",
    "    - One vector shows columns attacked diagonally from the right by a previously placed queen,\n",
    "    - One vector shows columns attacked diagonally from the left.\n",
    "* If we want to be able to show the final arrangement of queens, we also need to record the location of the queen in each row.\n",
    "\n",
    "Ref: **Martin Richards** (Cambridge), [Backtracking Algorithms in MCPL\n",
    "using Bit Patterns and Recursion](http://citeseerx.ist.psu.edu/viewdoc/download?doi=10.1.1.51.7113&rep=rep1&type=pdf)"
   ]
  },
  {
   "cell_type": "code",
   "execution_count": 12,
   "metadata": {},
   "outputs": [],
   "source": [
    "from collections import namedtuple\n",
    "\n",
    "def bits(i, nbits=NQUEEN):\n",
    "    \"\"\"Return a string containing the nbits-binary representation of integer i.\"\"\"\n",
    "    return bin((1 << nbits) | i)[3:]\n",
    "\n",
    "Queens = namedtuple('Queens', ['col', 'rd', 'ld', 'loc'])\n",
    "Queens.__repr__ = lambda q: \"{}, {}, {} ({})\".format(bits(q.col), bits(q.rd), bits(q.ld), \",\".join(map(str, q.loc)))\n",
    "\n",
    "def successors3(state, nqueen):\n",
    "    col = nqueen - 1\n",
    "    newq = 1 << col\n",
    "    excl = state.col | state.ld | state.rd\n",
    "    while newq:\n",
    "        if not (newq & excl):\n",
    "            yield Queens(state.col | newq,(state.rd | newq) >> 1, (state.ld | newq) << 1, state.loc + (col,))\n",
    "        col -= 1\n",
    "        newq = newq >> 1"
   ]
  },
  {
   "cell_type": "code",
   "execution_count": 13,
   "metadata": {
    "collapsed": true,
    "jupyter": {
     "outputs_hidden": true,
     "source_hidden": true
    },
    "slideshow": {
     "slide_type": "subslide"
    }
   },
   "outputs": [
    {
     "name": "stdout",
     "output_type": "stream",
     "text": [
      "00000000, 00000000, 00000000 ()\n",
      "- - - - - -\n",
      "10000000, 01000000, 00000000 (7)\n",
      "01000000, 00100000, 10000000 (6)\n",
      "00100000, 00010000, 01000000 (5)\n",
      "00010000, 00001000, 00100000 (4)\n",
      "00001000, 00000100, 00010000 (3)\n",
      "00000100, 00000010, 00001000 (2)\n",
      "00000010, 00000001, 00000100 (1)\n",
      "00000001, 00000000, 00000010 (0)\n",
      "===========\n",
      "00010000, 00001000, 00100000 (4)\n",
      "- - - - - -\n",
      "10010000, 01000100, 01000000 (4,7)\n",
      "01010000, 00100100, 11000000 (4,6)\n",
      "00010100, 00000110, 01001000 (4,2)\n",
      "00010010, 00000101, 01000100 (4,1)\n",
      "00010001, 00000100, 01000010 (4,0)\n",
      "===========\n",
      "10010000, 01000100, 01000000 (4,7)\n",
      "- - - - - -\n",
      "10110000, 00110010, 111000000 (4,7,5)\n",
      "10011000, 00100110, 110010000 (4,7,3)\n",
      "10010010, 00100011, 110000100 (4,7,1)\n",
      "10010001, 00100010, 110000010 (4,7,0)\n"
     ]
    }
   ],
   "source": [
    "# Verify that successors3() works the way we expect it to.\n",
    "q0 = Queens(0, 0, 0, ())\n",
    "print(q0)\n",
    "print('- - - - - -')\n",
    "for q in successors3(q0, NQUEEN):\n",
    "    print(q)\n",
    "print('===========')\n",
    "q1 = list(successors3(q0, NQUEEN))[3]\n",
    "print(q1)\n",
    "print('- - - - - -')\n",
    "for q in successors3(q1, NQUEEN):\n",
    "    print(q)\n",
    "print('===========')\n",
    "q2 = list(successors3(q1, NQUEEN))[0]\n",
    "print(q2)\n",
    "print('- - - - - -')\n",
    "for q in successors3(q2, NQUEEN):\n",
    "    print(q)"
   ]
  },
  {
   "cell_type": "markdown",
   "metadata": {
    "slideshow": {
     "slide_type": "slide"
    }
   },
   "source": [
    "#### a. Find all solutions"
   ]
  },
  {
   "cell_type": "code",
   "execution_count": 14,
   "metadata": {},
   "outputs": [
    {
     "name": "stdout",
     "output_type": "stream",
     "text": [
      "Found 92 solutions\n"
     ]
    }
   ],
   "source": [
    "def solution3(nqueen):\n",
    "    solns = []\n",
    "    complete = (1 << nqueen) - 1\n",
    "    queue = [q for q in successors3(Queens(0, 0, 0, ()), nqueen)]\n",
    "    while queue:\n",
    "        q = queue.pop()       \n",
    "        if q.col == complete:\n",
    "            solns.append(q.loc)\n",
    "        else:\n",
    "            for newq in successors3(q, nqueen):\n",
    "                queue.append(newq)\n",
    "    return solns\n",
    "              \n",
    "solns = solution3(NQUEEN)\n",
    "print(\"Found {} solutions\".format(len(solns)))"
   ]
  },
  {
   "cell_type": "code",
   "execution_count": 15,
   "metadata": {
    "slideshow": {
     "slide_type": "fragment"
    }
   },
   "outputs": [
    {
     "name": "stdout",
     "output_type": "stream",
     "text": [
      "exp(a): 4.489285\n",
      "b: -16.609297942767267\n",
      " 6: 0.000667  pred: 0.000501\n",
      " 7: 0.002326  pred: 0.002249\n",
      " 8: 0.008895  pred: 0.010095\n",
      " 9: 0.036683  pred: 0.045318\n",
      "10: 0.168084  pred: 0.203444\n",
      "11: 0.828152  pred: 0.913318\n",
      "12: 4.261791  pred: 4.100144\n",
      "13: 24.058910  pred: 18.406713\n"
     ]
    }
   ],
   "source": [
    "time3 = timings(solution3)\n",
    "n, y = zip(*time3)\n",
    "pred3 = expfit(n, y)"
   ]
  },
  {
   "cell_type": "markdown",
   "metadata": {
    "slideshow": {
     "slide_type": "slide"
    }
   },
   "source": [
    "#### b. Just count the number of solutions\n",
    "* Keeping track of which queens are in which columns isn't necessary if you just want to count the number of solutions.  So, we can simplify things a little by not keeping track of that.\n",
    "* The speedup from this is much less than I expected. (~8%)"
   ]
  },
  {
   "cell_type": "code",
   "execution_count": 16,
   "metadata": {},
   "outputs": [
    {
     "name": "stdout",
     "output_type": "stream",
     "text": [
      "Found 92 solutions\n"
     ]
    }
   ],
   "source": [
    "Queens2 = namedtuple('Queens', ['col', 'rd', 'ld'])\n",
    "Queens2.__repr__ = lambda q: \"{}, {}, {}\".format(bits(q.col), bits(q.rd), bits(q.ld))\n",
    "\n",
    "def successors3b(state, nqueen):\n",
    "    col = nqueen - 1\n",
    "    newq = 1 << col\n",
    "    excl = state.col | state.ld | state.rd\n",
    "    while newq:\n",
    "        if not (newq & excl):\n",
    "            yield Queens2(state.col | newq, (state.rd | newq) >> 1, (state.ld | newq) << 1)\n",
    "        col -= 1\n",
    "        newq = newq >> 1\n",
    "        \n",
    "def solution3b(nqueen):\n",
    "    count = 0\n",
    "    complete = (1 << nqueen) - 1\n",
    "    queue = [q for q in successors3b(Queens2(0, 0, 0), nqueen)]\n",
    "    while queue:\n",
    "        q = queue.pop()       \n",
    "        if q.col == complete:\n",
    "            count += 1\n",
    "        else:\n",
    "            for newq in successors3b(q, nqueen):\n",
    "                queue.append(newq)\n",
    "    return count\n",
    "              \n",
    "nsolns = solution3b(NQUEEN)\n",
    "print(\"Found {} solutions\".format(nsolns))"
   ]
  },
  {
   "cell_type": "code",
   "execution_count": 17,
   "metadata": {
    "slideshow": {
     "slide_type": "fragment"
    }
   },
   "outputs": [
    {
     "name": "stdout",
     "output_type": "stream",
     "text": [
      "exp(a): 4.492821\n",
      "b: -16.695693119441998\n",
      " 6: 0.000627  pred: 0.000462\n",
      " 7: 0.002114  pred: 0.002074\n",
      " 8: 0.008133  pred: 0.009318\n",
      " 9: 0.034220  pred: 0.041862\n",
      "10: 0.155686  pred: 0.188080\n",
      "11: 0.740646  pred: 0.845011\n",
      "12: 4.024793  pred: 3.796483\n",
      "13: 22.447378  pred: 17.056917\n"
     ]
    }
   ],
   "source": [
    "time3b = timings(solution3b)\n",
    "n, y = zip(*time3b)\n",
    "pred3b = expfit(n, y)"
   ]
  },
  {
   "cell_type": "markdown",
   "metadata": {
    "slideshow": {
     "slide_type": "slide"
    }
   },
   "source": [
    "#### c. Replace namedtuples with simple tuples\n",
    "* I was just curious how much overhead there was in using namedtuples.  It turns out it's significant. (~2x speedup)"
   ]
  },
  {
   "cell_type": "code",
   "execution_count": 18,
   "metadata": {},
   "outputs": [
    {
     "name": "stdout",
     "output_type": "stream",
     "text": [
      "Found 92 solutions\n"
     ]
    }
   ],
   "source": [
    "def successors3c(col, rd, ld, nqueen):\n",
    "    newq = 1 << (nqueen - 1)\n",
    "    excl = col | rd | ld\n",
    "    while newq:\n",
    "        if not (newq & excl):\n",
    "            yield (col | newq, (rd | newq) >> 1, (ld | newq) << 1)\n",
    "        newq = newq >> 1\n",
    "        \n",
    "def solution3c(nqueen):\n",
    "    count = 0\n",
    "    done = (1 << nqueen) - 1\n",
    "    queue = list(successors3c(0, 0, 0, nqueen))\n",
    "    while queue:\n",
    "        col, rd, ld = queue.pop()       \n",
    "        if col == done:\n",
    "            count += 1\n",
    "        else:\n",
    "            queue.extend(successors3c(col, rd, ld, nqueen))\n",
    "    return count\n",
    "              \n",
    "nsolns = solution3c(NQUEEN)\n",
    "print(\"Found {} solutions\".format(nsolns))"
   ]
  },
  {
   "cell_type": "code",
   "execution_count": 19,
   "metadata": {
    "slideshow": {
     "slide_type": "fragment"
    }
   },
   "outputs": [
    {
     "name": "stdout",
     "output_type": "stream",
     "text": [
      "exp(a): 4.480427\n",
      "b: -17.16838004717312\n",
      " 6: 0.000388  pred: 0.000283\n",
      " 7: 0.001283  pred: 0.001268\n",
      " 8: 0.004987  pred: 0.005681\n",
      " 9: 0.020873  pred: 0.025453\n",
      "10: 0.093134  pred: 0.114041\n",
      "11: 0.448964  pred: 0.510953\n",
      "12: 2.376548  pred: 2.289288\n",
      "13: 13.798115  pred: 10.256988\n"
     ]
    }
   ],
   "source": [
    "time3c = timings(solution3c)\n",
    "n, y = zip(*time3c)\n",
    "pred3c = expfit(n, y)"
   ]
  },
  {
   "cell_type": "markdown",
   "metadata": {},
   "source": [
    "#### d. Optimize the iteration over bits in the bitvectors\n",
    "* Instead of checking bit by bit for available positions for the queen on each row, we can directly generate bit-masks for each available position.\n",
    "* This significantly reduces the number of positions we need to iterate over and gives a 2x speedup."
   ]
  },
  {
   "cell_type": "code",
   "execution_count": 20,
   "metadata": {},
   "outputs": [
    {
     "name": "stdout",
     "output_type": "stream",
     "text": [
      "Found 92 solutions\n"
     ]
    }
   ],
   "source": [
    "def solution3d(nqueen):\n",
    "    count = 0\n",
    "    done = (1 << nqueen) - 1\n",
    "    \n",
    "    def successors3d(col, rd, ld):\n",
    "        nonlocal done\n",
    "        avail = ~(col | rd | ld) & done\n",
    "        while avail:\n",
    "            newq = avail & -avail\n",
    "            yield (col | newq, (rd | newq) >> 1, (ld | newq) << 1)\n",
    "            avail -= newq\n",
    "\n",
    "    queue = list(successors3d(0, 0, 0))\n",
    "    while queue:\n",
    "        col, rd, ld = queue.pop()       \n",
    "        if col == done:\n",
    "            count += 1\n",
    "        else:\n",
    "            queue.extend(successors3d(col, rd, ld))\n",
    "    return count\n",
    "              \n",
    "nsolns = solution3d(NQUEEN)\n",
    "print(\"Found {} solutions\".format(nsolns))"
   ]
  },
  {
   "cell_type": "code",
   "execution_count": 21,
   "metadata": {},
   "outputs": [
    {
     "name": "stdout",
     "output_type": "stream",
     "text": [
      "exp(a): 4.435498\n",
      "b: -17.51507951911013\n",
      " 6: 0.000285  pred: 0.000188\n",
      " 7: 0.000884  pred: 0.000835\n",
      " 8: 0.003263  pred: 0.003705\n",
      " 9: 0.012427  pred: 0.016435\n",
      "10: 0.060000  pred: 0.072899\n",
      "11: 0.253134  pred: 0.323343\n",
      "12: 1.368514  pred: 1.434187\n",
      "13: 6.808153  pred: 6.361334\n",
      "14: 40.267641  pred: 28.215683\n"
     ]
    }
   ],
   "source": [
    "time3d = timings(solution3d)\n",
    "n, y = zip(*time3d)\n",
    "pred3d = expfit(n, y)"
   ]
  },
  {
   "cell_type": "markdown",
   "metadata": {
    "slideshow": {
     "slide_type": "slide"
    }
   },
   "source": [
    "### 4. Replace iterative search with a recursive search\n",
    "* This doesn't reduce the number of positions that are examined, but it avoids having to manage a queue.  This both simplifies the logic a little, and reduces memory use."
   ]
  },
  {
   "cell_type": "code",
   "execution_count": 31,
   "metadata": {},
   "outputs": [
    {
     "name": "stdout",
     "output_type": "stream",
     "text": [
      "Found 92 solutions\n"
     ]
    }
   ],
   "source": [
    "def solution4(nqueen):\n",
    "    done = (1 << nqueen) - 1\n",
    "    count = 0\n",
    "\n",
    "    def count4(col, rd, ld):\n",
    "        nonlocal count\n",
    "        if col == done:\n",
    "            count += 1\n",
    "            return\n",
    "        avail = ~(col | rd | ld) & done\n",
    "        while avail:\n",
    "            newq = avail & -avail\n",
    "            count4(col | newq, (rd | newq) >> 1, (ld | newq) << 1)\n",
    "            avail -= newq\n",
    "        \n",
    "    count4(0, 0, 0)\n",
    "    return count\n",
    "\n",
    "              \n",
    "nsolns = solution4(NQUEEN)\n",
    "print(\"Found {} solutions\".format(nsolns))"
   ]
  },
  {
   "cell_type": "code",
   "execution_count": 32,
   "metadata": {},
   "outputs": [
    {
     "name": "stdout",
     "output_type": "stream",
     "text": [
      "exp(a): 4.504990\n",
      "b: -18.3488073577283\n",
      " 6: 0.000127  pred: 0.000090\n",
      " 7: 0.000450  pred: 0.000405\n",
      " 8: 0.001658  pred: 0.001823\n",
      " 9: 0.006770  pred: 0.008212\n",
      "10: 0.027383  pred: 0.036996\n",
      "11: 0.131270  pred: 0.166666\n",
      "12: 0.677486  pred: 0.750827\n",
      "13: 3.795423  pred: 3.382468\n",
      "14: 21.811975  pred: 15.237985\n"
     ]
    }
   ],
   "source": [
    "time4 = timings(solution4, maxtime=5)\n",
    "n, y = zip(*time4)\n",
    "pred4 = expfit(n, y)"
   ]
  },
  {
   "cell_type": "markdown",
   "metadata": {},
   "source": [
    "#### Alex's solution from Stackoverflow\n",
    "* Back in April 2017, Alex posted this solution, [N-Queens, bitwise approach](https://codereview.stackexchange.com/questions/159946/n-queens-bitwise-approach)\n",
    "* My *solution4()*, above, is basically identical to this, just with different notation."
   ]
  },
  {
   "cell_type": "code",
   "execution_count": 26,
   "metadata": {},
   "outputs": [
    {
     "name": "stdout",
     "output_type": "stream",
     "text": [
      "Found 92 solutions\n"
     ]
    }
   ],
   "source": [
    "def solutionAlex(n):\n",
    "    all_ones = 2 ** n - 1\n",
    "    count = 0\n",
    "\n",
    "    def helper(ld, column, rd):\n",
    "        nonlocal count\n",
    "        if column == all_ones:\n",
    "            count += 1\n",
    "            return\n",
    "        possible_slots = ~(ld | column | rd) & all_ones\n",
    "        while possible_slots:\n",
    "            current_bit = possible_slots & -possible_slots\n",
    "            possible_slots -= current_bit\n",
    "            helper((ld | current_bit) >> 1,\n",
    "                   column | current_bit,\n",
    "                   (rd | current_bit) << 1)\n",
    "\n",
    "    helper(0, 0, 0)\n",
    "    return count\n",
    "\n",
    "nsolns = solutionAlex(NQUEEN)\n",
    "print(\"Found {} solutions\".format(nsolns))"
   ]
  },
  {
   "cell_type": "code",
   "execution_count": 27,
   "metadata": {},
   "outputs": [
    {
     "name": "stdout",
     "output_type": "stream",
     "text": [
      "exp(a): 4.437167\n",
      "b: -18.139253071578548\n",
      " 6: 0.000174  pred: 0.000101\n",
      " 7: 0.000463  pred: 0.000449\n",
      " 8: 0.001628  pred: 0.001991\n",
      " 9: 0.006785  pred: 0.008834\n",
      "10: 0.028486  pred: 0.039199\n",
      "11: 0.136013  pred: 0.173935\n",
      "12: 0.716350  pred: 0.771777\n",
      "13: 3.967161  pred: 3.424505\n",
      "14: 22.352117  pred: 15.195103\n"
     ]
    }
   ],
   "source": [
    "timeAlex = timings(solutionAlex, maxtime=5)\n",
    "n, y = zip(*timeAlex)\n",
    "predAlex = expfit(n, y)"
   ]
  },
  {
   "cell_type": "markdown",
   "metadata": {
    "slideshow": {
     "slide_type": "slide"
    }
   },
   "source": [
    "### Plot timings for the different solutions"
   ]
  },
  {
   "cell_type": "markdown",
   "metadata": {},
   "source": [
    "#### Python solutions"
   ]
  },
  {
   "cell_type": "code",
   "execution_count": 46,
   "metadata": {},
   "outputs": [
    {
     "data": {
      "text/html": [
       "\n",
       "<div class=\"bk-root\">\n",
       "    <div class=\"bk-plotdiv\" id=\"07f6d1a4-f87a-4ad9-ad3a-59ddae8ee142\"></div>\n",
       "</div>"
      ]
     },
     "metadata": {},
     "output_type": "display_data"
    },
    {
     "data": {
      "application/javascript": [
       "(function(root) {\n",
       "  function embed_document(root) {\n",
       "    \n",
       "  var docs_json = {\"4531fd75-1d56-4268-9440-1bf8fb5a9872\":{\"roots\":{\"references\":[{\"attributes\":{\"data_source\":{\"id\":\"6863a950-e803-4028-a425-f6a625e9c7ba\",\"type\":\"ColumnDataSource\"},\"glyph\":{\"id\":\"789ed0b7-c353-4af4-9f6f-b3285e99518b\",\"type\":\"Line\"},\"hover_glyph\":null,\"muted_glyph\":null,\"nonselection_glyph\":{\"id\":\"695878ed-53f5-49e8-88b3-67fc888bcca7\",\"type\":\"Line\"},\"selection_glyph\":null,\"view\":{\"id\":\"5a3d4388-61a2-446b-9c65-5a3b58cd531c\",\"type\":\"CDSView\"}},\"id\":\"f59c1c48-b7c1-43f7-9cc6-9b0aeb14e796\",\"type\":\"GlyphRenderer\"},{\"attributes\":{\"plot\":{\"id\":\"c8ea47fb-166f-41aa-9ab7-0b95713e02d3\",\"subtype\":\"Figure\",\"type\":\"Plot\"},\"ticker\":{\"id\":\"8e039b6d-9081-4ee5-8243-c1c8e0cb52e4\",\"type\":\"BasicTicker\"}},\"id\":\"027ad7c1-db5f-407d-addb-040d7897d590\",\"type\":\"Grid\"},{\"attributes\":{\"callback\":null,\"column_names\":[\"x\",\"y\"],\"data\":{\"x\":[6,7,8,9,10,11,12,13],\"y\":[0.0003876137197948992,0.0012831363806645702,0.0049874851097082415,0.02087262619897956,0.09313357711329849,0.44896393548697233,2.3765478929854,13.798115436045919]}},\"id\":\"9b313528-cc22-4bd4-9a81-145254bc07fb\",\"type\":\"ColumnDataSource\"},{\"attributes\":{},\"id\":\"c97ef8cc-975c-49f6-9b2f-8cc6a242cef5\",\"type\":\"LogScale\"},{\"attributes\":{\"line_color\":\"#d62728\",\"line_width\":2,\"x\":{\"field\":\"x\"},\"y\":{\"field\":\"y\"}},\"id\":\"039cdc3c-1a68-4ae0-af7a-c024652726b2\",\"type\":\"Line\"},{\"attributes\":{\"axis_label\":\"time (sec)\",\"formatter\":{\"id\":\"721faa9d-6fec-4675-b198-8a3b15bcff8f\",\"type\":\"LogTickFormatter\"},\"plot\":{\"id\":\"c8ea47fb-166f-41aa-9ab7-0b95713e02d3\",\"subtype\":\"Figure\",\"type\":\"Plot\"},\"ticker\":{\"id\":\"489887ab-85e3-4284-bbeb-b3f7ab273f13\",\"type\":\"LogTicker\"}},\"id\":\"0177db20-0d5d-435f-a700-1ed899a2b088\",\"type\":\"LogAxis\"},{\"attributes\":{\"source\":{\"id\":\"9b313528-cc22-4bd4-9a81-145254bc07fb\",\"type\":\"ColumnDataSource\"}},\"id\":\"9a119520-2077-4b9c-ae1d-6461aa04d8ae\",\"type\":\"CDSView\"},{\"attributes\":{\"num_minor_ticks\":10},\"id\":\"489887ab-85e3-4284-bbeb-b3f7ab273f13\",\"type\":\"LogTicker\"},{\"attributes\":{\"label\":{\"value\":\"soln3c\"},\"renderers\":[{\"id\":\"7b756a8d-5c1e-462e-89f2-097270a56b3a\",\"type\":\"GlyphRenderer\"}]},\"id\":\"e75e329f-442e-4e08-86a1-bcc511f78255\",\"type\":\"LegendItem\"},{\"attributes\":{\"line_color\":\"#1f77b4\",\"line_width\":2,\"x\":{\"field\":\"x\"},\"y\":{\"field\":\"y\"}},\"id\":\"2e38f9fc-f532-4d44-a8d4-1d47c6f5759a\",\"type\":\"Line\"},{\"attributes\":{\"line_alpha\":0.1,\"line_color\":\"#1f77b4\",\"line_width\":2,\"x\":{\"field\":\"x\"},\"y\":{\"field\":\"y\"}},\"id\":\"48fa0381-714e-4e93-984d-87ad1c9ac6df\",\"type\":\"Line\"},{\"attributes\":{\"axis_label\":\"N\",\"formatter\":{\"id\":\"e4d8c40e-e6e5-4665-b630-c8943b57913a\",\"type\":\"BasicTickFormatter\"},\"plot\":{\"id\":\"c8ea47fb-166f-41aa-9ab7-0b95713e02d3\",\"subtype\":\"Figure\",\"type\":\"Plot\"},\"ticker\":{\"id\":\"8e039b6d-9081-4ee5-8243-c1c8e0cb52e4\",\"type\":\"BasicTicker\"}},\"id\":\"dccda3ad-6dc2-4229-9c0e-82e7fbe3d7a6\",\"type\":\"LinearAxis\"},{\"attributes\":{\"data_source\":{\"id\":\"9b313528-cc22-4bd4-9a81-145254bc07fb\",\"type\":\"ColumnDataSource\"},\"glyph\":{\"id\":\"039cdc3c-1a68-4ae0-af7a-c024652726b2\",\"type\":\"Line\"},\"hover_glyph\":null,\"muted_glyph\":null,\"nonselection_glyph\":{\"id\":\"33f7360c-3b35-4d52-89bd-02ec4f9b0ba1\",\"type\":\"Line\"},\"selection_glyph\":null,\"view\":{\"id\":\"9a119520-2077-4b9c-ae1d-6461aa04d8ae\",\"type\":\"CDSView\"}},\"id\":\"7b756a8d-5c1e-462e-89f2-097270a56b3a\",\"type\":\"GlyphRenderer\"},{\"attributes\":{},\"id\":\"8e039b6d-9081-4ee5-8243-c1c8e0cb52e4\",\"type\":\"BasicTicker\"},{\"attributes\":{\"callback\":null,\"column_names\":[\"x\",\"y\"],\"data\":{\"x\":[6,7,8,9,10,11,12,13,14],\"y\":[0.0002846607301034965,0.0008839504230943936,0.0032630662477072495,0.01242723278644052,0.0599997636891203,0.25313395500415936,1.3685138439759612,6.808152676967438,40.2676414839807]}},\"id\":\"90295d1c-9b48-4e23-93cd-07e83002f8ad\",\"type\":\"ColumnDataSource\"},{\"attributes\":{\"dimension\":1,\"plot\":{\"id\":\"c8ea47fb-166f-41aa-9ab7-0b95713e02d3\",\"subtype\":\"Figure\",\"type\":\"Plot\"},\"ticker\":{\"id\":\"489887ab-85e3-4284-bbeb-b3f7ab273f13\",\"type\":\"LogTicker\"}},\"id\":\"20569c9a-5e74-4826-a8ce-389b396c5ef6\",\"type\":\"Grid\"},{\"attributes\":{\"below\":[{\"id\":\"dccda3ad-6dc2-4229-9c0e-82e7fbe3d7a6\",\"type\":\"LinearAxis\"}],\"left\":[{\"id\":\"0177db20-0d5d-435f-a700-1ed899a2b088\",\"type\":\"LogAxis\"}],\"renderers\":[{\"id\":\"dccda3ad-6dc2-4229-9c0e-82e7fbe3d7a6\",\"type\":\"LinearAxis\"},{\"id\":\"027ad7c1-db5f-407d-addb-040d7897d590\",\"type\":\"Grid\"},{\"id\":\"0177db20-0d5d-435f-a700-1ed899a2b088\",\"type\":\"LogAxis\"},{\"id\":\"20569c9a-5e74-4826-a8ce-389b396c5ef6\",\"type\":\"Grid\"},{\"id\":\"22f91f11-9779-43dd-be1d-e406eb779b37\",\"type\":\"BoxAnnotation\"},{\"id\":\"1ce26a97-06b5-43b5-a75a-db265f7ea972\",\"type\":\"Legend\"},{\"id\":\"cb97962b-8bc6-4ef0-9364-008b033c6bfc\",\"type\":\"GlyphRenderer\"},{\"id\":\"ce62b072-6e7c-4b0c-8d8d-cffe729daf5c\",\"type\":\"GlyphRenderer\"},{\"id\":\"f59c1c48-b7c1-43f7-9cc6-9b0aeb14e796\",\"type\":\"GlyphRenderer\"},{\"id\":\"7b756a8d-5c1e-462e-89f2-097270a56b3a\",\"type\":\"GlyphRenderer\"},{\"id\":\"7bf60ffb-ac4a-458a-ab65-d31acc3811c3\",\"type\":\"GlyphRenderer\"},{\"id\":\"31b28fca-5ae8-464f-8dae-70e8db2a5608\",\"type\":\"GlyphRenderer\"}],\"title\":{\"id\":\"06c2296a-6831-4980-962d-202f20772662\",\"type\":\"Title\"},\"toolbar\":{\"id\":\"01c001f2-47b5-44f5-bda2-29990b04a697\",\"type\":\"Toolbar\"},\"x_range\":{\"id\":\"1aea8dd0-eca4-4c1e-a720-d3cca580bd83\",\"type\":\"DataRange1d\"},\"x_scale\":{\"id\":\"f5630360-fb32-4b60-ad1c-75267ceb3ddd\",\"type\":\"LinearScale\"},\"y_range\":{\"id\":\"8893065b-e04f-40b7-980f-da40f601989b\",\"type\":\"DataRange1d\"},\"y_scale\":{\"id\":\"c97ef8cc-975c-49f6-9b2f-8cc6a242cef5\",\"type\":\"LogScale\"}},\"id\":\"c8ea47fb-166f-41aa-9ab7-0b95713e02d3\",\"subtype\":\"Figure\",\"type\":\"Plot\"},{\"attributes\":{\"line_color\":\"#9467bd\",\"line_width\":2,\"x\":{\"field\":\"x\"},\"y\":{\"field\":\"y\"}},\"id\":\"89628c95-4de0-44a1-ae4f-2e6cf03d19aa\",\"type\":\"Line\"},{\"attributes\":{\"line_alpha\":0.1,\"line_color\":\"#1f77b4\",\"line_width\":2,\"x\":{\"field\":\"x\"},\"y\":{\"field\":\"y\"}},\"id\":\"7b5c8f95-fc13-4ff5-a90c-3ad0aa8725d0\",\"type\":\"Line\"},{\"attributes\":{\"source\":{\"id\":\"90295d1c-9b48-4e23-93cd-07e83002f8ad\",\"type\":\"ColumnDataSource\"}},\"id\":\"1b6298ef-85cc-490e-aab1-5d4be9cdfdda\",\"type\":\"CDSView\"},{\"attributes\":{\"callback\":null,\"column_names\":[\"x\",\"y\"],\"data\":{\"x\":[6,7,8,9,10,11,12,13,14],\"y\":[0.00012735958502162247,0.0004504686172170695,0.0016580919254756202,0.006769572049961425,0.027383160171227466,0.13126995942522107,0.6774864110047929,3.7954231170006096,21.811975022021215]}},\"id\":\"c7824060-f903-4bf2-9f36-951b798e6fca\",\"type\":\"ColumnDataSource\"},{\"attributes\":{\"label\":{\"value\":\"soln3d\"},\"renderers\":[{\"id\":\"7bf60ffb-ac4a-458a-ab65-d31acc3811c3\",\"type\":\"GlyphRenderer\"}]},\"id\":\"bc6544db-2adc-4e45-8a1e-f62fa188952a\",\"type\":\"LegendItem\"},{\"attributes\":{\"callback\":null,\"column_names\":[\"x\",\"y\"],\"data\":{\"x\":[6,7,8,9,10],\"y\":[0.001817113220167812,0.013543260673230344,0.1149524798550244,1.103358311986085,11.651505268993787]}},\"id\":\"70af8cba-163e-425e-ac95-08f3ad05de6e\",\"type\":\"ColumnDataSource\"},{\"attributes\":{\"line_alpha\":0.1,\"line_color\":\"#1f77b4\",\"line_width\":2,\"x\":{\"field\":\"x\"},\"y\":{\"field\":\"y\"}},\"id\":\"fc24213c-fdfa-42fb-9c00-4f7a5371f27e\",\"type\":\"Line\"},{\"attributes\":{\"bottom_units\":\"screen\",\"fill_alpha\":{\"value\":0.5},\"fill_color\":{\"value\":\"lightgrey\"},\"left_units\":\"screen\",\"level\":\"overlay\",\"line_alpha\":{\"value\":1.0},\"line_color\":{\"value\":\"black\"},\"line_dash\":[4,4],\"line_width\":{\"value\":2},\"plot\":null,\"render_mode\":\"css\",\"right_units\":\"screen\",\"top_units\":\"screen\"},\"id\":\"22f91f11-9779-43dd-be1d-e406eb779b37\",\"type\":\"BoxAnnotation\"},{\"attributes\":{\"data_source\":{\"id\":\"90295d1c-9b48-4e23-93cd-07e83002f8ad\",\"type\":\"ColumnDataSource\"},\"glyph\":{\"id\":\"89628c95-4de0-44a1-ae4f-2e6cf03d19aa\",\"type\":\"Line\"},\"hover_glyph\":null,\"muted_glyph\":null,\"nonselection_glyph\":{\"id\":\"48fa0381-714e-4e93-984d-87ad1c9ac6df\",\"type\":\"Line\"},\"selection_glyph\":null,\"view\":{\"id\":\"1b6298ef-85cc-490e-aab1-5d4be9cdfdda\",\"type\":\"CDSView\"}},\"id\":\"7bf60ffb-ac4a-458a-ab65-d31acc3811c3\",\"type\":\"GlyphRenderer\"},{\"attributes\":{},\"id\":\"27ab4bb6-cedf-460e-9198-02548778861d\",\"type\":\"PanTool\"},{\"attributes\":{\"data_source\":{\"id\":\"70af8cba-163e-425e-ac95-08f3ad05de6e\",\"type\":\"ColumnDataSource\"},\"glyph\":{\"id\":\"2e38f9fc-f532-4d44-a8d4-1d47c6f5759a\",\"type\":\"Line\"},\"hover_glyph\":null,\"muted_glyph\":null,\"nonselection_glyph\":{\"id\":\"7b5c8f95-fc13-4ff5-a90c-3ad0aa8725d0\",\"type\":\"Line\"},\"selection_glyph\":null,\"view\":{\"id\":\"225ef5d9-920d-4bb4-a036-cb4817f9e5a1\",\"type\":\"CDSView\"}},\"id\":\"cb97962b-8bc6-4ef0-9364-008b033c6bfc\",\"type\":\"GlyphRenderer\"},{\"attributes\":{\"active_drag\":\"auto\",\"active_inspect\":\"auto\",\"active_scroll\":\"auto\",\"active_tap\":\"auto\",\"tools\":[{\"id\":\"27ab4bb6-cedf-460e-9198-02548778861d\",\"type\":\"PanTool\"},{\"id\":\"a97c471a-5168-465c-b180-bd7417ce21e5\",\"type\":\"WheelZoomTool\"},{\"id\":\"46841a6e-3813-4c2e-bb17-cdd4ed3bf468\",\"type\":\"BoxZoomTool\"},{\"id\":\"640926e9-db17-4a24-9a04-69d586530729\",\"type\":\"SaveTool\"},{\"id\":\"ff949e95-636a-4f36-9294-91a99a5633a2\",\"type\":\"ResetTool\"},{\"id\":\"54e4eccf-335b-4071-b00e-cdeb2949e021\",\"type\":\"HelpTool\"}]},\"id\":\"01c001f2-47b5-44f5-bda2-29990b04a697\",\"type\":\"Toolbar\"},{\"attributes\":{\"line_color\":\"#8c564b\",\"line_width\":2,\"x\":{\"field\":\"x\"},\"y\":{\"field\":\"y\"}},\"id\":\"3d67bffb-fb97-4308-ac78-512f135ca84f\",\"type\":\"Line\"},{\"attributes\":{},\"id\":\"a97c471a-5168-465c-b180-bd7417ce21e5\",\"type\":\"WheelZoomTool\"},{\"attributes\":{\"source\":{\"id\":\"c7824060-f903-4bf2-9f36-951b798e6fca\",\"type\":\"ColumnDataSource\"}},\"id\":\"d06c4ec4-c6f8-4565-9549-07917a83cbe1\",\"type\":\"CDSView\"},{\"attributes\":{\"overlay\":{\"id\":\"22f91f11-9779-43dd-be1d-e406eb779b37\",\"type\":\"BoxAnnotation\"}},\"id\":\"46841a6e-3813-4c2e-bb17-cdd4ed3bf468\",\"type\":\"BoxZoomTool\"},{\"attributes\":{\"label\":{\"value\":\"soln4\"},\"renderers\":[{\"id\":\"31b28fca-5ae8-464f-8dae-70e8db2a5608\",\"type\":\"GlyphRenderer\"}]},\"id\":\"e09fb6ad-cfe2-405a-afb2-de78d6f88013\",\"type\":\"LegendItem\"},{\"attributes\":{},\"id\":\"640926e9-db17-4a24-9a04-69d586530729\",\"type\":\"SaveTool\"},{\"attributes\":{},\"id\":\"ff949e95-636a-4f36-9294-91a99a5633a2\",\"type\":\"ResetTool\"},{\"attributes\":{\"data_source\":{\"id\":\"c7824060-f903-4bf2-9f36-951b798e6fca\",\"type\":\"ColumnDataSource\"},\"glyph\":{\"id\":\"3d67bffb-fb97-4308-ac78-512f135ca84f\",\"type\":\"Line\"},\"hover_glyph\":null,\"muted_glyph\":null,\"nonselection_glyph\":{\"id\":\"fc24213c-fdfa-42fb-9c00-4f7a5371f27e\",\"type\":\"Line\"},\"selection_glyph\":null,\"view\":{\"id\":\"d06c4ec4-c6f8-4565-9549-07917a83cbe1\",\"type\":\"CDSView\"}},\"id\":\"31b28fca-5ae8-464f-8dae-70e8db2a5608\",\"type\":\"GlyphRenderer\"},{\"attributes\":{},\"id\":\"54e4eccf-335b-4071-b00e-cdeb2949e021\",\"type\":\"HelpTool\"},{\"attributes\":{},\"id\":\"e4d8c40e-e6e5-4665-b630-c8943b57913a\",\"type\":\"BasicTickFormatter\"},{\"attributes\":{\"source\":{\"id\":\"70af8cba-163e-425e-ac95-08f3ad05de6e\",\"type\":\"ColumnDataSource\"}},\"id\":\"225ef5d9-920d-4bb4-a036-cb4817f9e5a1\",\"type\":\"CDSView\"},{\"attributes\":{\"ticker\":null},\"id\":\"721faa9d-6fec-4675-b198-8a3b15bcff8f\",\"type\":\"LogTickFormatter\"},{\"attributes\":{\"callback\":null},\"id\":\"1aea8dd0-eca4-4c1e-a720-d3cca580bd83\",\"type\":\"DataRange1d\"},{\"attributes\":{\"label\":{\"value\":\"soln2\"},\"renderers\":[{\"id\":\"ce62b072-6e7c-4b0c-8d8d-cffe729daf5c\",\"type\":\"GlyphRenderer\"}]},\"id\":\"ab559f07-4cc6-4dc5-a1ed-34fcc7018fa5\",\"type\":\"LegendItem\"},{\"attributes\":{\"callback\":null,\"column_names\":[\"x\",\"y\"],\"data\":{\"x\":[6,7,8,9,10,11,12],\"y\":[0.0016401570200105199,0.007327901008481175,0.03475188648034991,0.1805105259991251,0.9989320160239004,5.792032367025968,34.652195138973184]}},\"id\":\"0e465687-16ff-4b77-ac2b-14dcced93e81\",\"type\":\"ColumnDataSource\"},{\"attributes\":{\"label\":{\"value\":\"soln1\"},\"renderers\":[{\"id\":\"cb97962b-8bc6-4ef0-9364-008b033c6bfc\",\"type\":\"GlyphRenderer\"}]},\"id\":\"d3399a98-25dd-49f7-a70a-93e589c1fbf8\",\"type\":\"LegendItem\"},{\"attributes\":{\"data_source\":{\"id\":\"0e465687-16ff-4b77-ac2b-14dcced93e81\",\"type\":\"ColumnDataSource\"},\"glyph\":{\"id\":\"64cdb7ab-cf66-4eb9-b998-15a878b8c398\",\"type\":\"Line\"},\"hover_glyph\":null,\"muted_glyph\":null,\"nonselection_glyph\":{\"id\":\"8a59a628-5cb6-4dc0-8312-5ad20f883446\",\"type\":\"Line\"},\"selection_glyph\":null,\"view\":{\"id\":\"0299f1a9-176c-49c7-8a6f-d5d59f84f5e8\",\"type\":\"CDSView\"}},\"id\":\"ce62b072-6e7c-4b0c-8d8d-cffe729daf5c\",\"type\":\"GlyphRenderer\"},{\"attributes\":{\"plot\":null,\"text\":\"Timings\"},\"id\":\"06c2296a-6831-4980-962d-202f20772662\",\"type\":\"Title\"},{\"attributes\":{\"line_alpha\":0.1,\"line_color\":\"#1f77b4\",\"line_width\":2,\"x\":{\"field\":\"x\"},\"y\":{\"field\":\"y\"}},\"id\":\"8a59a628-5cb6-4dc0-8312-5ad20f883446\",\"type\":\"Line\"},{\"attributes\":{\"items\":[{\"id\":\"d3399a98-25dd-49f7-a70a-93e589c1fbf8\",\"type\":\"LegendItem\"},{\"id\":\"ab559f07-4cc6-4dc5-a1ed-34fcc7018fa5\",\"type\":\"LegendItem\"},{\"id\":\"4f92ea17-407c-474f-a38c-372c33fa27c6\",\"type\":\"LegendItem\"},{\"id\":\"e75e329f-442e-4e08-86a1-bcc511f78255\",\"type\":\"LegendItem\"},{\"id\":\"bc6544db-2adc-4e45-8a1e-f62fa188952a\",\"type\":\"LegendItem\"},{\"id\":\"e09fb6ad-cfe2-405a-afb2-de78d6f88013\",\"type\":\"LegendItem\"}],\"plot\":{\"id\":\"c8ea47fb-166f-41aa-9ab7-0b95713e02d3\",\"subtype\":\"Figure\",\"type\":\"Plot\"}},\"id\":\"1ce26a97-06b5-43b5-a75a-db265f7ea972\",\"type\":\"Legend\"},{\"attributes\":{\"line_color\":\"#ff7f0e\",\"line_width\":2,\"x\":{\"field\":\"x\"},\"y\":{\"field\":\"y\"}},\"id\":\"64cdb7ab-cf66-4eb9-b998-15a878b8c398\",\"type\":\"Line\"},{\"attributes\":{\"line_alpha\":0.1,\"line_color\":\"#1f77b4\",\"line_width\":2,\"x\":{\"field\":\"x\"},\"y\":{\"field\":\"y\"}},\"id\":\"695878ed-53f5-49e8-88b3-67fc888bcca7\",\"type\":\"Line\"},{\"attributes\":{\"source\":{\"id\":\"0e465687-16ff-4b77-ac2b-14dcced93e81\",\"type\":\"ColumnDataSource\"}},\"id\":\"0299f1a9-176c-49c7-8a6f-d5d59f84f5e8\",\"type\":\"CDSView\"},{\"attributes\":{},\"id\":\"f5630360-fb32-4b60-ad1c-75267ceb3ddd\",\"type\":\"LinearScale\"},{\"attributes\":{\"callback\":null,\"column_names\":[\"x\",\"y\"],\"data\":{\"x\":[6,7,8,9,10,11,12],\"y\":[0.0010797453750274145,0.004213758772931288,0.01813402040390932,0.08258053109536624,0.3903898610151373,2.004093797004316,11.437159969005734]}},\"id\":\"6863a950-e803-4028-a425-f6a625e9c7ba\",\"type\":\"ColumnDataSource\"},{\"attributes\":{\"label\":{\"value\":\"soln2b\"},\"renderers\":[{\"id\":\"f59c1c48-b7c1-43f7-9cc6-9b0aeb14e796\",\"type\":\"GlyphRenderer\"}]},\"id\":\"4f92ea17-407c-474f-a38c-372c33fa27c6\",\"type\":\"LegendItem\"},{\"attributes\":{\"line_color\":\"#2ca02c\",\"line_width\":2,\"x\":{\"field\":\"x\"},\"y\":{\"field\":\"y\"}},\"id\":\"789ed0b7-c353-4af4-9f6f-b3285e99518b\",\"type\":\"Line\"},{\"attributes\":{\"source\":{\"id\":\"6863a950-e803-4028-a425-f6a625e9c7ba\",\"type\":\"ColumnDataSource\"}},\"id\":\"5a3d4388-61a2-446b-9c65-5a3b58cd531c\",\"type\":\"CDSView\"},{\"attributes\":{\"callback\":null},\"id\":\"8893065b-e04f-40b7-980f-da40f601989b\",\"type\":\"DataRange1d\"},{\"attributes\":{\"line_alpha\":0.1,\"line_color\":\"#1f77b4\",\"line_width\":2,\"x\":{\"field\":\"x\"},\"y\":{\"field\":\"y\"}},\"id\":\"33f7360c-3b35-4d52-89bd-02ec4f9b0ba1\",\"type\":\"Line\"}],\"root_ids\":[\"c8ea47fb-166f-41aa-9ab7-0b95713e02d3\"]},\"title\":\"Bokeh Application\",\"version\":\"0.12.14\"}};\n",
       "  var render_items = [{\"docid\":\"4531fd75-1d56-4268-9440-1bf8fb5a9872\",\"elementid\":\"07f6d1a4-f87a-4ad9-ad3a-59ddae8ee142\",\"modelid\":\"c8ea47fb-166f-41aa-9ab7-0b95713e02d3\"}];\n",
       "  root.Bokeh.embed.embed_items_notebook(docs_json, render_items);\n",
       "\n",
       "  }\n",
       "  if (root.Bokeh !== undefined) {\n",
       "    embed_document(root);\n",
       "  } else {\n",
       "    var attempts = 0;\n",
       "    var timer = setInterval(function(root) {\n",
       "      if (root.Bokeh !== undefined) {\n",
       "        embed_document(root);\n",
       "        clearInterval(timer);\n",
       "      }\n",
       "      attempts++;\n",
       "      if (attempts > 100) {\n",
       "        console.log(\"Bokeh: ERROR: Unable to run BokehJS code because BokehJS library is missing\")\n",
       "        clearInterval(timer);\n",
       "      }\n",
       "    }, 10, root)\n",
       "  }\n",
       "})(window);"
      ],
      "application/vnd.bokehjs_exec.v0+json": ""
     },
     "metadata": {
      "application/vnd.bokehjs_exec.v0+json": {
       "id": "c8ea47fb-166f-41aa-9ab7-0b95713e02d3"
      }
     },
     "output_type": "display_data"
    }
   ],
   "source": [
    "plot_timings(('soln1', time1), ('soln2', time2), ('soln2b', time2b), ('soln3c', time3c), ('soln3d', time3d), ('soln4', time4))"
   ]
  },
  {
   "cell_type": "markdown",
   "metadata": {
    "slideshow": {
     "slide_type": "slide"
    }
   },
   "source": [
    "#### Compiled languages\n",
    "* I implemented the fastest bitwise solution in both Go and C, as well.\n",
    "* These languages both compile directly to machine code, and are generally much faster than Python.\n",
    "* Here, the C code runs ~10% faster than the Go code."
   ]
  },
  {
   "cell_type": "code",
   "execution_count": 39,
   "metadata": {},
   "outputs": [
    {
     "name": "stdout",
     "output_type": "stream",
     "text": [
      "exp(a): 5.763376\n",
      "b: -25.406259315050363\n",
      "18: 610.000000  pred: 455.393261\n",
      "17: 84.900000  pred: 79.015022\n",
      "16: 12.200000  pred: 13.709851\n",
      "15: 1.830000  pred: 2.378788\n",
      "14: 0.291000  pred: 0.412742\n",
      "13: 0.061000  pred: 0.071615\n",
      "12: 0.021000  pred: 0.012426\n"
     ]
    }
   ],
   "source": [
    "timeGo = [(18, 610),(17, 84.9),(16, 12.2),(15, 1.83),(14, 0.291),(13, 0.061),(12, 0.021)]\n",
    "n, y = zip(*timeGo)\n",
    "predGo = expfit(n, y) "
   ]
  },
  {
   "cell_type": "code",
   "execution_count": 42,
   "metadata": {},
   "outputs": [
    {
     "name": "stdout",
     "output_type": "stream",
     "text": [
      "exp(a): 5.477644\n",
      "b: -24.651431051674084\n",
      "18: 557.000000  pred: 387.889280\n",
      "17: 75.200000  pred: 70.813162\n",
      "16: 10.900000  pred: 12.927668\n",
      "15: 1.640000  pred: 2.360078\n",
      "14: 0.267000  pred: 0.430856\n",
      "13: 0.102000  pred: 0.078657\n",
      "12: 0.020000  pred: 0.014360\n"
     ]
    }
   ],
   "source": [
    "timeC = [(18, 557), (17, 75.2),(16, 10.9),(15, 1.64),(14, 0.267),(13, 0.102),(12, 0.02)]\n",
    "n, y = zip(*timeC)\n",
    "predC = expfit(n, y) "
   ]
  },
  {
   "cell_type": "code",
   "execution_count": 47,
   "metadata": {
    "slideshow": {
     "slide_type": "slide"
    }
   },
   "outputs": [
    {
     "data": {
      "text/html": [
       "\n",
       "<div class=\"bk-root\">\n",
       "    <div class=\"bk-plotdiv\" id=\"335f26cd-859b-4a26-9f18-3a343ef22ddb\"></div>\n",
       "</div>"
      ]
     },
     "metadata": {},
     "output_type": "display_data"
    },
    {
     "data": {
      "application/javascript": [
       "(function(root) {\n",
       "  function embed_document(root) {\n",
       "    \n",
       "  var docs_json = {\"5fa50a07-f444-4aed-a1eb-153a69401496\":{\"roots\":{\"references\":[{\"attributes\":{\"line_color\":\"#1f77b4\",\"line_width\":2,\"x\":{\"field\":\"x\"},\"y\":{\"field\":\"y\"}},\"id\":\"3a326e35-0bf5-464c-b43d-af439941f618\",\"type\":\"Line\"},{\"attributes\":{\"num_minor_ticks\":10},\"id\":\"54829185-2812-42fa-a20a-8d59e919c704\",\"type\":\"LogTicker\"},{\"attributes\":{\"dimension\":1,\"plot\":{\"id\":\"eda31d94-db80-4435-9ee0-6dfb44be1bb8\",\"subtype\":\"Figure\",\"type\":\"Plot\"},\"ticker\":{\"id\":\"54829185-2812-42fa-a20a-8d59e919c704\",\"type\":\"LogTicker\"}},\"id\":\"d00346c4-8cbf-4424-8b61-98e9d856a662\",\"type\":\"Grid\"},{\"attributes\":{},\"id\":\"ff0e9d34-893e-4dbf-8bf7-efb40e3ac796\",\"type\":\"LogScale\"},{\"attributes\":{\"line_alpha\":0.1,\"line_color\":\"#1f77b4\",\"line_width\":2,\"x\":{\"field\":\"x\"},\"y\":{\"field\":\"y\"}},\"id\":\"158d6495-c5c0-4a40-8f44-e8ab2bfbd053\",\"type\":\"Line\"},{\"attributes\":{\"callback\":null,\"column_names\":[\"x\",\"y\"],\"data\":{\"x\":[6,7,8,9,10,11,12,13,14],\"y\":[0.00012735958502162247,0.0004504686172170695,0.0016580919254756202,0.006769572049961425,0.027383160171227466,0.13126995942522107,0.6774864110047929,3.7954231170006096,21.811975022021215]}},\"id\":\"a3c094a6-bd53-445b-85ff-c679a2b02e6c\",\"type\":\"ColumnDataSource\"},{\"attributes\":{\"callback\":null,\"column_names\":[\"x\",\"y\"],\"data\":{\"x\":[6,7,8,9,10],\"y\":[0.001817113220167812,0.013543260673230344,0.1149524798550244,1.103358311986085,11.651505268993787]}},\"id\":\"4e97f4ad-c282-4765-a9de-029818a2d950\",\"type\":\"ColumnDataSource\"},{\"attributes\":{\"bottom_units\":\"screen\",\"fill_alpha\":{\"value\":0.5},\"fill_color\":{\"value\":\"lightgrey\"},\"left_units\":\"screen\",\"level\":\"overlay\",\"line_alpha\":{\"value\":1.0},\"line_color\":{\"value\":\"black\"},\"line_dash\":[4,4],\"line_width\":{\"value\":2},\"plot\":null,\"render_mode\":\"css\",\"right_units\":\"screen\",\"top_units\":\"screen\"},\"id\":\"54ef9ce7-4faa-42d0-adeb-961e737dc7c5\",\"type\":\"BoxAnnotation\"},{\"attributes\":{},\"id\":\"bd7d0c0e-c2d8-4239-8906-a1d2458ecc6a\",\"type\":\"PanTool\"},{\"attributes\":{\"data_source\":{\"id\":\"4e97f4ad-c282-4765-a9de-029818a2d950\",\"type\":\"ColumnDataSource\"},\"glyph\":{\"id\":\"3a326e35-0bf5-464c-b43d-af439941f618\",\"type\":\"Line\"},\"hover_glyph\":null,\"muted_glyph\":null,\"nonselection_glyph\":{\"id\":\"158d6495-c5c0-4a40-8f44-e8ab2bfbd053\",\"type\":\"Line\"},\"selection_glyph\":null,\"view\":{\"id\":\"db8edd5e-5848-41e0-8346-c2d9b2e9fb9d\",\"type\":\"CDSView\"}},\"id\":\"91c2bbe1-c011-4573-9bb2-804b075fa4fa\",\"type\":\"GlyphRenderer\"},{\"attributes\":{},\"id\":\"0f201ba9-e5c4-40ff-ac31-870970f7d11b\",\"type\":\"WheelZoomTool\"},{\"attributes\":{\"overlay\":{\"id\":\"54ef9ce7-4faa-42d0-adeb-961e737dc7c5\",\"type\":\"BoxAnnotation\"}},\"id\":\"4ef9fc12-5ab7-4bc8-a5c1-69ad09c167f6\",\"type\":\"BoxZoomTool\"},{\"attributes\":{},\"id\":\"2f33a5d8-a972-4c24-b149-94032dc5d0a0\",\"type\":\"SaveTool\"},{\"attributes\":{\"callback\":null},\"id\":\"f45802a0-d033-4a81-b9f2-4812500e41b5\",\"type\":\"DataRange1d\"},{\"attributes\":{},\"id\":\"51a516c8-a7c9-4393-ba7a-4fd738b7c43c\",\"type\":\"ResetTool\"},{\"attributes\":{},\"id\":\"595d4c02-a7b5-4060-805c-c089a01f97a3\",\"type\":\"HelpTool\"},{\"attributes\":{\"callback\":null},\"id\":\"311c3c38-9417-4e72-abc8-459a473228df\",\"type\":\"DataRange1d\"},{\"attributes\":{},\"id\":\"d803e202-a7ec-4414-9a64-5aace41f659f\",\"type\":\"BasicTickFormatter\"},{\"attributes\":{\"source\":{\"id\":\"4e97f4ad-c282-4765-a9de-029818a2d950\",\"type\":\"ColumnDataSource\"}},\"id\":\"db8edd5e-5848-41e0-8346-c2d9b2e9fb9d\",\"type\":\"CDSView\"},{\"attributes\":{\"plot\":null,\"text\":\"Timings\"},\"id\":\"521f7fa8-bb70-40cd-b8b5-19f72d55bd52\",\"type\":\"Title\"},{\"attributes\":{\"ticker\":null},\"id\":\"70725ea7-c859-462a-b5fe-c69f868f5db5\",\"type\":\"LogTickFormatter\"},{\"attributes\":{\"label\":{\"value\":\"soln2\"},\"renderers\":[{\"id\":\"79c361b0-b531-4c39-9538-9deb3e9469b6\",\"type\":\"GlyphRenderer\"}]},\"id\":\"aa31db68-6fd7-4d0b-82d9-08b55cc2b21c\",\"type\":\"LegendItem\"},{\"attributes\":{\"callback\":null,\"column_names\":[\"x\",\"y\"],\"data\":{\"x\":[6,7,8,9,10,11,12],\"y\":[0.0016401570200105199,0.007327901008481175,0.03475188648034991,0.1805105259991251,0.9989320160239004,5.792032367025968,34.652195138973184]}},\"id\":\"459a9e87-22a8-417e-b6b2-a18c4a5e5d04\",\"type\":\"ColumnDataSource\"},{\"attributes\":{\"label\":{\"value\":\"soln1\"},\"renderers\":[{\"id\":\"91c2bbe1-c011-4573-9bb2-804b075fa4fa\",\"type\":\"GlyphRenderer\"}]},\"id\":\"98acd962-2daf-4f80-858d-04904addcb27\",\"type\":\"LegendItem\"},{\"attributes\":{\"data_source\":{\"id\":\"459a9e87-22a8-417e-b6b2-a18c4a5e5d04\",\"type\":\"ColumnDataSource\"},\"glyph\":{\"id\":\"8af0ec42-dcc5-4591-947d-f40391c61ea6\",\"type\":\"Line\"},\"hover_glyph\":null,\"muted_glyph\":null,\"nonselection_glyph\":{\"id\":\"4c0f4477-de6a-46da-a05d-41fdfb99a222\",\"type\":\"Line\"},\"selection_glyph\":null,\"view\":{\"id\":\"0d950beb-0935-4820-a7cd-4a83f8b16d73\",\"type\":\"CDSView\"}},\"id\":\"79c361b0-b531-4c39-9538-9deb3e9469b6\",\"type\":\"GlyphRenderer\"},{\"attributes\":{\"line_alpha\":0.1,\"line_color\":\"#1f77b4\",\"line_width\":2,\"x\":{\"field\":\"x\"},\"y\":{\"field\":\"y\"}},\"id\":\"4c0f4477-de6a-46da-a05d-41fdfb99a222\",\"type\":\"Line\"},{\"attributes\":{\"items\":[{\"id\":\"98acd962-2daf-4f80-858d-04904addcb27\",\"type\":\"LegendItem\"},{\"id\":\"aa31db68-6fd7-4d0b-82d9-08b55cc2b21c\",\"type\":\"LegendItem\"},{\"id\":\"b745cf97-9117-44fe-9bc6-41cc2838c376\",\"type\":\"LegendItem\"},{\"id\":\"81c6ccc4-3327-4d43-a8e7-121b5a1ce025\",\"type\":\"LegendItem\"},{\"id\":\"69a5884f-949f-4977-9020-c82933208501\",\"type\":\"LegendItem\"},{\"id\":\"4d8e75c3-2ee6-42cd-b4ff-377a79d1b9cc\",\"type\":\"LegendItem\"},{\"id\":\"972afd4b-8cf6-4fe0-b527-4cb552ee3c0e\",\"type\":\"LegendItem\"},{\"id\":\"c0648c32-d733-4999-a6d8-17432cf5d602\",\"type\":\"LegendItem\"}],\"plot\":{\"id\":\"eda31d94-db80-4435-9ee0-6dfb44be1bb8\",\"subtype\":\"Figure\",\"type\":\"Plot\"}},\"id\":\"daabb884-ac9e-4ff8-ba75-4e86e4504906\",\"type\":\"Legend\"},{\"attributes\":{\"line_color\":\"#ff7f0e\",\"line_width\":2,\"x\":{\"field\":\"x\"},\"y\":{\"field\":\"y\"}},\"id\":\"8af0ec42-dcc5-4591-947d-f40391c61ea6\",\"type\":\"Line\"},{\"attributes\":{\"active_drag\":\"auto\",\"active_inspect\":\"auto\",\"active_scroll\":\"auto\",\"active_tap\":\"auto\",\"tools\":[{\"id\":\"bd7d0c0e-c2d8-4239-8906-a1d2458ecc6a\",\"type\":\"PanTool\"},{\"id\":\"0f201ba9-e5c4-40ff-ac31-870970f7d11b\",\"type\":\"WheelZoomTool\"},{\"id\":\"4ef9fc12-5ab7-4bc8-a5c1-69ad09c167f6\",\"type\":\"BoxZoomTool\"},{\"id\":\"2f33a5d8-a972-4c24-b149-94032dc5d0a0\",\"type\":\"SaveTool\"},{\"id\":\"51a516c8-a7c9-4393-ba7a-4fd738b7c43c\",\"type\":\"ResetTool\"},{\"id\":\"595d4c02-a7b5-4060-805c-c089a01f97a3\",\"type\":\"HelpTool\"}]},\"id\":\"37d37633-2df0-480a-a634-b0f7fde93fca\",\"type\":\"Toolbar\"},{\"attributes\":{\"line_alpha\":0.1,\"line_color\":\"#1f77b4\",\"line_width\":2,\"x\":{\"field\":\"x\"},\"y\":{\"field\":\"y\"}},\"id\":\"392a5436-ee61-4053-a944-16772764ded0\",\"type\":\"Line\"},{\"attributes\":{\"below\":[{\"id\":\"52122f22-7a98-4f85-ae3a-40740c2d06fd\",\"type\":\"LinearAxis\"}],\"left\":[{\"id\":\"51d26220-5e4a-428f-bc6f-415762ff6fb6\",\"type\":\"LogAxis\"}],\"renderers\":[{\"id\":\"52122f22-7a98-4f85-ae3a-40740c2d06fd\",\"type\":\"LinearAxis\"},{\"id\":\"01e5ea5c-be68-42be-a657-01d3fdb0d2cf\",\"type\":\"Grid\"},{\"id\":\"51d26220-5e4a-428f-bc6f-415762ff6fb6\",\"type\":\"LogAxis\"},{\"id\":\"d00346c4-8cbf-4424-8b61-98e9d856a662\",\"type\":\"Grid\"},{\"id\":\"54ef9ce7-4faa-42d0-adeb-961e737dc7c5\",\"type\":\"BoxAnnotation\"},{\"id\":\"daabb884-ac9e-4ff8-ba75-4e86e4504906\",\"type\":\"Legend\"},{\"id\":\"91c2bbe1-c011-4573-9bb2-804b075fa4fa\",\"type\":\"GlyphRenderer\"},{\"id\":\"79c361b0-b531-4c39-9538-9deb3e9469b6\",\"type\":\"GlyphRenderer\"},{\"id\":\"dde5bb40-e390-44d6-8dbe-2982e6b82865\",\"type\":\"GlyphRenderer\"},{\"id\":\"87bf9723-301e-448f-97b4-5203748472e1\",\"type\":\"GlyphRenderer\"},{\"id\":\"f5feafe6-c7d1-4c37-bdae-23e89e16c851\",\"type\":\"GlyphRenderer\"},{\"id\":\"aed0b0a6-8546-49d6-adf3-6e6080f2fe47\",\"type\":\"GlyphRenderer\"},{\"id\":\"6d2dbee5-3f4f-4375-95b4-65eaddc966b0\",\"type\":\"GlyphRenderer\"},{\"id\":\"0b9cb879-da31-4fd3-9d42-ef24282e5d98\",\"type\":\"GlyphRenderer\"}],\"title\":{\"id\":\"521f7fa8-bb70-40cd-b8b5-19f72d55bd52\",\"type\":\"Title\"},\"toolbar\":{\"id\":\"37d37633-2df0-480a-a634-b0f7fde93fca\",\"type\":\"Toolbar\"},\"x_range\":{\"id\":\"311c3c38-9417-4e72-abc8-459a473228df\",\"type\":\"DataRange1d\"},\"x_scale\":{\"id\":\"f45b8c10-6aa2-4dfe-9c25-a83a7a371826\",\"type\":\"LinearScale\"},\"y_range\":{\"id\":\"f45802a0-d033-4a81-b9f2-4812500e41b5\",\"type\":\"DataRange1d\"},\"y_scale\":{\"id\":\"ff0e9d34-893e-4dbf-8bf7-efb40e3ac796\",\"type\":\"LogScale\"}},\"id\":\"eda31d94-db80-4435-9ee0-6dfb44be1bb8\",\"subtype\":\"Figure\",\"type\":\"Plot\"},{\"attributes\":{\"source\":{\"id\":\"459a9e87-22a8-417e-b6b2-a18c4a5e5d04\",\"type\":\"ColumnDataSource\"}},\"id\":\"0d950beb-0935-4820-a7cd-4a83f8b16d73\",\"type\":\"CDSView\"},{\"attributes\":{\"callback\":null,\"column_names\":[\"x\",\"y\"],\"data\":{\"x\":[6,7,8,9,10,11,12],\"y\":[0.0010797453750274145,0.004213758772931288,0.01813402040390932,0.08258053109536624,0.3903898610151373,2.004093797004316,11.437159969005734]}},\"id\":\"a6c212e7-eeb4-4d4b-9f93-202411a34476\",\"type\":\"ColumnDataSource\"},{\"attributes\":{\"axis_label\":\"time (sec)\",\"formatter\":{\"id\":\"70725ea7-c859-462a-b5fe-c69f868f5db5\",\"type\":\"LogTickFormatter\"},\"plot\":{\"id\":\"eda31d94-db80-4435-9ee0-6dfb44be1bb8\",\"subtype\":\"Figure\",\"type\":\"Plot\"},\"ticker\":{\"id\":\"54829185-2812-42fa-a20a-8d59e919c704\",\"type\":\"LogTicker\"}},\"id\":\"51d26220-5e4a-428f-bc6f-415762ff6fb6\",\"type\":\"LogAxis\"},{\"attributes\":{\"line_color\":\"#2ca02c\",\"line_width\":2,\"x\":{\"field\":\"x\"},\"y\":{\"field\":\"y\"}},\"id\":\"65cd9ee2-5067-4254-95b6-d76888b8e99d\",\"type\":\"Line\"},{\"attributes\":{\"source\":{\"id\":\"a6c212e7-eeb4-4d4b-9f93-202411a34476\",\"type\":\"ColumnDataSource\"}},\"id\":\"1a81e643-8e36-4675-ae95-3524de930fa7\",\"type\":\"CDSView\"},{\"attributes\":{},\"id\":\"a03aa71e-73c0-4617-acff-8806544952f9\",\"type\":\"BasicTicker\"},{\"attributes\":{\"label\":{\"value\":\"soln2b\"},\"renderers\":[{\"id\":\"dde5bb40-e390-44d6-8dbe-2982e6b82865\",\"type\":\"GlyphRenderer\"}]},\"id\":\"b745cf97-9117-44fe-9bc6-41cc2838c376\",\"type\":\"LegendItem\"},{\"attributes\":{\"line_alpha\":0.1,\"line_color\":\"#1f77b4\",\"line_width\":2,\"x\":{\"field\":\"x\"},\"y\":{\"field\":\"y\"}},\"id\":\"078a5a1f-f6aa-43cc-b2dd-bcd68d0eb8a1\",\"type\":\"Line\"},{\"attributes\":{\"axis_label\":\"N\",\"formatter\":{\"id\":\"d803e202-a7ec-4414-9a64-5aace41f659f\",\"type\":\"BasicTickFormatter\"},\"plot\":{\"id\":\"eda31d94-db80-4435-9ee0-6dfb44be1bb8\",\"subtype\":\"Figure\",\"type\":\"Plot\"},\"ticker\":{\"id\":\"a03aa71e-73c0-4617-acff-8806544952f9\",\"type\":\"BasicTicker\"}},\"id\":\"52122f22-7a98-4f85-ae3a-40740c2d06fd\",\"type\":\"LinearAxis\"},{\"attributes\":{\"data_source\":{\"id\":\"a6c212e7-eeb4-4d4b-9f93-202411a34476\",\"type\":\"ColumnDataSource\"},\"glyph\":{\"id\":\"65cd9ee2-5067-4254-95b6-d76888b8e99d\",\"type\":\"Line\"},\"hover_glyph\":null,\"muted_glyph\":null,\"nonselection_glyph\":{\"id\":\"392a5436-ee61-4053-a944-16772764ded0\",\"type\":\"Line\"},\"selection_glyph\":null,\"view\":{\"id\":\"1a81e643-8e36-4675-ae95-3524de930fa7\",\"type\":\"CDSView\"}},\"id\":\"dde5bb40-e390-44d6-8dbe-2982e6b82865\",\"type\":\"GlyphRenderer\"},{\"attributes\":{\"callback\":null,\"column_names\":[\"x\",\"y\"],\"data\":{\"x\":[6,7,8,9,10,11,12,13],\"y\":[0.0003876137197948992,0.0012831363806645702,0.0049874851097082415,0.02087262619897956,0.09313357711329849,0.44896393548697233,2.3765478929854,13.798115436045919]}},\"id\":\"9d5c5ebe-0fc5-4e77-bd81-63efc3394093\",\"type\":\"ColumnDataSource\"},{\"attributes\":{\"plot\":{\"id\":\"eda31d94-db80-4435-9ee0-6dfb44be1bb8\",\"subtype\":\"Figure\",\"type\":\"Plot\"},\"ticker\":{\"id\":\"a03aa71e-73c0-4617-acff-8806544952f9\",\"type\":\"BasicTicker\"}},\"id\":\"01e5ea5c-be68-42be-a657-01d3fdb0d2cf\",\"type\":\"Grid\"},{\"attributes\":{\"line_color\":\"#d62728\",\"line_width\":2,\"x\":{\"field\":\"x\"},\"y\":{\"field\":\"y\"}},\"id\":\"256785a0-1827-4965-8fe6-eab7466d0921\",\"type\":\"Line\"},{\"attributes\":{\"source\":{\"id\":\"9d5c5ebe-0fc5-4e77-bd81-63efc3394093\",\"type\":\"ColumnDataSource\"}},\"id\":\"1eee942d-201c-49f8-80da-fb2689b4a899\",\"type\":\"CDSView\"},{\"attributes\":{\"label\":{\"value\":\"soln3c\"},\"renderers\":[{\"id\":\"87bf9723-301e-448f-97b4-5203748472e1\",\"type\":\"GlyphRenderer\"}]},\"id\":\"81c6ccc4-3327-4d43-a8e7-121b5a1ce025\",\"type\":\"LegendItem\"},{\"attributes\":{\"line_alpha\":0.1,\"line_color\":\"#1f77b4\",\"line_width\":2,\"x\":{\"field\":\"x\"},\"y\":{\"field\":\"y\"}},\"id\":\"e2cae5e7-48b3-4833-bac3-e4261d6087ce\",\"type\":\"Line\"},{\"attributes\":{\"data_source\":{\"id\":\"9d5c5ebe-0fc5-4e77-bd81-63efc3394093\",\"type\":\"ColumnDataSource\"},\"glyph\":{\"id\":\"256785a0-1827-4965-8fe6-eab7466d0921\",\"type\":\"Line\"},\"hover_glyph\":null,\"muted_glyph\":null,\"nonselection_glyph\":{\"id\":\"078a5a1f-f6aa-43cc-b2dd-bcd68d0eb8a1\",\"type\":\"Line\"},\"selection_glyph\":null,\"view\":{\"id\":\"1eee942d-201c-49f8-80da-fb2689b4a899\",\"type\":\"CDSView\"}},\"id\":\"87bf9723-301e-448f-97b4-5203748472e1\",\"type\":\"GlyphRenderer\"},{\"attributes\":{\"callback\":null,\"column_names\":[\"x\",\"y\"],\"data\":{\"x\":[6,7,8,9,10,11,12,13,14],\"y\":[0.0002846607301034965,0.0008839504230943936,0.0032630662477072495,0.01242723278644052,0.0599997636891203,0.25313395500415936,1.3685138439759612,6.808152676967438,40.2676414839807]}},\"id\":\"2b76ddcb-e555-4043-9e7b-4064d18efc8b\",\"type\":\"ColumnDataSource\"},{\"attributes\":{\"line_color\":\"#9467bd\",\"line_width\":2,\"x\":{\"field\":\"x\"},\"y\":{\"field\":\"y\"}},\"id\":\"7fb685a2-df26-40d5-9c45-2b388bf60acf\",\"type\":\"Line\"},{\"attributes\":{\"source\":{\"id\":\"2b76ddcb-e555-4043-9e7b-4064d18efc8b\",\"type\":\"ColumnDataSource\"}},\"id\":\"ce998b9b-9e3b-4c4b-adc3-3979665af36c\",\"type\":\"CDSView\"},{\"attributes\":{},\"id\":\"f45b8c10-6aa2-4dfe-9c25-a83a7a371826\",\"type\":\"LinearScale\"},{\"attributes\":{\"label\":{\"value\":\"soln3d\"},\"renderers\":[{\"id\":\"f5feafe6-c7d1-4c37-bdae-23e89e16c851\",\"type\":\"GlyphRenderer\"}]},\"id\":\"69a5884f-949f-4977-9020-c82933208501\",\"type\":\"LegendItem\"},{\"attributes\":{\"line_alpha\":0.1,\"line_color\":\"#1f77b4\",\"line_width\":2,\"x\":{\"field\":\"x\"},\"y\":{\"field\":\"y\"}},\"id\":\"16e1762b-cdfe-404d-92f7-6f5560cc81f8\",\"type\":\"Line\"},{\"attributes\":{\"data_source\":{\"id\":\"2b76ddcb-e555-4043-9e7b-4064d18efc8b\",\"type\":\"ColumnDataSource\"},\"glyph\":{\"id\":\"7fb685a2-df26-40d5-9c45-2b388bf60acf\",\"type\":\"Line\"},\"hover_glyph\":null,\"muted_glyph\":null,\"nonselection_glyph\":{\"id\":\"e2cae5e7-48b3-4833-bac3-e4261d6087ce\",\"type\":\"Line\"},\"selection_glyph\":null,\"view\":{\"id\":\"ce998b9b-9e3b-4c4b-adc3-3979665af36c\",\"type\":\"CDSView\"}},\"id\":\"f5feafe6-c7d1-4c37-bdae-23e89e16c851\",\"type\":\"GlyphRenderer\"},{\"attributes\":{\"line_color\":\"#8c564b\",\"line_width\":2,\"x\":{\"field\":\"x\"},\"y\":{\"field\":\"y\"}},\"id\":\"557a36a3-46ec-44d9-9fa9-13a69a1bb899\",\"type\":\"Line\"},{\"attributes\":{\"source\":{\"id\":\"a3c094a6-bd53-445b-85ff-c679a2b02e6c\",\"type\":\"ColumnDataSource\"}},\"id\":\"bc490296-632a-4aec-a9b8-411f623acdc7\",\"type\":\"CDSView\"},{\"attributes\":{\"label\":{\"value\":\"soln4\"},\"renderers\":[{\"id\":\"aed0b0a6-8546-49d6-adf3-6e6080f2fe47\",\"type\":\"GlyphRenderer\"}]},\"id\":\"4d8e75c3-2ee6-42cd-b4ff-377a79d1b9cc\",\"type\":\"LegendItem\"},{\"attributes\":{\"line_alpha\":0.1,\"line_color\":\"#1f77b4\",\"line_width\":2,\"x\":{\"field\":\"x\"},\"y\":{\"field\":\"y\"}},\"id\":\"ef4f8888-6797-4ff2-bf1c-cc1ae4709d77\",\"type\":\"Line\"},{\"attributes\":{\"data_source\":{\"id\":\"a3c094a6-bd53-445b-85ff-c679a2b02e6c\",\"type\":\"ColumnDataSource\"},\"glyph\":{\"id\":\"557a36a3-46ec-44d9-9fa9-13a69a1bb899\",\"type\":\"Line\"},\"hover_glyph\":null,\"muted_glyph\":null,\"nonselection_glyph\":{\"id\":\"16e1762b-cdfe-404d-92f7-6f5560cc81f8\",\"type\":\"Line\"},\"selection_glyph\":null,\"view\":{\"id\":\"bc490296-632a-4aec-a9b8-411f623acdc7\",\"type\":\"CDSView\"}},\"id\":\"aed0b0a6-8546-49d6-adf3-6e6080f2fe47\",\"type\":\"GlyphRenderer\"},{\"attributes\":{\"callback\":null,\"column_names\":[\"x\",\"y\"],\"data\":{\"x\":[18,17,16,15,14,13,12],\"y\":[610,84.9,12.2,1.83,0.291,0.061,0.021]}},\"id\":\"74166a58-1fb7-4d46-b200-70439ce0050b\",\"type\":\"ColumnDataSource\"},{\"attributes\":{\"line_color\":\"#e377c2\",\"line_width\":2,\"x\":{\"field\":\"x\"},\"y\":{\"field\":\"y\"}},\"id\":\"7e7ebf7d-13e3-4b85-bc49-9d29a3308edf\",\"type\":\"Line\"},{\"attributes\":{\"source\":{\"id\":\"74166a58-1fb7-4d46-b200-70439ce0050b\",\"type\":\"ColumnDataSource\"}},\"id\":\"83b27b59-3001-4711-b9c8-90b38ce2dad8\",\"type\":\"CDSView\"},{\"attributes\":{\"label\":{\"value\":\"solnGo\"},\"renderers\":[{\"id\":\"6d2dbee5-3f4f-4375-95b4-65eaddc966b0\",\"type\":\"GlyphRenderer\"}]},\"id\":\"972afd4b-8cf6-4fe0-b527-4cb552ee3c0e\",\"type\":\"LegendItem\"},{\"attributes\":{\"line_alpha\":0.1,\"line_color\":\"#1f77b4\",\"line_width\":2,\"x\":{\"field\":\"x\"},\"y\":{\"field\":\"y\"}},\"id\":\"3ceb837e-5124-429f-9ec8-8ec63839787b\",\"type\":\"Line\"},{\"attributes\":{\"data_source\":{\"id\":\"74166a58-1fb7-4d46-b200-70439ce0050b\",\"type\":\"ColumnDataSource\"},\"glyph\":{\"id\":\"7e7ebf7d-13e3-4b85-bc49-9d29a3308edf\",\"type\":\"Line\"},\"hover_glyph\":null,\"muted_glyph\":null,\"nonselection_glyph\":{\"id\":\"ef4f8888-6797-4ff2-bf1c-cc1ae4709d77\",\"type\":\"Line\"},\"selection_glyph\":null,\"view\":{\"id\":\"83b27b59-3001-4711-b9c8-90b38ce2dad8\",\"type\":\"CDSView\"}},\"id\":\"6d2dbee5-3f4f-4375-95b4-65eaddc966b0\",\"type\":\"GlyphRenderer\"},{\"attributes\":{\"callback\":null,\"column_names\":[\"x\",\"y\"],\"data\":{\"x\":[18,17,16,15,14,13,12],\"y\":[557,75.2,10.9,1.64,0.267,0.102,0.02]}},\"id\":\"7c306a44-95ff-406d-822c-92e81b27c58f\",\"type\":\"ColumnDataSource\"},{\"attributes\":{\"line_color\":\"#7f7f7f\",\"line_width\":2,\"x\":{\"field\":\"x\"},\"y\":{\"field\":\"y\"}},\"id\":\"fb54df4c-d638-46ae-bf6b-ae5febb5ecfc\",\"type\":\"Line\"},{\"attributes\":{\"source\":{\"id\":\"7c306a44-95ff-406d-822c-92e81b27c58f\",\"type\":\"ColumnDataSource\"}},\"id\":\"6061caa8-7d4a-496a-9d41-bbf745054112\",\"type\":\"CDSView\"},{\"attributes\":{\"label\":{\"value\":\"solnC\"},\"renderers\":[{\"id\":\"0b9cb879-da31-4fd3-9d42-ef24282e5d98\",\"type\":\"GlyphRenderer\"}]},\"id\":\"c0648c32-d733-4999-a6d8-17432cf5d602\",\"type\":\"LegendItem\"},{\"attributes\":{\"data_source\":{\"id\":\"7c306a44-95ff-406d-822c-92e81b27c58f\",\"type\":\"ColumnDataSource\"},\"glyph\":{\"id\":\"fb54df4c-d638-46ae-bf6b-ae5febb5ecfc\",\"type\":\"Line\"},\"hover_glyph\":null,\"muted_glyph\":null,\"nonselection_glyph\":{\"id\":\"3ceb837e-5124-429f-9ec8-8ec63839787b\",\"type\":\"Line\"},\"selection_glyph\":null,\"view\":{\"id\":\"6061caa8-7d4a-496a-9d41-bbf745054112\",\"type\":\"CDSView\"}},\"id\":\"0b9cb879-da31-4fd3-9d42-ef24282e5d98\",\"type\":\"GlyphRenderer\"}],\"root_ids\":[\"eda31d94-db80-4435-9ee0-6dfb44be1bb8\"]},\"title\":\"Bokeh Application\",\"version\":\"0.12.14\"}};\n",
       "  var render_items = [{\"docid\":\"5fa50a07-f444-4aed-a1eb-153a69401496\",\"elementid\":\"335f26cd-859b-4a26-9f18-3a343ef22ddb\",\"modelid\":\"eda31d94-db80-4435-9ee0-6dfb44be1bb8\"}];\n",
       "  root.Bokeh.embed.embed_items_notebook(docs_json, render_items);\n",
       "\n",
       "  }\n",
       "  if (root.Bokeh !== undefined) {\n",
       "    embed_document(root);\n",
       "  } else {\n",
       "    var attempts = 0;\n",
       "    var timer = setInterval(function(root) {\n",
       "      if (root.Bokeh !== undefined) {\n",
       "        embed_document(root);\n",
       "        clearInterval(timer);\n",
       "      }\n",
       "      attempts++;\n",
       "      if (attempts > 100) {\n",
       "        console.log(\"Bokeh: ERROR: Unable to run BokehJS code because BokehJS library is missing\")\n",
       "        clearInterval(timer);\n",
       "      }\n",
       "    }, 10, root)\n",
       "  }\n",
       "})(window);"
      ],
      "application/vnd.bokehjs_exec.v0+json": ""
     },
     "metadata": {
      "application/vnd.bokehjs_exec.v0+json": {
       "id": "eda31d94-db80-4435-9ee0-6dfb44be1bb8"
      }
     },
     "output_type": "display_data"
    }
   ],
   "source": [
    "plot_timings(('soln1', time1), ('soln2', time2), ('soln2b', time2b), ('soln3c', time3c), ('soln3d', time3d), ('soln4', time4), ('solnGo', timeGo), ('solnC', timeC))"
   ]
  },
  {
   "cell_type": "code",
   "execution_count": null,
   "metadata": {},
   "outputs": [],
   "source": []
  }
 ],
 "metadata": {
  "kernelspec": {
   "display_name": "Python 3",
   "language": "python",
   "name": "python3"
  },
  "language_info": {
   "codemirror_mode": {
    "name": "ipython",
    "version": 3
   },
   "file_extension": ".py",
   "mimetype": "text/x-python",
   "name": "python",
   "nbconvert_exporter": "python",
   "pygments_lexer": "ipython3",
   "version": "3.6.8rc1"
  }
 },
 "nbformat": 4,
 "nbformat_minor": 2
}
