{
 "cells": [
  {
   "cell_type": "markdown",
   "metadata": {
    "slideshow": {
     "slide_type": "slide"
    }
   },
   "source": [
    "## Eight Queens Puzzle"
   ]
  },
  {
   "cell_type": "markdown",
   "metadata": {},
   "source": [
    "https://en.wikipedia.org/wiki/Eight_queens_puzzle\n",
    "\n",
    "The N-Queens puzzle refers to a set of related questions that stem from the challenge of arranging eight queens on a standard 8x8 chess board in such a way that no two queeens are attacking one another.  The more general problem extends this to N queens on an NxN chess board.  Except for N=2 and N=3, this is know to have solutions for all positive N.\n",
    "\n",
    "Some of the different forms of the challenge are:\n",
    "1. Find all of the arrangements of queens that satisfy the condition.\n",
    "2. Just count all of the arrangements of queens that satisfy the condition.\n",
    "3. Find at least *one* arrangment of queens that satify the condition.\n",
    "\n",
    "The second challenge (counting) has been solved up to N=27. (The number of solutions grows exponentially with N.)\n",
    "\n",
    "The third challenge (finding at least one arrangement) can solved for much, much larger values of N.  (Solutions up to N=500,000 have been reported.)"
   ]
  },
  {
   "cell_type": "markdown",
   "metadata": {
    "slideshow": {
     "slide_type": "subslide"
    }
   },
   "source": [
    "**Utility functions**"
   ]
  },
  {
   "cell_type": "code",
   "execution_count": 1,
   "metadata": {
    "slideshow": {
     "slide_type": "-"
    }
   },
   "outputs": [],
   "source": [
    "import timeit\n",
    "\n",
    "def timings(fn, maxtime=15, runs=0):\n",
    "    \"\"\"Time the given function, fn(N), for increasing values of N, from N=6.\n",
    "    This continues until the calculation time exceeds `maxtime` seconds.\n",
    "    If a non-zero value for `runs` is given, it is evaluted that many times\n",
    "    for each value of N.  If `runs` is zero, we try to pick a number of\n",
    "    evaluations that totals to roughly 1 second.\n",
    "    \n",
    "    A list of (n, timing) tuples is returned.\n",
    "    \"\"\"\n",
    "    result = []\n",
    "    n, exec_time = 6, 0.001\n",
    "    while exec_time < maxtime:\n",
    "        nrun = runs or max(1, int(0.2/exec_time))  # assume time increases ~5x each round.\n",
    "        exec_time = timeit.timeit(\"fn(n)\", number=nrun, globals=locals()) / nrun\n",
    "        result.append((n, exec_time))\n",
    "        n += 1              \n",
    "    return result"
   ]
  },
  {
   "cell_type": "code",
   "execution_count": 2,
   "metadata": {
    "slideshow": {
     "slide_type": "subslide"
    }
   },
   "outputs": [],
   "source": [
    "import numpy as np\n",
    "\n",
    "def expfit(n, y):\n",
    "    \"\"\"Fit the (n, y) data to a simple exponential model y = exp(a*x + b)\n",
    "    and print the results.  The factor exp(a) and offset b are displayed,\n",
    "    along with the predictions for each point.\n",
    "    \n",
    "    A list of (n, timing, predicted timing) tuples is also returned.\n",
    "    \"\"\"\n",
    "    cf = np.polyfit(n, np.log(y), 1)\n",
    "    print(\"exp(a): {:3f}\\nb: {}\".format(np.exp(cf[0]), cf[1]))\n",
    "    yp = np.exp(np.polyval(cf, n))\n",
    "    print(\"\\n\".join([\"{:2d}: {:6f}  pred: {:6f}\".format(*val) for val in zip(n, y, yp)]))\n",
    "    return list(zip(n, y, yp))"
   ]
  },
  {
   "cell_type": "code",
   "execution_count": 3,
   "metadata": {
    "slideshow": {
     "slide_type": "subslide"
    }
   },
   "outputs": [
    {
     "data": {
      "text/html": [
       "\n",
       "    <div class=\"bk-root\">\n",
       "        <a href=\"https://bokeh.pydata.org\" target=\"_blank\" class=\"bk-logo bk-logo-small bk-logo-notebook\"></a>\n",
       "        <span id=\"92509c89-d69f-4178-ad28-4036e9878ab3\">Loading BokehJS ...</span>\n",
       "    </div>"
      ]
     },
     "metadata": {},
     "output_type": "display_data"
    },
    {
     "data": {
      "application/javascript": [
       "\n",
       "(function(root) {\n",
       "  function now() {\n",
       "    return new Date();\n",
       "  }\n",
       "\n",
       "  var force = true;\n",
       "\n",
       "  if (typeof (root._bokeh_onload_callbacks) === \"undefined\" || force === true) {\n",
       "    root._bokeh_onload_callbacks = [];\n",
       "    root._bokeh_is_loading = undefined;\n",
       "  }\n",
       "\n",
       "  var JS_MIME_TYPE = 'application/javascript';\n",
       "  var HTML_MIME_TYPE = 'text/html';\n",
       "  var EXEC_MIME_TYPE = 'application/vnd.bokehjs_exec.v0+json';\n",
       "  var CLASS_NAME = 'output_bokeh rendered_html';\n",
       "\n",
       "  /**\n",
       "   * Render data to the DOM node\n",
       "   */\n",
       "  function render(props, node) {\n",
       "    var script = document.createElement(\"script\");\n",
       "    node.appendChild(script);\n",
       "  }\n",
       "\n",
       "  /**\n",
       "   * Handle when an output is cleared or removed\n",
       "   */\n",
       "  function handleClearOutput(event, handle) {\n",
       "    var cell = handle.cell;\n",
       "\n",
       "    var id = cell.output_area._bokeh_element_id;\n",
       "    var server_id = cell.output_area._bokeh_server_id;\n",
       "    // Clean up Bokeh references\n",
       "    if (id !== undefined) {\n",
       "      Bokeh.index[id].model.document.clear();\n",
       "      delete Bokeh.index[id];\n",
       "    }\n",
       "\n",
       "    if (server_id !== undefined) {\n",
       "      // Clean up Bokeh references\n",
       "      var cmd = \"from bokeh.io.state import curstate; print(curstate().uuid_to_server['\" + server_id + \"'].get_sessions()[0].document.roots[0]._id)\";\n",
       "      cell.notebook.kernel.execute(cmd, {\n",
       "        iopub: {\n",
       "          output: function(msg) {\n",
       "            var element_id = msg.content.text.trim();\n",
       "            Bokeh.index[element_id].model.document.clear();\n",
       "            delete Bokeh.index[element_id];\n",
       "          }\n",
       "        }\n",
       "      });\n",
       "      // Destroy server and session\n",
       "      var cmd = \"import bokeh.io.notebook as ion; ion.destroy_server('\" + server_id + \"')\";\n",
       "      cell.notebook.kernel.execute(cmd);\n",
       "    }\n",
       "  }\n",
       "\n",
       "  /**\n",
       "   * Handle when a new output is added\n",
       "   */\n",
       "  function handleAddOutput(event, handle) {\n",
       "    var output_area = handle.output_area;\n",
       "    var output = handle.output;\n",
       "\n",
       "    // limit handleAddOutput to display_data with EXEC_MIME_TYPE content only\n",
       "    if ((output.output_type != \"display_data\") || (!output.data.hasOwnProperty(EXEC_MIME_TYPE))) {\n",
       "      return\n",
       "    }\n",
       "\n",
       "    var toinsert = output_area.element.find(\".\" + CLASS_NAME.split(' ')[0]);\n",
       "\n",
       "    if (output.metadata[EXEC_MIME_TYPE][\"id\"] !== undefined) {\n",
       "      toinsert[0].firstChild.textContent = output.data[JS_MIME_TYPE];\n",
       "      // store reference to embed id on output_area\n",
       "      output_area._bokeh_element_id = output.metadata[EXEC_MIME_TYPE][\"id\"];\n",
       "    }\n",
       "    if (output.metadata[EXEC_MIME_TYPE][\"server_id\"] !== undefined) {\n",
       "      var bk_div = document.createElement(\"div\");\n",
       "      bk_div.innerHTML = output.data[HTML_MIME_TYPE];\n",
       "      var script_attrs = bk_div.children[0].attributes;\n",
       "      for (var i = 0; i < script_attrs.length; i++) {\n",
       "        toinsert[0].firstChild.setAttribute(script_attrs[i].name, script_attrs[i].value);\n",
       "      }\n",
       "      // store reference to server id on output_area\n",
       "      output_area._bokeh_server_id = output.metadata[EXEC_MIME_TYPE][\"server_id\"];\n",
       "    }\n",
       "  }\n",
       "\n",
       "  function register_renderer(events, OutputArea) {\n",
       "\n",
       "    function append_mime(data, metadata, element) {\n",
       "      // create a DOM node to render to\n",
       "      var toinsert = this.create_output_subarea(\n",
       "        metadata,\n",
       "        CLASS_NAME,\n",
       "        EXEC_MIME_TYPE\n",
       "      );\n",
       "      this.keyboard_manager.register_events(toinsert);\n",
       "      // Render to node\n",
       "      var props = {data: data, metadata: metadata[EXEC_MIME_TYPE]};\n",
       "      render(props, toinsert[0]);\n",
       "      element.append(toinsert);\n",
       "      return toinsert\n",
       "    }\n",
       "\n",
       "    /* Handle when an output is cleared or removed */\n",
       "    events.on('clear_output.CodeCell', handleClearOutput);\n",
       "    events.on('delete.Cell', handleClearOutput);\n",
       "\n",
       "    /* Handle when a new output is added */\n",
       "    events.on('output_added.OutputArea', handleAddOutput);\n",
       "\n",
       "    /**\n",
       "     * Register the mime type and append_mime function with output_area\n",
       "     */\n",
       "    OutputArea.prototype.register_mime_type(EXEC_MIME_TYPE, append_mime, {\n",
       "      /* Is output safe? */\n",
       "      safe: true,\n",
       "      /* Index of renderer in `output_area.display_order` */\n",
       "      index: 0\n",
       "    });\n",
       "  }\n",
       "\n",
       "  // register the mime type if in Jupyter Notebook environment and previously unregistered\n",
       "  if (root.Jupyter !== undefined) {\n",
       "    var events = require('base/js/events');\n",
       "    var OutputArea = require('notebook/js/outputarea').OutputArea;\n",
       "\n",
       "    if (OutputArea.prototype.mime_types().indexOf(EXEC_MIME_TYPE) == -1) {\n",
       "      register_renderer(events, OutputArea);\n",
       "    }\n",
       "  }\n",
       "\n",
       "  \n",
       "  if (typeof (root._bokeh_timeout) === \"undefined\" || force === true) {\n",
       "    root._bokeh_timeout = Date.now() + 5000;\n",
       "    root._bokeh_failed_load = false;\n",
       "  }\n",
       "\n",
       "  var NB_LOAD_WARNING = {'data': {'text/html':\n",
       "     \"<div style='background-color: #fdd'>\\n\"+\n",
       "     \"<p>\\n\"+\n",
       "     \"BokehJS does not appear to have successfully loaded. If loading BokehJS from CDN, this \\n\"+\n",
       "     \"may be due to a slow or bad network connection. Possible fixes:\\n\"+\n",
       "     \"</p>\\n\"+\n",
       "     \"<ul>\\n\"+\n",
       "     \"<li>re-rerun `output_notebook()` to attempt to load from CDN again, or</li>\\n\"+\n",
       "     \"<li>use INLINE resources instead, as so:</li>\\n\"+\n",
       "     \"</ul>\\n\"+\n",
       "     \"<code>\\n\"+\n",
       "     \"from bokeh.resources import INLINE\\n\"+\n",
       "     \"output_notebook(resources=INLINE)\\n\"+\n",
       "     \"</code>\\n\"+\n",
       "     \"</div>\"}};\n",
       "\n",
       "  function display_loaded() {\n",
       "    var el = document.getElementById(\"92509c89-d69f-4178-ad28-4036e9878ab3\");\n",
       "    if (el != null) {\n",
       "      el.textContent = \"BokehJS is loading...\";\n",
       "    }\n",
       "    if (root.Bokeh !== undefined) {\n",
       "      if (el != null) {\n",
       "        el.textContent = \"BokehJS \" + root.Bokeh.version + \" successfully loaded.\";\n",
       "      }\n",
       "    } else if (Date.now() < root._bokeh_timeout) {\n",
       "      setTimeout(display_loaded, 100)\n",
       "    }\n",
       "  }\n",
       "\n",
       "\n",
       "  function run_callbacks() {\n",
       "    try {\n",
       "      root._bokeh_onload_callbacks.forEach(function(callback) { callback() });\n",
       "    }\n",
       "    finally {\n",
       "      delete root._bokeh_onload_callbacks\n",
       "    }\n",
       "    console.info(\"Bokeh: all callbacks have finished\");\n",
       "  }\n",
       "\n",
       "  function load_libs(js_urls, callback) {\n",
       "    root._bokeh_onload_callbacks.push(callback);\n",
       "    if (root._bokeh_is_loading > 0) {\n",
       "      console.log(\"Bokeh: BokehJS is being loaded, scheduling callback at\", now());\n",
       "      return null;\n",
       "    }\n",
       "    if (js_urls == null || js_urls.length === 0) {\n",
       "      run_callbacks();\n",
       "      return null;\n",
       "    }\n",
       "    console.log(\"Bokeh: BokehJS not loaded, scheduling load and callback at\", now());\n",
       "    root._bokeh_is_loading = js_urls.length;\n",
       "    for (var i = 0; i < js_urls.length; i++) {\n",
       "      var url = js_urls[i];\n",
       "      var s = document.createElement('script');\n",
       "      s.src = url;\n",
       "      s.async = false;\n",
       "      s.onreadystatechange = s.onload = function() {\n",
       "        root._bokeh_is_loading--;\n",
       "        if (root._bokeh_is_loading === 0) {\n",
       "          console.log(\"Bokeh: all BokehJS libraries loaded\");\n",
       "          run_callbacks()\n",
       "        }\n",
       "      };\n",
       "      s.onerror = function() {\n",
       "        console.warn(\"failed to load library \" + url);\n",
       "      };\n",
       "      console.log(\"Bokeh: injecting script tag for BokehJS library: \", url);\n",
       "      document.getElementsByTagName(\"head\")[0].appendChild(s);\n",
       "    }\n",
       "  };var element = document.getElementById(\"92509c89-d69f-4178-ad28-4036e9878ab3\");\n",
       "  if (element == null) {\n",
       "    console.log(\"Bokeh: ERROR: autoload.js configured with elementid '92509c89-d69f-4178-ad28-4036e9878ab3' but no matching script tag was found. \")\n",
       "    return false;\n",
       "  }\n",
       "\n",
       "  var js_urls = [\"https://cdn.pydata.org/bokeh/release/bokeh-0.12.14.min.js\", \"https://cdn.pydata.org/bokeh/release/bokeh-widgets-0.12.14.min.js\", \"https://cdn.pydata.org/bokeh/release/bokeh-tables-0.12.14.min.js\", \"https://cdn.pydata.org/bokeh/release/bokeh-gl-0.12.14.min.js\"];\n",
       "\n",
       "  var inline_js = [\n",
       "    function(Bokeh) {\n",
       "      Bokeh.set_log_level(\"info\");\n",
       "    },\n",
       "    \n",
       "    function(Bokeh) {\n",
       "      \n",
       "    },\n",
       "    function(Bokeh) {\n",
       "      console.log(\"Bokeh: injecting CSS: https://cdn.pydata.org/bokeh/release/bokeh-0.12.14.min.css\");\n",
       "      Bokeh.embed.inject_css(\"https://cdn.pydata.org/bokeh/release/bokeh-0.12.14.min.css\");\n",
       "      console.log(\"Bokeh: injecting CSS: https://cdn.pydata.org/bokeh/release/bokeh-widgets-0.12.14.min.css\");\n",
       "      Bokeh.embed.inject_css(\"https://cdn.pydata.org/bokeh/release/bokeh-widgets-0.12.14.min.css\");\n",
       "      console.log(\"Bokeh: injecting CSS: https://cdn.pydata.org/bokeh/release/bokeh-tables-0.12.14.min.css\");\n",
       "      Bokeh.embed.inject_css(\"https://cdn.pydata.org/bokeh/release/bokeh-tables-0.12.14.min.css\");\n",
       "    }\n",
       "  ];\n",
       "\n",
       "  function run_inline_js() {\n",
       "    \n",
       "    if ((root.Bokeh !== undefined) || (force === true)) {\n",
       "      for (var i = 0; i < inline_js.length; i++) {\n",
       "        inline_js[i].call(root, root.Bokeh);\n",
       "      }if (force === true) {\n",
       "        display_loaded();\n",
       "      }} else if (Date.now() < root._bokeh_timeout) {\n",
       "      setTimeout(run_inline_js, 100);\n",
       "    } else if (!root._bokeh_failed_load) {\n",
       "      console.log(\"Bokeh: BokehJS failed to load within specified timeout.\");\n",
       "      root._bokeh_failed_load = true;\n",
       "    } else if (force !== true) {\n",
       "      var cell = $(document.getElementById(\"92509c89-d69f-4178-ad28-4036e9878ab3\")).parents('.cell').data().cell;\n",
       "      cell.output_area.append_execute_result(NB_LOAD_WARNING)\n",
       "    }\n",
       "\n",
       "  }\n",
       "\n",
       "  if (root._bokeh_is_loading === 0) {\n",
       "    console.log(\"Bokeh: BokehJS loaded, going straight to plotting\");\n",
       "    run_inline_js();\n",
       "  } else {\n",
       "    load_libs(js_urls, function() {\n",
       "      console.log(\"Bokeh: BokehJS plotting callback run at\", now());\n",
       "      run_inline_js();\n",
       "    });\n",
       "  }\n",
       "}(window));"
      ],
      "application/vnd.bokehjs_load.v0+json": "\n(function(root) {\n  function now() {\n    return new Date();\n  }\n\n  var force = true;\n\n  if (typeof (root._bokeh_onload_callbacks) === \"undefined\" || force === true) {\n    root._bokeh_onload_callbacks = [];\n    root._bokeh_is_loading = undefined;\n  }\n\n  \n\n  \n  if (typeof (root._bokeh_timeout) === \"undefined\" || force === true) {\n    root._bokeh_timeout = Date.now() + 5000;\n    root._bokeh_failed_load = false;\n  }\n\n  var NB_LOAD_WARNING = {'data': {'text/html':\n     \"<div style='background-color: #fdd'>\\n\"+\n     \"<p>\\n\"+\n     \"BokehJS does not appear to have successfully loaded. If loading BokehJS from CDN, this \\n\"+\n     \"may be due to a slow or bad network connection. Possible fixes:\\n\"+\n     \"</p>\\n\"+\n     \"<ul>\\n\"+\n     \"<li>re-rerun `output_notebook()` to attempt to load from CDN again, or</li>\\n\"+\n     \"<li>use INLINE resources instead, as so:</li>\\n\"+\n     \"</ul>\\n\"+\n     \"<code>\\n\"+\n     \"from bokeh.resources import INLINE\\n\"+\n     \"output_notebook(resources=INLINE)\\n\"+\n     \"</code>\\n\"+\n     \"</div>\"}};\n\n  function display_loaded() {\n    var el = document.getElementById(\"92509c89-d69f-4178-ad28-4036e9878ab3\");\n    if (el != null) {\n      el.textContent = \"BokehJS is loading...\";\n    }\n    if (root.Bokeh !== undefined) {\n      if (el != null) {\n        el.textContent = \"BokehJS \" + root.Bokeh.version + \" successfully loaded.\";\n      }\n    } else if (Date.now() < root._bokeh_timeout) {\n      setTimeout(display_loaded, 100)\n    }\n  }\n\n\n  function run_callbacks() {\n    try {\n      root._bokeh_onload_callbacks.forEach(function(callback) { callback() });\n    }\n    finally {\n      delete root._bokeh_onload_callbacks\n    }\n    console.info(\"Bokeh: all callbacks have finished\");\n  }\n\n  function load_libs(js_urls, callback) {\n    root._bokeh_onload_callbacks.push(callback);\n    if (root._bokeh_is_loading > 0) {\n      console.log(\"Bokeh: BokehJS is being loaded, scheduling callback at\", now());\n      return null;\n    }\n    if (js_urls == null || js_urls.length === 0) {\n      run_callbacks();\n      return null;\n    }\n    console.log(\"Bokeh: BokehJS not loaded, scheduling load and callback at\", now());\n    root._bokeh_is_loading = js_urls.length;\n    for (var i = 0; i < js_urls.length; i++) {\n      var url = js_urls[i];\n      var s = document.createElement('script');\n      s.src = url;\n      s.async = false;\n      s.onreadystatechange = s.onload = function() {\n        root._bokeh_is_loading--;\n        if (root._bokeh_is_loading === 0) {\n          console.log(\"Bokeh: all BokehJS libraries loaded\");\n          run_callbacks()\n        }\n      };\n      s.onerror = function() {\n        console.warn(\"failed to load library \" + url);\n      };\n      console.log(\"Bokeh: injecting script tag for BokehJS library: \", url);\n      document.getElementsByTagName(\"head\")[0].appendChild(s);\n    }\n  };var element = document.getElementById(\"92509c89-d69f-4178-ad28-4036e9878ab3\");\n  if (element == null) {\n    console.log(\"Bokeh: ERROR: autoload.js configured with elementid '92509c89-d69f-4178-ad28-4036e9878ab3' but no matching script tag was found. \")\n    return false;\n  }\n\n  var js_urls = [\"https://cdn.pydata.org/bokeh/release/bokeh-0.12.14.min.js\", \"https://cdn.pydata.org/bokeh/release/bokeh-widgets-0.12.14.min.js\", \"https://cdn.pydata.org/bokeh/release/bokeh-tables-0.12.14.min.js\", \"https://cdn.pydata.org/bokeh/release/bokeh-gl-0.12.14.min.js\"];\n\n  var inline_js = [\n    function(Bokeh) {\n      Bokeh.set_log_level(\"info\");\n    },\n    \n    function(Bokeh) {\n      \n    },\n    function(Bokeh) {\n      console.log(\"Bokeh: injecting CSS: https://cdn.pydata.org/bokeh/release/bokeh-0.12.14.min.css\");\n      Bokeh.embed.inject_css(\"https://cdn.pydata.org/bokeh/release/bokeh-0.12.14.min.css\");\n      console.log(\"Bokeh: injecting CSS: https://cdn.pydata.org/bokeh/release/bokeh-widgets-0.12.14.min.css\");\n      Bokeh.embed.inject_css(\"https://cdn.pydata.org/bokeh/release/bokeh-widgets-0.12.14.min.css\");\n      console.log(\"Bokeh: injecting CSS: https://cdn.pydata.org/bokeh/release/bokeh-tables-0.12.14.min.css\");\n      Bokeh.embed.inject_css(\"https://cdn.pydata.org/bokeh/release/bokeh-tables-0.12.14.min.css\");\n    }\n  ];\n\n  function run_inline_js() {\n    \n    if ((root.Bokeh !== undefined) || (force === true)) {\n      for (var i = 0; i < inline_js.length; i++) {\n        inline_js[i].call(root, root.Bokeh);\n      }if (force === true) {\n        display_loaded();\n      }} else if (Date.now() < root._bokeh_timeout) {\n      setTimeout(run_inline_js, 100);\n    } else if (!root._bokeh_failed_load) {\n      console.log(\"Bokeh: BokehJS failed to load within specified timeout.\");\n      root._bokeh_failed_load = true;\n    } else if (force !== true) {\n      var cell = $(document.getElementById(\"92509c89-d69f-4178-ad28-4036e9878ab3\")).parents('.cell').data().cell;\n      cell.output_area.append_execute_result(NB_LOAD_WARNING)\n    }\n\n  }\n\n  if (root._bokeh_is_loading === 0) {\n    console.log(\"Bokeh: BokehJS loaded, going straight to plotting\");\n    run_inline_js();\n  } else {\n    load_libs(js_urls, function() {\n      console.log(\"Bokeh: BokehJS plotting callback run at\", now());\n      run_inline_js();\n    });\n  }\n}(window));"
     },
     "metadata": {},
     "output_type": "display_data"
    }
   ],
   "source": [
    "from bokeh.plotting import figure, output_notebook, show\n",
    "from bokeh.palettes import Category20 \n",
    "output_notebook()\n",
    "\n",
    "def plot_timings(*named_timings, log=True):\n",
    "    \"\"\"Plot the given timings, each a tuple of the function name and\n",
    "    a list of timing data (n, timing, fitted timing).\n",
    "    \"\"\"\n",
    "    args = {'title': \"Timings\",\n",
    "            'x_axis_label': 'N',\n",
    "            'y_axis_label': 'time (sec)'}\n",
    "    if log:\n",
    "        args['y_axis_type'] = 'log'\n",
    "\n",
    "    fig = figure(**args)\n",
    "    \n",
    "    # add a line renderer with legend and line thickness\n",
    "    for i, timing in enumerate(named_timings):\n",
    "        name, xyp = timing\n",
    "        if len(xyp[0]) == 3:\n",
    "            n, y, yp = zip(*xyp)\n",
    "            fig.line(n, y, legend=name, line_width=2, color=Category20[20][2*i])\n",
    "            fig.line(n, yp, legend=name + \" (pred)\", line_width=1, color=Category20[20][2*i+1])\n",
    "        elif len(xyp[0]) == 2:\n",
    "            n, y = zip(*xyp)\n",
    "            fig.line(n, y, legend=name, line_width=2, color=Category20[20][2*i])\n",
    "        else:\n",
    "            raise ValueError(\"Can't decipher timing\")\n",
    "\n",
    "    # show the results\n",
    "    show(fig)"
   ]
  },
  {
   "cell_type": "code",
   "execution_count": 4,
   "metadata": {
    "slideshow": {
     "slide_type": "subslide"
    }
   },
   "outputs": [],
   "source": [
    "def print_solutions(solns):\n",
    "    for i, b in enumerate(solns):\n",
    "        print(\"{:2d}: {}\".format(i+1, \" \".join(map(str, b))))"
   ]
  },
  {
   "cell_type": "markdown",
   "metadata": {
    "slideshow": {
     "slide_type": "slide"
    }
   },
   "source": [
    "### 1. Consider all possible arrangements of the N queens on distinct rows and columns.\n",
    "* This is the most reasonable \"brute-force\" solution to the problem, because we know that, for every solution, the column numbers of the queens will be some permution of the integers 1 to N.  We can generate those N! permutations directly."
   ]
  },
  {
   "cell_type": "code",
   "execution_count": 5,
   "metadata": {},
   "outputs": [],
   "source": [
    "NQUEEN = 8"
   ]
  },
  {
   "cell_type": "code",
   "execution_count": 6,
   "metadata": {},
   "outputs": [
    {
     "name": "stdout",
     "output_type": "stream",
     "text": [
      "Found 92 solutions\n"
     ]
    }
   ],
   "source": [
    "from itertools import permutations\n",
    "\n",
    "def attack(b):\n",
    "    \"\"\"Return True if any two queens on the given board attack each other.\"\"\"\n",
    "    for i in range(len(b)-1):\n",
    "        for j in range(i+1, len(b)):\n",
    "            if abs(b[i] - b[j]) == j - i:\n",
    "                return True\n",
    "    return False\n",
    "    \n",
    "def solution1(nqueen):\n",
    "    solns = []\n",
    "    for board in permutations(list(range(nqueen))):\n",
    "        if not attack(board):\n",
    "            solns.append(tuple(board))\n",
    "    return solns\n",
    "\n",
    "solns = solution1(NQUEEN)\n",
    "print(\"Found {} solutions\".format(len(solns)))\n",
    "# print_solutions(solns)"
   ]
  },
  {
   "cell_type": "code",
   "execution_count": 7,
   "metadata": {
    "slideshow": {
     "slide_type": "fragment"
    }
   },
   "outputs": [
    {
     "name": "stdout",
     "output_type": "stream",
     "text": [
      "exp(a): 9.351711\n",
      "b: -19.859046516005407\n",
      " 6: 0.001941  pred: 0.001587\n",
      " 7: 0.014305  pred: 0.014844\n",
      " 8: 0.114603  pred: 0.138821\n",
      " 9: 1.140848  pred: 1.298212\n",
      "10: 11.839864  pred: 12.140502\n",
      "11: 136.153895  pred: 113.534471\n"
     ]
    }
   ],
   "source": [
    "time1 = timings(solution1)\n",
    "n, y = zip(*time1)\n",
    "pred1 = expfit(n, y)"
   ]
  },
  {
   "cell_type": "markdown",
   "metadata": {
    "slideshow": {
     "slide_type": "slide"
    }
   },
   "source": [
    "### 2. Find solutions using an exhaustive depth-first search.\n",
    "* Doing a classic tree search for solutions should let us reduce the number of positions we need to look at, significantly, because it lets us backtrack as soon as we find that some queen placement prevents further queens from being placed.\n",
    "* In principle, a breadth-first search wouldn't examine more positions than this depth-first search, but it would require storing many more intermediate states.  Since we want to find all solutions, anyway, a depth-first search makes more sense."
   ]
  },
  {
   "cell_type": "markdown",
   "metadata": {},
   "source": [
    "#### a. Reuse the *attack()* function from the brute-force search"
   ]
  },
  {
   "cell_type": "code",
   "execution_count": 8,
   "metadata": {},
   "outputs": [
    {
     "name": "stdout",
     "output_type": "stream",
     "text": [
      "Found 92 solutions\n"
     ]
    }
   ],
   "source": [
    "def solution2(nqueen):\n",
    "    solns = []\n",
    "    queue = [[i] for i in range(nqueen)]\n",
    "    while queue:\n",
    "        b = queue.pop()\n",
    "        for j in range(nqueen):\n",
    "            if not(j in b or attack(b + [j])):\n",
    "                newb = b + [j]\n",
    "                if len(newb) == nqueen:\n",
    "                    solns.append(newb)\n",
    "                else:\n",
    "                    queue.append(newb)\n",
    "    return solns\n",
    "              \n",
    "solns = solution2(NQUEEN)\n",
    "print(\"Found {} solutions\".format(len(solns)))"
   ]
  },
  {
   "cell_type": "code",
   "execution_count": 9,
   "metadata": {
    "slideshow": {
     "slide_type": "fragment"
    }
   },
   "outputs": [
    {
     "name": "stdout",
     "output_type": "stream",
     "text": [
      "exp(a): 5.267663\n",
      "b: -16.574365515359947\n",
      " 6: 0.001537  pred: 0.001354\n",
      " 7: 0.007168  pred: 0.007131\n",
      " 8: 0.035930  pred: 0.037565\n",
      " 9: 0.178009  pred: 0.197882\n",
      "10: 0.908257  pred: 1.042376\n",
      "11: 5.407617  pred: 5.490888\n",
      "12: 34.333706  pred: 28.924150\n"
     ]
    }
   ],
   "source": [
    "time2 = timings(solution2)\n",
    "n, y = zip(*time2)\n",
    "pred2 = expfit(n, y)"
   ]
  },
  {
   "cell_type": "markdown",
   "metadata": {
    "slideshow": {
     "slide_type": "slide"
    }
   },
   "source": [
    "#### b. Only check attacks on newly added queens "
   ]
  },
  {
   "cell_type": "code",
   "execution_count": 10,
   "metadata": {},
   "outputs": [
    {
     "name": "stdout",
     "output_type": "stream",
     "text": [
      "Found 92 solutions\n"
     ]
    }
   ],
   "source": [
    "def adds_attack(b, row):\n",
    "    \"\"\"Return True if adding a queen in the next column on given row results in an attack.\n",
    "    This should be all we need to check, if we know the input board b contains no attacks.\n",
    "    \"\"\"\n",
    "    col = len(b)\n",
    "    return any([abs(irow - row) == col - icol\n",
    "                for icol, irow in enumerate(b)])\n",
    "\n",
    "def solution2b(nqueen):\n",
    "    solns = []\n",
    "    queue = [[i] for i in range(nqueen)]\n",
    "    while queue:\n",
    "        b = queue.pop()\n",
    "        for j in range(nqueen):\n",
    "            if not(j in b or adds_attack(b, j)):\n",
    "                newb = b + [j]\n",
    "                if len(newb) == nqueen:\n",
    "                    solns.append(newb)\n",
    "                else:\n",
    "                    queue.append(newb)\n",
    "    return solns\n",
    "              \n",
    "solns = solution2b(NQUEEN)\n",
    "print(\"Found {} solutions\".format(len(solns)))"
   ]
  },
  {
   "cell_type": "code",
   "execution_count": 11,
   "metadata": {
    "slideshow": {
     "slide_type": "fragment"
    }
   },
   "outputs": [
    {
     "name": "stdout",
     "output_type": "stream",
     "text": [
      "exp(a): 4.900585\n",
      "b: -16.74233765946474\n",
      " 6: 0.000934  pred: 0.000742\n",
      " 7: 0.003853  pred: 0.003636\n",
      " 8: 0.015886  pred: 0.017819\n",
      " 9: 0.075273  pred: 0.087323\n",
      "10: 0.351358  pred: 0.427932\n",
      "11: 1.874776  pred: 2.097116\n",
      "12: 10.534047  pred: 10.277098\n",
      "13: 65.299843  pred: 50.363793\n"
     ]
    }
   ],
   "source": [
    "time2b = timings(solution2b)\n",
    "n, y = zip(*time2b)\n",
    "pred2b = expfit(n, y)"
   ]
  },
  {
   "cell_type": "markdown",
   "metadata": {
    "slideshow": {
     "slide_type": "slide"
    }
   },
   "source": [
    "### 3. Track search state using tuples of bit vectors.\n",
    "The state of a partially completed board is represented by separate bit vectors that record the queen locations, right-diagonal attacks, left-diagonal attacks, and a list with the location of each queen."
   ]
  },
  {
   "cell_type": "code",
   "execution_count": 12,
   "metadata": {},
   "outputs": [],
   "source": [
    "from collections import namedtuple\n",
    "from itertools import islice\n",
    "\n",
    "def bits(i, nbits=NQUEEN):\n",
    "    \"\"\"Return a string containing the nbits-binary representation of the integer i.\"\"\"\n",
    "    return bin((1 << nbits) | i)[3:]\n",
    "\n",
    "Queens = namedtuple('Queens', ['col', 'rd', 'ld', 'loc'])\n",
    "Queens.__repr__ = lambda q: \"{}, {}, {} ({})\".format(bits(q.col), bits(q.rd), bits(q.ld), \",\".join(map(str, q.loc)))\n",
    "\n",
    "def successors(state, nqueen):\n",
    "    col = nqueen - 1\n",
    "    newq = 1 << col\n",
    "    excl = state.col | state.ld | state.rd\n",
    "    while newq:\n",
    "        if not (newq & excl):\n",
    "            yield Queens(state.col | newq,(state.rd | newq) >> 1, (state.ld | newq) << 1, state.loc + (col,))\n",
    "        col -= 1\n",
    "        newq = newq >> 1"
   ]
  },
  {
   "cell_type": "code",
   "execution_count": 13,
   "metadata": {
    "collapsed": true,
    "jupyter": {
     "outputs_hidden": true,
     "source_hidden": true
    },
    "slideshow": {
     "slide_type": "subslide"
    }
   },
   "outputs": [
    {
     "name": "stdout",
     "output_type": "stream",
     "text": [
      "00000000, 00000000, 00000000 ()\n",
      "- - - - - -\n",
      "10000000, 01000000, 00000000 (7)\n",
      "01000000, 00100000, 10000000 (6)\n",
      "00100000, 00010000, 01000000 (5)\n",
      "00010000, 00001000, 00100000 (4)\n",
      "00001000, 00000100, 00010000 (3)\n",
      "00000100, 00000010, 00001000 (2)\n",
      "00000010, 00000001, 00000100 (1)\n",
      "00000001, 00000000, 00000010 (0)\n",
      "===========\n",
      "00010000, 00001000, 00100000 (4)\n",
      "- - - - - -\n",
      "10010000, 01000100, 01000000 (4,7)\n",
      "01010000, 00100100, 11000000 (4,6)\n",
      "00010100, 00000110, 01001000 (4,2)\n",
      "00010010, 00000101, 01000100 (4,1)\n",
      "00010001, 00000100, 01000010 (4,0)\n",
      "===========\n",
      "10010000, 01000100, 01000000 (4,7)\n",
      "- - - - - -\n",
      "10110000, 00110010, 111000000 (4,7,5)\n",
      "10011000, 00100110, 110010000 (4,7,3)\n",
      "10010010, 00100011, 110000100 (4,7,1)\n",
      "10010001, 00100010, 110000010 (4,7,0)\n"
     ]
    }
   ],
   "source": [
    "# Verify that successors() works the way we expect it to.\n",
    "q0 = Queens(0, 0, 0, ())\n",
    "print(q0)\n",
    "print('- - - - - -')\n",
    "for q in successors(q0, NQUEEN):\n",
    "    print(q)\n",
    "print('===========')\n",
    "q1 = list(successors(q0, NQUEEN))[3]\n",
    "print(q1)\n",
    "print('- - - - - -')\n",
    "for q in successors(q1, NQUEEN):\n",
    "    print(q)\n",
    "print('===========')\n",
    "q2 = list(successors(q1, NQUEEN))[0]\n",
    "print(q2)\n",
    "print('- - - - - -')\n",
    "for q in successors(q2, NQUEEN):\n",
    "    print(q)"
   ]
  },
  {
   "cell_type": "markdown",
   "metadata": {
    "slideshow": {
     "slide_type": "slide"
    }
   },
   "source": [
    "#### a. Find all solutions"
   ]
  },
  {
   "cell_type": "code",
   "execution_count": 14,
   "metadata": {},
   "outputs": [
    {
     "name": "stdout",
     "output_type": "stream",
     "text": [
      "Found 92 solutions\n"
     ]
    }
   ],
   "source": [
    "def solution3(nqueen):\n",
    "    solns = []\n",
    "    complete = (1 << nqueen) - 1\n",
    "    queue = [q for q in successors(Queens(0, 0, 0, ()), nqueen)]\n",
    "    while queue:\n",
    "        q = queue.pop()       \n",
    "        if q.col == complete:\n",
    "            solns.append(q.loc)\n",
    "        else:\n",
    "            for newq in successors(q, nqueen):\n",
    "                queue.append(newq)\n",
    "    return solns\n",
    "              \n",
    "solns = solution3(NQUEEN)\n",
    "print(\"Found {} solutions\".format(len(solns)))"
   ]
  },
  {
   "cell_type": "code",
   "execution_count": 15,
   "metadata": {
    "slideshow": {
     "slide_type": "fragment"
    }
   },
   "outputs": [
    {
     "name": "stdout",
     "output_type": "stream",
     "text": [
      "exp(a): 4.470174\n",
      "b: -16.58158031509165\n",
      " 6: 0.000690  pred: 0.000502\n",
      " 7: 0.002276  pred: 0.002244\n",
      " 8: 0.008711  pred: 0.010030\n",
      " 9: 0.036968  pred: 0.044836\n",
      "10: 0.163304  pred: 0.200427\n",
      "11: 0.780103  pred: 0.895943\n",
      "12: 4.251360  pred: 4.005022\n",
      "13: 23.824188  pred: 17.903145\n"
     ]
    }
   ],
   "source": [
    "time3 = timings(solution3)\n",
    "n, y = zip(*time3)\n",
    "pred3 = expfit(n, y)"
   ]
  },
  {
   "cell_type": "markdown",
   "metadata": {
    "slideshow": {
     "slide_type": "slide"
    }
   },
   "source": [
    "#### b. Just count the number of solutions\n",
    "* Keeping track of which queens are in which columns isn't necessary if you just want to count the number of solutions.  So, we can simplify things a little by not keeping track of that.\n",
    "* The speedup from this is much less than I expected. (~8%)"
   ]
  },
  {
   "cell_type": "code",
   "execution_count": 16,
   "metadata": {},
   "outputs": [
    {
     "name": "stdout",
     "output_type": "stream",
     "text": [
      "Found 92 solutions\n"
     ]
    }
   ],
   "source": [
    "Queens2 = namedtuple('Queens', ['col', 'rd', 'ld'])\n",
    "Queens2.__repr__ = lambda q: \"{}, {}, {}\".format(bits(q.col), bits(q.rd), bits(q.ld))\n",
    "\n",
    "def successors2(state, nqueen):\n",
    "    col = nqueen - 1\n",
    "    newq = 1 << col\n",
    "    excl = state.col | state.ld | state.rd\n",
    "    while newq:\n",
    "        if not (newq & excl):\n",
    "            yield Queens2(state.col | newq, (state.rd | newq) >> 1, (state.ld | newq) << 1)\n",
    "        col -= 1\n",
    "        newq = newq >> 1\n",
    "        \n",
    "def solution3b(nqueen):\n",
    "    count = 0\n",
    "    complete = (1 << nqueen) - 1\n",
    "    queue = [q for q in successors2(Queens2(0, 0, 0), nqueen)]\n",
    "    while queue:\n",
    "        q = queue.pop()       \n",
    "        if q.col == complete:\n",
    "            count += 1\n",
    "        else:\n",
    "            for newq in successors2(q, nqueen):\n",
    "                queue.append(newq)\n",
    "    return count\n",
    "              \n",
    "nsolns = solution3b(NQUEEN)\n",
    "print(\"Found {} solutions\".format(nsolns))"
   ]
  },
  {
   "cell_type": "code",
   "execution_count": 17,
   "metadata": {
    "slideshow": {
     "slide_type": "fragment"
    }
   },
   "outputs": [
    {
     "name": "stdout",
     "output_type": "stream",
     "text": [
      "exp(a): 4.484820\n",
      "b: -16.6794474460244\n",
      " 6: 0.000571  pred: 0.000464\n",
      " 7: 0.002461  pred: 0.002082\n",
      " 8: 0.008115  pred: 0.009336\n",
      " 9: 0.033822  pred: 0.041871\n",
      "10: 0.147008  pred: 0.187784\n",
      "11: 0.754938  pred: 0.842177\n",
      "12: 3.996532  pred: 3.777013\n",
      "13: 22.350366  pred: 16.939223\n"
     ]
    }
   ],
   "source": [
    "time3b = timings(solution3b)\n",
    "n, y = zip(*time3b)\n",
    "pred3b = expfit(n, y)"
   ]
  },
  {
   "cell_type": "markdown",
   "metadata": {
    "slideshow": {
     "slide_type": "slide"
    }
   },
   "source": [
    "#### c. Replace namedtuples with simple tuples\n",
    "* I was just curious how much overhead there was in using namedtuples.  It turns out it's significant. (~2x speedup)"
   ]
  },
  {
   "cell_type": "code",
   "execution_count": 18,
   "metadata": {},
   "outputs": [
    {
     "name": "stdout",
     "output_type": "stream",
     "text": [
      "Found 92 solutions\n"
     ]
    }
   ],
   "source": [
    "def successors3(col, rd, ld, nqueen):\n",
    "    newq = 1 << (nqueen - 1)\n",
    "    excl = col | rd | ld\n",
    "    while newq:\n",
    "        if not (newq & excl):\n",
    "            yield (col | newq, (rd | newq) >> 1, (ld | newq) << 1)\n",
    "        newq = newq >> 1\n",
    "        \n",
    "def solution3c(nqueen):\n",
    "    count = 0\n",
    "    done = (1 << nqueen) - 1\n",
    "    queue = list(successors3(0, 0, 0, nqueen))\n",
    "    while queue:\n",
    "        col, rd, ld = queue.pop()       \n",
    "        if col == done:\n",
    "            count += 1\n",
    "        else:\n",
    "            queue.extend(successors3(col, rd, ld, nqueen))\n",
    "    return count\n",
    "              \n",
    "nsolns = solution3c(NQUEEN)\n",
    "print(\"Found {} solutions\".format(nsolns))"
   ]
  },
  {
   "cell_type": "code",
   "execution_count": 19,
   "metadata": {
    "slideshow": {
     "slide_type": "fragment"
    }
   },
   "outputs": [
    {
     "name": "stdout",
     "output_type": "stream",
     "text": [
      "exp(a): 4.670683\n",
      "b: -17.50889589973632\n",
      " 6: 0.000372  pred: 0.000258\n",
      " 7: 0.001244  pred: 0.001207\n",
      " 8: 0.005280  pred: 0.005637\n",
      " 9: 0.021300  pred: 0.026327\n",
      "10: 0.101429  pred: 0.122967\n",
      "11: 0.437754  pred: 0.574338\n",
      "12: 2.445329  pred: 2.682552\n",
      "13: 13.654391  pred: 12.529350\n",
      "14: 83.227663  pred: 58.520626\n"
     ]
    }
   ],
   "source": [
    "time3c = timings(solution3c)\n",
    "n, y = zip(*time3c)\n",
    "pred3c = expfit(n, y)"
   ]
  },
  {
   "cell_type": "markdown",
   "metadata": {
    "slideshow": {
     "slide_type": "slide"
    }
   },
   "source": [
    "### 4. Replace iterative search with a recursive search\n",
    "* This doesn't reduce the number of positions that are examined, but it avoids having to manage a queue.  This both simplifies the logic a little, and reduces memory use.\n",
    "* The logic for deciding when to give up is a little more efficient here, too."
   ]
  },
  {
   "cell_type": "code",
   "execution_count": 20,
   "metadata": {},
   "outputs": [
    {
     "name": "stdout",
     "output_type": "stream",
     "text": [
      "Found 92 solutions\n"
     ]
    }
   ],
   "source": [
    "def solution4(nqueen):\n",
    "    done = (1 << nqueen) - 1\n",
    "\n",
    "    def count4(level, col, rd, ld):\n",
    "        excl = (col | rd | ld) & done\n",
    "        if excl == done:\n",
    "            return 0\n",
    "        elif level+1 == nqueen:\n",
    "            return 1\n",
    "        \n",
    "        count = 0\n",
    "        newq = 1 << (nqueen - 1)\n",
    "        while newq:\n",
    "            if (newq & excl) == 0:\n",
    "                    count += count4(level+1, col | newq, (rd | newq) >> 1, (ld | newq) << 1)\n",
    "            newq = newq >> 1\n",
    "        return count\n",
    "        \n",
    "    return count4(0, 0, 0, 0)\n",
    "\n",
    "              \n",
    "nsolns = solution4(NQUEEN)\n",
    "print(\"Found {} solutions\".format(nsolns))"
   ]
  },
  {
   "cell_type": "code",
   "execution_count": 21,
   "metadata": {
    "slideshow": {
     "slide_type": "fragment"
    }
   },
   "outputs": [
    {
     "name": "stdout",
     "output_type": "stream",
     "text": [
      "exp(a): 4.671884\n",
      "b: -17.89365250898106\n",
      " 6: 0.000234  pred: 0.000176\n",
      " 7: 0.000932  pred: 0.000823\n",
      " 8: 0.003743  pred: 0.003844\n",
      " 9: 0.013693  pred: 0.017960\n",
      "10: 0.070447  pred: 0.083909\n",
      "11: 0.305075  pred: 0.392011\n",
      "12: 1.580122  pred: 1.831430\n",
      "13: 9.564014  pred: 8.556227\n",
      "14: 56.738100  pred: 39.973701\n"
     ]
    }
   ],
   "source": [
    "time4 = timings(solution4)\n",
    "n, y = zip(*time4)\n",
    "pred4 = expfit(n, y)"
   ]
  },
  {
   "cell_type": "markdown",
   "metadata": {
    "slideshow": {
     "slide_type": "slide"
    }
   },
   "source": [
    "### Plot timings for the different solutions"
   ]
  },
  {
   "cell_type": "code",
   "execution_count": 22,
   "metadata": {},
   "outputs": [
    {
     "data": {
      "text/html": [
       "\n",
       "<div class=\"bk-root\">\n",
       "    <div class=\"bk-plotdiv\" id=\"b7f2e9fa-c6f0-46a7-9816-e69e82de3be4\"></div>\n",
       "</div>"
      ]
     },
     "metadata": {},
     "output_type": "display_data"
    },
    {
     "data": {
      "application/javascript": [
       "(function(root) {\n",
       "  function embed_document(root) {\n",
       "    \n",
       "  var docs_json = {\"6ecfdf10-2fb4-4fe7-ae75-047ed5d1ca24\":{\"roots\":{\"references\":[{\"attributes\":{\"label\":{\"value\":\"soln4\"},\"renderers\":[{\"id\":\"7e5e8403-8f7b-409d-b4c4-f30272c7cf31\",\"type\":\"GlyphRenderer\"}]},\"id\":\"81c4ddfb-7825-4e6a-8748-d5eba7135cee\",\"type\":\"LegendItem\"},{\"attributes\":{\"active_drag\":\"auto\",\"active_inspect\":\"auto\",\"active_scroll\":\"auto\",\"active_tap\":\"auto\",\"tools\":[{\"id\":\"36d5cdb5-e0a0-4676-8cff-7d1db7fd9879\",\"type\":\"PanTool\"},{\"id\":\"eaee2c16-36e5-4c4b-a19e-34114d346a44\",\"type\":\"WheelZoomTool\"},{\"id\":\"764db23c-ac2c-4ebc-8a0d-37e2af507841\",\"type\":\"BoxZoomTool\"},{\"id\":\"34f2c3a2-05ab-4b72-a8c3-f3f7d6014ad7\",\"type\":\"SaveTool\"},{\"id\":\"36c8ece5-e3ef-4e0e-8cd5-430542275c0b\",\"type\":\"ResetTool\"},{\"id\":\"2ae2f16d-83d3-4549-8b24-6c25ee711fcc\",\"type\":\"HelpTool\"}]},\"id\":\"949c6664-68b8-48a4-b7ef-494497320e22\",\"type\":\"Toolbar\"},{\"attributes\":{\"callback\":null,\"column_names\":[\"x\",\"y\"],\"data\":{\"x\":[6,7,8,9,10,11,12,13,14],\"y\":[0.00017613182733318316,0.0008228674915059505,0.003844341586807175,0.01796031850645571,0.08390852726519553,0.3920109181406417,1.8314295930350704,8.55622687794946,39.973700690083035]}},\"id\":\"717e5fa9-9fcc-4af9-a925-178647bbb9e8\",\"type\":\"ColumnDataSource\"},{\"attributes\":{\"callback\":null},\"id\":\"a67e74a5-efd8-4523-a162-2ce0d8bd5a66\",\"type\":\"DataRange1d\"},{\"attributes\":{\"line_color\":\"#8c564b\",\"line_width\":2,\"x\":{\"field\":\"x\"},\"y\":{\"field\":\"y\"}},\"id\":\"aaa2eb90-6434-4cbc-8e5a-160d938217af\",\"type\":\"Line\"},{\"attributes\":{\"data_source\":{\"id\":\"c5c56afa-debe-4cc7-81ee-01d1974c41d3\",\"type\":\"ColumnDataSource\"},\"glyph\":{\"id\":\"f41d2403-e238-4edc-b4be-a16aa39d0d60\",\"type\":\"Line\"},\"hover_glyph\":null,\"muted_glyph\":null,\"nonselection_glyph\":{\"id\":\"20fc71c2-3291-476e-ba63-980bf10f0753\",\"type\":\"Line\"},\"selection_glyph\":null,\"view\":{\"id\":\"477934bd-ddd8-4efc-b352-ff20a813f39a\",\"type\":\"CDSView\"}},\"id\":\"b2188a16-5258-426f-a923-0bba90ce6d78\",\"type\":\"GlyphRenderer\"},{\"attributes\":{},\"id\":\"71c70ebe-9106-4a5e-be46-b27e1c5be7f6\",\"type\":\"BasicTicker\"},{\"attributes\":{\"line_color\":\"#1f77b4\",\"line_width\":2,\"x\":{\"field\":\"x\"},\"y\":{\"field\":\"y\"}},\"id\":\"b0429dd9-fcdd-431c-aac7-1aa6b71d5498\",\"type\":\"Line\"},{\"attributes\":{\"label\":{\"value\":\"soln2 (pred)\"},\"renderers\":[{\"id\":\"ee51b6be-8127-48c8-9f98-23bb885bd96c\",\"type\":\"GlyphRenderer\"}]},\"id\":\"5ac6b839-3d57-4846-8f4e-8248c5d449fc\",\"type\":\"LegendItem\"},{\"attributes\":{\"callback\":null,\"column_names\":[\"x\",\"y\"],\"data\":{\"x\":[6,7,8,9,10,11],\"y\":[0.0019414066450190149,0.014304883388301711,0.1146026043844848,1.1408482879996882,11.839863986999262,136.15389455799595]}},\"id\":\"10e94487-4a46-400e-840c-3894091bc5ff\",\"type\":\"ColumnDataSource\"},{\"attributes\":{\"callback\":null},\"id\":\"a3d847b1-5746-4875-84e4-b6088088cdb5\",\"type\":\"DataRange1d\"},{\"attributes\":{\"label\":{\"value\":\"soln3c (pred)\"},\"renderers\":[{\"id\":\"b6e75763-3472-40ab-923a-72eb74eef314\",\"type\":\"GlyphRenderer\"}]},\"id\":\"0f64c952-c0cd-4343-b123-1abe9d630a04\",\"type\":\"LegendItem\"},{\"attributes\":{\"data_source\":{\"id\":\"10e94487-4a46-400e-840c-3894091bc5ff\",\"type\":\"ColumnDataSource\"},\"glyph\":{\"id\":\"b0429dd9-fcdd-431c-aac7-1aa6b71d5498\",\"type\":\"Line\"},\"hover_glyph\":null,\"muted_glyph\":null,\"nonselection_glyph\":{\"id\":\"ea937b68-60fa-4e89-9d8a-01106481a324\",\"type\":\"Line\"},\"selection_glyph\":null,\"view\":{\"id\":\"118ebf91-6deb-4f6c-911a-ce54547dd3b5\",\"type\":\"CDSView\"}},\"id\":\"e51a0f5f-db33-468f-be81-552742cce20b\",\"type\":\"GlyphRenderer\"},{\"attributes\":{\"source\":{\"id\":\"df071934-313a-4d77-9fba-68d195aaa14c\",\"type\":\"ColumnDataSource\"}},\"id\":\"6b92a468-dcee-40af-809b-88c5c57d697a\",\"type\":\"CDSView\"},{\"attributes\":{\"callback\":null,\"column_names\":[\"x\",\"y\"],\"data\":{\"x\":[6,7,8,9,10,11,12,13,14],\"y\":[0.0002342014099849621,0.0009320845345797013,0.0037430369439135007,0.01369342662271591,0.07044676564328256,0.3050753959978465,1.5801218189953943,9.564014438001323,56.738100433998625]}},\"id\":\"d5cc1cd7-e14c-4c0d-b594-e8185bcbb0a2\",\"type\":\"ColumnDataSource\"},{\"attributes\":{\"ticker\":null},\"id\":\"e6551252-0c32-4552-8e87-2340234fa540\",\"type\":\"LogTickFormatter\"},{\"attributes\":{\"line_alpha\":0.1,\"line_color\":\"#1f77b4\",\"line_width\":2,\"x\":{\"field\":\"x\"},\"y\":{\"field\":\"y\"}},\"id\":\"20fc71c2-3291-476e-ba63-980bf10f0753\",\"type\":\"Line\"},{\"attributes\":{\"axis_label\":\"N\",\"formatter\":{\"id\":\"1ff211ab-a499-4f13-b59f-b9c5cbbe401e\",\"type\":\"BasicTickFormatter\"},\"plot\":{\"id\":\"a3e447aa-747e-4f67-8d26-6c0e684e6727\",\"subtype\":\"Figure\",\"type\":\"Plot\"},\"ticker\":{\"id\":\"71c70ebe-9106-4a5e-be46-b27e1c5be7f6\",\"type\":\"BasicTicker\"}},\"id\":\"2d99fd22-77e3-4365-bc7b-0cb18fcd9da1\",\"type\":\"LinearAxis\"},{\"attributes\":{},\"id\":\"1ff211ab-a499-4f13-b59f-b9c5cbbe401e\",\"type\":\"BasicTickFormatter\"},{\"attributes\":{\"callback\":null,\"column_names\":[\"x\",\"y\"],\"data\":{\"x\":[6,7,8,9,10,11,12,13],\"y\":[0.0009340193299794919,0.0038529651775827227,0.01588577494112542,0.0752730552497572,0.35135755200099084,1.87477604799642,10.534046754000883,65.29984262999642]}},\"id\":\"9e529c49-4708-4ff8-a3cc-5be32184c5b7\",\"type\":\"ColumnDataSource\"},{\"attributes\":{\"below\":[{\"id\":\"2d99fd22-77e3-4365-bc7b-0cb18fcd9da1\",\"type\":\"LinearAxis\"}],\"left\":[{\"id\":\"f270db4c-a68e-48b3-bd5c-3620a778a208\",\"type\":\"LogAxis\"}],\"renderers\":[{\"id\":\"2d99fd22-77e3-4365-bc7b-0cb18fcd9da1\",\"type\":\"LinearAxis\"},{\"id\":\"028ef1e6-7540-47ba-a4fd-1cc9a716f7e9\",\"type\":\"Grid\"},{\"id\":\"f270db4c-a68e-48b3-bd5c-3620a778a208\",\"type\":\"LogAxis\"},{\"id\":\"e1d267d1-9c41-4a5c-8568-ef4b7b9eb1e8\",\"type\":\"Grid\"},{\"id\":\"7b57bf50-608c-4e6c-a5e6-5c3db82b9d2a\",\"type\":\"BoxAnnotation\"},{\"id\":\"5098187f-f5d2-43c3-bcfd-033f56b86433\",\"type\":\"Legend\"},{\"id\":\"e51a0f5f-db33-468f-be81-552742cce20b\",\"type\":\"GlyphRenderer\"},{\"id\":\"2f5b98ab-2106-42aa-9596-921bfe8ecca8\",\"type\":\"GlyphRenderer\"},{\"id\":\"b2188a16-5258-426f-a923-0bba90ce6d78\",\"type\":\"GlyphRenderer\"},{\"id\":\"ee51b6be-8127-48c8-9f98-23bb885bd96c\",\"type\":\"GlyphRenderer\"},{\"id\":\"20ff4654-1eb6-4b82-9c2b-45230263e451\",\"type\":\"GlyphRenderer\"},{\"id\":\"9efcccf2-a6ad-4858-9331-a0f41cf18d48\",\"type\":\"GlyphRenderer\"},{\"id\":\"7e78758c-f16f-42bf-b44f-fd4d5c47b14b\",\"type\":\"GlyphRenderer\"},{\"id\":\"7457cea9-4fcd-4ad8-8f4d-40b961782b1f\",\"type\":\"GlyphRenderer\"},{\"id\":\"5362e8a4-74ac-43a2-bb0d-212027bf8e96\",\"type\":\"GlyphRenderer\"},{\"id\":\"b6e75763-3472-40ab-923a-72eb74eef314\",\"type\":\"GlyphRenderer\"},{\"id\":\"7e5e8403-8f7b-409d-b4c4-f30272c7cf31\",\"type\":\"GlyphRenderer\"},{\"id\":\"d736adba-964d-4a5a-a00b-88ac39c9acea\",\"type\":\"GlyphRenderer\"}],\"title\":{\"id\":\"4b81143a-5e34-45cb-97ed-c465acae1c98\",\"type\":\"Title\"},\"toolbar\":{\"id\":\"949c6664-68b8-48a4-b7ef-494497320e22\",\"type\":\"Toolbar\"},\"x_range\":{\"id\":\"a3d847b1-5746-4875-84e4-b6088088cdb5\",\"type\":\"DataRange1d\"},\"x_scale\":{\"id\":\"bb3706dd-48eb-499b-ae8a-353279c93252\",\"type\":\"LinearScale\"},\"y_range\":{\"id\":\"a67e74a5-efd8-4523-a162-2ce0d8bd5a66\",\"type\":\"DataRange1d\"},\"y_scale\":{\"id\":\"f3cf1912-de98-464c-a271-3937175daf43\",\"type\":\"LogScale\"}},\"id\":\"a3e447aa-747e-4f67-8d26-6c0e684e6727\",\"subtype\":\"Figure\",\"type\":\"Plot\"},{\"attributes\":{\"label\":{\"value\":\"soln2\"},\"renderers\":[{\"id\":\"b2188a16-5258-426f-a923-0bba90ce6d78\",\"type\":\"GlyphRenderer\"}]},\"id\":\"67421db4-97e3-4433-b220-0f38259fa535\",\"type\":\"LegendItem\"},{\"attributes\":{\"data_source\":{\"id\":\"d5cc1cd7-e14c-4c0d-b594-e8185bcbb0a2\",\"type\":\"ColumnDataSource\"},\"glyph\":{\"id\":\"aaa2eb90-6434-4cbc-8e5a-160d938217af\",\"type\":\"Line\"},\"hover_glyph\":null,\"muted_glyph\":null,\"nonselection_glyph\":{\"id\":\"06e43c51-0295-4d0d-8ce9-4f066bd45e94\",\"type\":\"Line\"},\"selection_glyph\":null,\"view\":{\"id\":\"305788e6-94e5-4695-96f0-b900ad6cba9e\",\"type\":\"CDSView\"}},\"id\":\"7e5e8403-8f7b-409d-b4c4-f30272c7cf31\",\"type\":\"GlyphRenderer\"},{\"attributes\":{},\"id\":\"36d5cdb5-e0a0-4676-8cff-7d1db7fd9879\",\"type\":\"PanTool\"},{\"attributes\":{\"label\":{\"value\":\"soln1 (pred)\"},\"renderers\":[{\"id\":\"2f5b98ab-2106-42aa-9596-921bfe8ecca8\",\"type\":\"GlyphRenderer\"}]},\"id\":\"6635ae56-fd38-4a70-b567-aa1febdf7164\",\"type\":\"LegendItem\"},{\"attributes\":{\"label\":{\"value\":\"soln1\"},\"renderers\":[{\"id\":\"e51a0f5f-db33-468f-be81-552742cce20b\",\"type\":\"GlyphRenderer\"}]},\"id\":\"5bca5e5f-99ae-40f9-8f71-77d6cfaf4fcf\",\"type\":\"LegendItem\"},{\"attributes\":{\"source\":{\"id\":\"d5cc1cd7-e14c-4c0d-b594-e8185bcbb0a2\",\"type\":\"ColumnDataSource\"}},\"id\":\"305788e6-94e5-4695-96f0-b900ad6cba9e\",\"type\":\"CDSView\"},{\"attributes\":{\"callback\":null,\"column_names\":[\"x\",\"y\"],\"data\":{\"x\":[6,7,8,9,10,11,12],\"y\":[0.0015367388899903745,0.007168195676898064,0.03593012722208018,0.17800892920058686,0.908257486000366,5.407617149998259,34.33370614699379]}},\"id\":\"c5c56afa-debe-4cc7-81ee-01d1974c41d3\",\"type\":\"ColumnDataSource\"},{\"attributes\":{\"line_color\":\"#c5b0d5\",\"x\":{\"field\":\"x\"},\"y\":{\"field\":\"y\"}},\"id\":\"69fd98ee-b811-45ea-9032-fbeeb7d86dfa\",\"type\":\"Line\"},{\"attributes\":{\"num_minor_ticks\":10},\"id\":\"f83649ef-87c5-49ec-98a2-300cb9f48770\",\"type\":\"LogTicker\"},{\"attributes\":{\"line_alpha\":0.1,\"line_color\":\"#1f77b4\",\"line_width\":2,\"x\":{\"field\":\"x\"},\"y\":{\"field\":\"y\"}},\"id\":\"dc667a45-c296-4950-85b4-285d60e05853\",\"type\":\"Line\"},{\"attributes\":{\"line_color\":\"#2ca02c\",\"line_width\":2,\"x\":{\"field\":\"x\"},\"y\":{\"field\":\"y\"}},\"id\":\"b2701798-1a5b-47d1-bc58-91f06c12ddaa\",\"type\":\"Line\"},{\"attributes\":{},\"id\":\"f3cf1912-de98-464c-a271-3937175daf43\",\"type\":\"LogScale\"},{\"attributes\":{\"line_alpha\":0.1,\"line_color\":\"#1f77b4\",\"x\":{\"field\":\"x\"},\"y\":{\"field\":\"y\"}},\"id\":\"d81a8cef-8382-436c-abf2-07c755fdc2d0\",\"type\":\"Line\"},{\"attributes\":{\"dimension\":1,\"plot\":{\"id\":\"a3e447aa-747e-4f67-8d26-6c0e684e6727\",\"subtype\":\"Figure\",\"type\":\"Plot\"},\"ticker\":{\"id\":\"f83649ef-87c5-49ec-98a2-300cb9f48770\",\"type\":\"LogTicker\"}},\"id\":\"e1d267d1-9c41-4a5c-8568-ef4b7b9eb1e8\",\"type\":\"Grid\"},{\"attributes\":{\"callback\":null,\"column_names\":[\"x\",\"y\"],\"data\":{\"x\":[6,7,8,9,10,11,12],\"y\":[0.0013537939251673584,0.007131330571061928,0.03756544830667308,0.19788213327364948,1.04237645054204,5.490888169989775,28.924150079997982]}},\"id\":\"df071934-313a-4d77-9fba-68d195aaa14c\",\"type\":\"ColumnDataSource\"},{\"attributes\":{\"source\":{\"id\":\"14c9673f-a744-4f8f-9407-bf3bd557719c\",\"type\":\"ColumnDataSource\"}},\"id\":\"07eaf08c-ab9d-4cd3-9752-9fa19dd037fa\",\"type\":\"CDSView\"},{\"attributes\":{\"data_source\":{\"id\":\"717e5fa9-9fcc-4af9-a925-178647bbb9e8\",\"type\":\"ColumnDataSource\"},\"glyph\":{\"id\":\"7140a3bd-df92-4375-a096-51c15af27f20\",\"type\":\"Line\"},\"hover_glyph\":null,\"muted_glyph\":null,\"nonselection_glyph\":{\"id\":\"696ad5ff-a0c6-4a20-b103-6c8a29d6db3e\",\"type\":\"Line\"},\"selection_glyph\":null,\"view\":{\"id\":\"15c3993d-5a18-4b53-9410-78682856af82\",\"type\":\"CDSView\"}},\"id\":\"d736adba-964d-4a5a-a00b-88ac39c9acea\",\"type\":\"GlyphRenderer\"},{\"attributes\":{\"line_color\":\"#9467bd\",\"line_width\":2,\"x\":{\"field\":\"x\"},\"y\":{\"field\":\"y\"}},\"id\":\"8ac3c253-6743-4452-87ec-1e2ee54b3988\",\"type\":\"Line\"},{\"attributes\":{\"plot\":{\"id\":\"a3e447aa-747e-4f67-8d26-6c0e684e6727\",\"subtype\":\"Figure\",\"type\":\"Plot\"},\"ticker\":{\"id\":\"71c70ebe-9106-4a5e-be46-b27e1c5be7f6\",\"type\":\"BasicTicker\"}},\"id\":\"028ef1e6-7540-47ba-a4fd-1cc9a716f7e9\",\"type\":\"Grid\"},{\"attributes\":{\"source\":{\"id\":\"10e94487-4a46-400e-840c-3894091bc5ff\",\"type\":\"ColumnDataSource\"}},\"id\":\"118ebf91-6deb-4f6c-911a-ce54547dd3b5\",\"type\":\"CDSView\"},{\"attributes\":{\"line_color\":\"#ff9896\",\"x\":{\"field\":\"x\"},\"y\":{\"field\":\"y\"}},\"id\":\"20f9e22e-de5a-4bfb-80f9-513e5d3cc719\",\"type\":\"Line\"},{\"attributes\":{\"axis_label\":\"time (sec)\",\"formatter\":{\"id\":\"e6551252-0c32-4552-8e87-2340234fa540\",\"type\":\"LogTickFormatter\"},\"plot\":{\"id\":\"a3e447aa-747e-4f67-8d26-6c0e684e6727\",\"subtype\":\"Figure\",\"type\":\"Plot\"},\"ticker\":{\"id\":\"f83649ef-87c5-49ec-98a2-300cb9f48770\",\"type\":\"LogTicker\"}},\"id\":\"f270db4c-a68e-48b3-bd5c-3620a778a208\",\"type\":\"LogAxis\"},{\"attributes\":{\"data_source\":{\"id\":\"a94445fa-cf66-4c24-b1ba-db7ddd1e34a6\",\"type\":\"ColumnDataSource\"},\"glyph\":{\"id\":\"8ac3c253-6743-4452-87ec-1e2ee54b3988\",\"type\":\"Line\"},\"hover_glyph\":null,\"muted_glyph\":null,\"nonselection_glyph\":{\"id\":\"da5906ad-c579-42a9-84c0-45fb411ca522\",\"type\":\"Line\"},\"selection_glyph\":null,\"view\":{\"id\":\"5a950a66-0078-4e55-92a1-e795dc972ada\",\"type\":\"CDSView\"}},\"id\":\"5362e8a4-74ac-43a2-bb0d-212027bf8e96\",\"type\":\"GlyphRenderer\"},{\"attributes\":{\"line_alpha\":0.1,\"line_color\":\"#1f77b4\",\"line_width\":2,\"x\":{\"field\":\"x\"},\"y\":{\"field\":\"y\"}},\"id\":\"ea937b68-60fa-4e89-9d8a-01106481a324\",\"type\":\"Line\"},{\"attributes\":{\"plot\":null,\"text\":\"Timings\"},\"id\":\"4b81143a-5e34-45cb-97ed-c465acae1c98\",\"type\":\"Title\"},{\"attributes\":{\"data_source\":{\"id\":\"269ee9fe-3870-4ca5-83a3-3d83f47346fa\",\"type\":\"ColumnDataSource\"},\"glyph\":{\"id\":\"69fd98ee-b811-45ea-9032-fbeeb7d86dfa\",\"type\":\"Line\"},\"hover_glyph\":null,\"muted_glyph\":null,\"nonselection_glyph\":{\"id\":\"1110680e-fcf2-459d-8b63-9ab0a27f6050\",\"type\":\"Line\"},\"selection_glyph\":null,\"view\":{\"id\":\"2f9a619a-0711-44c1-9f62-ef7afb753732\",\"type\":\"CDSView\"}},\"id\":\"b6e75763-3472-40ab-923a-72eb74eef314\",\"type\":\"GlyphRenderer\"},{\"attributes\":{\"data_source\":{\"id\":\"9e529c49-4708-4ff8-a3cc-5be32184c5b7\",\"type\":\"ColumnDataSource\"},\"glyph\":{\"id\":\"b2701798-1a5b-47d1-bc58-91f06c12ddaa\",\"type\":\"Line\"},\"hover_glyph\":null,\"muted_glyph\":null,\"nonselection_glyph\":{\"id\":\"dc667a45-c296-4950-85b4-285d60e05853\",\"type\":\"Line\"},\"selection_glyph\":null,\"view\":{\"id\":\"6b847417-9bf6-4982-a56e-687f4b9f59c7\",\"type\":\"CDSView\"}},\"id\":\"20ff4654-1eb6-4b82-9c2b-45230263e451\",\"type\":\"GlyphRenderer\"},{\"attributes\":{\"callback\":null,\"column_names\":[\"x\",\"y\"],\"data\":{\"x\":[6,7,8,9,10,11,12,13,14],\"y\":[0.00037234643001283986,0.0012439957150843235,0.0052804566812483245,0.02129999121629029,0.1014287118887296,0.4377542939982959,2.445328989997506,13.654391126998235,83.22766324799886]}},\"id\":\"a94445fa-cf66-4c24-b1ba-db7ddd1e34a6\",\"type\":\"ColumnDataSource\"},{\"attributes\":{},\"id\":\"bb3706dd-48eb-499b-ae8a-353279c93252\",\"type\":\"LinearScale\"},{\"attributes\":{\"label\":{\"value\":\"soln3c\"},\"renderers\":[{\"id\":\"5362e8a4-74ac-43a2-bb0d-212027bf8e96\",\"type\":\"GlyphRenderer\"}]},\"id\":\"38ecbe41-c44f-4d27-95ad-bb9bc4ca6628\",\"type\":\"LegendItem\"},{\"attributes\":{\"label\":{\"value\":\"soln3 (pred)\"},\"renderers\":[{\"id\":\"7457cea9-4fcd-4ad8-8f4d-40b961782b1f\",\"type\":\"GlyphRenderer\"}]},\"id\":\"267e6324-aeeb-4eb1-96a7-c9edfbba9082\",\"type\":\"LegendItem\"},{\"attributes\":{\"source\":{\"id\":\"f005006c-c868-4dad-8f76-df68d660ccd7\",\"type\":\"ColumnDataSource\"}},\"id\":\"1e39c89f-302e-456a-a6e7-b0aff75c07ed\",\"type\":\"CDSView\"},{\"attributes\":{\"data_source\":{\"id\":\"f005006c-c868-4dad-8f76-df68d660ccd7\",\"type\":\"ColumnDataSource\"},\"glyph\":{\"id\":\"9ed8a8f5-5239-4ed4-9673-803bdd30c8bb\",\"type\":\"Line\"},\"hover_glyph\":null,\"muted_glyph\":null,\"nonselection_glyph\":{\"id\":\"6f6db9c9-2511-45fb-8ccd-069af4b8753a\",\"type\":\"Line\"},\"selection_glyph\":null,\"view\":{\"id\":\"1e39c89f-302e-456a-a6e7-b0aff75c07ed\",\"type\":\"CDSView\"}},\"id\":\"7e78758c-f16f-42bf-b44f-fd4d5c47b14b\",\"type\":\"GlyphRenderer\"},{\"attributes\":{\"data_source\":{\"id\":\"14c9673f-a744-4f8f-9407-bf3bd557719c\",\"type\":\"ColumnDataSource\"},\"glyph\":{\"id\":\"de2865f6-93f7-4439-a903-c5bcc84ac784\",\"type\":\"Line\"},\"hover_glyph\":null,\"muted_glyph\":null,\"nonselection_glyph\":{\"id\":\"6754e979-eea1-4d7b-a90f-a2d6b1e414a0\",\"type\":\"Line\"},\"selection_glyph\":null,\"view\":{\"id\":\"07eaf08c-ab9d-4cd3-9752-9fa19dd037fa\",\"type\":\"CDSView\"}},\"id\":\"9efcccf2-a6ad-4858-9331-a0f41cf18d48\",\"type\":\"GlyphRenderer\"},{\"attributes\":{\"line_alpha\":0.1,\"line_color\":\"#1f77b4\",\"line_width\":2,\"x\":{\"field\":\"x\"},\"y\":{\"field\":\"y\"}},\"id\":\"06e43c51-0295-4d0d-8ce9-4f066bd45e94\",\"type\":\"Line\"},{\"attributes\":{\"callback\":null,\"column_names\":[\"x\",\"y\"],\"data\":{\"x\":[6,7,8,9,10,11,12,13],\"y\":[0.0005019471760295559,0.0022437914549967536,0.010030139293422398,0.044836472668357455,0.20042685575251082,0.8959430150531822,4.005021598571545,17.90314532902787]}},\"id\":\"4c64cca8-2030-42ca-8943-bc0745f59203\",\"type\":\"ColumnDataSource\"},{\"attributes\":{\"line_color\":\"#ff7f0e\",\"line_width\":2,\"x\":{\"field\":\"x\"},\"y\":{\"field\":\"y\"}},\"id\":\"f41d2403-e238-4edc-b4be-a16aa39d0d60\",\"type\":\"Line\"},{\"attributes\":{\"line_alpha\":0.1,\"line_color\":\"#1f77b4\",\"line_width\":2,\"x\":{\"field\":\"x\"},\"y\":{\"field\":\"y\"}},\"id\":\"6f6db9c9-2511-45fb-8ccd-069af4b8753a\",\"type\":\"Line\"},{\"attributes\":{\"data_source\":{\"id\":\"942affad-29f0-45fb-b425-4801c342b40d\",\"type\":\"ColumnDataSource\"},\"glyph\":{\"id\":\"91848903-676a-4392-8f9a-da79d8769134\",\"type\":\"Line\"},\"hover_glyph\":null,\"muted_glyph\":null,\"nonselection_glyph\":{\"id\":\"6a07656e-afbb-4027-8bd2-ae4e48ecbd77\",\"type\":\"Line\"},\"selection_glyph\":null,\"view\":{\"id\":\"cd125ee1-ae3b-4e42-9b4c-e27b43daca26\",\"type\":\"CDSView\"}},\"id\":\"2f5b98ab-2106-42aa-9596-921bfe8ecca8\",\"type\":\"GlyphRenderer\"},{\"attributes\":{\"label\":{\"value\":\"soln3\"},\"renderers\":[{\"id\":\"7e78758c-f16f-42bf-b44f-fd4d5c47b14b\",\"type\":\"GlyphRenderer\"}]},\"id\":\"fe92ee8a-42e8-46c2-9b6a-157c3d2be9b6\",\"type\":\"LegendItem\"},{\"attributes\":{\"line_color\":\"#c49c94\",\"x\":{\"field\":\"x\"},\"y\":{\"field\":\"y\"}},\"id\":\"7140a3bd-df92-4375-a096-51c15af27f20\",\"type\":\"Line\"},{\"attributes\":{\"source\":{\"id\":\"c5c56afa-debe-4cc7-81ee-01d1974c41d3\",\"type\":\"ColumnDataSource\"}},\"id\":\"477934bd-ddd8-4efc-b352-ff20a813f39a\",\"type\":\"CDSView\"},{\"attributes\":{\"callback\":null,\"column_names\":[\"x\",\"y\"],\"data\":{\"x\":[6,7,8,9,10,11,12,13],\"y\":[0.0006895010950029246,0.0022764060275974394,0.008710618563238584,0.03696765345441897,0.16330362879962196,0.7801030679984251,4.251360377005767,23.824187557002006]}},\"id\":\"f005006c-c868-4dad-8f76-df68d660ccd7\",\"type\":\"ColumnDataSource\"},{\"attributes\":{\"label\":{\"value\":\"soln4 (pred)\"},\"renderers\":[{\"id\":\"d736adba-964d-4a5a-a00b-88ac39c9acea\",\"type\":\"GlyphRenderer\"}]},\"id\":\"400fdd8b-c31d-4719-ac51-9bae7bde73e8\",\"type\":\"LegendItem\"},{\"attributes\":{\"source\":{\"id\":\"717e5fa9-9fcc-4af9-a925-178647bbb9e8\",\"type\":\"ColumnDataSource\"}},\"id\":\"15c3993d-5a18-4b53-9410-78682856af82\",\"type\":\"CDSView\"},{\"attributes\":{\"line_alpha\":0.1,\"line_color\":\"#1f77b4\",\"x\":{\"field\":\"x\"},\"y\":{\"field\":\"y\"}},\"id\":\"1110680e-fcf2-459d-8b63-9ab0a27f6050\",\"type\":\"Line\"},{\"attributes\":{\"source\":{\"id\":\"9e529c49-4708-4ff8-a3cc-5be32184c5b7\",\"type\":\"ColumnDataSource\"}},\"id\":\"6b847417-9bf6-4982-a56e-687f4b9f59c7\",\"type\":\"CDSView\"},{\"attributes\":{\"source\":{\"id\":\"942affad-29f0-45fb-b425-4801c342b40d\",\"type\":\"ColumnDataSource\"}},\"id\":\"cd125ee1-ae3b-4e42-9b4c-e27b43daca26\",\"type\":\"CDSView\"},{\"attributes\":{},\"id\":\"34f2c3a2-05ab-4b72-a8c3-f3f7d6014ad7\",\"type\":\"SaveTool\"},{\"attributes\":{\"callback\":null,\"column_names\":[\"x\",\"y\"],\"data\":{\"x\":[6,7,8,9,10,11,12,13,14],\"y\":[0.00025838400596117536,0.0012068298511638594,0.0056367199828886725,0.026327333662533425,0.1229666366047077,0.5743382110658892,2.68255186771318,12.529350101252312,58.52062577025861]}},\"id\":\"269ee9fe-3870-4ca5-83a3-3d83f47346fa\",\"type\":\"ColumnDataSource\"},{\"attributes\":{\"items\":[{\"id\":\"5bca5e5f-99ae-40f9-8f71-77d6cfaf4fcf\",\"type\":\"LegendItem\"},{\"id\":\"6635ae56-fd38-4a70-b567-aa1febdf7164\",\"type\":\"LegendItem\"},{\"id\":\"67421db4-97e3-4433-b220-0f38259fa535\",\"type\":\"LegendItem\"},{\"id\":\"5ac6b839-3d57-4846-8f4e-8248c5d449fc\",\"type\":\"LegendItem\"},{\"id\":\"60671da7-a96a-4a76-bdf6-df24895a03e6\",\"type\":\"LegendItem\"},{\"id\":\"8193ac3a-5f44-405e-9408-1d388d1bd9dd\",\"type\":\"LegendItem\"},{\"id\":\"fe92ee8a-42e8-46c2-9b6a-157c3d2be9b6\",\"type\":\"LegendItem\"},{\"id\":\"267e6324-aeeb-4eb1-96a7-c9edfbba9082\",\"type\":\"LegendItem\"},{\"id\":\"38ecbe41-c44f-4d27-95ad-bb9bc4ca6628\",\"type\":\"LegendItem\"},{\"id\":\"0f64c952-c0cd-4343-b123-1abe9d630a04\",\"type\":\"LegendItem\"},{\"id\":\"81c4ddfb-7825-4e6a-8748-d5eba7135cee\",\"type\":\"LegendItem\"},{\"id\":\"400fdd8b-c31d-4719-ac51-9bae7bde73e8\",\"type\":\"LegendItem\"}],\"plot\":{\"id\":\"a3e447aa-747e-4f67-8d26-6c0e684e6727\",\"subtype\":\"Figure\",\"type\":\"Plot\"}},\"id\":\"5098187f-f5d2-43c3-bcfd-033f56b86433\",\"type\":\"Legend\"},{\"attributes\":{\"source\":{\"id\":\"4c64cca8-2030-42ca-8943-bc0745f59203\",\"type\":\"ColumnDataSource\"}},\"id\":\"d49de207-d499-445d-b3eb-7fc337943b7d\",\"type\":\"CDSView\"},{\"attributes\":{\"callback\":null,\"column_names\":[\"x\",\"y\"],\"data\":{\"x\":[6,7,8,9,10,11],\"y\":[0.0015873484023421662,0.01484442416419034,0.13882077081581887,1.2982117862400255,12.140501972637534,113.53447080811297]}},\"id\":\"942affad-29f0-45fb-b425-4801c342b40d\",\"type\":\"ColumnDataSource\"},{\"attributes\":{\"line_color\":\"#ffbb78\",\"x\":{\"field\":\"x\"},\"y\":{\"field\":\"y\"}},\"id\":\"92288145-4770-4a31-9958-f5b658b25b79\",\"type\":\"Line\"},{\"attributes\":{\"line_color\":\"#aec7e8\",\"x\":{\"field\":\"x\"},\"y\":{\"field\":\"y\"}},\"id\":\"91848903-676a-4392-8f9a-da79d8769134\",\"type\":\"Line\"},{\"attributes\":{\"callback\":null,\"column_names\":[\"x\",\"y\"],\"data\":{\"x\":[6,7,8,9,10,11,12,13],\"y\":[0.0007419639624937481,0.0036360576232740923,0.017818810222714882,0.08732259789305159,0.42793183200700774,2.0971164081622624,10.277097660057583,50.363792826797265]}},\"id\":\"14c9673f-a744-4f8f-9407-bf3bd557719c\",\"type\":\"ColumnDataSource\"},{\"attributes\":{\"line_alpha\":0.1,\"line_color\":\"#1f77b4\",\"line_width\":2,\"x\":{\"field\":\"x\"},\"y\":{\"field\":\"y\"}},\"id\":\"da5906ad-c579-42a9-84c0-45fb411ca522\",\"type\":\"Line\"},{\"attributes\":{\"line_alpha\":0.1,\"line_color\":\"#1f77b4\",\"x\":{\"field\":\"x\"},\"y\":{\"field\":\"y\"}},\"id\":\"6754e979-eea1-4d7b-a90f-a2d6b1e414a0\",\"type\":\"Line\"},{\"attributes\":{\"line_alpha\":0.1,\"line_color\":\"#1f77b4\",\"x\":{\"field\":\"x\"},\"y\":{\"field\":\"y\"}},\"id\":\"696ad5ff-a0c6-4a20-b103-6c8a29d6db3e\",\"type\":\"Line\"},{\"attributes\":{\"line_alpha\":0.1,\"line_color\":\"#1f77b4\",\"x\":{\"field\":\"x\"},\"y\":{\"field\":\"y\"}},\"id\":\"a7042aff-c071-4667-968e-cbda788692ce\",\"type\":\"Line\"},{\"attributes\":{\"line_alpha\":0.1,\"line_color\":\"#1f77b4\",\"x\":{\"field\":\"x\"},\"y\":{\"field\":\"y\"}},\"id\":\"6a07656e-afbb-4027-8bd2-ae4e48ecbd77\",\"type\":\"Line\"},{\"attributes\":{\"label\":{\"value\":\"soln2b (pred)\"},\"renderers\":[{\"id\":\"9efcccf2-a6ad-4858-9331-a0f41cf18d48\",\"type\":\"GlyphRenderer\"}]},\"id\":\"8193ac3a-5f44-405e-9408-1d388d1bd9dd\",\"type\":\"LegendItem\"},{\"attributes\":{\"bottom_units\":\"screen\",\"fill_alpha\":{\"value\":0.5},\"fill_color\":{\"value\":\"lightgrey\"},\"left_units\":\"screen\",\"level\":\"overlay\",\"line_alpha\":{\"value\":1.0},\"line_color\":{\"value\":\"black\"},\"line_dash\":[4,4],\"line_width\":{\"value\":2},\"plot\":null,\"render_mode\":\"css\",\"right_units\":\"screen\",\"top_units\":\"screen\"},\"id\":\"7b57bf50-608c-4e6c-a5e6-5c3db82b9d2a\",\"type\":\"BoxAnnotation\"},{\"attributes\":{\"line_color\":\"#d62728\",\"line_width\":2,\"x\":{\"field\":\"x\"},\"y\":{\"field\":\"y\"}},\"id\":\"9ed8a8f5-5239-4ed4-9673-803bdd30c8bb\",\"type\":\"Line\"},{\"attributes\":{\"source\":{\"id\":\"a94445fa-cf66-4c24-b1ba-db7ddd1e34a6\",\"type\":\"ColumnDataSource\"}},\"id\":\"5a950a66-0078-4e55-92a1-e795dc972ada\",\"type\":\"CDSView\"},{\"attributes\":{\"label\":{\"value\":\"soln2b\"},\"renderers\":[{\"id\":\"20ff4654-1eb6-4b82-9c2b-45230263e451\",\"type\":\"GlyphRenderer\"}]},\"id\":\"60671da7-a96a-4a76-bdf6-df24895a03e6\",\"type\":\"LegendItem\"},{\"attributes\":{},\"id\":\"2ae2f16d-83d3-4549-8b24-6c25ee711fcc\",\"type\":\"HelpTool\"},{\"attributes\":{\"source\":{\"id\":\"269ee9fe-3870-4ca5-83a3-3d83f47346fa\",\"type\":\"ColumnDataSource\"}},\"id\":\"2f9a619a-0711-44c1-9f62-ef7afb753732\",\"type\":\"CDSView\"},{\"attributes\":{\"data_source\":{\"id\":\"4c64cca8-2030-42ca-8943-bc0745f59203\",\"type\":\"ColumnDataSource\"},\"glyph\":{\"id\":\"20f9e22e-de5a-4bfb-80f9-513e5d3cc719\",\"type\":\"Line\"},\"hover_glyph\":null,\"muted_glyph\":null,\"nonselection_glyph\":{\"id\":\"a7042aff-c071-4667-968e-cbda788692ce\",\"type\":\"Line\"},\"selection_glyph\":null,\"view\":{\"id\":\"d49de207-d499-445d-b3eb-7fc337943b7d\",\"type\":\"CDSView\"}},\"id\":\"7457cea9-4fcd-4ad8-8f4d-40b961782b1f\",\"type\":\"GlyphRenderer\"},{\"attributes\":{\"overlay\":{\"id\":\"7b57bf50-608c-4e6c-a5e6-5c3db82b9d2a\",\"type\":\"BoxAnnotation\"}},\"id\":\"764db23c-ac2c-4ebc-8a0d-37e2af507841\",\"type\":\"BoxZoomTool\"},{\"attributes\":{\"line_color\":\"#98df8a\",\"x\":{\"field\":\"x\"},\"y\":{\"field\":\"y\"}},\"id\":\"de2865f6-93f7-4439-a903-c5bcc84ac784\",\"type\":\"Line\"},{\"attributes\":{},\"id\":\"eaee2c16-36e5-4c4b-a19e-34114d346a44\",\"type\":\"WheelZoomTool\"},{\"attributes\":{},\"id\":\"36c8ece5-e3ef-4e0e-8cd5-430542275c0b\",\"type\":\"ResetTool\"},{\"attributes\":{\"data_source\":{\"id\":\"df071934-313a-4d77-9fba-68d195aaa14c\",\"type\":\"ColumnDataSource\"},\"glyph\":{\"id\":\"92288145-4770-4a31-9958-f5b658b25b79\",\"type\":\"Line\"},\"hover_glyph\":null,\"muted_glyph\":null,\"nonselection_glyph\":{\"id\":\"d81a8cef-8382-436c-abf2-07c755fdc2d0\",\"type\":\"Line\"},\"selection_glyph\":null,\"view\":{\"id\":\"6b92a468-dcee-40af-809b-88c5c57d697a\",\"type\":\"CDSView\"}},\"id\":\"ee51b6be-8127-48c8-9f98-23bb885bd96c\",\"type\":\"GlyphRenderer\"}],\"root_ids\":[\"a3e447aa-747e-4f67-8d26-6c0e684e6727\"]},\"title\":\"Bokeh Application\",\"version\":\"0.12.14\"}};\n",
       "  var render_items = [{\"docid\":\"6ecfdf10-2fb4-4fe7-ae75-047ed5d1ca24\",\"elementid\":\"b7f2e9fa-c6f0-46a7-9816-e69e82de3be4\",\"modelid\":\"a3e447aa-747e-4f67-8d26-6c0e684e6727\"}];\n",
       "  root.Bokeh.embed.embed_items_notebook(docs_json, render_items);\n",
       "\n",
       "  }\n",
       "  if (root.Bokeh !== undefined) {\n",
       "    embed_document(root);\n",
       "  } else {\n",
       "    var attempts = 0;\n",
       "    var timer = setInterval(function(root) {\n",
       "      if (root.Bokeh !== undefined) {\n",
       "        embed_document(root);\n",
       "        clearInterval(timer);\n",
       "      }\n",
       "      attempts++;\n",
       "      if (attempts > 100) {\n",
       "        console.log(\"Bokeh: ERROR: Unable to run BokehJS code because BokehJS library is missing\")\n",
       "        clearInterval(timer);\n",
       "      }\n",
       "    }, 10, root)\n",
       "  }\n",
       "})(window);"
      ],
      "application/vnd.bokehjs_exec.v0+json": ""
     },
     "metadata": {
      "application/vnd.bokehjs_exec.v0+json": {
       "id": "a3e447aa-747e-4f67-8d26-6c0e684e6727"
      }
     },
     "output_type": "display_data"
    }
   ],
   "source": [
    "plot_timings(('soln1', pred1), ('soln2', pred2), ('soln2b', pred2b), ('soln3', pred3), ('soln3c', pred3c), ('soln4', pred4))"
   ]
  }
 ],
 "metadata": {
  "kernelspec": {
   "display_name": "Python 3",
   "language": "python",
   "name": "python3"
  },
  "language_info": {
   "codemirror_mode": {
    "name": "ipython",
    "version": 3
   },
   "file_extension": ".py",
   "mimetype": "text/x-python",
   "name": "python",
   "nbconvert_exporter": "python",
   "pygments_lexer": "ipython3",
   "version": "3.6.8rc1"
  }
 },
 "nbformat": 4,
 "nbformat_minor": 2
}
